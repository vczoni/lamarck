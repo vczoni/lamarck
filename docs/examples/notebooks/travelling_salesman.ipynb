{
 "cells": [
  {
   "cell_type": "code",
   "execution_count": 1,
   "metadata": {},
   "outputs": [],
   "source": [
    "import sys\n",
    "sys.path.append('..')\n",
    "from toymodules.salesman import TravelSalesman"
   ]
  },
  {
   "cell_type": "code",
   "execution_count": 2,
   "metadata": {},
   "outputs": [],
   "source": [
    "from lamarck import BlueprintBuilder, Optimizer"
   ]
  },
  {
   "cell_type": "code",
   "execution_count": 3,
   "metadata": {},
   "outputs": [],
   "source": [
    "import numpy as np\n",
    "import pandas as pd\n",
    "from tqdm import tqdm\n",
    "import itertools\n",
    "from matplotlib import pyplot as plt"
   ]
  },
  {
   "cell_type": "markdown",
   "metadata": {},
   "source": [
    "# Setup"
   ]
  },
  {
   "cell_type": "markdown",
   "metadata": {},
   "source": [
    "#### Process"
   ]
  },
  {
   "cell_type": "code",
   "execution_count": 4,
   "metadata": {},
   "outputs": [],
   "source": [
    "def process_deco(trav_salesman):\n",
    "    def wrapper(route):\n",
    "        return {'distance': trav_salesman.get_route_distance(route)}\n",
    "    return wrapper"
   ]
  },
  {
   "cell_type": "code",
   "execution_count": 5,
   "metadata": {},
   "outputs": [],
   "source": [
    "n_cities = 10"
   ]
  },
  {
   "cell_type": "code",
   "execution_count": 6,
   "metadata": {},
   "outputs": [],
   "source": [
    "trav_salesman = TravelSalesman(n_cities, seed=123)"
   ]
  },
  {
   "cell_type": "code",
   "execution_count": 7,
   "metadata": {},
   "outputs": [
    {
     "data": {
      "image/png": "[encoded data removed]",
      "text/plain": [
       "<Figure size 432x288 with 1 Axes>"
      ]
     },
     "metadata": {
      "needs_background": "light"
     },
     "output_type": "display_data"
    }
   ],
   "source": [
    "ax = trav_salesman.plot()"
   ]
  },
  {
   "cell_type": "markdown",
   "metadata": {},
   "source": [
    "# Finding best - Brute Force"
   ]
  },
  {
   "cell_type": "code",
   "execution_count": 8,
   "metadata": {},
   "outputs": [
    {
     "name": "stderr",
     "output_type": "stream",
     "text": [
      "100%|███████████████████████████████████████████████████████████████████████████████████████████████████████████| 3628800/3628800 [01:48<00:00, 33505.62it/s]\n"
     ]
    }
   ],
   "source": [
    "gen = itertools.permutations((tuple(range(n_cities))), n_cities)\n",
    "min_dist = np.inf\n",
    "N = np.math.factorial(n_cities)\n",
    "pbar = tqdm(range(N))\n",
    "for _ in pbar:\n",
    "    seq = next(gen)\n",
    "    dist = trav_salesman.get_route_distance(seq)\n",
    "    if dist < min_dist:\n",
    "        min_dist = dist\n",
    "        best_seq = seq"
   ]
  },
  {
   "cell_type": "code",
   "execution_count": 9,
   "metadata": {},
   "outputs": [
    {
     "name": "stdout",
     "output_type": "stream",
     "text": [
      "(1, 5, 8, 4, 2, 9, 3, 0, 6, 7) dist: 184.9066830917233\n"
     ]
    },
    {
     "data": {
      "image/png": "[encoded data removed]",
      "text/plain": [
       "<Figure size 432x288 with 1 Axes>"
      ]
     },
     "metadata": {
      "needs_background": "light"
     },
     "output_type": "display_data"
    }
   ],
   "source": [
    "print(best_seq, 'dist:', min_dist)\n",
    "ax = trav_salesman.plot_route(best_seq)"
   ]
  },
  {
   "cell_type": "code",
   "execution_count": 10,
   "metadata": {},
   "outputs": [],
   "source": [
    "def get_outputs(func):\n",
    "    outputs = func.__code__.co_consts\n",
    "    if isinstance(outputs[-1], tuple):\n",
    "        return outputs[-1]\n",
    "    else:\n",
    "        return (outputs[-1],)"
   ]
  },
  {
   "cell_type": "markdown",
   "metadata": {},
   "source": [
    "# Finding best - GA"
   ]
  },
  {
   "cell_type": "markdown",
   "metadata": {},
   "source": [
    "#### Optimization Function"
   ]
  },
  {
   "cell_type": "code",
   "execution_count": 11,
   "metadata": {},
   "outputs": [],
   "source": [
    "process = process_deco(trav_salesman)"
   ]
  },
  {
   "cell_type": "markdown",
   "metadata": {},
   "source": [
    "#### Blueprint Creation"
   ]
  },
  {
   "cell_type": "code",
   "execution_count": 12,
   "metadata": {},
   "outputs": [],
   "source": [
    "builder = BlueprintBuilder()"
   ]
  },
  {
   "cell_type": "code",
   "execution_count": 13,
   "metadata": {},
   "outputs": [],
   "source": [
    "builder.add_set_gene(name='route',\n",
    "                     domain=list(range(n_cities)),\n",
    "                     length=n_cities)\n",
    "\n",
    "blueprint = builder.get_blueprint()"
   ]
  },
  {
   "cell_type": "code",
   "execution_count": 14,
   "metadata": {},
   "outputs": [
    {
     "data": {
      "text/plain": [
       "- route\n",
       "    |- type: set\n",
       "    |- specs\n",
       "        |- domain: [0, 1, 2, 3, 4, 5, 6, 7, 8, 9]\n",
       "        |- length: 10"
      ]
     },
     "execution_count": 14,
     "metadata": {},
     "output_type": "execute_result"
    }
   ],
   "source": [
    "blueprint"
   ]
  },
  {
   "cell_type": "markdown",
   "metadata": {},
   "source": [
    "#### Population"
   ]
  },
  {
   "cell_type": "code",
   "execution_count": 15,
   "metadata": {},
   "outputs": [],
   "source": [
    "nrand=5000"
   ]
  },
  {
   "cell_type": "code",
   "execution_count": 16,
   "metadata": {},
   "outputs": [],
   "source": [
    "pop = blueprint.populate.random(nrand)"
   ]
  },
  {
   "cell_type": "markdown",
   "metadata": {},
   "source": [
    "### Simulate"
   ]
  },
  {
   "cell_type": "code",
   "execution_count": 17,
   "metadata": {},
   "outputs": [],
   "source": [
    "opt = Optimizer(pop, process)\n",
    "opt.config.multithread = True\n",
    "opt.config.max_generations = 100\n",
    "opt.config.peek_champion_variables = ['route', 'distance']"
   ]
  },
  {
   "cell_type": "code",
   "execution_count": 18,
   "metadata": {},
   "outputs": [
    {
     "name": "stderr",
     "output_type": "stream",
     "text": [
      "Generation 14 of 100 (stall: 5 of 5) peek: (route: (7, 6, 0, 3, 9, 2, 4, 8, 5, 1) | distance: 184.9066830917233):  14%|▋    | 14/100 [03:11<19:34, 13.65s/it]\n"
     ]
    }
   ],
   "source": [
    "opt.simulate.single_criteria(output='distance', objective='min', quiet=True)"
   ]
  },
  {
   "cell_type": "code",
   "execution_count": 19,
   "metadata": {},
   "outputs": [],
   "source": [
    "from lamarck import HistoryExplorer"
   ]
  },
  {
   "cell_type": "code",
   "execution_count": 20,
   "metadata": {},
   "outputs": [],
   "source": [
    "hist_explorer = HistoryExplorer(opt)"
   ]
  },
  {
   "cell_type": "code",
   "execution_count": 21,
   "metadata": {},
   "outputs": [
    {
     "data": {
      "text/plain": [
       "<AxesSubplot:xlabel='generation', ylabel='distance'>"
      ]
     },
     "execution_count": 21,
     "metadata": {},
     "output_type": "execute_result"
    },
    {
     "data": {
      "image/png": "[encoded data removed]",
      "text/plain": [
       "<Figure size 432x288 with 1 Axes>"
      ]
     },
     "metadata": {
      "needs_background": "light"
     },
     "output_type": "display_data"
    }
   ],
   "source": [
    "hist_explorer.history('distance', min)"
   ]
  },
  {
   "cell_type": "markdown",
   "metadata": {},
   "source": [
    "### Solution Evolution"
   ]
  },
  {
   "cell_type": "code",
   "execution_count": 22,
   "metadata": {},
   "outputs": [],
   "source": [
    "gen = 1"
   ]
  },
  {
   "cell_type": "code",
   "execution_count": 23,
   "metadata": {},
   "outputs": [
    {
     "data": {
      "image/png": "[encoded data removed]",
      "text/plain": [
       "<Figure size 432x288 with 1 Axes>"
      ]
     },
     "metadata": {
      "needs_background": "light"
     },
     "output_type": "display_data"
    }
   ],
   "source": [
    "f = opt.datasets.history.generation == gen\n",
    "df = opt.datasets.history[f]\n",
    "seq = df.iloc[0]['route']\n",
    "dist = df.iloc[0]['distance']\n",
    "ax = trav_salesman.plot_route(seq, title=f'gen: {gen}, distance: {dist}')\n",
    "gen += 1"
   ]
  },
  {
   "cell_type": "markdown",
   "metadata": {},
   "source": [
    "# For 20 cities"
   ]
  },
  {
   "cell_type": "code",
   "execution_count": 24,
   "metadata": {},
   "outputs": [],
   "source": [
    "trav_salesman = TravelSalesman(20, seed=123)\n",
    "process = process_deco(trav_salesman)\n",
    "builder.add_set_gene(name='route',\n",
    "                     domain=list(range(20)),\n",
    "                     length=20)\n",
    "\n",
    "blueprint = builder.get_blueprint()\n",
    "new_pop = blueprint.populate.random(nrand)\n",
    "opt = Optimizer(new_pop, process)"
   ]
  },
  {
   "cell_type": "markdown",
   "metadata": {},
   "source": [
    "#### Light sim"
   ]
  },
  {
   "cell_type": "code",
   "execution_count": 25,
   "metadata": {},
   "outputs": [
    {
     "name": "stderr",
     "output_type": "stream",
     "text": [
      "Generation 5 of 5 (stall: 0 of 5) peek: (route: (3, 9, 0, 6, 16, 12, 7, 11, 15, 4, 14, 5, 8, 1, 19, 13, 2, 10, 17, 18) | distance: 501.57684685327115): 100%|\n"
     ]
    }
   ],
   "source": [
    "opt.config.multithread = True\n",
    "opt.config.max_generations = 5\n",
    "opt.config.max_stall = 5\n",
    "opt.config.peek_champion_variables = ['route', 'distance']\n",
    "opt.simulate.single_criteria('distance', 'min', quiet=True)"
   ]
  },
  {
   "cell_type": "code",
   "execution_count": 26,
   "metadata": {},
   "outputs": [
    {
     "data": {
      "image/png": "[encoded data removed]",
      "text/plain": [
       "<Figure size 432x288 with 1 Axes>"
      ]
     },
     "metadata": {
      "needs_background": "light"
     },
     "output_type": "display_data"
    }
   ],
   "source": [
    "best_creature = opt.datasets.get_best_criature()\n",
    "dist = trav_salesman.get_route_distance(best_creature['route'])\n",
    "ax = trav_salesman.plot_route(best_creature['route'], title=f'distance: {dist}')"
   ]
  },
  {
   "cell_type": "markdown",
   "metadata": {},
   "source": [
    "#### Heavy sim"
   ]
  },
  {
   "cell_type": "code",
   "execution_count": 27,
   "metadata": {},
   "outputs": [
    {
     "name": "stderr",
     "output_type": "stream",
     "text": [
      "Generation 40 of 40 (stall: 8 of 10) peek: (distance: 299.65948396141124): 100%|█████████████████████████████████████████████| 40/40 [09:26<00:00, 14.15s/it]\n"
     ]
    }
   ],
   "source": [
    "opt.config.multithread = True\n",
    "opt.config.max_generations = 40\n",
    "opt.config.max_stall = 10\n",
    "opt.config.peek_champion_variables = ['distance']\n",
    "opt.simulate.single_criteria('distance', 'min', quiet=True)"
   ]
  },
  {
   "cell_type": "code",
   "execution_count": 28,
   "metadata": {},
   "outputs": [
    {
     "data": {
      "image/png": "[encoded data removed]",
      "text/plain": [
       "<Figure size 432x288 with 1 Axes>"
      ]
     },
     "metadata": {
      "needs_background": "light"
     },
     "output_type": "display_data"
    }
   ],
   "source": [
    "best_creature = opt.datasets.get_best_criature()\n",
    "dist = trav_salesman.get_route_distance(best_creature['route'])\n",
    "ax = trav_salesman.plot_route(best_creature['route'], title=f'distance: {dist}')"
   ]
  },
  {
   "cell_type": "markdown",
   "metadata": {},
   "source": [
    "### Solution Evolution"
   ]
  },
  {
   "cell_type": "code",
   "execution_count": 76,
   "metadata": {},
   "outputs": [],
   "source": [
    "gen = 1"
   ]
  },
  {
   "cell_type": "code",
   "execution_count": 116,
   "metadata": {},
   "outputs": [
    {
     "data": {
      "image/png": "[encoded data removed]",
      "text/plain": [
       "<Figure size 432x288 with 1 Axes>"
      ]
     },
     "metadata": {
      "needs_background": "light"
     },
     "output_type": "display_data"
    }
   ],
   "source": [
    "f = opt.datasets.history.generation == gen\n",
    "df = opt.datasets.history[f]\n",
    "seq = df.iloc[0]['route']\n",
    "dist = df.iloc[0]['distance']\n",
    "ax = trav_salesman.plot_route(seq, title=f'gen: {gen}, distance: {dist}')\n",
    "gen += 1"
   ]
  },
  {
   "cell_type": "markdown",
   "metadata": {},
   "source": [
    "### Best I've found so far..."
   ]
  },
  {
   "cell_type": "code",
   "execution_count": 34,
   "metadata": {},
   "outputs": [
    {
     "data": {
      "text/plain": [
       "299.65948396141124"
      ]
     },
     "execution_count": 34,
     "metadata": {},
     "output_type": "execute_result"
    },
    {
     "data": {
      "image/png": "[encoded data removed]",
      "text/plain": [
       "<Figure size 432x288 with 1 Axes>"
      ]
     },
     "metadata": {
      "needs_background": "light"
     },
     "output_type": "display_data"
    }
   ],
   "source": [
    "very_best_seq = (9, 18, 3, 0, 6, 16, 12, 7, 13, 11, 15, 10, 5, 8, 14, 2, 17, 4, 19, 1)\n",
    "trav_salesman.plot_route(very_best_seq)\n",
    "trav_salesman.get_route_distance(very_best_seq)"
   ]
  }
 ],
 "metadata": {
  "kernelspec": {
   "display_name": "Lamarck (dev)",
   "language": "python",
   "name": "lamarck-dev"
  },
  "language_info": {
   "codemirror_mode": {
    "name": "ipython",
    "version": 3
   },
   "file_extension": ".py",
   "mimetype": "text/x-python",
   "name": "python",
   "nbconvert_exporter": "python",
   "pygments_lexer": "ipython3",
   "version": "3.9.3"
  }
 },
 "nbformat": 4,
 "nbformat_minor": 4
}
