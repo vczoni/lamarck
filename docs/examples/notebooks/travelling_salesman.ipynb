{
 "cells": [
  {
   "cell_type": "code",
   "execution_count": 1,
   "metadata": {},
   "outputs": [],
   "source": [
    "import sys\n",
    "sys.path.append('../..')"
   ]
  },
  {
   "cell_type": "code",
   "execution_count": 2,
   "metadata": {},
   "outputs": [],
   "source": [
    "import numpy as np\n",
    "import pandas as pd\n",
    "from tqdm import tqdm\n",
    "import itertools\n",
    "from matplotlib import pyplot as plt"
   ]
  },
  {
   "cell_type": "code",
   "execution_count": 3,
   "metadata": {},
   "outputs": [],
   "source": [
    "from lamarck.assistant import GenomeCreator\n",
    "from lamarck.assistant import PopulationCreator\n",
    "from lamarck import Environment"
   ]
  },
  {
   "cell_type": "code",
   "execution_count": 4,
   "metadata": {},
   "outputs": [],
   "source": [
    "from salesman import TravelSalesman"
   ]
  },
  {
   "cell_type": "markdown",
   "metadata": {},
   "source": [
    "# Setup"
   ]
  },
  {
   "cell_type": "markdown",
   "metadata": {},
   "source": [
    "#### Process"
   ]
  },
  {
   "cell_type": "code",
   "execution_count": 5,
   "metadata": {},
   "outputs": [],
   "source": [
    "def process_deco(trav_salesman):\n",
    "    def wrapper(route):\n",
    "        return {'dist': trav_salesman.get_route_distance(route)}\n",
    "    return wrapper"
   ]
  },
  {
   "cell_type": "code",
   "execution_count": 6,
   "metadata": {},
   "outputs": [],
   "source": [
    "n_cities = 10"
   ]
  },
  {
   "cell_type": "code",
   "execution_count": 7,
   "metadata": {},
   "outputs": [],
   "source": [
    "trav_salesman = TravelSalesman(n_cities, seed=123)"
   ]
  },
  {
   "cell_type": "code",
   "execution_count": 8,
   "metadata": {},
   "outputs": [
    {
     "data": {
      "text/plain": [
       "<AxesSubplot:xlabel='x', ylabel='y'>"
      ]
     },
     "execution_count": 8,
     "metadata": {},
     "output_type": "execute_result"
    },
    {
     "data": {
      "image/png": "[encoded data removed]",
      "text/plain": [
       "<Figure size 432x288 with 1 Axes>"
      ]
     },
     "metadata": {
      "needs_background": "light"
     },
     "output_type": "display_data"
    }
   ],
   "source": [
    "trav_salesman.plot()"
   ]
  },
  {
   "cell_type": "markdown",
   "metadata": {},
   "source": [
    "# Finding best - Brute Force"
   ]
  },
  {
   "cell_type": "code",
   "execution_count": 9,
   "metadata": {},
   "outputs": [
    {
     "name": "stderr",
     "output_type": "stream",
     "text": [
      "100%|██████████| 3628800/3628800 [01:43<00:00, 35077.87it/s]\n"
     ]
    }
   ],
   "source": [
    "gen = itertools.permutations((tuple(range(n_cities))), n_cities)\n",
    "min_dist = np.inf\n",
    "N = np.math.factorial(n_cities)\n",
    "pbar = tqdm(range(N))\n",
    "for _ in pbar:\n",
    "    seq = next(gen)\n",
    "    dist = trav_salesman.get_route_distance(seq)\n",
    "    if dist < min_dist:\n",
    "        min_dist = dist\n",
    "        best_seq = seq"
   ]
  },
  {
   "cell_type": "code",
   "execution_count": 10,
   "metadata": {},
   "outputs": [
    {
     "name": "stdout",
     "output_type": "stream",
     "text": [
      "(1, 5, 8, 4, 2, 9, 3, 0, 6, 7) dist: 184.9066830917233\n"
     ]
    },
    {
     "data": {
      "image/png": "[encoded data removed]",
      "text/plain": [
       "<Figure size 432x288 with 1 Axes>"
      ]
     },
     "metadata": {
      "needs_background": "light"
     },
     "output_type": "display_data"
    }
   ],
   "source": [
    "print(best_seq, 'dist:', min_dist)\n",
    "trav_salesman.plot_route(best_seq)"
   ]
  },
  {
   "cell_type": "markdown",
   "metadata": {},
   "source": [
    "# Finding best - GA"
   ]
  },
  {
   "cell_type": "markdown",
   "metadata": {},
   "source": [
    "#### Optimization Function"
   ]
  },
  {
   "cell_type": "code",
   "execution_count": 9,
   "metadata": {},
   "outputs": [],
   "source": [
    "process = process_deco(trav_salesman)"
   ]
  },
  {
   "cell_type": "markdown",
   "metadata": {},
   "source": [
    "#### Genome Creation"
   ]
  },
  {
   "cell_type": "code",
   "execution_count": 10,
   "metadata": {},
   "outputs": [],
   "source": [
    "genome_creator = GenomeCreator()"
   ]
  },
  {
   "cell_type": "code",
   "execution_count": 11,
   "metadata": {},
   "outputs": [],
   "source": [
    "genome_creator.add_gene_specs.vectorial(name='route',\n",
    "                                        length=n_cities,\n",
    "                                        replace=False,\n",
    "                                        domain=list(range(n_cities)))\n",
    "\n",
    "genome_blueprint = genome_creator.get_genome_blueprint()"
   ]
  },
  {
   "cell_type": "code",
   "execution_count": 12,
   "metadata": {},
   "outputs": [
    {
     "data": {
      "text/plain": [
       "{'route': {'type': 'vectorial',\n",
       "  'domain': [0, 1, 2, 3, 4, 5, 6, 7, 8, 9],\n",
       "  'ranges': {'length': 10, 'replace': False}}}"
      ]
     },
     "execution_count": 12,
     "metadata": {},
     "output_type": "execute_result"
    }
   ],
   "source": [
    "genome_blueprint"
   ]
  },
  {
   "cell_type": "markdown",
   "metadata": {},
   "source": [
    "#### Population"
   ]
  },
  {
   "cell_type": "code",
   "execution_count": 13,
   "metadata": {},
   "outputs": [],
   "source": [
    "nrand=5000"
   ]
  },
  {
   "cell_type": "code",
   "execution_count": 14,
   "metadata": {},
   "outputs": [
    {
     "data": {
      "text/plain": [
       "Population with 4992 Creatures with genes route (vectorial).\n",
       "        "
      ]
     },
     "execution_count": 14,
     "metadata": {},
     "output_type": "execute_result"
    }
   ],
   "source": [
    "pop_creator = PopulationCreator(genome_blueprint)\n",
    "pop = pop_creator.create.rand(nrand)\n",
    "pop.define()\n",
    "pop"
   ]
  },
  {
   "cell_type": "markdown",
   "metadata": {},
   "source": [
    "### Simulate"
   ]
  },
  {
   "cell_type": "code",
   "execution_count": 15,
   "metadata": {},
   "outputs": [],
   "source": [
    "output = 'dist'\n",
    "objective = 'min'\n",
    "n_generations = 100"
   ]
  },
  {
   "cell_type": "code",
   "execution_count": 16,
   "metadata": {},
   "outputs": [],
   "source": [
    "# Environment\n",
    "env = Environment()\n",
    "env.config.set_multi(True)\n",
    "env.config.set_process(process)"
   ]
  },
  {
   "cell_type": "code",
   "execution_count": 17,
   "metadata": {},
   "outputs": [
    {
     "name": "stderr",
     "output_type": "stream",
     "text": [
      "Repopulating...: 100%|██████████| 100/100 [01:10<00:00,  1.42it/s]   \n"
     ]
    }
   ],
   "source": [
    "pbar = tqdm(range(n_generations))\n",
    "for _ in pbar:\n",
    "    pbar.set_description('Simulating...')\n",
    "    env.simulate(pop)\n",
    "    pbar.set_description('Applying Fitness...')\n",
    "    pop.apply_fitness.single_objective(output, objective=objective)\n",
    "    pbar.set_description('Selecting...')\n",
    "    pop.select()\n",
    "    pbar.set_description('Repopulating...')\n",
    "    pop.reproduce.mutate(p=0.05)\n",
    "    pop.reproduce.tournament(n_dispute=3)"
   ]
  },
  {
   "cell_type": "code",
   "execution_count": 18,
   "metadata": {},
   "outputs": [
    {
     "data": {
      "text/plain": [
       "<AxesSubplot:xlabel='generation', ylabel='dist'>"
      ]
     },
     "execution_count": 18,
     "metadata": {},
     "output_type": "execute_result"
    },
    {
     "data": {
      "image/png": "[encoded data removed]",
      "text/plain": [
       "<Figure size 432x288 with 1 Axes>"
      ]
     },
     "metadata": {
      "needs_background": "light"
     },
     "output_type": "display_data"
    }
   ],
   "source": [
    "pop.plot.history('dist', min)"
   ]
  },
  {
   "cell_type": "code",
   "execution_count": 19,
   "metadata": {},
   "outputs": [],
   "source": [
    "gen = 99"
   ]
  },
  {
   "cell_type": "code",
   "execution_count": 20,
   "metadata": {},
   "outputs": [
    {
     "data": {
      "image/png": "[encoded data removed]",
      "text/plain": [
       "<Figure size 432x288 with 1 Axes>"
      ]
     },
     "metadata": {
      "needs_background": "light"
     },
     "output_type": "display_data"
    }
   ],
   "source": [
    "f = pop.datasets.history.generation == gen\n",
    "df = pop.datasets.history[f]\n",
    "seq = df.iloc[0]['route']\n",
    "dist = df.iloc[0]['dist']\n",
    "trav_salesman.plot_route(seq, title=f'gen: {gen}, distance: {dist}')\n",
    "gen += 5"
   ]
  },
  {
   "cell_type": "markdown",
   "metadata": {},
   "source": [
    "# For 20 cities"
   ]
  },
  {
   "cell_type": "code",
   "execution_count": 23,
   "metadata": {},
   "outputs": [],
   "source": [
    "from lamarck import Optimizer"
   ]
  },
  {
   "cell_type": "code",
   "execution_count": 24,
   "metadata": {},
   "outputs": [
    {
     "name": "stderr",
     "output_type": "stream",
     "text": [
      "100%|██████████| 100/100 [23:59<00:00, 14.40s/it]\n"
     ]
    }
   ],
   "source": [
    "opt = Optimizer()\n",
    "number_of_cities = 20\n",
    "cities = tuple(range(number_of_cities))\n",
    "opt.genome_creator.add_gene_specs.vectorial(name='route',\n",
    "                                            length=number_of_cities,\n",
    "                                            replace=False,\n",
    "                                            domain=cities)\n",
    "\n",
    "opt.create_population(n_rand=5000)\n",
    "trav_salesman = TravelSalesman(number_of_cities, seed=123)\n",
    "process = process_deco(trav_salesman)\n",
    "opt.set_process(process)\n",
    "opt.env.config.set_multi(True)\n",
    "optpop = opt.run.single_objective(output='dist',\n",
    "                                  objective='min',\n",
    "                                  max_generations=100,\n",
    "                                  p_mutation=0.1)"
   ]
  },
  {
   "cell_type": "code",
   "execution_count": 25,
   "metadata": {},
   "outputs": [
    {
     "data": {
      "text/plain": [
       "315.80575917508384"
      ]
     },
     "execution_count": 25,
     "metadata": {},
     "output_type": "execute_result"
    },
    {
     "data": {
      "image/png": "[encoded data removed]",
      "text/plain": [
       "<Figure size 432x288 with 1 Axes>"
      ]
     },
     "metadata": {
      "needs_background": "light"
     },
     "output_type": "display_data"
    }
   ],
   "source": [
    "best_creature = optpop.get_creature.best()[0]\n",
    "best_seq = best_creature.genome['route']\n",
    "trav_salesman.plot_route(best_seq)\n",
    "trav_salesman.get_route_distance(best_seq)"
   ]
  },
  {
   "cell_type": "markdown",
   "metadata": {},
   "source": [
    "### Best I've found so far..."
   ]
  },
  {
   "cell_type": "code",
   "execution_count": 26,
   "metadata": {},
   "outputs": [
    {
     "data": {
      "text/plain": [
       "302.3768450963021"
      ]
     },
     "execution_count": 26,
     "metadata": {},
     "output_type": "execute_result"
    },
    {
     "data": {
      "image/png": "[encoded data removed]",
      "text/plain": [
       "<Figure size 432x288 with 1 Axes>"
      ]
     },
     "metadata": {
      "needs_background": "light"
     },
     "output_type": "display_data"
    }
   ],
   "source": [
    "very_best_seq = (1, 19, 5, 8, 14, 4, 17, 2, 10, 15, 11, 13, 7, 12, 16, 6, 0, 3, 18, 9)\n",
    "trav_salesman.plot_route(very_best_seq)\n",
    "trav_salesman.get_route_distance(very_best_seq)"
   ]
  }
 ],
 "metadata": {
  "kernelspec": {
   "display_name": "Lamarck Env",
   "language": "python",
   "name": "lamarck"
  },
  "language_info": {
   "codemirror_mode": {
    "name": "ipython",
    "version": 3
   },
   "file_extension": ".py",
   "mimetype": "text/x-python",
   "name": "python",
   "nbconvert_exporter": "python",
   "pygments_lexer": "ipython3",
   "version": "3.9.1"
  }
 },
 "nbformat": 4,
 "nbformat_minor": 4
}
