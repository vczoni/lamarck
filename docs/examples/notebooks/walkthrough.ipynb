{
 "cells": [
  {
   "cell_type": "code",
   "execution_count": 1,
   "metadata": {},
   "outputs": [],
   "source": [
    "import sys\n",
    "import numpy as np\n",
    "import pandas as pd\n",
    "sys.path.append('../..')"
   ]
  },
  {
   "cell_type": "markdown",
   "metadata": {},
   "source": [
    "# Creature"
   ]
  },
  {
   "cell_type": "code",
   "execution_count": 2,
   "metadata": {},
   "outputs": [],
   "source": [
    "from lamarck import Creature"
   ]
  },
  {
   "cell_type": "code",
   "execution_count": 3,
   "metadata": {},
   "outputs": [],
   "source": [
    "genome = {\n",
    "    'x': 10,\n",
    "    'y': 'A',\n",
    "    'z': (1, 2, 3)\n",
    "}"
   ]
  },
  {
   "cell_type": "code",
   "execution_count": 4,
   "metadata": {},
   "outputs": [],
   "source": [
    "creature = Creature(genome)"
   ]
  },
  {
   "cell_type": "code",
   "execution_count": 5,
   "metadata": {},
   "outputs": [
    {
     "data": {
      "text/plain": [
       "-5560638821729912812"
      ]
     },
     "execution_count": 5,
     "metadata": {},
     "output_type": "execute_result"
    }
   ],
   "source": [
    "creature.id"
   ]
  },
  {
   "cell_type": "markdown",
   "metadata": {},
   "source": [
    "# Genome Creator"
   ]
  },
  {
   "cell_type": "code",
   "execution_count": 6,
   "metadata": {},
   "outputs": [],
   "source": [
    "from lamarck.assistant import GenomeCreator"
   ]
  },
  {
   "cell_type": "code",
   "execution_count": 7,
   "metadata": {},
   "outputs": [],
   "source": [
    "genome_creator = GenomeCreator()"
   ]
  },
  {
   "cell_type": "code",
   "execution_count": 8,
   "metadata": {},
   "outputs": [],
   "source": [
    "genome_creator.add_gene_specs.numeric(name='x',\n",
    "                                      min=0,\n",
    "                                      max=10,\n",
    "                                      progression='linear',\n",
    "                                      domain='int')\n",
    "\n",
    "genome_creator.add_gene_specs.categorical(name='y', domain=['A', 'B', 'C', 'D', 'E'])\n",
    "\n",
    "genome_creator.add_gene_specs.vectorial(name='z', length=4, replace=False, domain=['i', 'j', 'k', 'l', 'm'])"
   ]
  },
  {
   "cell_type": "code",
   "execution_count": 9,
   "metadata": {},
   "outputs": [],
   "source": [
    "genome_blueprint = genome_creator.get_genome_blueprint()"
   ]
  },
  {
   "cell_type": "code",
   "execution_count": 10,
   "metadata": {},
   "outputs": [
    {
     "data": {
      "text/plain": [
       "{'x': {'type': 'numeric',\n",
       "  'domain': 'int',\n",
       "  'ranges': {'min': 0, 'max': 10, 'progression': 'linear'}},\n",
       " 'y': {'type': 'categorical', 'domain': ['A', 'B', 'C', 'D', 'E']},\n",
       " 'z': {'type': 'vectorial',\n",
       "  'domain': ['i', 'j', 'k', 'l', 'm'],\n",
       "  'ranges': {'length': 4, 'replace': False}}}"
      ]
     },
     "execution_count": 10,
     "metadata": {},
     "output_type": "execute_result"
    }
   ],
   "source": [
    "genome_blueprint"
   ]
  },
  {
   "cell_type": "markdown",
   "metadata": {},
   "source": [
    "# Population Creator"
   ]
  },
  {
   "cell_type": "code",
   "execution_count": 11,
   "metadata": {},
   "outputs": [],
   "source": [
    "from lamarck.assistant import PopulationCreator"
   ]
  },
  {
   "cell_type": "code",
   "execution_count": 12,
   "metadata": {},
   "outputs": [],
   "source": [
    "pop_creator = PopulationCreator(genome_blueprint)"
   ]
  },
  {
   "cell_type": "code",
   "execution_count": 13,
   "metadata": {},
   "outputs": [
    {
     "data": {
      "text/plain": [
       "Population with 320 Creatures with genes x (numeric), y (categorical), z (vectorial).\n",
       "        "
      ]
     },
     "execution_count": 13,
     "metadata": {},
     "output_type": "execute_result"
    }
   ],
   "source": [
    "popdet = pop_creator.create.det(8)\n",
    "popdet"
   ]
  },
  {
   "cell_type": "code",
   "execution_count": 14,
   "metadata": {},
   "outputs": [
    {
     "data": {
      "text/html": [
       "<div>\n",
       "<style scoped>\n",
       "    .dataframe tbody tr th:only-of-type {\n",
       "        vertical-align: middle;\n",
       "    }\n",
       "\n",
       "    .dataframe tbody tr th {\n",
       "        vertical-align: top;\n",
       "    }\n",
       "\n",
       "    .dataframe thead th {\n",
       "        text-align: right;\n",
       "    }\n",
       "</style>\n",
       "<table border=\"1\" class=\"dataframe\">\n",
       "  <thead>\n",
       "    <tr style=\"text-align: right;\">\n",
       "      <th></th>\n",
       "      <th>x</th>\n",
       "      <th>y</th>\n",
       "      <th>z</th>\n",
       "    </tr>\n",
       "    <tr>\n",
       "      <th>id</th>\n",
       "      <th></th>\n",
       "      <th></th>\n",
       "      <th></th>\n",
       "    </tr>\n",
       "  </thead>\n",
       "  <tbody>\n",
       "    <tr>\n",
       "      <th>-1200538809516907093</th>\n",
       "      <td>0</td>\n",
       "      <td>A</td>\n",
       "      <td>(i, j, k, l)</td>\n",
       "    </tr>\n",
       "    <tr>\n",
       "      <th>-6404807193527412409</th>\n",
       "      <td>0</td>\n",
       "      <td>A</td>\n",
       "      <td>(i, l, k, m)</td>\n",
       "    </tr>\n",
       "    <tr>\n",
       "      <th>-4749884983532919515</th>\n",
       "      <td>0</td>\n",
       "      <td>A</td>\n",
       "      <td>(j, k, i, l)</td>\n",
       "    </tr>\n",
       "    <tr>\n",
       "      <th>-8999850930677188027</th>\n",
       "      <td>0</td>\n",
       "      <td>A</td>\n",
       "      <td>(j, m, k, l)</td>\n",
       "    </tr>\n",
       "    <tr>\n",
       "      <th>3869098367480049733</th>\n",
       "      <td>0</td>\n",
       "      <td>A</td>\n",
       "      <td>(k, l, i, j)</td>\n",
       "    </tr>\n",
       "  </tbody>\n",
       "</table>\n",
       "</div>"
      ],
      "text/plain": [
       "                      x  y             z\n",
       "id                                      \n",
       "-1200538809516907093  0  A  (i, j, k, l)\n",
       "-6404807193527412409  0  A  (i, l, k, m)\n",
       "-4749884983532919515  0  A  (j, k, i, l)\n",
       "-8999850930677188027  0  A  (j, m, k, l)\n",
       " 3869098367480049733  0  A  (k, l, i, j)"
      ]
     },
     "execution_count": 14,
     "metadata": {},
     "output_type": "execute_result"
    }
   ],
   "source": [
    "popdet.datasets.input.head()"
   ]
  },
  {
   "cell_type": "code",
   "execution_count": 15,
   "metadata": {},
   "outputs": [
    {
     "data": {
      "text/plain": [
       "Population with 484 Creatures with genes x (numeric), y (categorical), z (vectorial).\n",
       "        "
      ]
     },
     "execution_count": 15,
     "metadata": {},
     "output_type": "execute_result"
    }
   ],
   "source": [
    "poprand = pop_creator.create.rand(500)\n",
    "poprand"
   ]
  },
  {
   "cell_type": "code",
   "execution_count": 16,
   "metadata": {},
   "outputs": [
    {
     "data": {
      "text/html": [
       "<div>\n",
       "<style scoped>\n",
       "    .dataframe tbody tr th:only-of-type {\n",
       "        vertical-align: middle;\n",
       "    }\n",
       "\n",
       "    .dataframe tbody tr th {\n",
       "        vertical-align: top;\n",
       "    }\n",
       "\n",
       "    .dataframe thead th {\n",
       "        text-align: right;\n",
       "    }\n",
       "</style>\n",
       "<table border=\"1\" class=\"dataframe\">\n",
       "  <thead>\n",
       "    <tr style=\"text-align: right;\">\n",
       "      <th></th>\n",
       "      <th>x</th>\n",
       "      <th>y</th>\n",
       "      <th>z</th>\n",
       "    </tr>\n",
       "    <tr>\n",
       "      <th>id</th>\n",
       "      <th></th>\n",
       "      <th></th>\n",
       "      <th></th>\n",
       "    </tr>\n",
       "  </thead>\n",
       "  <tbody>\n",
       "    <tr>\n",
       "      <th>979920352793587711</th>\n",
       "      <td>8</td>\n",
       "      <td>C</td>\n",
       "      <td>(j, k, m, i)</td>\n",
       "    </tr>\n",
       "    <tr>\n",
       "      <th>8544407556410542478</th>\n",
       "      <td>3</td>\n",
       "      <td>B</td>\n",
       "      <td>(i, l, k, j)</td>\n",
       "    </tr>\n",
       "    <tr>\n",
       "      <th>-6318525774530930304</th>\n",
       "      <td>8</td>\n",
       "      <td>E</td>\n",
       "      <td>(m, i, k, l)</td>\n",
       "    </tr>\n",
       "    <tr>\n",
       "      <th>4832573033087972263</th>\n",
       "      <td>3</td>\n",
       "      <td>C</td>\n",
       "      <td>(i, k, l, m)</td>\n",
       "    </tr>\n",
       "    <tr>\n",
       "      <th>5080882965451755200</th>\n",
       "      <td>5</td>\n",
       "      <td>D</td>\n",
       "      <td>(m, j, k, l)</td>\n",
       "    </tr>\n",
       "  </tbody>\n",
       "</table>\n",
       "</div>"
      ],
      "text/plain": [
       "                      x  y             z\n",
       "id                                      \n",
       " 979920352793587711   8  C  (j, k, m, i)\n",
       " 8544407556410542478  3  B  (i, l, k, j)\n",
       "-6318525774530930304  8  E  (m, i, k, l)\n",
       " 4832573033087972263  3  C  (i, k, l, m)\n",
       " 5080882965451755200  5  D  (m, j, k, l)"
      ]
     },
     "execution_count": 16,
     "metadata": {},
     "output_type": "execute_result"
    }
   ],
   "source": [
    "poprand.datasets.input.head()"
   ]
  },
  {
   "cell_type": "code",
   "execution_count": 17,
   "metadata": {},
   "outputs": [
    {
     "data": {
      "text/plain": [
       "Population with 789 Creatures with genes x (numeric), y (categorical), z (vectorial).\n",
       "        "
      ]
     },
     "execution_count": 17,
     "metadata": {},
     "output_type": "execute_result"
    }
   ],
   "source": [
    "pop = popdet + poprand\n",
    "pop"
   ]
  },
  {
   "cell_type": "code",
   "execution_count": 18,
   "metadata": {},
   "outputs": [
    {
     "data": {
      "text/html": [
       "<div>\n",
       "<style scoped>\n",
       "    .dataframe tbody tr th:only-of-type {\n",
       "        vertical-align: middle;\n",
       "    }\n",
       "\n",
       "    .dataframe tbody tr th {\n",
       "        vertical-align: top;\n",
       "    }\n",
       "\n",
       "    .dataframe thead th {\n",
       "        text-align: right;\n",
       "    }\n",
       "</style>\n",
       "<table border=\"1\" class=\"dataframe\">\n",
       "  <thead>\n",
       "    <tr style=\"text-align: right;\">\n",
       "      <th></th>\n",
       "      <th>x</th>\n",
       "      <th>y</th>\n",
       "      <th>z</th>\n",
       "    </tr>\n",
       "    <tr>\n",
       "      <th>id</th>\n",
       "      <th></th>\n",
       "      <th></th>\n",
       "      <th></th>\n",
       "    </tr>\n",
       "  </thead>\n",
       "  <tbody>\n",
       "    <tr>\n",
       "      <th>-1200538809516907093</th>\n",
       "      <td>0</td>\n",
       "      <td>A</td>\n",
       "      <td>(i, j, k, l)</td>\n",
       "    </tr>\n",
       "    <tr>\n",
       "      <th>-6404807193527412409</th>\n",
       "      <td>0</td>\n",
       "      <td>A</td>\n",
       "      <td>(i, l, k, m)</td>\n",
       "    </tr>\n",
       "    <tr>\n",
       "      <th>-4749884983532919515</th>\n",
       "      <td>0</td>\n",
       "      <td>A</td>\n",
       "      <td>(j, k, i, l)</td>\n",
       "    </tr>\n",
       "    <tr>\n",
       "      <th>-8999850930677188027</th>\n",
       "      <td>0</td>\n",
       "      <td>A</td>\n",
       "      <td>(j, m, k, l)</td>\n",
       "    </tr>\n",
       "    <tr>\n",
       "      <th>3869098367480049733</th>\n",
       "      <td>0</td>\n",
       "      <td>A</td>\n",
       "      <td>(k, l, i, j)</td>\n",
       "    </tr>\n",
       "  </tbody>\n",
       "</table>\n",
       "</div>"
      ],
      "text/plain": [
       "                      x  y             z\n",
       "id                                      \n",
       "-1200538809516907093  0  A  (i, j, k, l)\n",
       "-6404807193527412409  0  A  (i, l, k, m)\n",
       "-4749884983532919515  0  A  (j, k, i, l)\n",
       "-8999850930677188027  0  A  (j, m, k, l)\n",
       " 3869098367480049733  0  A  (k, l, i, j)"
      ]
     },
     "execution_count": 18,
     "metadata": {},
     "output_type": "execute_result"
    }
   ],
   "source": [
    "pop.datasets.input.head()"
   ]
  },
  {
   "cell_type": "code",
   "execution_count": 19,
   "metadata": {},
   "outputs": [],
   "source": [
    "pop.define()"
   ]
  },
  {
   "cell_type": "markdown",
   "metadata": {},
   "source": [
    "# Environment"
   ]
  },
  {
   "cell_type": "code",
   "execution_count": 20,
   "metadata": {},
   "outputs": [],
   "source": [
    "from lamarck import Environment"
   ]
  },
  {
   "cell_type": "code",
   "execution_count": 21,
   "metadata": {},
   "outputs": [],
   "source": [
    "import hashlib\n",
    "\n",
    "def tuplehash(tuple_obj):\n",
    "    encoded = ''.join(tuple_obj).encode()\n",
    "    m = hashlib.md5()\n",
    "    m.update(encoded)\n",
    "    d = m.digest()\n",
    "    return int.from_bytes(d, 'big')\n",
    "    \n",
    "    \n",
    "def dummy_process(x, y, z):\n",
    "    zval = (tuplehash(z) % 1000) / (x+1)**0.75\n",
    "    yval = zval // ord(y) + tuplehash((y, y)) % 73\n",
    "    return {\n",
    "        'time': (x + 1) * abs(zval - yval) // 10,\n",
    "        'profit': (abs(3*zval - 2*yval)**((int(x/10) + 1) % 9) // (tuplehash((y, y)) % 7 + 1)) % 10000 + (zval*yval) //10\n",
    "    }"
   ]
  },
  {
   "cell_type": "code",
   "execution_count": 22,
   "metadata": {},
   "outputs": [],
   "source": [
    "env = Environment()"
   ]
  },
  {
   "cell_type": "code",
   "execution_count": 23,
   "metadata": {},
   "outputs": [],
   "source": [
    "env.config.set_process(dummy_process)"
   ]
  },
  {
   "cell_type": "code",
   "execution_count": 24,
   "metadata": {},
   "outputs": [
    {
     "data": {
      "text/plain": [
       "multi:   False\n",
       "process:   <function dummy_process at 0x7f6cbc830790>"
      ]
     },
     "execution_count": 24,
     "metadata": {},
     "output_type": "execute_result"
    }
   ],
   "source": [
    "env.config"
   ]
  },
  {
   "cell_type": "markdown",
   "metadata": {},
   "source": [
    "### Simulate Creature"
   ]
  },
  {
   "cell_type": "code",
   "execution_count": 25,
   "metadata": {},
   "outputs": [],
   "source": [
    "cr = pop[0]"
   ]
  },
  {
   "cell_type": "code",
   "execution_count": 26,
   "metadata": {},
   "outputs": [
    {
     "data": {
      "text/plain": [
       "{'time': 95.0, 'profit': 2154.0}"
      ]
     },
     "execution_count": 26,
     "metadata": {},
     "output_type": "execute_result"
    }
   ],
   "source": [
    "env.simulate(cr)"
   ]
  },
  {
   "cell_type": "markdown",
   "metadata": {},
   "source": [
    "### Simulate Population"
   ]
  },
  {
   "cell_type": "code",
   "execution_count": 27,
   "metadata": {},
   "outputs": [],
   "source": [
    "simpop = pop.copy()"
   ]
  },
  {
   "cell_type": "code",
   "execution_count": 28,
   "metadata": {},
   "outputs": [],
   "source": [
    "env.simulate(simpop)"
   ]
  },
  {
   "cell_type": "code",
   "execution_count": 29,
   "metadata": {},
   "outputs": [
    {
     "data": {
      "text/html": [
       "<div>\n",
       "<style scoped>\n",
       "    .dataframe tbody tr th:only-of-type {\n",
       "        vertical-align: middle;\n",
       "    }\n",
       "\n",
       "    .dataframe tbody tr th {\n",
       "        vertical-align: top;\n",
       "    }\n",
       "\n",
       "    .dataframe thead th {\n",
       "        text-align: right;\n",
       "    }\n",
       "</style>\n",
       "<table border=\"1\" class=\"dataframe\">\n",
       "  <thead>\n",
       "    <tr style=\"text-align: right;\">\n",
       "      <th></th>\n",
       "      <th>x</th>\n",
       "      <th>y</th>\n",
       "      <th>z</th>\n",
       "      <th>time</th>\n",
       "      <th>profit</th>\n",
       "    </tr>\n",
       "    <tr>\n",
       "      <th>id</th>\n",
       "      <th></th>\n",
       "      <th></th>\n",
       "      <th></th>\n",
       "      <th></th>\n",
       "      <th></th>\n",
       "    </tr>\n",
       "  </thead>\n",
       "  <tbody>\n",
       "    <tr>\n",
       "      <th>-1200538809516907093</th>\n",
       "      <td>0</td>\n",
       "      <td>A</td>\n",
       "      <td>(i, j, k, l)</td>\n",
       "      <td>95.0</td>\n",
       "      <td>2154.0</td>\n",
       "    </tr>\n",
       "    <tr>\n",
       "      <th>-6404807193527412409</th>\n",
       "      <td>0</td>\n",
       "      <td>A</td>\n",
       "      <td>(i, l, k, m)</td>\n",
       "      <td>62.0</td>\n",
       "      <td>1105.0</td>\n",
       "    </tr>\n",
       "    <tr>\n",
       "      <th>-4749884983532919515</th>\n",
       "      <td>0</td>\n",
       "      <td>A</td>\n",
       "      <td>(j, k, i, l)</td>\n",
       "      <td>56.0</td>\n",
       "      <td>930.0</td>\n",
       "    </tr>\n",
       "    <tr>\n",
       "      <th>-8999850930677188027</th>\n",
       "      <td>0</td>\n",
       "      <td>A</td>\n",
       "      <td>(j, m, k, l)</td>\n",
       "      <td>27.0</td>\n",
       "      <td>338.0</td>\n",
       "    </tr>\n",
       "    <tr>\n",
       "      <th>3869098367480049733</th>\n",
       "      <td>0</td>\n",
       "      <td>A</td>\n",
       "      <td>(k, l, i, j)</td>\n",
       "      <td>45.0</td>\n",
       "      <td>715.0</td>\n",
       "    </tr>\n",
       "  </tbody>\n",
       "</table>\n",
       "</div>"
      ],
      "text/plain": [
       "                      x  y             z  time  profit\n",
       "id                                                    \n",
       "-1200538809516907093  0  A  (i, j, k, l)  95.0  2154.0\n",
       "-6404807193527412409  0  A  (i, l, k, m)  62.0  1105.0\n",
       "-4749884983532919515  0  A  (j, k, i, l)  56.0   930.0\n",
       "-8999850930677188027  0  A  (j, m, k, l)  27.0   338.0\n",
       " 3869098367480049733  0  A  (k, l, i, j)  45.0   715.0"
      ]
     },
     "execution_count": 29,
     "metadata": {},
     "output_type": "execute_result"
    }
   ],
   "source": [
    "simpop.datasets.output.head()"
   ]
  },
  {
   "cell_type": "markdown",
   "metadata": {},
   "source": [
    "### Simulate Population - Multi Thread"
   ]
  },
  {
   "cell_type": "code",
   "execution_count": 30,
   "metadata": {},
   "outputs": [],
   "source": [
    "env.config.set_multi(True)"
   ]
  },
  {
   "cell_type": "code",
   "execution_count": 31,
   "metadata": {},
   "outputs": [],
   "source": [
    "env.simulate(simpop)"
   ]
  },
  {
   "cell_type": "code",
   "execution_count": 32,
   "metadata": {},
   "outputs": [
    {
     "data": {
      "text/html": [
       "<div>\n",
       "<style scoped>\n",
       "    .dataframe tbody tr th:only-of-type {\n",
       "        vertical-align: middle;\n",
       "    }\n",
       "\n",
       "    .dataframe tbody tr th {\n",
       "        vertical-align: top;\n",
       "    }\n",
       "\n",
       "    .dataframe thead th {\n",
       "        text-align: right;\n",
       "    }\n",
       "</style>\n",
       "<table border=\"1\" class=\"dataframe\">\n",
       "  <thead>\n",
       "    <tr style=\"text-align: right;\">\n",
       "      <th></th>\n",
       "      <th>x</th>\n",
       "      <th>y</th>\n",
       "      <th>z</th>\n",
       "      <th>time</th>\n",
       "      <th>profit</th>\n",
       "    </tr>\n",
       "    <tr>\n",
       "      <th>id</th>\n",
       "      <th></th>\n",
       "      <th></th>\n",
       "      <th></th>\n",
       "      <th></th>\n",
       "      <th></th>\n",
       "    </tr>\n",
       "  </thead>\n",
       "  <tbody>\n",
       "    <tr>\n",
       "      <th>-1200538809516907093</th>\n",
       "      <td>0</td>\n",
       "      <td>A</td>\n",
       "      <td>(i, j, k, l)</td>\n",
       "      <td>95.0</td>\n",
       "      <td>2154.0</td>\n",
       "    </tr>\n",
       "    <tr>\n",
       "      <th>-6404807193527412409</th>\n",
       "      <td>0</td>\n",
       "      <td>A</td>\n",
       "      <td>(i, l, k, m)</td>\n",
       "      <td>62.0</td>\n",
       "      <td>1105.0</td>\n",
       "    </tr>\n",
       "    <tr>\n",
       "      <th>-4749884983532919515</th>\n",
       "      <td>0</td>\n",
       "      <td>A</td>\n",
       "      <td>(j, k, i, l)</td>\n",
       "      <td>56.0</td>\n",
       "      <td>930.0</td>\n",
       "    </tr>\n",
       "    <tr>\n",
       "      <th>-8999850930677188027</th>\n",
       "      <td>0</td>\n",
       "      <td>A</td>\n",
       "      <td>(j, m, k, l)</td>\n",
       "      <td>27.0</td>\n",
       "      <td>338.0</td>\n",
       "    </tr>\n",
       "    <tr>\n",
       "      <th>3869098367480049733</th>\n",
       "      <td>0</td>\n",
       "      <td>A</td>\n",
       "      <td>(k, l, i, j)</td>\n",
       "      <td>45.0</td>\n",
       "      <td>715.0</td>\n",
       "    </tr>\n",
       "  </tbody>\n",
       "</table>\n",
       "</div>"
      ],
      "text/plain": [
       "                      x  y             z  time  profit\n",
       "id                                                    \n",
       "-1200538809516907093  0  A  (i, j, k, l)  95.0  2154.0\n",
       "-6404807193527412409  0  A  (i, l, k, m)  62.0  1105.0\n",
       "-4749884983532919515  0  A  (j, k, i, l)  56.0   930.0\n",
       "-8999850930677188027  0  A  (j, m, k, l)  27.0   338.0\n",
       " 3869098367480049733  0  A  (k, l, i, j)  45.0   715.0"
      ]
     },
     "execution_count": 32,
     "metadata": {},
     "output_type": "execute_result"
    }
   ],
   "source": [
    "simpop.datasets.output.head()"
   ]
  },
  {
   "cell_type": "markdown",
   "metadata": {},
   "source": [
    "# Fitness"
   ]
  },
  {
   "cell_type": "markdown",
   "metadata": {},
   "source": [
    "### 1. Single Objective"
   ]
  },
  {
   "cell_type": "code",
   "execution_count": 33,
   "metadata": {},
   "outputs": [],
   "source": [
    "single_objective_pop = simpop.copy()\n",
    "single_objective_pop.apply_fitness.single_objective(output='time', objective='min')"
   ]
  },
  {
   "cell_type": "code",
   "execution_count": 34,
   "metadata": {},
   "outputs": [
    {
     "data": {
      "text/html": [
       "<div>\n",
       "<style scoped>\n",
       "    .dataframe tbody tr th:only-of-type {\n",
       "        vertical-align: middle;\n",
       "    }\n",
       "\n",
       "    .dataframe tbody tr th {\n",
       "        vertical-align: top;\n",
       "    }\n",
       "\n",
       "    .dataframe thead th {\n",
       "        text-align: right;\n",
       "    }\n",
       "</style>\n",
       "<table border=\"1\" class=\"dataframe\">\n",
       "  <thead>\n",
       "    <tr style=\"text-align: right;\">\n",
       "      <th></th>\n",
       "      <th>x</th>\n",
       "      <th>y</th>\n",
       "      <th>z</th>\n",
       "      <th>time</th>\n",
       "      <th>profit</th>\n",
       "      <th>criteria</th>\n",
       "    </tr>\n",
       "    <tr>\n",
       "      <th>id</th>\n",
       "      <th></th>\n",
       "      <th></th>\n",
       "      <th></th>\n",
       "      <th></th>\n",
       "      <th></th>\n",
       "      <th></th>\n",
       "    </tr>\n",
       "  </thead>\n",
       "  <tbody>\n",
       "    <tr>\n",
       "      <th>4962223141712708727</th>\n",
       "      <td>5</td>\n",
       "      <td>E</td>\n",
       "      <td>(i, l, k, j)</td>\n",
       "      <td>0.0</td>\n",
       "      <td>236.0</td>\n",
       "      <td>0.0</td>\n",
       "    </tr>\n",
       "    <tr>\n",
       "      <th>-8759710075881808183</th>\n",
       "      <td>3</td>\n",
       "      <td>A</td>\n",
       "      <td>(m, l, i, j)</td>\n",
       "      <td>0.0</td>\n",
       "      <td>1.0</td>\n",
       "      <td>0.0</td>\n",
       "    </tr>\n",
       "    <tr>\n",
       "      <th>-4107943141842962231</th>\n",
       "      <td>0</td>\n",
       "      <td>D</td>\n",
       "      <td>(m, l, i, j)</td>\n",
       "      <td>0.0</td>\n",
       "      <td>17.0</td>\n",
       "      <td>0.0</td>\n",
       "    </tr>\n",
       "    <tr>\n",
       "      <th>2524840627078154993</th>\n",
       "      <td>1</td>\n",
       "      <td>A</td>\n",
       "      <td>(m, l, i, j)</td>\n",
       "      <td>0.0</td>\n",
       "      <td>3.0</td>\n",
       "      <td>0.0</td>\n",
       "    </tr>\n",
       "    <tr>\n",
       "      <th>-1558298724280610971</th>\n",
       "      <td>8</td>\n",
       "      <td>B</td>\n",
       "      <td>(j, i, m, l)</td>\n",
       "      <td>0.0</td>\n",
       "      <td>74.0</td>\n",
       "      <td>0.0</td>\n",
       "    </tr>\n",
       "  </tbody>\n",
       "</table>\n",
       "</div>"
      ],
      "text/plain": [
       "                      x  y             z  time  profit  criteria\n",
       "id                                                              \n",
       " 4962223141712708727  5  E  (i, l, k, j)   0.0   236.0       0.0\n",
       "-8759710075881808183  3  A  (m, l, i, j)   0.0     1.0       0.0\n",
       "-4107943141842962231  0  D  (m, l, i, j)   0.0    17.0       0.0\n",
       " 2524840627078154993  1  A  (m, l, i, j)   0.0     3.0       0.0\n",
       "-1558298724280610971  8  B  (j, i, m, l)   0.0    74.0       0.0"
      ]
     },
     "execution_count": 34,
     "metadata": {},
     "output_type": "execute_result"
    }
   ],
   "source": [
    "single_objective_pop.datasets.fitness.head()"
   ]
  },
  {
   "cell_type": "markdown",
   "metadata": {},
   "source": [
    "### 2. Multi Objective - Ranked"
   ]
  },
  {
   "cell_type": "code",
   "execution_count": 35,
   "metadata": {},
   "outputs": [],
   "source": [
    "ranked_objective_pop = simpop.copy()\n",
    "ranked_objective_pop.apply_fitness.multi_objective.ranked(priorities=['time', 'profit'], objectives=['min', 'max'])"
   ]
  },
  {
   "cell_type": "code",
   "execution_count": 36,
   "metadata": {},
   "outputs": [
    {
     "data": {
      "text/html": [
       "<div>\n",
       "<style scoped>\n",
       "    .dataframe tbody tr th:only-of-type {\n",
       "        vertical-align: middle;\n",
       "    }\n",
       "\n",
       "    .dataframe tbody tr th {\n",
       "        vertical-align: top;\n",
       "    }\n",
       "\n",
       "    .dataframe thead th {\n",
       "        text-align: right;\n",
       "    }\n",
       "</style>\n",
       "<table border=\"1\" class=\"dataframe\">\n",
       "  <thead>\n",
       "    <tr style=\"text-align: right;\">\n",
       "      <th></th>\n",
       "      <th>x</th>\n",
       "      <th>y</th>\n",
       "      <th>z</th>\n",
       "      <th>time</th>\n",
       "      <th>profit</th>\n",
       "      <th>criteria0</th>\n",
       "      <th>criteria1</th>\n",
       "    </tr>\n",
       "    <tr>\n",
       "      <th>id</th>\n",
       "      <th></th>\n",
       "      <th></th>\n",
       "      <th></th>\n",
       "      <th></th>\n",
       "      <th></th>\n",
       "      <th></th>\n",
       "      <th></th>\n",
       "    </tr>\n",
       "  </thead>\n",
       "  <tbody>\n",
       "    <tr>\n",
       "      <th>4962223141712708727</th>\n",
       "      <td>5</td>\n",
       "      <td>E</td>\n",
       "      <td>(i, l, k, j)</td>\n",
       "      <td>0.0</td>\n",
       "      <td>236.0</td>\n",
       "      <td>0.0</td>\n",
       "      <td>236.0</td>\n",
       "    </tr>\n",
       "    <tr>\n",
       "      <th>1779658001658486100</th>\n",
       "      <td>0</td>\n",
       "      <td>B</td>\n",
       "      <td>(l, k, m, j)</td>\n",
       "      <td>0.0</td>\n",
       "      <td>91.0</td>\n",
       "      <td>0.0</td>\n",
       "      <td>91.0</td>\n",
       "    </tr>\n",
       "    <tr>\n",
       "      <th>-1558298724280610971</th>\n",
       "      <td>8</td>\n",
       "      <td>B</td>\n",
       "      <td>(j, i, m, l)</td>\n",
       "      <td>0.0</td>\n",
       "      <td>74.0</td>\n",
       "      <td>0.0</td>\n",
       "      <td>74.0</td>\n",
       "    </tr>\n",
       "    <tr>\n",
       "      <th>-5758732775881025772</th>\n",
       "      <td>5</td>\n",
       "      <td>D</td>\n",
       "      <td>(j, i, l, k)</td>\n",
       "      <td>0.0</td>\n",
       "      <td>30.0</td>\n",
       "      <td>0.0</td>\n",
       "      <td>30.0</td>\n",
       "    </tr>\n",
       "    <tr>\n",
       "      <th>-4107943141842962231</th>\n",
       "      <td>0</td>\n",
       "      <td>D</td>\n",
       "      <td>(m, l, i, j)</td>\n",
       "      <td>0.0</td>\n",
       "      <td>17.0</td>\n",
       "      <td>0.0</td>\n",
       "      <td>17.0</td>\n",
       "    </tr>\n",
       "  </tbody>\n",
       "</table>\n",
       "</div>"
      ],
      "text/plain": [
       "                      x  y             z  time  profit  criteria0  criteria1\n",
       "id                                                                          \n",
       " 4962223141712708727  5  E  (i, l, k, j)   0.0   236.0        0.0      236.0\n",
       " 1779658001658486100  0  B  (l, k, m, j)   0.0    91.0        0.0       91.0\n",
       "-1558298724280610971  8  B  (j, i, m, l)   0.0    74.0        0.0       74.0\n",
       "-5758732775881025772  5  D  (j, i, l, k)   0.0    30.0        0.0       30.0\n",
       "-4107943141842962231  0  D  (m, l, i, j)   0.0    17.0        0.0       17.0"
      ]
     },
     "execution_count": 36,
     "metadata": {},
     "output_type": "execute_result"
    }
   ],
   "source": [
    "ranked_objective_pop.datasets.fitness.head()"
   ]
  },
  {
   "cell_type": "markdown",
   "metadata": {},
   "source": [
    "### 3. Multi Objective - Pareto"
   ]
  },
  {
   "cell_type": "code",
   "execution_count": 37,
   "metadata": {},
   "outputs": [],
   "source": [
    "pareto_objective_pop = simpop.copy()\n",
    "pareto_objective_pop.apply_fitness.multi_objective.pareto(outputs=['time', 'profit'], objectives=['min', 'max'])"
   ]
  },
  {
   "cell_type": "code",
   "execution_count": 38,
   "metadata": {},
   "outputs": [
    {
     "data": {
      "text/html": [
       "<div>\n",
       "<style scoped>\n",
       "    .dataframe tbody tr th:only-of-type {\n",
       "        vertical-align: middle;\n",
       "    }\n",
       "\n",
       "    .dataframe tbody tr th {\n",
       "        vertical-align: top;\n",
       "    }\n",
       "\n",
       "    .dataframe thead th {\n",
       "        text-align: right;\n",
       "    }\n",
       "</style>\n",
       "<table border=\"1\" class=\"dataframe\">\n",
       "  <thead>\n",
       "    <tr style=\"text-align: right;\">\n",
       "      <th></th>\n",
       "      <th>x</th>\n",
       "      <th>y</th>\n",
       "      <th>z</th>\n",
       "      <th>time</th>\n",
       "      <th>profit</th>\n",
       "      <th>criteria0</th>\n",
       "      <th>criteria1</th>\n",
       "      <th>front</th>\n",
       "      <th>crowd</th>\n",
       "    </tr>\n",
       "    <tr>\n",
       "      <th>id</th>\n",
       "      <th></th>\n",
       "      <th></th>\n",
       "      <th></th>\n",
       "      <th></th>\n",
       "      <th></th>\n",
       "      <th></th>\n",
       "      <th></th>\n",
       "      <th></th>\n",
       "      <th></th>\n",
       "    </tr>\n",
       "  </thead>\n",
       "  <tbody>\n",
       "    <tr>\n",
       "      <th>1472106222770972322</th>\n",
       "      <td>10</td>\n",
       "      <td>E</td>\n",
       "      <td>(i, l, k, m)</td>\n",
       "      <td>64.0</td>\n",
       "      <td>10444.0</td>\n",
       "      <td>-0.097089</td>\n",
       "      <td>6.819762</td>\n",
       "      <td>1</td>\n",
       "      <td>inf</td>\n",
       "    </tr>\n",
       "    <tr>\n",
       "      <th>-8759710075881808183</th>\n",
       "      <td>3</td>\n",
       "      <td>A</td>\n",
       "      <td>(m, l, i, j)</td>\n",
       "      <td>0.0</td>\n",
       "      <td>1.0</td>\n",
       "      <td>-1.557939</td>\n",
       "      <td>-0.677316</td>\n",
       "      <td>1</td>\n",
       "      <td>inf</td>\n",
       "    </tr>\n",
       "    <tr>\n",
       "      <th>2524840627078154993</th>\n",
       "      <td>1</td>\n",
       "      <td>A</td>\n",
       "      <td>(m, l, i, j)</td>\n",
       "      <td>0.0</td>\n",
       "      <td>3.0</td>\n",
       "      <td>-1.557939</td>\n",
       "      <td>-0.675880</td>\n",
       "      <td>1</td>\n",
       "      <td>inf</td>\n",
       "    </tr>\n",
       "    <tr>\n",
       "      <th>5712477236190665653</th>\n",
       "      <td>10</td>\n",
       "      <td>B</td>\n",
       "      <td>(l, m, i, j)</td>\n",
       "      <td>13.0</td>\n",
       "      <td>3417.0</td>\n",
       "      <td>-1.261204</td>\n",
       "      <td>1.775046</td>\n",
       "      <td>1</td>\n",
       "      <td>4.899793</td>\n",
       "    </tr>\n",
       "    <tr>\n",
       "      <th>3012188921196542691</th>\n",
       "      <td>10</td>\n",
       "      <td>B</td>\n",
       "      <td>(l, i, k, m)</td>\n",
       "      <td>22.0</td>\n",
       "      <td>7089.0</td>\n",
       "      <td>-1.055772</td>\n",
       "      <td>4.411192</td>\n",
       "      <td>1</td>\n",
       "      <td>4.269620</td>\n",
       "    </tr>\n",
       "  </tbody>\n",
       "</table>\n",
       "</div>"
      ],
      "text/plain": [
       "                       x  y             z  time   profit  criteria0  \\\n",
       "id                                                                    \n",
       " 1472106222770972322  10  E  (i, l, k, m)  64.0  10444.0  -0.097089   \n",
       "-8759710075881808183   3  A  (m, l, i, j)   0.0      1.0  -1.557939   \n",
       " 2524840627078154993   1  A  (m, l, i, j)   0.0      3.0  -1.557939   \n",
       " 5712477236190665653  10  B  (l, m, i, j)  13.0   3417.0  -1.261204   \n",
       " 3012188921196542691  10  B  (l, i, k, m)  22.0   7089.0  -1.055772   \n",
       "\n",
       "                      criteria1  front     crowd  \n",
       "id                                                \n",
       " 1472106222770972322   6.819762      1       inf  \n",
       "-8759710075881808183  -0.677316      1       inf  \n",
       " 2524840627078154993  -0.675880      1       inf  \n",
       " 5712477236190665653   1.775046      1  4.899793  \n",
       " 3012188921196542691   4.411192      1  4.269620  "
      ]
     },
     "execution_count": 38,
     "metadata": {},
     "output_type": "execute_result"
    }
   ],
   "source": [
    "pareto_objective_pop.datasets.fitness.head()"
   ]
  },
  {
   "cell_type": "code",
   "execution_count": 39,
   "metadata": {},
   "outputs": [
    {
     "data": {
      "image/png": "[encoded data removed]",
      "text/plain": [
       "<Figure size 432x288 with 2 Axes>"
      ]
     },
     "metadata": {
      "needs_background": "light"
     },
     "output_type": "display_data"
    }
   ],
   "source": [
    "ax = pareto_objective_pop.plot.fronts('time', 'profit', 1)"
   ]
  },
  {
   "cell_type": "markdown",
   "metadata": {},
   "source": [
    "# Selection"
   ]
  },
  {
   "cell_type": "code",
   "execution_count": 40,
   "metadata": {},
   "outputs": [],
   "source": [
    "selected_pop = pareto_objective_pop.copy()\n",
    "selected_pop.select()"
   ]
  },
  {
   "cell_type": "code",
   "execution_count": 41,
   "metadata": {},
   "outputs": [
    {
     "data": {
      "text/html": [
       "<div>\n",
       "<style scoped>\n",
       "    .dataframe tbody tr th:only-of-type {\n",
       "        vertical-align: middle;\n",
       "    }\n",
       "\n",
       "    .dataframe tbody tr th {\n",
       "        vertical-align: top;\n",
       "    }\n",
       "\n",
       "    .dataframe thead th {\n",
       "        text-align: right;\n",
       "    }\n",
       "</style>\n",
       "<table border=\"1\" class=\"dataframe\">\n",
       "  <thead>\n",
       "    <tr style=\"text-align: right;\">\n",
       "      <th></th>\n",
       "      <th>x</th>\n",
       "      <th>y</th>\n",
       "      <th>z</th>\n",
       "      <th>time</th>\n",
       "      <th>profit</th>\n",
       "      <th>criteria0</th>\n",
       "      <th>criteria1</th>\n",
       "      <th>front</th>\n",
       "      <th>crowd</th>\n",
       "    </tr>\n",
       "    <tr>\n",
       "      <th>id</th>\n",
       "      <th></th>\n",
       "      <th></th>\n",
       "      <th></th>\n",
       "      <th></th>\n",
       "      <th></th>\n",
       "      <th></th>\n",
       "      <th></th>\n",
       "      <th></th>\n",
       "      <th></th>\n",
       "    </tr>\n",
       "  </thead>\n",
       "  <tbody>\n",
       "    <tr>\n",
       "      <th>1472106222770972322</th>\n",
       "      <td>10</td>\n",
       "      <td>E</td>\n",
       "      <td>(i, l, k, m)</td>\n",
       "      <td>64.0</td>\n",
       "      <td>10444.0</td>\n",
       "      <td>-0.097089</td>\n",
       "      <td>6.819762</td>\n",
       "      <td>1</td>\n",
       "      <td>inf</td>\n",
       "    </tr>\n",
       "    <tr>\n",
       "      <th>-8759710075881808183</th>\n",
       "      <td>3</td>\n",
       "      <td>A</td>\n",
       "      <td>(m, l, i, j)</td>\n",
       "      <td>0.0</td>\n",
       "      <td>1.0</td>\n",
       "      <td>-1.557939</td>\n",
       "      <td>-0.677316</td>\n",
       "      <td>1</td>\n",
       "      <td>inf</td>\n",
       "    </tr>\n",
       "    <tr>\n",
       "      <th>2524840627078154993</th>\n",
       "      <td>1</td>\n",
       "      <td>A</td>\n",
       "      <td>(m, l, i, j)</td>\n",
       "      <td>0.0</td>\n",
       "      <td>3.0</td>\n",
       "      <td>-1.557939</td>\n",
       "      <td>-0.675880</td>\n",
       "      <td>1</td>\n",
       "      <td>inf</td>\n",
       "    </tr>\n",
       "    <tr>\n",
       "      <th>5712477236190665653</th>\n",
       "      <td>10</td>\n",
       "      <td>B</td>\n",
       "      <td>(l, m, i, j)</td>\n",
       "      <td>13.0</td>\n",
       "      <td>3417.0</td>\n",
       "      <td>-1.261204</td>\n",
       "      <td>1.775046</td>\n",
       "      <td>1</td>\n",
       "      <td>4.899793</td>\n",
       "    </tr>\n",
       "    <tr>\n",
       "      <th>3012188921196542691</th>\n",
       "      <td>10</td>\n",
       "      <td>B</td>\n",
       "      <td>(l, i, k, m)</td>\n",
       "      <td>22.0</td>\n",
       "      <td>7089.0</td>\n",
       "      <td>-1.055772</td>\n",
       "      <td>4.411192</td>\n",
       "      <td>1</td>\n",
       "      <td>4.269620</td>\n",
       "    </tr>\n",
       "    <tr>\n",
       "      <th>...</th>\n",
       "      <td>...</td>\n",
       "      <td>...</td>\n",
       "      <td>...</td>\n",
       "      <td>...</td>\n",
       "      <td>...</td>\n",
       "      <td>...</td>\n",
       "      <td>...</td>\n",
       "      <td>...</td>\n",
       "      <td>...</td>\n",
       "    </tr>\n",
       "    <tr>\n",
       "      <th>-3809405382912197103</th>\n",
       "      <td>10</td>\n",
       "      <td>A</td>\n",
       "      <td>(m, j, k, l)</td>\n",
       "      <td>172.0</td>\n",
       "      <td>2564.0</td>\n",
       "      <td>2.368095</td>\n",
       "      <td>1.162673</td>\n",
       "      <td>13</td>\n",
       "      <td>inf</td>\n",
       "    </tr>\n",
       "    <tr>\n",
       "      <th>-1090812876285543171</th>\n",
       "      <td>5</td>\n",
       "      <td>E</td>\n",
       "      <td>(l, j, m, k)</td>\n",
       "      <td>21.0</td>\n",
       "      <td>61.0</td>\n",
       "      <td>-1.078598</td>\n",
       "      <td>-0.634242</td>\n",
       "      <td>13</td>\n",
       "      <td>inf</td>\n",
       "    </tr>\n",
       "    <tr>\n",
       "      <th>-4981153807645682329</th>\n",
       "      <td>8</td>\n",
       "      <td>A</td>\n",
       "      <td>(l, k, j, i)</td>\n",
       "      <td>21.0</td>\n",
       "      <td>21.0</td>\n",
       "      <td>-1.078598</td>\n",
       "      <td>-0.662958</td>\n",
       "      <td>13</td>\n",
       "      <td>inf</td>\n",
       "    </tr>\n",
       "    <tr>\n",
       "      <th>-8094789215641451173</th>\n",
       "      <td>2</td>\n",
       "      <td>B</td>\n",
       "      <td>(m, j, k, l)</td>\n",
       "      <td>121.0</td>\n",
       "      <td>2447.0</td>\n",
       "      <td>1.203980</td>\n",
       "      <td>1.078679</td>\n",
       "      <td>13</td>\n",
       "      <td>1.248109</td>\n",
       "    </tr>\n",
       "    <tr>\n",
       "      <th>-1662125959884125652</th>\n",
       "      <td>5</td>\n",
       "      <td>E</td>\n",
       "      <td>(m, k, j, l)</td>\n",
       "      <td>94.0</td>\n",
       "      <td>1142.0</td>\n",
       "      <td>0.587684</td>\n",
       "      <td>0.141813</td>\n",
       "      <td>13</td>\n",
       "      <td>0.645472</td>\n",
       "    </tr>\n",
       "  </tbody>\n",
       "</table>\n",
       "<p>394 rows × 9 columns</p>\n",
       "</div>"
      ],
      "text/plain": [
       "                       x  y             z   time   profit  criteria0  \\\n",
       "id                                                                     \n",
       " 1472106222770972322  10  E  (i, l, k, m)   64.0  10444.0  -0.097089   \n",
       "-8759710075881808183   3  A  (m, l, i, j)    0.0      1.0  -1.557939   \n",
       " 2524840627078154993   1  A  (m, l, i, j)    0.0      3.0  -1.557939   \n",
       " 5712477236190665653  10  B  (l, m, i, j)   13.0   3417.0  -1.261204   \n",
       " 3012188921196542691  10  B  (l, i, k, m)   22.0   7089.0  -1.055772   \n",
       "...                   .. ..           ...    ...      ...        ...   \n",
       "-3809405382912197103  10  A  (m, j, k, l)  172.0   2564.0   2.368095   \n",
       "-1090812876285543171   5  E  (l, j, m, k)   21.0     61.0  -1.078598   \n",
       "-4981153807645682329   8  A  (l, k, j, i)   21.0     21.0  -1.078598   \n",
       "-8094789215641451173   2  B  (m, j, k, l)  121.0   2447.0   1.203980   \n",
       "-1662125959884125652   5  E  (m, k, j, l)   94.0   1142.0   0.587684   \n",
       "\n",
       "                      criteria1  front     crowd  \n",
       "id                                                \n",
       " 1472106222770972322   6.819762      1       inf  \n",
       "-8759710075881808183  -0.677316      1       inf  \n",
       " 2524840627078154993  -0.675880      1       inf  \n",
       " 5712477236190665653   1.775046      1  4.899793  \n",
       " 3012188921196542691   4.411192      1  4.269620  \n",
       "...                         ...    ...       ...  \n",
       "-3809405382912197103   1.162673     13       inf  \n",
       "-1090812876285543171  -0.634242     13       inf  \n",
       "-4981153807645682329  -0.662958     13       inf  \n",
       "-8094789215641451173   1.078679     13  1.248109  \n",
       "-1662125959884125652   0.141813     13  0.645472  \n",
       "\n",
       "[394 rows x 9 columns]"
      ]
     },
     "execution_count": 41,
     "metadata": {},
     "output_type": "execute_result"
    }
   ],
   "source": [
    "selected_pop.datasets.fitness"
   ]
  },
  {
   "cell_type": "markdown",
   "metadata": {},
   "source": [
    "# Repopulate"
   ]
  },
  {
   "cell_type": "code",
   "execution_count": 42,
   "metadata": {},
   "outputs": [
    {
     "data": {
      "text/plain": [
       "Population with 394 Creatures with genes x (numeric), y (categorical), z (vectorial).\n",
       "        "
      ]
     },
     "execution_count": 42,
     "metadata": {},
     "output_type": "execute_result"
    }
   ],
   "source": [
    "newpop = selected_pop.copy()\n",
    "newpop"
   ]
  },
  {
   "cell_type": "code",
   "execution_count": 43,
   "metadata": {},
   "outputs": [
    {
     "data": {
      "text/html": [
       "<div>\n",
       "<style scoped>\n",
       "    .dataframe tbody tr th:only-of-type {\n",
       "        vertical-align: middle;\n",
       "    }\n",
       "\n",
       "    .dataframe tbody tr th {\n",
       "        vertical-align: top;\n",
       "    }\n",
       "\n",
       "    .dataframe thead th {\n",
       "        text-align: right;\n",
       "    }\n",
       "</style>\n",
       "<table border=\"1\" class=\"dataframe\">\n",
       "  <thead>\n",
       "    <tr style=\"text-align: right;\">\n",
       "      <th></th>\n",
       "      <th>x</th>\n",
       "      <th>y</th>\n",
       "      <th>z</th>\n",
       "      <th>time</th>\n",
       "      <th>profit</th>\n",
       "      <th>criteria0</th>\n",
       "      <th>criteria1</th>\n",
       "      <th>front</th>\n",
       "      <th>crowd</th>\n",
       "    </tr>\n",
       "    <tr>\n",
       "      <th>id</th>\n",
       "      <th></th>\n",
       "      <th></th>\n",
       "      <th></th>\n",
       "      <th></th>\n",
       "      <th></th>\n",
       "      <th></th>\n",
       "      <th></th>\n",
       "      <th></th>\n",
       "      <th></th>\n",
       "    </tr>\n",
       "  </thead>\n",
       "  <tbody>\n",
       "    <tr>\n",
       "      <th>1472106222770972322</th>\n",
       "      <td>10</td>\n",
       "      <td>E</td>\n",
       "      <td>(i, l, k, m)</td>\n",
       "      <td>64.0</td>\n",
       "      <td>10444.0</td>\n",
       "      <td>-0.097089</td>\n",
       "      <td>6.819762</td>\n",
       "      <td>1</td>\n",
       "      <td>inf</td>\n",
       "    </tr>\n",
       "    <tr>\n",
       "      <th>-8759710075881808183</th>\n",
       "      <td>3</td>\n",
       "      <td>A</td>\n",
       "      <td>(m, l, i, j)</td>\n",
       "      <td>0.0</td>\n",
       "      <td>1.0</td>\n",
       "      <td>-1.557939</td>\n",
       "      <td>-0.677316</td>\n",
       "      <td>1</td>\n",
       "      <td>inf</td>\n",
       "    </tr>\n",
       "    <tr>\n",
       "      <th>2524840627078154993</th>\n",
       "      <td>1</td>\n",
       "      <td>A</td>\n",
       "      <td>(m, l, i, j)</td>\n",
       "      <td>0.0</td>\n",
       "      <td>3.0</td>\n",
       "      <td>-1.557939</td>\n",
       "      <td>-0.675880</td>\n",
       "      <td>1</td>\n",
       "      <td>inf</td>\n",
       "    </tr>\n",
       "    <tr>\n",
       "      <th>5712477236190665653</th>\n",
       "      <td>10</td>\n",
       "      <td>B</td>\n",
       "      <td>(l, m, i, j)</td>\n",
       "      <td>13.0</td>\n",
       "      <td>3417.0</td>\n",
       "      <td>-1.261204</td>\n",
       "      <td>1.775046</td>\n",
       "      <td>1</td>\n",
       "      <td>4.899793</td>\n",
       "    </tr>\n",
       "    <tr>\n",
       "      <th>3012188921196542691</th>\n",
       "      <td>10</td>\n",
       "      <td>B</td>\n",
       "      <td>(l, i, k, m)</td>\n",
       "      <td>22.0</td>\n",
       "      <td>7089.0</td>\n",
       "      <td>-1.055772</td>\n",
       "      <td>4.411192</td>\n",
       "      <td>1</td>\n",
       "      <td>4.269620</td>\n",
       "    </tr>\n",
       "    <tr>\n",
       "      <th>...</th>\n",
       "      <td>...</td>\n",
       "      <td>...</td>\n",
       "      <td>...</td>\n",
       "      <td>...</td>\n",
       "      <td>...</td>\n",
       "      <td>...</td>\n",
       "      <td>...</td>\n",
       "      <td>...</td>\n",
       "      <td>...</td>\n",
       "    </tr>\n",
       "    <tr>\n",
       "      <th>-3809405382912197103</th>\n",
       "      <td>10</td>\n",
       "      <td>A</td>\n",
       "      <td>(m, j, k, l)</td>\n",
       "      <td>172.0</td>\n",
       "      <td>2564.0</td>\n",
       "      <td>2.368095</td>\n",
       "      <td>1.162673</td>\n",
       "      <td>13</td>\n",
       "      <td>inf</td>\n",
       "    </tr>\n",
       "    <tr>\n",
       "      <th>-1090812876285543171</th>\n",
       "      <td>5</td>\n",
       "      <td>E</td>\n",
       "      <td>(l, j, m, k)</td>\n",
       "      <td>21.0</td>\n",
       "      <td>61.0</td>\n",
       "      <td>-1.078598</td>\n",
       "      <td>-0.634242</td>\n",
       "      <td>13</td>\n",
       "      <td>inf</td>\n",
       "    </tr>\n",
       "    <tr>\n",
       "      <th>-4981153807645682329</th>\n",
       "      <td>8</td>\n",
       "      <td>A</td>\n",
       "      <td>(l, k, j, i)</td>\n",
       "      <td>21.0</td>\n",
       "      <td>21.0</td>\n",
       "      <td>-1.078598</td>\n",
       "      <td>-0.662958</td>\n",
       "      <td>13</td>\n",
       "      <td>inf</td>\n",
       "    </tr>\n",
       "    <tr>\n",
       "      <th>-8094789215641451173</th>\n",
       "      <td>2</td>\n",
       "      <td>B</td>\n",
       "      <td>(m, j, k, l)</td>\n",
       "      <td>121.0</td>\n",
       "      <td>2447.0</td>\n",
       "      <td>1.203980</td>\n",
       "      <td>1.078679</td>\n",
       "      <td>13</td>\n",
       "      <td>1.248109</td>\n",
       "    </tr>\n",
       "    <tr>\n",
       "      <th>-1662125959884125652</th>\n",
       "      <td>5</td>\n",
       "      <td>E</td>\n",
       "      <td>(m, k, j, l)</td>\n",
       "      <td>94.0</td>\n",
       "      <td>1142.0</td>\n",
       "      <td>0.587684</td>\n",
       "      <td>0.141813</td>\n",
       "      <td>13</td>\n",
       "      <td>0.645472</td>\n",
       "    </tr>\n",
       "  </tbody>\n",
       "</table>\n",
       "<p>394 rows × 9 columns</p>\n",
       "</div>"
      ],
      "text/plain": [
       "                       x  y             z   time   profit  criteria0  \\\n",
       "id                                                                     \n",
       " 1472106222770972322  10  E  (i, l, k, m)   64.0  10444.0  -0.097089   \n",
       "-8759710075881808183   3  A  (m, l, i, j)    0.0      1.0  -1.557939   \n",
       " 2524840627078154993   1  A  (m, l, i, j)    0.0      3.0  -1.557939   \n",
       " 5712477236190665653  10  B  (l, m, i, j)   13.0   3417.0  -1.261204   \n",
       " 3012188921196542691  10  B  (l, i, k, m)   22.0   7089.0  -1.055772   \n",
       "...                   .. ..           ...    ...      ...        ...   \n",
       "-3809405382912197103  10  A  (m, j, k, l)  172.0   2564.0   2.368095   \n",
       "-1090812876285543171   5  E  (l, j, m, k)   21.0     61.0  -1.078598   \n",
       "-4981153807645682329   8  A  (l, k, j, i)   21.0     21.0  -1.078598   \n",
       "-8094789215641451173   2  B  (m, j, k, l)  121.0   2447.0   1.203980   \n",
       "-1662125959884125652   5  E  (m, k, j, l)   94.0   1142.0   0.587684   \n",
       "\n",
       "                      criteria1  front     crowd  \n",
       "id                                                \n",
       " 1472106222770972322   6.819762      1       inf  \n",
       "-8759710075881808183  -0.677316      1       inf  \n",
       " 2524840627078154993  -0.675880      1       inf  \n",
       " 5712477236190665653   1.775046      1  4.899793  \n",
       " 3012188921196542691   4.411192      1  4.269620  \n",
       "...                         ...    ...       ...  \n",
       "-3809405382912197103   1.162673     13       inf  \n",
       "-1090812876285543171  -0.634242     13       inf  \n",
       "-4981153807645682329  -0.662958     13       inf  \n",
       "-8094789215641451173   1.078679     13  1.248109  \n",
       "-1662125959884125652   0.141813     13  0.645472  \n",
       "\n",
       "[394 rows x 9 columns]"
      ]
     },
     "execution_count": 43,
     "metadata": {},
     "output_type": "execute_result"
    }
   ],
   "source": [
    "newpop.datasets.fitness"
   ]
  },
  {
   "cell_type": "code",
   "execution_count": 44,
   "metadata": {},
   "outputs": [],
   "source": [
    "newpop.reproduce.tournament(n_children=len(newpop)/2)"
   ]
  },
  {
   "cell_type": "code",
   "execution_count": 45,
   "metadata": {},
   "outputs": [],
   "source": [
    "newpop.reproduce.elitism()"
   ]
  },
  {
   "cell_type": "code",
   "execution_count": 46,
   "metadata": {},
   "outputs": [
    {
     "data": {
      "text/plain": [
       "Population with 678 Creatures with genes x (numeric), y (categorical), z (vectorial).\n",
       "        "
      ]
     },
     "execution_count": 46,
     "metadata": {},
     "output_type": "execute_result"
    }
   ],
   "source": [
    "newpop"
   ]
  },
  {
   "cell_type": "code",
   "execution_count": 47,
   "metadata": {},
   "outputs": [],
   "source": [
    "env.simulate(newpop)"
   ]
  },
  {
   "cell_type": "code",
   "execution_count": 48,
   "metadata": {},
   "outputs": [],
   "source": [
    "newpop.apply_fitness.multi_objective.pareto(outputs=['time', 'profit'], objectives=['min', 'max'])"
   ]
  },
  {
   "cell_type": "code",
   "execution_count": 49,
   "metadata": {},
   "outputs": [
    {
     "data": {
      "text/html": [
       "<div>\n",
       "<style scoped>\n",
       "    .dataframe tbody tr th:only-of-type {\n",
       "        vertical-align: middle;\n",
       "    }\n",
       "\n",
       "    .dataframe tbody tr th {\n",
       "        vertical-align: top;\n",
       "    }\n",
       "\n",
       "    .dataframe thead th {\n",
       "        text-align: right;\n",
       "    }\n",
       "</style>\n",
       "<table border=\"1\" class=\"dataframe\">\n",
       "  <thead>\n",
       "    <tr style=\"text-align: right;\">\n",
       "      <th></th>\n",
       "      <th>x</th>\n",
       "      <th>y</th>\n",
       "      <th>z</th>\n",
       "      <th>time</th>\n",
       "      <th>profit</th>\n",
       "      <th>criteria0</th>\n",
       "      <th>criteria1</th>\n",
       "      <th>front</th>\n",
       "      <th>crowd</th>\n",
       "    </tr>\n",
       "    <tr>\n",
       "      <th>id</th>\n",
       "      <th></th>\n",
       "      <th></th>\n",
       "      <th></th>\n",
       "      <th></th>\n",
       "      <th></th>\n",
       "      <th></th>\n",
       "      <th></th>\n",
       "      <th></th>\n",
       "      <th></th>\n",
       "    </tr>\n",
       "  </thead>\n",
       "  <tbody>\n",
       "    <tr>\n",
       "      <th>1472106222770972322</th>\n",
       "      <td>10</td>\n",
       "      <td>E</td>\n",
       "      <td>(i, l, k, m)</td>\n",
       "      <td>64.0</td>\n",
       "      <td>10444.0</td>\n",
       "      <td>0.416245</td>\n",
       "      <td>4.635365</td>\n",
       "      <td>1</td>\n",
       "      <td>inf</td>\n",
       "    </tr>\n",
       "    <tr>\n",
       "      <th>-8759710075881808183</th>\n",
       "      <td>3</td>\n",
       "      <td>A</td>\n",
       "      <td>(m, l, i, j)</td>\n",
       "      <td>0.0</td>\n",
       "      <td>1.0</td>\n",
       "      <td>-1.292524</td>\n",
       "      <td>-0.759168</td>\n",
       "      <td>1</td>\n",
       "      <td>inf</td>\n",
       "    </tr>\n",
       "    <tr>\n",
       "      <th>7371714090830683871</th>\n",
       "      <td>10</td>\n",
       "      <td>B</td>\n",
       "      <td>(l, m, k, i)</td>\n",
       "      <td>0.0</td>\n",
       "      <td>429.0</td>\n",
       "      <td>-1.292524</td>\n",
       "      <td>-0.538076</td>\n",
       "      <td>1</td>\n",
       "      <td>inf</td>\n",
       "    </tr>\n",
       "    <tr>\n",
       "      <th>3012188921196542691</th>\n",
       "      <td>10</td>\n",
       "      <td>B</td>\n",
       "      <td>(l, i, k, m)</td>\n",
       "      <td>22.0</td>\n",
       "      <td>7089.0</td>\n",
       "      <td>-0.705135</td>\n",
       "      <td>2.902275</td>\n",
       "      <td>1</td>\n",
       "      <td>3.205788</td>\n",
       "    </tr>\n",
       "    <tr>\n",
       "      <th>5712477236190665653</th>\n",
       "      <td>10</td>\n",
       "      <td>B</td>\n",
       "      <td>(l, m, i, j)</td>\n",
       "      <td>13.0</td>\n",
       "      <td>3417.0</td>\n",
       "      <td>-0.945431</td>\n",
       "      <td>1.005433</td>\n",
       "      <td>1</td>\n",
       "      <td>2.789950</td>\n",
       "    </tr>\n",
       "    <tr>\n",
       "      <th>...</th>\n",
       "      <td>...</td>\n",
       "      <td>...</td>\n",
       "      <td>...</td>\n",
       "      <td>...</td>\n",
       "      <td>...</td>\n",
       "      <td>...</td>\n",
       "      <td>...</td>\n",
       "      <td>...</td>\n",
       "      <td>...</td>\n",
       "    </tr>\n",
       "    <tr>\n",
       "      <th>-7576880077780931238</th>\n",
       "      <td>5</td>\n",
       "      <td>D</td>\n",
       "      <td>(k, j, m, i)</td>\n",
       "      <td>13.0</td>\n",
       "      <td>79.0</td>\n",
       "      <td>-0.945431</td>\n",
       "      <td>-0.718876</td>\n",
       "      <td>10</td>\n",
       "      <td>0.000517</td>\n",
       "    </tr>\n",
       "    <tr>\n",
       "      <th>7951810026436150447</th>\n",
       "      <td>1</td>\n",
       "      <td>C</td>\n",
       "      <td>(l, m, i, j)</td>\n",
       "      <td>20.0</td>\n",
       "      <td>289.0</td>\n",
       "      <td>-0.758534</td>\n",
       "      <td>-0.610396</td>\n",
       "      <td>10</td>\n",
       "      <td>0.000517</td>\n",
       "    </tr>\n",
       "    <tr>\n",
       "      <th>-5856060138090699817</th>\n",
       "      <td>2</td>\n",
       "      <td>C</td>\n",
       "      <td>(i, k, m, l)</td>\n",
       "      <td>29.0</td>\n",
       "      <td>271.0</td>\n",
       "      <td>-0.518238</td>\n",
       "      <td>-0.619694</td>\n",
       "      <td>10</td>\n",
       "      <td>0.000517</td>\n",
       "    </tr>\n",
       "    <tr>\n",
       "      <th>3353269339503673647</th>\n",
       "      <td>7</td>\n",
       "      <td>C</td>\n",
       "      <td>(k, j, m, i)</td>\n",
       "      <td>12.0</td>\n",
       "      <td>65.0</td>\n",
       "      <td>-0.972130</td>\n",
       "      <td>-0.726107</td>\n",
       "      <td>10</td>\n",
       "      <td>0.000000</td>\n",
       "    </tr>\n",
       "    <tr>\n",
       "      <th>3330485505693625911</th>\n",
       "      <td>2</td>\n",
       "      <td>D</td>\n",
       "      <td>(j, m, k, l)</td>\n",
       "      <td>31.0</td>\n",
       "      <td>273.0</td>\n",
       "      <td>-0.464839</td>\n",
       "      <td>-0.618661</td>\n",
       "      <td>10</td>\n",
       "      <td>0.000000</td>\n",
       "    </tr>\n",
       "  </tbody>\n",
       "</table>\n",
       "<p>678 rows × 9 columns</p>\n",
       "</div>"
      ],
      "text/plain": [
       "                       x  y             z  time   profit  criteria0  \\\n",
       "id                                                                    \n",
       " 1472106222770972322  10  E  (i, l, k, m)  64.0  10444.0   0.416245   \n",
       "-8759710075881808183   3  A  (m, l, i, j)   0.0      1.0  -1.292524   \n",
       " 7371714090830683871  10  B  (l, m, k, i)   0.0    429.0  -1.292524   \n",
       " 3012188921196542691  10  B  (l, i, k, m)  22.0   7089.0  -0.705135   \n",
       " 5712477236190665653  10  B  (l, m, i, j)  13.0   3417.0  -0.945431   \n",
       "...                   .. ..           ...   ...      ...        ...   \n",
       "-7576880077780931238   5  D  (k, j, m, i)  13.0     79.0  -0.945431   \n",
       " 7951810026436150447   1  C  (l, m, i, j)  20.0    289.0  -0.758534   \n",
       "-5856060138090699817   2  C  (i, k, m, l)  29.0    271.0  -0.518238   \n",
       " 3353269339503673647   7  C  (k, j, m, i)  12.0     65.0  -0.972130   \n",
       " 3330485505693625911   2  D  (j, m, k, l)  31.0    273.0  -0.464839   \n",
       "\n",
       "                      criteria1  front     crowd  \n",
       "id                                                \n",
       " 1472106222770972322   4.635365      1       inf  \n",
       "-8759710075881808183  -0.759168      1       inf  \n",
       " 7371714090830683871  -0.538076      1       inf  \n",
       " 3012188921196542691   2.902275      1  3.205788  \n",
       " 5712477236190665653   1.005433      1  2.789950  \n",
       "...                         ...    ...       ...  \n",
       "-7576880077780931238  -0.718876     10  0.000517  \n",
       " 7951810026436150447  -0.610396     10  0.000517  \n",
       "-5856060138090699817  -0.619694     10  0.000517  \n",
       " 3353269339503673647  -0.726107     10  0.000000  \n",
       " 3330485505693625911  -0.618661     10  0.000000  \n",
       "\n",
       "[678 rows x 9 columns]"
      ]
     },
     "execution_count": 49,
     "metadata": {},
     "output_type": "execute_result"
    }
   ],
   "source": [
    "newpop.datasets.fitness"
   ]
  },
  {
   "cell_type": "code",
   "execution_count": 50,
   "metadata": {},
   "outputs": [
    {
     "data": {
      "image/png": "[encoded data removed]",
      "text/plain": [
       "<Figure size 432x288 with 2 Axes>"
      ]
     },
     "metadata": {
      "needs_background": "light"
     },
     "output_type": "display_data"
    }
   ],
   "source": [
    "ax = pareto_objective_pop.plot.fronts('time', 'profit', 1, show_worst=True)"
   ]
  },
  {
   "cell_type": "code",
   "execution_count": 51,
   "metadata": {},
   "outputs": [
    {
     "data": {
      "image/png": "[encoded data removed]",
      "text/plain": [
       "<Figure size 432x288 with 2 Axes>"
      ]
     },
     "metadata": {
      "needs_background": "light"
     },
     "output_type": "display_data"
    }
   ],
   "source": [
    "ax = newpop.plot.fronts('time', 'profit', 1, show_worst=True)"
   ]
  }
 ],
 "metadata": {
  "kernelspec": {
   "display_name": "Lamarck (dev)",
   "language": "python",
   "name": "lamarck-dev"
  },
  "language_info": {
   "codemirror_mode": {
    "name": "ipython",
    "version": 3
   },
   "file_extension": ".py",
   "mimetype": "text/x-python",
   "name": "python",
   "nbconvert_exporter": "python",
   "pygments_lexer": "ipython3",
   "version": "3.9.3"
  }
 },
 "nbformat": 4,
 "nbformat_minor": 4
}
