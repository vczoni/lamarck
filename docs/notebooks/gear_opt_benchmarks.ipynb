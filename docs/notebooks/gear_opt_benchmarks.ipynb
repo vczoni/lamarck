{
 "cells": [
  {
   "cell_type": "markdown",
   "metadata": {},
   "source": [
    "# Mini process example - gear optimization"
   ]
  },
  {
   "cell_type": "code",
   "execution_count": 1,
   "metadata": {},
   "outputs": [],
   "source": [
    "import sys\n",
    "import numpy as np\n",
    "import pandas as pd\n",
    "sys.path.append('../..')"
   ]
  },
  {
   "cell_type": "code",
   "execution_count": 2,
   "metadata": {},
   "outputs": [],
   "source": [
    "from tqdm import tqdm\n",
    "from supergear import SuperGear, calculate_R"
   ]
  },
  {
   "cell_type": "code",
   "execution_count": 3,
   "metadata": {},
   "outputs": [],
   "source": [
    "from lamarck.assistant import GenomeCreator\n",
    "from lamarck.assistant import PopulationCreator\n",
    "from lamarck import Environment"
   ]
  },
  {
   "cell_type": "markdown",
   "metadata": {},
   "source": [
    "# Setup"
   ]
  },
  {
   "cell_type": "markdown",
   "metadata": {},
   "source": [
    "#### Process"
   ]
  },
  {
   "cell_type": "code",
   "execution_count": 4,
   "metadata": {},
   "outputs": [],
   "source": [
    "def compute_gear(z1i, z1o, di, do):\n",
    "    z3i = z1i + di\n",
    "    z3o = z1o + do\n",
    "    gear = SuperGear(1)\n",
    "    gear.set_gears(z1i, z3i, z1o, z3o)\n",
    "    return {\n",
    "        'R': abs(gear.R),\n",
    "        'DiameterRatio': max(z3i/z3o, z3o/z3i),\n",
    "        'Diameter': max(z3i, z3o),\n",
    "        'MaxSatellites': min([n for n in gear.n_possible_satellites().values()])\n",
    "    }"
   ]
  },
  {
   "cell_type": "markdown",
   "metadata": {},
   "source": [
    "#### Optimization Function"
   ]
  },
  {
   "cell_type": "code",
   "execution_count": 5,
   "metadata": {},
   "outputs": [],
   "source": [
    "def optimize_pareto(process,\n",
    "                    pop,\n",
    "                    outputs,\n",
    "                    objectives,\n",
    "                    peek_var,\n",
    "                    n_generations,\n",
    "                    n_dispute,\n",
    "                    p_elitism=0,\n",
    "                    p_mutation=0.03,\n",
    "                    multi=True):\n",
    "    # Population\n",
    "    pop = pop.copy()\n",
    "    pop.apply_fitness.add_constraint.less_or_equal('Diameter', 200)\n",
    "    pop.apply_fitness.add_constraint.greater_than('R', 0)\n",
    "    pop.apply_fitness.add_constraint.greater_than('MaxSatellites', 1)\n",
    "    \n",
    "    # Environment\n",
    "    env = Environment()\n",
    "    env.config.set_multi(multi)\n",
    "    env.config.set_process(process)\n",
    "    \n",
    "    # Optimization\n",
    "    pbar = tqdm(range(n_generations))\n",
    "    peek = 0\n",
    "    for i in pbar:\n",
    "        pbar.set_description(f'[max: {peek}] Simulating...')\n",
    "        env.simulate(pop)\n",
    "        peek = round(pop.datasets.output[peek_var].max(), 2)\n",
    "        pbar.set_description(f'[max: {peek}] Applying Fitness Criteria...')\n",
    "        pop.apply_fitness.multi_objective.pareto(outputs, objectives=objectives)\n",
    "        if i < n_generations:\n",
    "            pbar.set_description(f'[max: {peek}] Selecting...')\n",
    "            pop.select()\n",
    "            pbar.set_description(f'[max: {peek}] Generating Offspring...')\n",
    "            pop.reproduce.mutate(p_mutation)\n",
    "            if p_elitism == 0:\n",
    "                pop.reproduce.tournament(n_dispute=n_dispute)\n",
    "            else:\n",
    "                n_tournament_children = len(pop) * (1-p_elitism)\n",
    "                n_elite_children = len(pop) * (p_elitism)\n",
    "                pop.reproduce.tournament(n_dispute=n_dispute, n_children=n_tournament_children)\n",
    "                pop.reproduce.elitism(n_children=n_elite_children)\n",
    "    return pop"
   ]
  },
  {
   "cell_type": "markdown",
   "metadata": {},
   "source": [
    "#### Genome Creation"
   ]
  },
  {
   "cell_type": "code",
   "execution_count": 6,
   "metadata": {},
   "outputs": [],
   "source": [
    "genome_creator = GenomeCreator()\n",
    "\n",
    "genome_creator.add_gene_specs.numeric(name='z1i',\n",
    "                                      min=20,\n",
    "                                      max=80,\n",
    "                                      progression='linear',\n",
    "                                      domain='int')\n",
    "\n",
    "genome_creator.add_gene_specs.numeric(name='z1o',\n",
    "                                      min=20,\n",
    "                                      max=80,\n",
    "                                      progression='linear',\n",
    "                                      domain='int')\n",
    "\n",
    "genome_creator.add_gene_specs.numeric(name='di',\n",
    "                                      min=30,\n",
    "                                      max=200,\n",
    "                                      progression='linear',\n",
    "                                      domain='int')\n",
    "\n",
    "genome_creator.add_gene_specs.numeric(name='do',\n",
    "                                      min=30,\n",
    "                                      max=200,\n",
    "                                      progression='linear',\n",
    "                                      domain='int')\n",
    "\n",
    "genome_blueprint = genome_creator.get_genome_blueprint()"
   ]
  },
  {
   "cell_type": "markdown",
   "metadata": {},
   "source": [
    "# Process Benchmarks"
   ]
  },
  {
   "cell_type": "code",
   "execution_count": 7,
   "metadata": {},
   "outputs": [],
   "source": [
    "outputs = ['R', 'DiameterRatio', 'Diameter']\n",
    "objectives = ['max', 'min', 'min']\n",
    "n_generations = 50"
   ]
  },
  {
   "cell_type": "markdown",
   "metadata": {},
   "source": [
    "#### Population"
   ]
  },
  {
   "cell_type": "code",
   "execution_count": 8,
   "metadata": {},
   "outputs": [],
   "source": [
    "ndet=7\n",
    "nrand=2000"
   ]
  },
  {
   "cell_type": "code",
   "execution_count": 9,
   "metadata": {},
   "outputs": [],
   "source": [
    "pop_creator = PopulationCreator(genome_blueprint)\n",
    "pop = pop_creator.create.det(ndet) + pop_creator.create.rand(nrand)\n",
    "pop.define()"
   ]
  },
  {
   "cell_type": "markdown",
   "metadata": {},
   "source": [
    "#### Serial"
   ]
  },
  {
   "cell_type": "code",
   "execution_count": 10,
   "metadata": {},
   "outputs": [
    {
     "name": "stderr",
     "output_type": "stream",
     "text": [
      "[max: 17135.0] Generating Offspring...: 100%|██████████| 50/50 [03:50<00:00,  4.62s/it]     \n"
     ]
    }
   ],
   "source": [
    "serial_pop = optimize_pareto(process=compute_gear,\n",
    "                             pop=pop,\n",
    "                             outputs=outputs,\n",
    "                             objectives=objectives,\n",
    "                             peek_var='R',\n",
    "                             n_generations=n_generations,\n",
    "                             n_dispute=2,\n",
    "                             p_elitism=0,\n",
    "                             multi=False)"
   ]
  },
  {
   "cell_type": "code",
   "execution_count": 11,
   "metadata": {},
   "outputs": [
    {
     "data": {
      "text/plain": [
       "<AxesSubplot:xlabel='generation', ylabel='R'>"
      ]
     },
     "execution_count": 11,
     "metadata": {},
     "output_type": "execute_result"
    },
    {
     "data": {
      "image/png": "[encoded data removed]",
      "text/plain": [
       "<Figure size 432x288 with 1 Axes>"
      ]
     },
     "metadata": {
      "needs_background": "light"
     },
     "output_type": "display_data"
    },
    {
     "data": {
      "image/png": "[encoded data removed]",
      "text/plain": [
       "<Figure size 432x288 with 1 Axes>"
      ]
     },
     "metadata": {
      "needs_background": "light"
     },
     "output_type": "display_data"
    }
   ],
   "source": [
    "serial_pop.plot.history('R', max)\n",
    "serial_pop.plot.history('R', 'mean')"
   ]
  },
  {
   "cell_type": "markdown",
   "metadata": {},
   "source": [
    "#### Multi-Thread"
   ]
  },
  {
   "cell_type": "code",
   "execution_count": 12,
   "metadata": {},
   "outputs": [
    {
     "name": "stderr",
     "output_type": "stream",
     "text": [
      "[max: 27784.0] Generating Offspring...: 100%|██████████| 50/50 [04:03<00:00,  4.86s/it]     \n"
     ]
    }
   ],
   "source": [
    "multi_pop = optimize_pareto(process=compute_gear,\n",
    "                            pop=pop,\n",
    "                            outputs=outputs,\n",
    "                            objectives=objectives,\n",
    "                            peek_var='R',\n",
    "                            n_generations=n_generations,\n",
    "                            n_dispute=2,\n",
    "                            p_elitism=0,\n",
    "                            multi=True)"
   ]
  },
  {
   "cell_type": "code",
   "execution_count": 13,
   "metadata": {},
   "outputs": [
    {
     "data": {
      "text/plain": [
       "<AxesSubplot:xlabel='generation', ylabel='R'>"
      ]
     },
     "execution_count": 13,
     "metadata": {},
     "output_type": "execute_result"
    },
    {
     "data": {
      "image/png": "[encoded data removed]",
      "text/plain": [
       "<Figure size 432x288 with 1 Axes>"
      ]
     },
     "metadata": {
      "needs_background": "light"
     },
     "output_type": "display_data"
    },
    {
     "data": {
      "image/png": "[encoded data removed]",
      "text/plain": [
       "<Figure size 432x288 with 1 Axes>"
      ]
     },
     "metadata": {
      "needs_background": "light"
     },
     "output_type": "display_data"
    }
   ],
   "source": [
    "multi_pop.plot.history('R', max)\n",
    "multi_pop.plot.history('R', 'mean')"
   ]
  },
  {
   "cell_type": "markdown",
   "metadata": {},
   "source": [
    "#### n_dispute = 4"
   ]
  },
  {
   "cell_type": "code",
   "execution_count": 14,
   "metadata": {},
   "outputs": [
    {
     "name": "stderr",
     "output_type": "stream",
     "text": [
      "[max: 16899.0] Generating Offspring...: 100%|██████████| 50/50 [03:55<00:00,  4.71s/it]     \n"
     ]
    }
   ],
   "source": [
    "dispute_pop = optimize_pareto(process=compute_gear,\n",
    "                              pop=pop,\n",
    "                              outputs=outputs,\n",
    "                              objectives=objectives,\n",
    "                              peek_var='R',\n",
    "                              n_generations=n_generations,\n",
    "                              n_dispute=4,\n",
    "                              p_elitism=0,\n",
    "                              multi=True)"
   ]
  },
  {
   "cell_type": "code",
   "execution_count": 15,
   "metadata": {},
   "outputs": [
    {
     "data": {
      "text/plain": [
       "<AxesSubplot:xlabel='generation', ylabel='R'>"
      ]
     },
     "execution_count": 15,
     "metadata": {},
     "output_type": "execute_result"
    },
    {
     "data": {
      "image/png": "[encoded data removed]",
      "text/plain": [
       "<Figure size 432x288 with 1 Axes>"
      ]
     },
     "metadata": {
      "needs_background": "light"
     },
     "output_type": "display_data"
    },
    {
     "data": {
      "image/png": "[encoded data removed]",
      "text/plain": [
       "<Figure size 432x288 with 1 Axes>"
      ]
     },
     "metadata": {
      "needs_background": "light"
     },
     "output_type": "display_data"
    }
   ],
   "source": [
    "dispute_pop.plot.history('R', max)\n",
    "dispute_pop.plot.history('R', 'mean')"
   ]
  },
  {
   "cell_type": "markdown",
   "metadata": {},
   "source": [
    "#### Half Elitism"
   ]
  },
  {
   "cell_type": "code",
   "execution_count": 16,
   "metadata": {},
   "outputs": [
    {
     "name": "stderr",
     "output_type": "stream",
     "text": [
      "[max: 13720.0] Generating Offspring...:   0%|          | 0/50 [00:02<?, ?it/s]     Exception ignored in: <generator object generate_elite_parent_pair at 0x7f0a449bc580>\n",
      "Traceback (most recent call last):\n",
      "  File \"<ipython-input-5-6bacb2b482a2>\", line 42, in optimize_pareto\n",
      "RuntimeError: generator ignored GeneratorExit\n",
      "[max: 6500.0] Generating Offspring...:   2%|▏         | 1/50 [00:07<03:10,  3.89s/it]     Exception ignored in: <generator object generate_elite_parent_pair at 0x7f0a449bc580>\n",
      "Traceback (most recent call last):\n",
      "  File \"<ipython-input-5-6bacb2b482a2>\", line 42, in optimize_pareto\n",
      "RuntimeError: generator ignored GeneratorExit\n",
      "[max: 8378.0] Generating Offspring...:   4%|▍         | 2/50 [00:17<04:44,  5.92s/it]     Exception ignored in: <generator object generate_elite_parent_pair at 0x7f0a449bc580>\n",
      "Traceback (most recent call last):\n",
      "  File \"<ipython-input-5-6bacb2b482a2>\", line 42, in optimize_pareto\n",
      "RuntimeError: generator ignored GeneratorExit\n",
      "[max: 8509.5] Generating Offspring...:   6%|▌         | 3/50 [00:26<06:00,  7.67s/it]     Exception ignored in: <generator object generate_elite_parent_pair at 0x7f0a449bc580>\n",
      "Traceback (most recent call last):\n",
      "  File \"<ipython-input-5-6bacb2b482a2>\", line 42, in optimize_pareto\n",
      "RuntimeError: generator ignored GeneratorExit\n",
      "[max: 21944.0] Generating Offspring...:   8%|▊         | 4/50 [00:35<06:21,  8.28s/it]     Exception ignored in: <generator object generate_elite_parent_pair at 0x7f0a449bcba0>\n",
      "Traceback (most recent call last):\n",
      "  File \"<ipython-input-5-6bacb2b482a2>\", line 42, in optimize_pareto\n",
      "RuntimeError: generator ignored GeneratorExit\n",
      "[max: 8509.5] Generating Offspring...:  10%|█         | 5/50 [00:44<06:25,  8.56s/it]     Exception ignored in: <generator object generate_elite_parent_pair at 0x7f0a449bcba0>\n",
      "Traceback (most recent call last):\n",
      "  File \"<ipython-input-5-6bacb2b482a2>\", line 42, in optimize_pareto\n",
      "RuntimeError: generator ignored GeneratorExit\n",
      "[max: 8509.5] Generating Offspring...:  12%|█▏        | 6/50 [00:53<06:24,  8.73s/it]     Exception ignored in: <generator object generate_elite_parent_pair at 0x7f0a449bcba0>\n",
      "Traceback (most recent call last):\n",
      "  File \"<ipython-input-5-6bacb2b482a2>\", line 42, in optimize_pareto\n",
      "RuntimeError: generator ignored GeneratorExit\n",
      "[max: 13651.0] Generating Offspring...:  14%|█▍        | 7/50 [01:02<06:16,  8.76s/it]     Exception ignored in: <generator object generate_elite_parent_pair at 0x7f0a449bc5f0>\n",
      "Traceback (most recent call last):\n",
      "  File \"<ipython-input-5-6bacb2b482a2>\", line 42, in optimize_pareto\n",
      "RuntimeError: generator ignored GeneratorExit\n",
      "[max: 15129.0] Generating Offspring...:  16%|█▌        | 8/50 [01:10<06:06,  8.72s/it]     Exception ignored in: <generator object generate_elite_parent_pair at 0x7f0a449bcd60>\n",
      "Traceback (most recent call last):\n",
      "  File \"<ipython-input-5-6bacb2b482a2>\", line 42, in optimize_pareto\n",
      "RuntimeError: generator ignored GeneratorExit\n",
      "[max: 15129.0] Generating Offspring...:  18%|█▊        | 9/50 [01:19<05:56,  8.69s/it]     Exception ignored in: <generator object generate_elite_parent_pair at 0x7f0a449bcd60>\n",
      "Traceback (most recent call last):\n",
      "  File \"<ipython-input-5-6bacb2b482a2>\", line 42, in optimize_pareto\n",
      "RuntimeError: generator ignored GeneratorExit\n",
      "[max: 15129.0] Generating Offspring...:  20%|██        | 10/50 [01:27<05:45,  8.63s/it]     Exception ignored in: <generator object generate_elite_parent_pair at 0x7f0a449bcd60>\n",
      "Traceback (most recent call last):\n",
      "  File \"<ipython-input-5-6bacb2b482a2>\", line 42, in optimize_pareto\n",
      "RuntimeError: generator ignored GeneratorExit\n",
      "[max: 15129.0] Generating Offspring...:  22%|██▏       | 11/50 [01:36<05:33,  8.54s/it]     Exception ignored in: <generator object generate_elite_parent_pair at 0x7f0a449bc7b0>\n",
      "Traceback (most recent call last):\n",
      "  File \"<ipython-input-5-6bacb2b482a2>\", line 42, in optimize_pareto\n",
      "RuntimeError: generator ignored GeneratorExit\n",
      "[max: 33824.0] Generating Offspring...:  24%|██▍       | 12/50 [01:44<05:24,  8.55s/it]     Exception ignored in: <generator object generate_elite_parent_pair at 0x7f0a449bcba0>\n",
      "Traceback (most recent call last):\n",
      "  File \"<ipython-input-5-6bacb2b482a2>\", line 42, in optimize_pareto\n",
      "RuntimeError: generator ignored GeneratorExit\n",
      "[max: 33824.0] Generating Offspring...:  26%|██▌       | 13/50 [01:52<05:12,  8.44s/it]     Exception ignored in: <generator object generate_elite_parent_pair at 0x7f0a449bcba0>\n",
      "Traceback (most recent call last):\n",
      "  File \"<ipython-input-5-6bacb2b482a2>\", line 42, in optimize_pareto\n",
      "RuntimeError: generator ignored GeneratorExit\n",
      "[max: 33824.0] Generating Offspring...:  28%|██▊       | 14/50 [02:01<05:02,  8.41s/it]     Exception ignored in: <generator object generate_elite_parent_pair at 0x7f0a449bcba0>\n",
      "Traceback (most recent call last):\n",
      "  File \"<ipython-input-5-6bacb2b482a2>\", line 42, in optimize_pareto\n",
      "RuntimeError: generator ignored GeneratorExit\n",
      "[max: 33824.0] Generating Offspring...:  30%|███       | 15/50 [02:09<04:57,  8.50s/it]     Exception ignored in: <generator object generate_elite_parent_pair at 0x7f0a449bcba0>\n",
      "Traceback (most recent call last):\n",
      "  File \"<ipython-input-5-6bacb2b482a2>\", line 42, in optimize_pareto\n",
      "RuntimeError: generator ignored GeneratorExit\n",
      "[max: 33824.0] Generating Offspring...:  32%|███▏      | 16/50 [02:17<04:47,  8.45s/it]     Exception ignored in: <generator object generate_elite_parent_pair at 0x7f0a449bcba0>\n",
      "Traceback (most recent call last):\n",
      "  File \"<ipython-input-5-6bacb2b482a2>\", line 42, in optimize_pareto\n",
      "RuntimeError: generator ignored GeneratorExit\n",
      "[max: 33824.0] Generating Offspring...:  34%|███▍      | 17/50 [02:26<04:36,  8.39s/it]     Exception ignored in: <generator object generate_elite_parent_pair at 0x7f0a449bcd60>\n",
      "Traceback (most recent call last):\n",
      "  File \"<ipython-input-5-6bacb2b482a2>\", line 42, in optimize_pareto\n",
      "RuntimeError: generator ignored GeneratorExit\n",
      "[max: 33824.0] Generating Offspring...:  36%|███▌      | 18/50 [02:34<04:27,  8.34s/it]     Exception ignored in: <generator object generate_elite_parent_pair at 0x7f0a449bc7b0>\n",
      "Traceback (most recent call last):\n",
      "  File \"<ipython-input-5-6bacb2b482a2>\", line 42, in optimize_pareto\n",
      "RuntimeError: generator ignored GeneratorExit\n",
      "[max: 33824.0] Generating Offspring...:  38%|███▊      | 19/50 [02:42<04:19,  8.37s/it]     Exception ignored in: <generator object generate_elite_parent_pair at 0x7f0a449bc7b0>\n",
      "Traceback (most recent call last):\n",
      "  File \"<ipython-input-5-6bacb2b482a2>\", line 42, in optimize_pareto\n",
      "RuntimeError: generator ignored GeneratorExit\n",
      "[max: 33824.0] Generating Offspring...:  40%|████      | 20/50 [02:51<04:12,  8.42s/it]     Exception ignored in: <generator object generate_elite_parent_pair at 0x7f0a449bcf20>\n",
      "Traceback (most recent call last):\n",
      "  File \"<ipython-input-5-6bacb2b482a2>\", line 42, in optimize_pareto\n",
      "RuntimeError: generator ignored GeneratorExit\n",
      "[max: 33824.0] Generating Offspring...:  42%|████▏     | 21/50 [02:59<04:00,  8.31s/it]     Exception ignored in: <generator object generate_elite_parent_pair at 0x7f0a449bcf20>\n",
      "Traceback (most recent call last):\n",
      "  File \"<ipython-input-5-6bacb2b482a2>\", line 42, in optimize_pareto\n",
      "RuntimeError: generator ignored GeneratorExit\n",
      "[max: 33824.0] Generating Offspring...:  44%|████▍     | 22/50 [03:07<03:50,  8.24s/it]     Exception ignored in: <generator object generate_elite_parent_pair at 0x7f0a449bc580>\n",
      "Traceback (most recent call last):\n",
      "  File \"<ipython-input-5-6bacb2b482a2>\", line 42, in optimize_pareto\n",
      "RuntimeError: generator ignored GeneratorExit\n",
      "[max: 33824.0] Generating Offspring...:  46%|████▌     | 23/50 [03:15<03:42,  8.23s/it]     Exception ignored in: <generator object generate_elite_parent_pair at 0x7f0a449bc580>\n",
      "Traceback (most recent call last):\n",
      "  File \"<ipython-input-5-6bacb2b482a2>\", line 42, in optimize_pareto\n",
      "RuntimeError: generator ignored GeneratorExit\n",
      "[max: 33824.0] Generating Offspring...:  48%|████▊     | 24/50 [03:23<03:34,  8.24s/it]     Exception ignored in: <generator object generate_elite_parent_pair at 0x7f0a449bc580>\n",
      "Traceback (most recent call last):\n",
      "  File \"<ipython-input-5-6bacb2b482a2>\", line 42, in optimize_pareto\n",
      "RuntimeError: generator ignored GeneratorExit\n",
      "[max: 33824.0] Generating Offspring...:  50%|█████     | 25/50 [03:31<03:23,  8.13s/it]     Exception ignored in: <generator object generate_elite_parent_pair at 0x7f0a449bc5f0>\n",
      "Traceback (most recent call last):\n",
      "  File \"<ipython-input-5-6bacb2b482a2>\", line 42, in optimize_pareto\n",
      "RuntimeError: generator ignored GeneratorExit\n",
      "[max: 33824.0] Generating Offspring...:  52%|█████▏    | 26/50 [03:39<03:15,  8.13s/it]     Exception ignored in: <generator object generate_elite_parent_pair at 0x7f0a449bceb0>\n",
      "Traceback (most recent call last):\n",
      "  File \"<ipython-input-5-6bacb2b482a2>\", line 42, in optimize_pareto\n",
      "RuntimeError: generator ignored GeneratorExit\n",
      "[max: 33824.0] Generating Offspring...:  54%|█████▍    | 27/50 [03:47<03:06,  8.10s/it]     Exception ignored in: <generator object generate_elite_parent_pair at 0x7f0a449bcf20>\n",
      "Traceback (most recent call last):\n",
      "  File \"<ipython-input-5-6bacb2b482a2>\", line 42, in optimize_pareto\n",
      "RuntimeError: generator ignored GeneratorExit\n",
      "[max: 33824.0] Generating Offspring...:  56%|█████▌    | 28/50 [03:55<03:00,  8.18s/it]     Exception ignored in: <generator object generate_elite_parent_pair at 0x7f0a449bcf20>\n",
      "Traceback (most recent call last):\n",
      "  File \"<ipython-input-5-6bacb2b482a2>\", line 42, in optimize_pareto\n",
      "RuntimeError: generator ignored GeneratorExit\n",
      "[max: 33824.0] Generating Offspring...:  58%|█████▊    | 29/50 [04:03<02:49,  8.05s/it]     Exception ignored in: <generator object generate_elite_parent_pair at 0x7f0a449bcf20>\n",
      "Traceback (most recent call last):\n",
      "  File \"<ipython-input-5-6bacb2b482a2>\", line 42, in optimize_pareto\n",
      "RuntimeError: generator ignored GeneratorExit\n",
      "[max: 33824.0] Generating Offspring...:  60%|██████    | 30/50 [04:11<02:40,  8.00s/it]     Exception ignored in: <generator object generate_elite_parent_pair at 0x7f0a449bc7b0>\n",
      "Traceback (most recent call last):\n",
      "  File \"<ipython-input-5-6bacb2b482a2>\", line 42, in optimize_pareto\n",
      "RuntimeError: generator ignored GeneratorExit\n",
      "[max: 33824.0] Generating Offspring...:  62%|██████▏   | 31/50 [04:19<02:32,  8.00s/it]     Exception ignored in: <generator object generate_elite_parent_pair at 0x7f0a449bc7b0>\n",
      "Traceback (most recent call last):\n",
      "  File \"<ipython-input-5-6bacb2b482a2>\", line 42, in optimize_pareto\n",
      "RuntimeError: generator ignored GeneratorExit\n",
      "[max: 33824.0] Generating Offspring...:  64%|██████▍   | 32/50 [04:27<02:22,  7.94s/it]     Exception ignored in: <generator object generate_elite_parent_pair at 0x7f0a449bcf20>\n",
      "Traceback (most recent call last):\n",
      "  File \"<ipython-input-5-6bacb2b482a2>\", line 42, in optimize_pareto\n",
      "RuntimeError: generator ignored GeneratorExit\n",
      "[max: 33824.0] Generating Offspring...:  66%|██████▌   | 33/50 [04:34<02:13,  7.88s/it]     Exception ignored in: <generator object generate_elite_parent_pair at 0x7f0a449bcf20>\n",
      "Traceback (most recent call last):\n",
      "  File \"<ipython-input-5-6bacb2b482a2>\", line 42, in optimize_pareto\n",
      "RuntimeError: generator ignored GeneratorExit\n",
      "[max: 33824.0] Generating Offspring...:  68%|██████▊   | 34/50 [04:42<02:04,  7.80s/it]     Exception ignored in: <generator object generate_elite_parent_pair at 0x7f0a449bcd60>\n",
      "Traceback (most recent call last):\n",
      "  File \"<ipython-input-5-6bacb2b482a2>\", line 42, in optimize_pareto\n",
      "RuntimeError: generator ignored GeneratorExit\n",
      "[max: 33824.0] Generating Offspring...:  70%|███████   | 35/50 [04:50<01:56,  7.74s/it]     Exception ignored in: <generator object generate_elite_parent_pair at 0x7f0a449bc580>\n",
      "Traceback (most recent call last):\n",
      "  File \"<ipython-input-5-6bacb2b482a2>\", line 42, in optimize_pareto\n",
      "RuntimeError: generator ignored GeneratorExit\n",
      "[max: 33824.0] Generating Offspring...:  72%|███████▏  | 36/50 [04:57<01:47,  7.67s/it]     Exception ignored in: <generator object generate_elite_parent_pair at 0x7f0a449bc5f0>\n",
      "Traceback (most recent call last):\n",
      "  File \"<ipython-input-5-6bacb2b482a2>\", line 42, in optimize_pareto\n",
      "RuntimeError: generator ignored GeneratorExit\n",
      "[max: 33824.0] Generating Offspring...:  74%|███████▍  | 37/50 [05:05<01:39,  7.68s/it]     Exception ignored in: <generator object generate_elite_parent_pair at 0x7f0a449bcd60>\n",
      "Traceback (most recent call last):\n",
      "  File \"<ipython-input-5-6bacb2b482a2>\", line 42, in optimize_pareto\n",
      "RuntimeError: generator ignored GeneratorExit\n",
      "[max: 33824.0] Generating Offspring...:  76%|███████▌  | 38/50 [05:13<01:32,  7.73s/it]     Exception ignored in: <generator object generate_elite_parent_pair at 0x7f0a449bc5f0>\n",
      "Traceback (most recent call last):\n",
      "  File \"<ipython-input-5-6bacb2b482a2>\", line 42, in optimize_pareto\n",
      "RuntimeError: generator ignored GeneratorExit\n",
      "[max: 33824.0] Generating Offspring...:  78%|███████▊  | 39/50 [05:21<01:25,  7.73s/it]     Exception ignored in: <generator object generate_elite_parent_pair at 0x7f0a449bc5f0>\n",
      "Traceback (most recent call last):\n",
      "  File \"<ipython-input-5-6bacb2b482a2>\", line 42, in optimize_pareto\n",
      "RuntimeError: generator ignored GeneratorExit\n",
      "[max: 33824.0] Generating Offspring...:  80%|████████  | 40/50 [05:28<01:17,  7.76s/it]     Exception ignored in: <generator object generate_elite_parent_pair at 0x7f0a449bc7b0>\n",
      "Traceback (most recent call last):\n",
      "  File \"<ipython-input-5-6bacb2b482a2>\", line 42, in optimize_pareto\n",
      "RuntimeError: generator ignored GeneratorExit\n",
      "[max: 33824.0] Generating Offspring...:  82%|████████▏ | 41/50 [05:36<01:09,  7.71s/it]     Exception ignored in: <generator object generate_elite_parent_pair at 0x7f0a449bcd60>\n",
      "Traceback (most recent call last):\n",
      "  File \"<ipython-input-5-6bacb2b482a2>\", line 42, in optimize_pareto\n",
      "RuntimeError: generator ignored GeneratorExit\n",
      "[max: 33824.0] Generating Offspring...:  84%|████████▍ | 42/50 [05:44<01:01,  7.71s/it]     Exception ignored in: <generator object generate_elite_parent_pair at 0x7f0a449bc580>\n",
      "Traceback (most recent call last):\n",
      "  File \"<ipython-input-5-6bacb2b482a2>\", line 42, in optimize_pareto\n",
      "RuntimeError: generator ignored GeneratorExit\n",
      "[max: 33824.0] Generating Offspring...:  86%|████████▌ | 43/50 [05:51<00:53,  7.68s/it]     Exception ignored in: <generator object generate_elite_parent_pair at 0x7f0a449bc580>\n",
      "Traceback (most recent call last):\n",
      "  File \"<ipython-input-5-6bacb2b482a2>\", line 42, in optimize_pareto\n",
      "RuntimeError: generator ignored GeneratorExit\n",
      "[max: 33824.0] Generating Offspring...:  88%|████████▊ | 44/50 [05:59<00:46,  7.68s/it]     Exception ignored in: <generator object generate_elite_parent_pair at 0x7f0a449bc580>\n",
      "Traceback (most recent call last):\n",
      "  File \"<ipython-input-5-6bacb2b482a2>\", line 42, in optimize_pareto\n",
      "RuntimeError: generator ignored GeneratorExit\n",
      "[max: 33824.0] Generating Offspring...:  90%|█████████ | 45/50 [06:06<00:38,  7.67s/it]     Exception ignored in: <generator object generate_elite_parent_pair at 0x7f0a449bc580>\n",
      "Traceback (most recent call last):\n",
      "  File \"<ipython-input-5-6bacb2b482a2>\", line 42, in optimize_pareto\n",
      "RuntimeError: generator ignored GeneratorExit\n",
      "[max: 33824.0] Generating Offspring...:  92%|█████████▏| 46/50 [06:14<00:30,  7.55s/it]     Exception ignored in: <generator object generate_elite_parent_pair at 0x7f0a449bceb0>\n",
      "Traceback (most recent call last):\n",
      "  File \"<ipython-input-5-6bacb2b482a2>\", line 42, in optimize_pareto\n",
      "RuntimeError: generator ignored GeneratorExit\n",
      "[max: 33824.0] Generating Offspring...:  94%|█████████▍| 47/50 [06:21<00:22,  7.54s/it]     Exception ignored in: <generator object generate_elite_parent_pair at 0x7f0a449bceb0>\n",
      "Traceback (most recent call last):\n",
      "  File \"<ipython-input-5-6bacb2b482a2>\", line 42, in optimize_pareto\n",
      "RuntimeError: generator ignored GeneratorExit\n",
      "[max: 33824.0] Generating Offspring...:  96%|█████████▌| 48/50 [06:28<00:14,  7.46s/it]     Exception ignored in: <generator object generate_elite_parent_pair at 0x7f0a449bc5f0>\n",
      "Traceback (most recent call last):\n",
      "  File \"<ipython-input-5-6bacb2b482a2>\", line 42, in optimize_pareto\n",
      "RuntimeError: generator ignored GeneratorExit\n",
      "[max: 33824.0] Generating Offspring...:  98%|█████████▊| 49/50 [06:36<00:07,  7.44s/it]     Exception ignored in: <generator object generate_elite_parent_pair at 0x7f0a449bcd60>\n",
      "Traceback (most recent call last):\n",
      "  File \"<ipython-input-5-6bacb2b482a2>\", line 42, in optimize_pareto\n",
      "RuntimeError: generator ignored GeneratorExit\n",
      "[max: 33824.0] Generating Offspring...: 100%|██████████| 50/50 [06:40<00:00,  8.00s/it]\n"
     ]
    }
   ],
   "source": [
    "elitism_pop = optimize_pareto(process=compute_gear,\n",
    "                              pop=pop,\n",
    "                              outputs=outputs,\n",
    "                              objectives=objectives,\n",
    "                              peek_var='R',\n",
    "                              n_generations=n_generations,\n",
    "                              n_dispute=3,\n",
    "                              p_elitism=0.5,\n",
    "                              multi=True)"
   ]
  },
  {
   "cell_type": "code",
   "execution_count": 17,
   "metadata": {},
   "outputs": [
    {
     "data": {
      "text/plain": [
       "<AxesSubplot:xlabel='generation', ylabel='R'>"
      ]
     },
     "execution_count": 17,
     "metadata": {},
     "output_type": "execute_result"
    },
    {
     "data": {
      "image/png": "[encoded data removed]",
      "text/plain": [
       "<Figure size 432x288 with 1 Axes>"
      ]
     },
     "metadata": {
      "needs_background": "light"
     },
     "output_type": "display_data"
    },
    {
     "data": {
      "image/png": "[encoded data removed]",
      "text/plain": [
       "<Figure size 432x288 with 1 Axes>"
      ]
     },
     "metadata": {
      "needs_background": "light"
     },
     "output_type": "display_data"
    }
   ],
   "source": [
    "elitism_pop.plot.history('R', max)\n",
    "elitism_pop.plot.history('R', 'mean')"
   ]
  },
  {
   "cell_type": "code",
   "execution_count": 18,
   "metadata": {},
   "outputs": [
    {
     "data": {
      "text/html": [
       "<div>\n",
       "<style scoped>\n",
       "    .dataframe tbody tr th:only-of-type {\n",
       "        vertical-align: middle;\n",
       "    }\n",
       "\n",
       "    .dataframe tbody tr th {\n",
       "        vertical-align: top;\n",
       "    }\n",
       "\n",
       "    .dataframe thead th {\n",
       "        text-align: right;\n",
       "    }\n",
       "</style>\n",
       "<table border=\"1\" class=\"dataframe\">\n",
       "  <thead>\n",
       "    <tr style=\"text-align: right;\">\n",
       "      <th></th>\n",
       "      <th>z1i</th>\n",
       "      <th>z1o</th>\n",
       "      <th>di</th>\n",
       "      <th>do</th>\n",
       "      <th>R</th>\n",
       "      <th>DiameterRatio</th>\n",
       "      <th>Diameter</th>\n",
       "      <th>MaxSatellites</th>\n",
       "      <th>criteria0</th>\n",
       "      <th>criteria1</th>\n",
       "      <th>criteria2</th>\n",
       "      <th>front</th>\n",
       "      <th>crowd</th>\n",
       "    </tr>\n",
       "    <tr>\n",
       "      <th>id</th>\n",
       "      <th></th>\n",
       "      <th></th>\n",
       "      <th></th>\n",
       "      <th></th>\n",
       "      <th></th>\n",
       "      <th></th>\n",
       "      <th></th>\n",
       "      <th></th>\n",
       "      <th></th>\n",
       "      <th></th>\n",
       "      <th></th>\n",
       "      <th></th>\n",
       "      <th></th>\n",
       "    </tr>\n",
       "  </thead>\n",
       "  <tbody>\n",
       "    <tr>\n",
       "      <th>-8233819876421529512</th>\n",
       "      <td>43</td>\n",
       "      <td>41</td>\n",
       "      <td>64</td>\n",
       "      <td>61</td>\n",
       "      <td>15301.0</td>\n",
       "      <td>1.049020</td>\n",
       "      <td>107.0</td>\n",
       "      <td>3.0</td>\n",
       "      <td>17.677063</td>\n",
       "      <td>-0.369506</td>\n",
       "      <td>-0.044657</td>\n",
       "      <td>1.0</td>\n",
       "      <td>inf</td>\n",
       "    </tr>\n",
       "    <tr>\n",
       "      <th>-345068433314756340</th>\n",
       "      <td>43</td>\n",
       "      <td>35</td>\n",
       "      <td>118</td>\n",
       "      <td>96</td>\n",
       "      <td>13363.0</td>\n",
       "      <td>1.229008</td>\n",
       "      <td>161.0</td>\n",
       "      <td>2.0</td>\n",
       "      <td>15.409626</td>\n",
       "      <td>0.387252</td>\n",
       "      <td>1.764313</td>\n",
       "      <td>2.0</td>\n",
       "      <td>inf</td>\n",
       "    </tr>\n",
       "    <tr>\n",
       "      <th>-7181777910245606876</th>\n",
       "      <td>73</td>\n",
       "      <td>68</td>\n",
       "      <td>58</td>\n",
       "      <td>54</td>\n",
       "      <td>12445.0</td>\n",
       "      <td>1.073770</td>\n",
       "      <td>131.0</td>\n",
       "      <td>6.0</td>\n",
       "      <td>14.335577</td>\n",
       "      <td>-0.265441</td>\n",
       "      <td>0.759329</td>\n",
       "      <td>2.0</td>\n",
       "      <td>1.613883</td>\n",
       "    </tr>\n",
       "    <tr>\n",
       "      <th>-9184225104025969354</th>\n",
       "      <td>34</td>\n",
       "      <td>37</td>\n",
       "      <td>57</td>\n",
       "      <td>62</td>\n",
       "      <td>12376.0</td>\n",
       "      <td>1.087912</td>\n",
       "      <td>99.0</td>\n",
       "      <td>3.0</td>\n",
       "      <td>14.254848</td>\n",
       "      <td>-0.205983</td>\n",
       "      <td>-0.312653</td>\n",
       "      <td>1.0</td>\n",
       "      <td>4.550733</td>\n",
       "    </tr>\n",
       "    <tr>\n",
       "      <th>1732537603474609563</th>\n",
       "      <td>27</td>\n",
       "      <td>34</td>\n",
       "      <td>58</td>\n",
       "      <td>73</td>\n",
       "      <td>11985.0</td>\n",
       "      <td>1.258824</td>\n",
       "      <td>107.0</td>\n",
       "      <td>2.0</td>\n",
       "      <td>13.797382</td>\n",
       "      <td>0.512613</td>\n",
       "      <td>-0.044657</td>\n",
       "      <td>2.0</td>\n",
       "      <td>inf</td>\n",
       "    </tr>\n",
       "  </tbody>\n",
       "</table>\n",
       "</div>"
      ],
      "text/plain": [
       "                      z1i  z1o   di  do        R  DiameterRatio  Diameter  \\\n",
       "id                                                                          \n",
       "-8233819876421529512   43   41   64  61  15301.0       1.049020     107.0   \n",
       "-345068433314756340    43   35  118  96  13363.0       1.229008     161.0   \n",
       "-7181777910245606876   73   68   58  54  12445.0       1.073770     131.0   \n",
       "-9184225104025969354   34   37   57  62  12376.0       1.087912      99.0   \n",
       " 1732537603474609563   27   34   58  73  11985.0       1.258824     107.0   \n",
       "\n",
       "                      MaxSatellites  criteria0  criteria1  criteria2  front  \\\n",
       "id                                                                            \n",
       "-8233819876421529512            3.0  17.677063  -0.369506  -0.044657    1.0   \n",
       "-345068433314756340             2.0  15.409626   0.387252   1.764313    2.0   \n",
       "-7181777910245606876            6.0  14.335577  -0.265441   0.759329    2.0   \n",
       "-9184225104025969354            3.0  14.254848  -0.205983  -0.312653    1.0   \n",
       " 1732537603474609563            2.0  13.797382   0.512613  -0.044657    2.0   \n",
       "\n",
       "                         crowd  \n",
       "id                              \n",
       "-8233819876421529512       inf  \n",
       "-345068433314756340        inf  \n",
       "-7181777910245606876  1.613883  \n",
       "-9184225104025969354  4.550733  \n",
       " 1732537603474609563       inf  "
      ]
     },
     "execution_count": 18,
     "metadata": {},
     "output_type": "execute_result"
    }
   ],
   "source": [
    "serial_pop.datasets.fitness.sort_values('R', ascending=False).head()"
   ]
  },
  {
   "cell_type": "code",
   "execution_count": 19,
   "metadata": {},
   "outputs": [
    {
     "data": {
      "text/html": [
       "<div>\n",
       "<style scoped>\n",
       "    .dataframe tbody tr th:only-of-type {\n",
       "        vertical-align: middle;\n",
       "    }\n",
       "\n",
       "    .dataframe tbody tr th {\n",
       "        vertical-align: top;\n",
       "    }\n",
       "\n",
       "    .dataframe thead th {\n",
       "        text-align: right;\n",
       "    }\n",
       "</style>\n",
       "<table border=\"1\" class=\"dataframe\">\n",
       "  <thead>\n",
       "    <tr style=\"text-align: right;\">\n",
       "      <th></th>\n",
       "      <th>z1i</th>\n",
       "      <th>z1o</th>\n",
       "      <th>di</th>\n",
       "      <th>do</th>\n",
       "      <th>R</th>\n",
       "      <th>DiameterRatio</th>\n",
       "      <th>Diameter</th>\n",
       "      <th>MaxSatellites</th>\n",
       "      <th>criteria0</th>\n",
       "      <th>criteria1</th>\n",
       "      <th>criteria2</th>\n",
       "      <th>front</th>\n",
       "      <th>crowd</th>\n",
       "    </tr>\n",
       "    <tr>\n",
       "      <th>id</th>\n",
       "      <th></th>\n",
       "      <th></th>\n",
       "      <th></th>\n",
       "      <th></th>\n",
       "      <th></th>\n",
       "      <th></th>\n",
       "      <th></th>\n",
       "      <th></th>\n",
       "      <th></th>\n",
       "      <th></th>\n",
       "      <th></th>\n",
       "      <th></th>\n",
       "      <th></th>\n",
       "    </tr>\n",
       "  </thead>\n",
       "  <tbody>\n",
       "    <tr>\n",
       "      <th>-5170335820121818887</th>\n",
       "      <td>38</td>\n",
       "      <td>37</td>\n",
       "      <td>113</td>\n",
       "      <td>110</td>\n",
       "      <td>27784.0</td>\n",
       "      <td>1.027211</td>\n",
       "      <td>151.0</td>\n",
       "      <td>5.0</td>\n",
       "      <td>28.159019</td>\n",
       "      <td>-0.446173</td>\n",
       "      <td>1.249436</td>\n",
       "      <td>1.0</td>\n",
       "      <td>inf</td>\n",
       "    </tr>\n",
       "    <tr>\n",
       "      <th>-1667013946885478494</th>\n",
       "      <td>59</td>\n",
       "      <td>63</td>\n",
       "      <td>74</td>\n",
       "      <td>79</td>\n",
       "      <td>27265.0</td>\n",
       "      <td>1.067669</td>\n",
       "      <td>142.0</td>\n",
       "      <td>3.0</td>\n",
       "      <td>27.629728</td>\n",
       "      <td>-0.298025</td>\n",
       "      <td>0.969098</td>\n",
       "      <td>1.0</td>\n",
       "      <td>7.867716</td>\n",
       "    </tr>\n",
       "    <tr>\n",
       "      <th>8308925196313721116</th>\n",
       "      <td>58</td>\n",
       "      <td>57</td>\n",
       "      <td>59</td>\n",
       "      <td>58</td>\n",
       "      <td>20124.0</td>\n",
       "      <td>1.017391</td>\n",
       "      <td>117.0</td>\n",
       "      <td>4.0</td>\n",
       "      <td>20.347146</td>\n",
       "      <td>-0.482130</td>\n",
       "      <td>0.190383</td>\n",
       "      <td>1.0</td>\n",
       "      <td>17.977593</td>\n",
       "    </tr>\n",
       "    <tr>\n",
       "      <th>-3825255216565491070</th>\n",
       "      <td>50</td>\n",
       "      <td>57</td>\n",
       "      <td>86</td>\n",
       "      <td>98</td>\n",
       "      <td>14416.0</td>\n",
       "      <td>1.139706</td>\n",
       "      <td>155.0</td>\n",
       "      <td>4.0</td>\n",
       "      <td>14.525975</td>\n",
       "      <td>-0.034245</td>\n",
       "      <td>1.374031</td>\n",
       "      <td>2.0</td>\n",
       "      <td>inf</td>\n",
       "    </tr>\n",
       "    <tr>\n",
       "      <th>-5163277540369621420</th>\n",
       "      <td>57</td>\n",
       "      <td>53</td>\n",
       "      <td>86</td>\n",
       "      <td>80</td>\n",
       "      <td>13299.0</td>\n",
       "      <td>1.075188</td>\n",
       "      <td>143.0</td>\n",
       "      <td>5.0</td>\n",
       "      <td>13.386828</td>\n",
       "      <td>-0.270493</td>\n",
       "      <td>1.000247</td>\n",
       "      <td>2.0</td>\n",
       "      <td>2.917232</td>\n",
       "    </tr>\n",
       "  </tbody>\n",
       "</table>\n",
       "</div>"
      ],
      "text/plain": [
       "                      z1i  z1o   di   do        R  DiameterRatio  Diameter  \\\n",
       "id                                                                           \n",
       "-5170335820121818887   38   37  113  110  27784.0       1.027211     151.0   \n",
       "-1667013946885478494   59   63   74   79  27265.0       1.067669     142.0   \n",
       " 8308925196313721116   58   57   59   58  20124.0       1.017391     117.0   \n",
       "-3825255216565491070   50   57   86   98  14416.0       1.139706     155.0   \n",
       "-5163277540369621420   57   53   86   80  13299.0       1.075188     143.0   \n",
       "\n",
       "                      MaxSatellites  criteria0  criteria1  criteria2  front  \\\n",
       "id                                                                            \n",
       "-5170335820121818887            5.0  28.159019  -0.446173   1.249436    1.0   \n",
       "-1667013946885478494            3.0  27.629728  -0.298025   0.969098    1.0   \n",
       " 8308925196313721116            4.0  20.347146  -0.482130   0.190383    1.0   \n",
       "-3825255216565491070            4.0  14.525975  -0.034245   1.374031    2.0   \n",
       "-5163277540369621420            5.0  13.386828  -0.270493   1.000247    2.0   \n",
       "\n",
       "                          crowd  \n",
       "id                               \n",
       "-5170335820121818887        inf  \n",
       "-1667013946885478494   7.867716  \n",
       " 8308925196313721116  17.977593  \n",
       "-3825255216565491070        inf  \n",
       "-5163277540369621420   2.917232  "
      ]
     },
     "execution_count": 19,
     "metadata": {},
     "output_type": "execute_result"
    }
   ],
   "source": [
    "multi_pop.datasets.fitness.sort_values('R', ascending=False).head()"
   ]
  },
  {
   "cell_type": "code",
   "execution_count": 20,
   "metadata": {},
   "outputs": [
    {
     "data": {
      "text/html": [
       "<div>\n",
       "<style scoped>\n",
       "    .dataframe tbody tr th:only-of-type {\n",
       "        vertical-align: middle;\n",
       "    }\n",
       "\n",
       "    .dataframe tbody tr th {\n",
       "        vertical-align: top;\n",
       "    }\n",
       "\n",
       "    .dataframe thead th {\n",
       "        text-align: right;\n",
       "    }\n",
       "</style>\n",
       "<table border=\"1\" class=\"dataframe\">\n",
       "  <thead>\n",
       "    <tr style=\"text-align: right;\">\n",
       "      <th></th>\n",
       "      <th>z1i</th>\n",
       "      <th>z1o</th>\n",
       "      <th>di</th>\n",
       "      <th>do</th>\n",
       "      <th>R</th>\n",
       "      <th>DiameterRatio</th>\n",
       "      <th>Diameter</th>\n",
       "      <th>MaxSatellites</th>\n",
       "      <th>criteria0</th>\n",
       "      <th>criteria1</th>\n",
       "      <th>criteria2</th>\n",
       "      <th>front</th>\n",
       "      <th>crowd</th>\n",
       "    </tr>\n",
       "    <tr>\n",
       "      <th>id</th>\n",
       "      <th></th>\n",
       "      <th></th>\n",
       "      <th></th>\n",
       "      <th></th>\n",
       "      <th></th>\n",
       "      <th></th>\n",
       "      <th></th>\n",
       "      <th></th>\n",
       "      <th></th>\n",
       "      <th></th>\n",
       "      <th></th>\n",
       "      <th></th>\n",
       "      <th></th>\n",
       "    </tr>\n",
       "  </thead>\n",
       "  <tbody>\n",
       "    <tr>\n",
       "      <th>2532634140768856077</th>\n",
       "      <td>38</td>\n",
       "      <td>29</td>\n",
       "      <td>93</td>\n",
       "      <td>71</td>\n",
       "      <td>16899.0</td>\n",
       "      <td>1.310000</td>\n",
       "      <td>131.0</td>\n",
       "      <td>2.0</td>\n",
       "      <td>19.730517</td>\n",
       "      <td>0.600324</td>\n",
       "      <td>0.878106</td>\n",
       "      <td>1.0</td>\n",
       "      <td>inf</td>\n",
       "    </tr>\n",
       "    <tr>\n",
       "      <th>-730875185523665130</th>\n",
       "      <td>75</td>\n",
       "      <td>73</td>\n",
       "      <td>74</td>\n",
       "      <td>72</td>\n",
       "      <td>16241.0</td>\n",
       "      <td>1.027586</td>\n",
       "      <td>149.0</td>\n",
       "      <td>2.0</td>\n",
       "      <td>18.951799</td>\n",
       "      <td>-0.437994</td>\n",
       "      <td>1.429858</td>\n",
       "      <td>1.0</td>\n",
       "      <td>1.768562</td>\n",
       "    </tr>\n",
       "    <tr>\n",
       "      <th>-657312189579435405</th>\n",
       "      <td>72</td>\n",
       "      <td>73</td>\n",
       "      <td>70</td>\n",
       "      <td>71</td>\n",
       "      <td>15407.0</td>\n",
       "      <td>1.014085</td>\n",
       "      <td>144.0</td>\n",
       "      <td>2.0</td>\n",
       "      <td>17.964792</td>\n",
       "      <td>-0.487634</td>\n",
       "      <td>1.276594</td>\n",
       "      <td>1.0</td>\n",
       "      <td>6.073409</td>\n",
       "    </tr>\n",
       "    <tr>\n",
       "      <th>-7838292855351617729</th>\n",
       "      <td>43</td>\n",
       "      <td>42</td>\n",
       "      <td>88</td>\n",
       "      <td>86</td>\n",
       "      <td>11135.0</td>\n",
       "      <td>1.023438</td>\n",
       "      <td>131.0</td>\n",
       "      <td>5.0</td>\n",
       "      <td>12.909043</td>\n",
       "      <td>-0.453247</td>\n",
       "      <td>0.878106</td>\n",
       "      <td>1.0</td>\n",
       "      <td>5.189185</td>\n",
       "    </tr>\n",
       "    <tr>\n",
       "      <th>-8945649794153502964</th>\n",
       "      <td>43</td>\n",
       "      <td>44</td>\n",
       "      <td>84</td>\n",
       "      <td>86</td>\n",
       "      <td>11049.0</td>\n",
       "      <td>1.023622</td>\n",
       "      <td>130.0</td>\n",
       "      <td>5.0</td>\n",
       "      <td>12.807265</td>\n",
       "      <td>-0.452568</td>\n",
       "      <td>0.847453</td>\n",
       "      <td>1.0</td>\n",
       "      <td>0.635248</td>\n",
       "    </tr>\n",
       "  </tbody>\n",
       "</table>\n",
       "</div>"
      ],
      "text/plain": [
       "                      z1i  z1o  di  do        R  DiameterRatio  Diameter  \\\n",
       "id                                                                         \n",
       " 2532634140768856077   38   29  93  71  16899.0       1.310000     131.0   \n",
       "-730875185523665130    75   73  74  72  16241.0       1.027586     149.0   \n",
       "-657312189579435405    72   73  70  71  15407.0       1.014085     144.0   \n",
       "-7838292855351617729   43   42  88  86  11135.0       1.023438     131.0   \n",
       "-8945649794153502964   43   44  84  86  11049.0       1.023622     130.0   \n",
       "\n",
       "                      MaxSatellites  criteria0  criteria1  criteria2  front  \\\n",
       "id                                                                            \n",
       " 2532634140768856077            2.0  19.730517   0.600324   0.878106    1.0   \n",
       "-730875185523665130             2.0  18.951799  -0.437994   1.429858    1.0   \n",
       "-657312189579435405             2.0  17.964792  -0.487634   1.276594    1.0   \n",
       "-7838292855351617729            5.0  12.909043  -0.453247   0.878106    1.0   \n",
       "-8945649794153502964            5.0  12.807265  -0.452568   0.847453    1.0   \n",
       "\n",
       "                         crowd  \n",
       "id                              \n",
       " 2532634140768856077       inf  \n",
       "-730875185523665130   1.768562  \n",
       "-657312189579435405   6.073409  \n",
       "-7838292855351617729  5.189185  \n",
       "-8945649794153502964  0.635248  "
      ]
     },
     "execution_count": 20,
     "metadata": {},
     "output_type": "execute_result"
    }
   ],
   "source": [
    "dispute_pop.datasets.fitness.sort_values('R', ascending=False).head(5)"
   ]
  },
  {
   "cell_type": "code",
   "execution_count": 21,
   "metadata": {},
   "outputs": [
    {
     "data": {
      "text/html": [
       "<div>\n",
       "<style scoped>\n",
       "    .dataframe tbody tr th:only-of-type {\n",
       "        vertical-align: middle;\n",
       "    }\n",
       "\n",
       "    .dataframe tbody tr th {\n",
       "        vertical-align: top;\n",
       "    }\n",
       "\n",
       "    .dataframe thead th {\n",
       "        text-align: right;\n",
       "    }\n",
       "</style>\n",
       "<table border=\"1\" class=\"dataframe\">\n",
       "  <thead>\n",
       "    <tr style=\"text-align: right;\">\n",
       "      <th></th>\n",
       "      <th>z1i</th>\n",
       "      <th>z1o</th>\n",
       "      <th>di</th>\n",
       "      <th>do</th>\n",
       "      <th>R</th>\n",
       "      <th>DiameterRatio</th>\n",
       "      <th>Diameter</th>\n",
       "      <th>MaxSatellites</th>\n",
       "      <th>criteria0</th>\n",
       "      <th>criteria1</th>\n",
       "      <th>criteria2</th>\n",
       "      <th>front</th>\n",
       "      <th>crowd</th>\n",
       "    </tr>\n",
       "    <tr>\n",
       "      <th>id</th>\n",
       "      <th></th>\n",
       "      <th></th>\n",
       "      <th></th>\n",
       "      <th></th>\n",
       "      <th></th>\n",
       "      <th></th>\n",
       "      <th></th>\n",
       "      <th></th>\n",
       "      <th></th>\n",
       "      <th></th>\n",
       "      <th></th>\n",
       "      <th></th>\n",
       "      <th></th>\n",
       "    </tr>\n",
       "  </thead>\n",
       "  <tbody>\n",
       "    <tr>\n",
       "      <th>-6565177609326394101</th>\n",
       "      <td>54</td>\n",
       "      <td>59</td>\n",
       "      <td>97</td>\n",
       "      <td>106</td>\n",
       "      <td>33824.0</td>\n",
       "      <td>1.092715</td>\n",
       "      <td>165.0</td>\n",
       "      <td>3.0</td>\n",
       "      <td>28.990312</td>\n",
       "      <td>-0.292238</td>\n",
       "      <td>1.015385</td>\n",
       "      <td>1.0</td>\n",
       "      <td>inf</td>\n",
       "    </tr>\n",
       "    <tr>\n",
       "      <th>8308925196313721116</th>\n",
       "      <td>58</td>\n",
       "      <td>57</td>\n",
       "      <td>59</td>\n",
       "      <td>58</td>\n",
       "      <td>20124.0</td>\n",
       "      <td>1.017391</td>\n",
       "      <td>117.0</td>\n",
       "      <td>4.0</td>\n",
       "      <td>17.162641</td>\n",
       "      <td>-0.480172</td>\n",
       "      <td>-0.364566</td>\n",
       "      <td>1.0</td>\n",
       "      <td>20.319682</td>\n",
       "    </tr>\n",
       "    <tr>\n",
       "      <th>-3951760874385782160</th>\n",
       "      <td>79</td>\n",
       "      <td>68</td>\n",
       "      <td>86</td>\n",
       "      <td>74</td>\n",
       "      <td>17325.0</td>\n",
       "      <td>1.161972</td>\n",
       "      <td>165.0</td>\n",
       "      <td>4.0</td>\n",
       "      <td>14.746170</td>\n",
       "      <td>-0.119442</td>\n",
       "      <td>1.015385</td>\n",
       "      <td>2.0</td>\n",
       "      <td>inf</td>\n",
       "    </tr>\n",
       "    <tr>\n",
       "      <th>-5622819676743060149</th>\n",
       "      <td>33</td>\n",
       "      <td>34</td>\n",
       "      <td>134</td>\n",
       "      <td>138</td>\n",
       "      <td>17201.0</td>\n",
       "      <td>1.029940</td>\n",
       "      <td>172.0</td>\n",
       "      <td>2.0</td>\n",
       "      <td>14.639117</td>\n",
       "      <td>-0.448863</td>\n",
       "      <td>1.216628</td>\n",
       "      <td>2.0</td>\n",
       "      <td>1.740141</td>\n",
       "    </tr>\n",
       "    <tr>\n",
       "      <th>2446135277801645143</th>\n",
       "      <td>49</td>\n",
       "      <td>59</td>\n",
       "      <td>88</td>\n",
       "      <td>106</td>\n",
       "      <td>15344.0</td>\n",
       "      <td>1.204380</td>\n",
       "      <td>165.0</td>\n",
       "      <td>5.0</td>\n",
       "      <td>13.035906</td>\n",
       "      <td>-0.013634</td>\n",
       "      <td>1.015385</td>\n",
       "      <td>2.0</td>\n",
       "      <td>2.021730</td>\n",
       "    </tr>\n",
       "  </tbody>\n",
       "</table>\n",
       "</div>"
      ],
      "text/plain": [
       "                      z1i  z1o   di   do        R  DiameterRatio  Diameter  \\\n",
       "id                                                                           \n",
       "-6565177609326394101   54   59   97  106  33824.0       1.092715     165.0   \n",
       " 8308925196313721116   58   57   59   58  20124.0       1.017391     117.0   \n",
       "-3951760874385782160   79   68   86   74  17325.0       1.161972     165.0   \n",
       "-5622819676743060149   33   34  134  138  17201.0       1.029940     172.0   \n",
       " 2446135277801645143   49   59   88  106  15344.0       1.204380     165.0   \n",
       "\n",
       "                      MaxSatellites  criteria0  criteria1  criteria2  front  \\\n",
       "id                                                                            \n",
       "-6565177609326394101            3.0  28.990312  -0.292238   1.015385    1.0   \n",
       " 8308925196313721116            4.0  17.162641  -0.480172  -0.364566    1.0   \n",
       "-3951760874385782160            4.0  14.746170  -0.119442   1.015385    2.0   \n",
       "-5622819676743060149            2.0  14.639117  -0.448863   1.216628    2.0   \n",
       " 2446135277801645143            5.0  13.035906  -0.013634   1.015385    2.0   \n",
       "\n",
       "                          crowd  \n",
       "id                               \n",
       "-6565177609326394101        inf  \n",
       " 8308925196313721116  20.319682  \n",
       "-3951760874385782160        inf  \n",
       "-5622819676743060149   1.740141  \n",
       " 2446135277801645143   2.021730  "
      ]
     },
     "execution_count": 21,
     "metadata": {},
     "output_type": "execute_result"
    }
   ],
   "source": [
    "elitism_pop.datasets.fitness.sort_values('R', ascending=False).head(5)"
   ]
  },
  {
   "cell_type": "code",
   "execution_count": 22,
   "metadata": {},
   "outputs": [
    {
     "name": "stdout",
     "output_type": "stream",
     "text": [
      "m:\t 1\n",
      "z1i:\t 75\n",
      "z2i:\t 28\n",
      "z3i:\t 131\n",
      "z1o:\t 67\n",
      "z2o:\t 25\n",
      "z3o:\t 117\n",
      "d1i:\t 90\n",
      "d2i:\t 34\n",
      "d3i:\t 157\n",
      "d1o:\t 80\n",
      "d2o:\t 30\n",
      "d3o:\t 140\n",
      "w1:\t 10000\n",
      "w2i:\t 26786\n",
      "w2o:\t 26797\n",
      "w3:\t 5725\n",
      "wi:\t 10000\n",
      "R:\t 12052\n",
      "\n",
      "wo:\t 0.829737802854239\n"
     ]
    },
    {
     "data": {
      "text/plain": [
       "{'gi': [1, 2], 'go': [1, 2, 4, 8, 46, 23]}"
      ]
     },
     "execution_count": 22,
     "metadata": {},
     "output_type": "execute_result"
    }
   ],
   "source": [
    "gear = SuperGear(1.2)\n",
    "gear.set_gears(75, 131, 67, 117)\n",
    "gear.show_specs()\n",
    "gear.possible_satellites()"
   ]
  },
  {
   "cell_type": "code",
   "execution_count": 23,
   "metadata": {},
   "outputs": [
    {
     "data": {
      "text/plain": [
       "61.8"
      ]
     },
     "execution_count": 23,
     "metadata": {},
     "output_type": "execute_result"
    }
   ],
   "source": [
    "(75 + 28)*1.2/2"
   ]
  },
  {
   "cell_type": "code",
   "execution_count": 24,
   "metadata": {},
   "outputs": [
    {
     "data": {
      "text/plain": [
       "55.199999999999996"
      ]
     },
     "execution_count": 24,
     "metadata": {},
     "output_type": "execute_result"
    }
   ],
   "source": [
    "(67 + 25)*1.2/2"
   ]
  }
 ],
 "metadata": {
  "kernelspec": {
   "display_name": "Lamarck Env",
   "language": "python",
   "name": "lamarck"
  },
  "language_info": {
   "codemirror_mode": {
    "name": "ipython",
    "version": 3
   },
   "file_extension": ".py",
   "mimetype": "text/x-python",
   "name": "python",
   "nbconvert_exporter": "python",
   "pygments_lexer": "ipython3",
   "version": "3.9.1"
  }
 },
 "nbformat": 4,
 "nbformat_minor": 4
}
