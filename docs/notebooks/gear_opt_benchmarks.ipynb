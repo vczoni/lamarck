{
 "cells": [
  {
   "cell_type": "markdown",
   "metadata": {},
   "source": [
    "# Mini process example - gear optimization"
   ]
  },
  {
   "cell_type": "code",
   "execution_count": 1,
   "metadata": {},
   "outputs": [],
   "source": [
    "import sys\n",
    "import numpy as np\n",
    "import pandas as pd\n",
    "sys.path.append('../..')"
   ]
  },
  {
   "cell_type": "code",
   "execution_count": 2,
   "metadata": {},
   "outputs": [],
   "source": [
    "from tqdm import tqdm\n",
    "from supergear import SuperGear, calculate_R"
   ]
  },
  {
   "cell_type": "code",
   "execution_count": 3,
   "metadata": {},
   "outputs": [],
   "source": [
    "from lamarck.assistant import GenomeCreator\n",
    "from lamarck.assistant import PopulationCreator\n",
    "from lamarck import Environment"
   ]
  },
  {
   "cell_type": "markdown",
   "metadata": {},
   "source": [
    "# Setup"
   ]
  },
  {
   "cell_type": "markdown",
   "metadata": {},
   "source": [
    "#### Process"
   ]
  },
  {
   "cell_type": "code",
   "execution_count": 4,
   "metadata": {},
   "outputs": [],
   "source": [
    "def compute_gear(z1i, z1o, di, do):\n",
    "    z3i = z1i + di\n",
    "    z3o = z1o + do\n",
    "    gear = SuperGear(1)\n",
    "    gear.set_gears(z1i, z3i, z1o, z3o)\n",
    "    return {\n",
    "        'R': abs(gear.R),\n",
    "        'DiameterRatio': max(z3i/z3o, z3o/z3i),\n",
    "        'Diameter': max(z3i, z3o),\n",
    "        'MaxSatellites': min([n for n in gear.n_possible_satellites().values()])\n",
    "    }"
   ]
  },
  {
   "cell_type": "markdown",
   "metadata": {},
   "source": [
    "#### Optimization Function"
   ]
  },
  {
   "cell_type": "code",
   "execution_count": 5,
   "metadata": {},
   "outputs": [],
   "source": [
    "def optimize_pareto(process,\n",
    "                    pop,\n",
    "                    outputs,\n",
    "                    objectives,\n",
    "                    peek_var,\n",
    "                    n_generations,\n",
    "                    n_dispute,\n",
    "                    p_elitism=0,\n",
    "                    multi=True):\n",
    "    # Population\n",
    "    pop = pop.copy()\n",
    "    pop.apply_fitness.add_constraint.less_or_equal('Diameter', 200)\n",
    "    pop.apply_fitness.add_constraint.greater_than('R', 0)\n",
    "    pop.apply_fitness.add_constraint.greater_than('MaxSatellites', 1)\n",
    "    \n",
    "    # Environment\n",
    "    env = Environment()\n",
    "    env.config.set_multi(multi)\n",
    "    env.config.set_process(process)\n",
    "    \n",
    "    # Optimization\n",
    "    pbar = tqdm(range(n_generations))\n",
    "    peek = 0\n",
    "    for i in pbar:\n",
    "        pbar.set_description(f'[max: {peek}] Simulating...')\n",
    "        env.simulate(pop)\n",
    "        peek = round(pop.datasets.output[peek_var].max(), 2)\n",
    "        pbar.set_description(f'[max: {peek}] Applying Fitness Criteria...')\n",
    "        pop.apply_fitness.multi_objective.pareto(outputs, objectives=objectives)\n",
    "        if i < n_generations:\n",
    "            pbar.set_description(f'[max: {peek}] Selecting...')\n",
    "            pop.select()\n",
    "            pbar.set_description(f'[max: {peek}] Generating Offspring...')\n",
    "            if p_elitism == 0:\n",
    "                pop.reproduce.tournament(n_dispute=n_dispute)\n",
    "            else:\n",
    "                n_tournament_children = len(pop) * (1-p_elitism)\n",
    "                n_elite_children = len(pop) * (p_elitism)\n",
    "                pop.reproduce.tournament(n_dispute=n_dispute, n_children=n_tournament_children)\n",
    "                pop.reproduce.elitism(n_children=n_elite_children)\n",
    "    return pop"
   ]
  },
  {
   "cell_type": "markdown",
   "metadata": {},
   "source": [
    "#### Genome Creation"
   ]
  },
  {
   "cell_type": "code",
   "execution_count": 6,
   "metadata": {},
   "outputs": [],
   "source": [
    "genome_creator = GenomeCreator()\n",
    "\n",
    "genome_creator.add_gene_specs.numeric(name='z1i',\n",
    "                                      min=20,\n",
    "                                      max=80,\n",
    "                                      progression='linear',\n",
    "                                      domain='int')\n",
    "\n",
    "genome_creator.add_gene_specs.numeric(name='z1o',\n",
    "                                      min=20,\n",
    "                                      max=80,\n",
    "                                      progression='linear',\n",
    "                                      domain='int')\n",
    "\n",
    "genome_creator.add_gene_specs.numeric(name='di',\n",
    "                                      min=30,\n",
    "                                      max=200,\n",
    "                                      progression='linear',\n",
    "                                      domain='int')\n",
    "\n",
    "genome_creator.add_gene_specs.numeric(name='do',\n",
    "                                      min=30,\n",
    "                                      max=200,\n",
    "                                      progression='linear',\n",
    "                                      domain='int')\n",
    "\n",
    "genome_blueprint = genome_creator.get_genome_blueprint()"
   ]
  },
  {
   "cell_type": "markdown",
   "metadata": {},
   "source": [
    "# Process Benchmarks"
   ]
  },
  {
   "cell_type": "code",
   "execution_count": 7,
   "metadata": {},
   "outputs": [],
   "source": [
    "outputs = ['R', 'DiameterRatio', 'Diameter']\n",
    "objectives = ['max', 'min', 'min']\n",
    "n_generations = 50"
   ]
  },
  {
   "cell_type": "markdown",
   "metadata": {},
   "source": [
    "#### Population"
   ]
  },
  {
   "cell_type": "code",
   "execution_count": 8,
   "metadata": {},
   "outputs": [],
   "source": [
    "ndet=7\n",
    "nrand=2000"
   ]
  },
  {
   "cell_type": "code",
   "execution_count": 9,
   "metadata": {},
   "outputs": [],
   "source": [
    "pop_creator = PopulationCreator(genome_blueprint)\n",
    "pop = pop_creator.create.det(ndet) + pop_creator.create.rand(nrand)\n",
    "pop.define()"
   ]
  },
  {
   "cell_type": "markdown",
   "metadata": {},
   "source": [
    "#### Serial"
   ]
  },
  {
   "cell_type": "code",
   "execution_count": 10,
   "metadata": {},
   "outputs": [
    {
     "name": "stderr",
     "output_type": "stream",
     "text": [
      "[max: 22815.0] Generating Offspring...: 100%|██████████| 50/50 [04:01<00:00,  4.84s/it]     \n"
     ]
    }
   ],
   "source": [
    "serial_pop = optimize_pareto(process=compute_gear,\n",
    "                             pop=pop,\n",
    "                             outputs=outputs,\n",
    "                             objectives=objectives,\n",
    "                             peek_var='R',\n",
    "                             n_generations=n_generations,\n",
    "                             n_dispute=2,\n",
    "                             p_elitism=0,\n",
    "                             multi=False)"
   ]
  },
  {
   "cell_type": "code",
   "execution_count": 11,
   "metadata": {},
   "outputs": [
    {
     "data": {
      "text/plain": [
       "<AxesSubplot:xlabel='generation', ylabel='R'>"
      ]
     },
     "execution_count": 11,
     "metadata": {},
     "output_type": "execute_result"
    },
    {
     "data": {
      "image/png": "[encoded data removed]",
      "text/plain": [
       "<Figure size 432x288 with 1 Axes>"
      ]
     },
     "metadata": {
      "needs_background": "light"
     },
     "output_type": "display_data"
    },
    {
     "data": {
      "image/png": "[encoded data removed]",
      "text/plain": [
       "<Figure size 432x288 with 1 Axes>"
      ]
     },
     "metadata": {
      "needs_background": "light"
     },
     "output_type": "display_data"
    }
   ],
   "source": [
    "serial_pop.plot.history('R', max)\n",
    "serial_pop.plot.history('R', 'mean')"
   ]
  },
  {
   "cell_type": "markdown",
   "metadata": {},
   "source": [
    "#### Multi-Thread"
   ]
  },
  {
   "cell_type": "code",
   "execution_count": 12,
   "metadata": {},
   "outputs": [
    {
     "name": "stderr",
     "output_type": "stream",
     "text": [
      "[max: 24320.0] Generating Offspring...: 100%|██████████| 50/50 [04:09<00:00,  4.99s/it]     \n"
     ]
    }
   ],
   "source": [
    "multi_pop = optimize_pareto(process=compute_gear,\n",
    "                            pop=pop,\n",
    "                            outputs=outputs,\n",
    "                            objectives=objectives,\n",
    "                            peek_var='R',\n",
    "                            n_generations=n_generations,\n",
    "                            n_dispute=2,\n",
    "                            p_elitism=0,\n",
    "                            multi=True)"
   ]
  },
  {
   "cell_type": "code",
   "execution_count": 13,
   "metadata": {},
   "outputs": [
    {
     "data": {
      "text/plain": [
       "<AxesSubplot:xlabel='generation', ylabel='R'>"
      ]
     },
     "execution_count": 13,
     "metadata": {},
     "output_type": "execute_result"
    },
    {
     "data": {
      "image/png": "[encoded data removed]",
      "text/plain": [
       "<Figure size 432x288 with 1 Axes>"
      ]
     },
     "metadata": {
      "needs_background": "light"
     },
     "output_type": "display_data"
    },
    {
     "data": {
      "image/png": "[encoded data removed]",
      "text/plain": [
       "<Figure size 432x288 with 1 Axes>"
      ]
     },
     "metadata": {
      "needs_background": "light"
     },
     "output_type": "display_data"
    }
   ],
   "source": [
    "multi_pop.plot.history('R', max)\n",
    "multi_pop.plot.history('R', 'mean')"
   ]
  },
  {
   "cell_type": "markdown",
   "metadata": {},
   "source": [
    "#### n_dispute = 4"
   ]
  },
  {
   "cell_type": "code",
   "execution_count": 14,
   "metadata": {},
   "outputs": [
    {
     "name": "stderr",
     "output_type": "stream",
     "text": [
      "[max: 16974.0] Generating Offspring...: 100%|██████████| 50/50 [04:02<00:00,  4.84s/it]     \n"
     ]
    }
   ],
   "source": [
    "dispute_pop = optimize_pareto(process=compute_gear,\n",
    "                              pop=pop,\n",
    "                              outputs=outputs,\n",
    "                              objectives=objectives,\n",
    "                              peek_var='R',\n",
    "                              n_generations=n_generations,\n",
    "                              n_dispute=4,\n",
    "                              p_elitism=0,\n",
    "                              multi=True)"
   ]
  },
  {
   "cell_type": "code",
   "execution_count": 15,
   "metadata": {},
   "outputs": [
    {
     "data": {
      "text/plain": [
       "<AxesSubplot:xlabel='generation', ylabel='R'>"
      ]
     },
     "execution_count": 15,
     "metadata": {},
     "output_type": "execute_result"
    },
    {
     "data": {
      "image/png": "[encoded data removed]",
      "text/plain": [
       "<Figure size 432x288 with 1 Axes>"
      ]
     },
     "metadata": {
      "needs_background": "light"
     },
     "output_type": "display_data"
    },
    {
     "data": {
      "image/png": "[encoded data removed]",
      "text/plain": [
       "<Figure size 432x288 with 1 Axes>"
      ]
     },
     "metadata": {
      "needs_background": "light"
     },
     "output_type": "display_data"
    }
   ],
   "source": [
    "dispute_pop.plot.history('R', max)\n",
    "dispute_pop.plot.history('R', 'mean')"
   ]
  },
  {
   "cell_type": "markdown",
   "metadata": {},
   "source": [
    "#### Half Elitism"
   ]
  },
  {
   "cell_type": "code",
   "execution_count": null,
   "metadata": {},
   "outputs": [
    {
     "name": "stderr",
     "output_type": "stream",
     "text": [
      "[max: 8375.0] Generating Offspring...:   0%|          | 0/50 [00:02<?, ?it/s]     Exception ignored in: <generator object generate_elite_parent_pair at 0x7fdd47bb77b0>\n",
      "Traceback (most recent call last):\n",
      "  File \"<ipython-input-5-082d694b851d>\", line 40, in optimize_pareto\n",
      "RuntimeError: generator ignored GeneratorExit\n",
      "[max: 10440.0] Generating Offspring...:   2%|▏         | 1/50 [00:07<03:07,  3.83s/it]     Exception ignored in: <generator object generate_elite_parent_pair at 0x7fdd47bb76d0>\n",
      "Traceback (most recent call last):\n",
      "  File \"<ipython-input-5-082d694b851d>\", line 40, in optimize_pareto\n",
      "RuntimeError: generator ignored GeneratorExit\n",
      "[max: 10440.0] Generating Offspring...:   4%|▍         | 2/50 [00:15<04:17,  5.37s/it]     Exception ignored in: <generator object generate_elite_parent_pair at 0x7fdd4bb823c0>\n",
      "Traceback (most recent call last):\n",
      "  File \"<ipython-input-5-082d694b851d>\", line 40, in optimize_pareto\n",
      "RuntimeError: generator ignored GeneratorExit\n",
      "[max: 10440.0] Generating Offspring...:   6%|▌         | 3/50 [00:24<05:24,  6.90s/it]     Exception ignored in: <generator object generate_elite_parent_pair at 0x7fdd47bb7d60>\n",
      "Traceback (most recent call last):\n",
      "  File \"<ipython-input-5-082d694b851d>\", line 40, in optimize_pareto\n",
      "RuntimeError: generator ignored GeneratorExit\n",
      "[max: 10440.0] Generating Offspring...:   8%|▊         | 4/50 [00:33<05:48,  7.58s/it]     Exception ignored in: <generator object generate_elite_parent_pair at 0x7fdd4bb823c0>\n",
      "Traceback (most recent call last):\n",
      "  File \"<ipython-input-5-082d694b851d>\", line 40, in optimize_pareto\n",
      "RuntimeError: generator ignored GeneratorExit\n",
      "[max: 10440.0] Generating Offspring...:  10%|█         | 5/50 [00:41<05:59,  7.99s/it]     Exception ignored in: <generator object generate_elite_parent_pair at 0x7fdd47bb76d0>\n",
      "Traceback (most recent call last):\n",
      "  File \"<ipython-input-5-082d694b851d>\", line 40, in optimize_pareto\n",
      "RuntimeError: generator ignored GeneratorExit\n",
      "[max: 26999.0] Generating Offspring...:  12%|█▏        | 6/50 [00:49<05:55,  8.07s/it]     Exception ignored in: <generator object generate_elite_parent_pair at 0x7fdd47bb7d60>\n",
      "Traceback (most recent call last):\n",
      "  File \"<ipython-input-5-082d694b851d>\", line 40, in optimize_pareto\n",
      "RuntimeError: generator ignored GeneratorExit\n",
      "[max: 20008.0] Generating Offspring...:  14%|█▍        | 7/50 [00:58<05:55,  8.27s/it]     Exception ignored in: <generator object generate_elite_parent_pair at 0x7fdd4a592040>\n",
      "Traceback (most recent call last):\n",
      "  File \"<ipython-input-5-082d694b851d>\", line 40, in optimize_pareto\n",
      "RuntimeError: generator ignored GeneratorExit\n",
      "[max: 20008.0] Applying Fitness Criteria...:  16%|█▌        | 8/50 [01:01<05:49,  8.31s/it]"
     ]
    }
   ],
   "source": [
    "elitism_pop = optimize_pareto(process=compute_gear,\n",
    "                              pop=pop,\n",
    "                              outputs=outputs,\n",
    "                              objectives=objectives,\n",
    "                              peek_var='R',\n",
    "                              n_generations=n_generations,\n",
    "                              n_dispute=3,\n",
    "                              p_elitism=0.5,\n",
    "                              multi=True)"
   ]
  },
  {
   "cell_type": "code",
   "execution_count": null,
   "metadata": {},
   "outputs": [],
   "source": [
    "elitism_pop.plot.history('R', max)\n",
    "elitism_pop.plot.history('R', 'mean')"
   ]
  },
  {
   "cell_type": "code",
   "execution_count": null,
   "metadata": {},
   "outputs": [],
   "source": [
    "serial_pop.datasets.fitness.sort_values('R', ascending=False).head()"
   ]
  },
  {
   "cell_type": "code",
   "execution_count": null,
   "metadata": {},
   "outputs": [],
   "source": [
    "multi_pop.datasets.fitness.sort_values('R', ascending=False).head()"
   ]
  },
  {
   "cell_type": "code",
   "execution_count": null,
   "metadata": {},
   "outputs": [],
   "source": [
    "dispute_pop.datasets.fitness.sort_values('R', ascending=False).head(5)"
   ]
  },
  {
   "cell_type": "code",
   "execution_count": null,
   "metadata": {},
   "outputs": [],
   "source": [
    "elitism_pop.datasets.fitness.sort_values('R', ascending=False).head(5)"
   ]
  },
  {
   "cell_type": "code",
   "execution_count": null,
   "metadata": {},
   "outputs": [],
   "source": [
    "gear = SuperGear(1.2)\n",
    "gear.set_gears(75, 131, 67, 117)\n",
    "gear.show_specs()\n",
    "gear.possible_satellites()"
   ]
  },
  {
   "cell_type": "code",
   "execution_count": null,
   "metadata": {},
   "outputs": [],
   "source": [
    "(75 + 28)*1.2/2"
   ]
  },
  {
   "cell_type": "code",
   "execution_count": null,
   "metadata": {},
   "outputs": [],
   "source": [
    "(67 + 25)*1.2/2"
   ]
  }
 ],
 "metadata": {
  "kernelspec": {
   "display_name": "Lamarck Env",
   "language": "python",
   "name": "lamarck"
  },
  "language_info": {
   "codemirror_mode": {
    "name": "ipython",
    "version": 3
   },
   "file_extension": ".py",
   "mimetype": "text/x-python",
   "name": "python",
   "nbconvert_exporter": "python",
   "pygments_lexer": "ipython3",
   "version": "3.9.1"
  }
 },
 "nbformat": 4,
 "nbformat_minor": 4
}
