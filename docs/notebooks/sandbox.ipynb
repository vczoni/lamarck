{
 "cells": [
  {
   "cell_type": "code",
   "execution_count": null,
   "metadata": {},
   "outputs": [],
   "source": [
    "import sys\n",
    "import numpy as np\n",
    "import pandas as pd\n",
    "sys.path.append('../..')"
   ]
  },
  {
   "cell_type": "markdown",
   "metadata": {},
   "source": [
    "# Mini process example"
   ]
  },
  {
   "cell_type": "code",
   "execution_count": 54,
   "metadata": {},
   "outputs": [],
   "source": [
    "from tqdm import tqdm"
   ]
  },
  {
   "cell_type": "code",
   "execution_count": null,
   "metadata": {},
   "outputs": [
    {
     "name": "stderr",
     "output_type": "stream",
     "text": [
      "[mean profit: 808.9037940379404] Generating Offspring...:  60%|██████    | 12/20 [01:07<00:42,  5.29s/it]     "
     ]
    }
   ],
   "source": [
    "# population\n",
    "pop_creator = PopulationCreator(genome_blueprint)\n",
    "pop = pop_creator.create.det(7) + pop_creator.create.rand(500)\n",
    "pop.drop_duplicates()\n",
    "pop.define()\n",
    "\n",
    "#environment\n",
    "env = Environment()\n",
    "env.config.set_process(dummy_process)\n",
    "env.config.set_output_varibles('time', 'profit')\n",
    "\n",
    "# iterarions\n",
    "n_generations = 20\n",
    "pbar = tqdm(range(n_generations))\n",
    "profit = 0\n",
    "for _ in pbar:\n",
    "    pbar.set_description(f'[mean profit: {profit}] Simulating...')\n",
    "    env.simulate(pop)\n",
    "    profit = round(pop.datasets.output['profit'].mean(), 2)\n",
    "    pbar.set_description(f'[mean profit: {profit}] Applying Fitness Criteria...')\n",
    "    pop.apply_fitness.multi_objective.pareto(['time', 'profit'], objectives=['min', 'max'])\n",
    "    pbar.set_description(f'[mean profit: {profit}] Selecting...')\n",
    "    pop = pop.select()\n",
    "    pbar.set_description(f'[mean profit: {profit}] Generating Offspring...')\n",
    "    pop.reproduce.tournament(n_dispute=4)"
   ]
  },
  {
   "cell_type": "code",
   "execution_count": 59,
   "metadata": {},
   "outputs": [
    {
     "data": {
      "text/plain": [
       "<AxesSubplot:xlabel='generation', ylabel='profit'>"
      ]
     },
     "execution_count": 59,
     "metadata": {},
     "output_type": "execute_result"
    },
    {
     "data": {
      "image/png": "[encoded data removed]",
      "text/plain": [
       "<Figure size 432x288 with 1 Axes>"
      ]
     },
     "metadata": {
      "needs_background": "light"
     },
     "output_type": "display_data"
    }
   ],
   "source": [
    "pop.plot.history('profit', 'mean', 'max')"
   ]
  }
 ],
 "metadata": {
  "kernelspec": {
   "display_name": "Python 3",
   "language": "python",
   "name": "python3"
  },
  "language_info": {
   "codemirror_mode": {
    "name": "ipython",
    "version": 3
   },
   "file_extension": ".py",
   "mimetype": "text/x-python",
   "name": "python",
   "nbconvert_exporter": "python",
   "pygments_lexer": "ipython3",
   "version": "3.9.1"
  }
 },
 "nbformat": 4,
 "nbformat_minor": 4
}
