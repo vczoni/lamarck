{
 "cells": [
  {
   "cell_type": "code",
   "execution_count": 1,
   "metadata": {},
   "outputs": [],
   "source": [
    "import sys\n",
    "import numpy as np\n",
    "import pandas as pd\n",
    "sys.path.append('../..')"
   ]
  },
  {
   "cell_type": "code",
   "execution_count": 2,
   "metadata": {},
   "outputs": [],
   "source": [
    "from tqdm import tqdm\n",
    "from supergear import SuperGear, calculate_R"
   ]
  },
  {
   "cell_type": "code",
   "execution_count": 3,
   "metadata": {},
   "outputs": [],
   "source": [
    "from lamarck.assistant import GenomeCreator\n",
    "from lamarck.assistant import PopulationCreator\n",
    "from lamarck import Environment"
   ]
  },
  {
   "cell_type": "markdown",
   "metadata": {},
   "source": [
    "# Mini process example - gear optimization"
   ]
  },
  {
   "cell_type": "markdown",
   "metadata": {},
   "source": [
    "### Process"
   ]
  },
  {
   "cell_type": "markdown",
   "metadata": {},
   "source": [
    "$\\omega_1 = \\omega * R$\n",
    "\n",
    "$R = \\frac{\\omega_1'}{\\omega}$\n",
    "\n",
    "$R = \\frac{z_1 + z_3}{z_1 - z_1' \\frac{z_3}{z_3'}}$\n",
    "\n",
    "$\\omega_1' = R * \\omega$\n",
    "\n",
    "$\\omega_2' = \\omega_1' * \\frac{2*z_1'}{z_3' - z_1'}$\n",
    "\n",
    "$\\omega_2 = \\omega_1' * \\frac{z_1 + z_1' \\frac{z_3}{z_3'}}{z_3 - z_1}$\n",
    "\n",
    "having the $\\omega'$s as the $input$ side and the $\\omega$s as the $output$ side"
   ]
  },
  {
   "cell_type": "code",
   "execution_count": 4,
   "metadata": {},
   "outputs": [],
   "source": [
    "def compute_gear(z1i, z1o, di, do):\n",
    "    z3i = z1i + di\n",
    "    z3o = z1o + do\n",
    "    if z3o/z3i == z1o/z1i:\n",
    "        return {\n",
    "            'R': 0,\n",
    "            'DiameterRatio': 100,\n",
    "        }\n",
    "    else:\n",
    "        return {\n",
    "            'R': abs(calculate_R(z1o, z3o, z1i, z3i)),\n",
    "            'DiameterRatio': max(z3i/z3o, z3o/z3i),\n",
    "        }"
   ]
  },
  {
   "cell_type": "markdown",
   "metadata": {},
   "source": [
    "### Optimization"
   ]
  },
  {
   "cell_type": "markdown",
   "metadata": {},
   "source": [
    "#### Genome Creation"
   ]
  },
  {
   "cell_type": "code",
   "execution_count": 5,
   "metadata": {},
   "outputs": [],
   "source": [
    "genome_creator = GenomeCreator()\n",
    "\n",
    "genome_creator.add_gene_specs.numeric(name='z1i',\n",
    "                                      min=30,\n",
    "                                      max=60,\n",
    "                                      progression='linear',\n",
    "                                      domain='int')\n",
    "\n",
    "genome_creator.add_gene_specs.numeric(name='z1o',\n",
    "                                      min=30,\n",
    "                                      max=60,\n",
    "                                      progression='linear',\n",
    "                                      domain='int')\n",
    "\n",
    "genome_creator.add_gene_specs.numeric(name='di',\n",
    "                                      min=30,\n",
    "                                      max=180,\n",
    "                                      progression='linear',\n",
    "                                      domain='int')\n",
    "\n",
    "genome_creator.add_gene_specs.numeric(name='do',\n",
    "                                      min=30,\n",
    "                                      max=180,\n",
    "                                      progression='linear',\n",
    "                                      domain='int')\n",
    "\n",
    "genome_blueprint = genome_creator.get_genome_blueprint()"
   ]
  },
  {
   "cell_type": "code",
   "execution_count": null,
   "metadata": {},
   "outputs": [],
   "source": [
    "pop_creator = PopulationCreator(genome_blueprint)"
   ]
  },
  {
   "cell_type": "markdown",
   "metadata": {},
   "source": [
    "#### Simulate Serial"
   ]
  },
  {
   "cell_type": "markdown",
   "metadata": {},
   "source": [
    "Population"
   ]
  },
  {
   "cell_type": "code",
   "execution_count": 6,
   "metadata": {},
   "outputs": [
    {
     "data": {
      "text/plain": [
       "Population with 4401 Creatures with genes z1i (numeric), z1o (numeric), di (numeric), do (numeric).\n",
       "        "
      ]
     },
     "execution_count": 6,
     "metadata": {},
     "output_type": "execute_result"
    }
   ],
   "source": [
    "pop = pop_creator.create.det(7) + pop_creator.create.rand(2000)\n",
    "pop.define()\n",
    "pop"
   ]
  },
  {
   "cell_type": "code",
   "execution_count": 8,
   "metadata": {},
   "outputs": [
    {
     "data": {
      "text/plain": [
       "<AxesSubplot:xlabel='z1i', ylabel='z1o'>"
      ]
     },
     "execution_count": 8,
     "metadata": {},
     "output_type": "execute_result"
    },
    {
     "data": {
      "image/png": "[encoded data removed]",
      "text/plain": [
       "<Figure size 432x288 with 1 Axes>"
      ]
     },
     "metadata": {
      "needs_background": "light"
     },
     "output_type": "display_data"
    }
   ],
   "source": [
    "pop.plot.variable_pair('z1i', 'z1o')"
   ]
  },
  {
   "cell_type": "markdown",
   "metadata": {},
   "source": [
    "Environment"
   ]
  },
  {
   "cell_type": "code",
   "execution_count": 9,
   "metadata": {},
   "outputs": [],
   "source": [
    "env = Environment()\n",
    "env.config.set_multi(False)\n",
    "env.config.set_process(compute_gear)\n",
    "outputs = ['R', 'DiameterRatio']\n",
    "objectives = ['max', 'min']\n",
    "env.config.set_output_varibles(*outputs)"
   ]
  },
  {
   "cell_type": "code",
   "execution_count": 10,
   "metadata": {},
   "outputs": [
    {
     "name": "stderr",
     "output_type": "stream",
     "text": [
      "[max R: 42823.0] Generating Offspring...: 100%|██████████| 20/20 [16:10<00:00, 48.51s/it]     \n"
     ]
    }
   ],
   "source": [
    "# iterarions\n",
    "n_generations = 20\n",
    "pbar = tqdm(range(n_generations))\n",
    "R = 0\n",
    "for _ in pbar:\n",
    "    pbar.set_description(f'[max R: {R}] Simulating...')\n",
    "    env.simulate(pop)\n",
    "    R = round(pop.datasets.output['R'].max(), 2)\n",
    "    pbar.set_description(f'[max R: {R}] Applying Fitness Criteria...')\n",
    "    pop.apply_fitness.multi_objective.pareto(outputs, objectives=objectives)\n",
    "    pbar.set_description(f'[max R: {R}] Selecting...')\n",
    "    pop = pop.select()\n",
    "    pbar.set_description(f'[max R: {R}] Generating Offspring...')\n",
    "    pop.reproduce.tournament(n_dispute=2)"
   ]
  },
  {
   "cell_type": "code",
   "execution_count": 23,
   "metadata": {},
   "outputs": [
    {
     "data": {
      "text/plain": [
       "<AxesSubplot:xlabel='generation', ylabel='DiameterRatio'>"
      ]
     },
     "execution_count": 23,
     "metadata": {},
     "output_type": "execute_result"
    },
    {
     "data": {
      "image/png": "[encoded data removed]",
      "text/plain": [
       "<Figure size 432x288 with 1 Axes>"
      ]
     },
     "metadata": {
      "needs_background": "light"
     },
     "output_type": "display_data"
    },
    {
     "data": {
      "image/png": "[encoded data removed]",
      "text/plain": [
       "<Figure size 432x288 with 1 Axes>"
      ]
     },
     "metadata": {
      "needs_background": "light"
     },
     "output_type": "display_data"
    }
   ],
   "source": [
    "pop.plot.history('R', 'mean')\n",
    "pop.plot.history('DiameterRatio', 'mean')"
   ]
  },
  {
   "cell_type": "code",
   "execution_count": 30,
   "metadata": {},
   "outputs": [
    {
     "data": {
      "text/plain": [
       "<AxesSubplot:xlabel='DiameterRatio', ylabel='R'>"
      ]
     },
     "execution_count": 30,
     "metadata": {},
     "output_type": "execute_result"
    },
    {
     "data": {
      "image/png": "[encoded data removed]",
      "text/plain": [
       "<Figure size 432x288 with 2 Axes>"
      ]
     },
     "metadata": {
      "needs_background": "light"
     },
     "output_type": "display_data"
    }
   ],
   "source": [
    "pop.plot.fronts(x='DiameterRatio', y='R', xlim=(0.95, 1.255))"
   ]
  },
  {
   "cell_type": "code",
   "execution_count": 31,
   "metadata": {},
   "outputs": [
    {
     "data": {
      "text/html": [
       "<div>\n",
       "<style scoped>\n",
       "    .dataframe tbody tr th:only-of-type {\n",
       "        vertical-align: middle;\n",
       "    }\n",
       "\n",
       "    .dataframe tbody tr th {\n",
       "        vertical-align: top;\n",
       "    }\n",
       "\n",
       "    .dataframe thead th {\n",
       "        text-align: right;\n",
       "    }\n",
       "</style>\n",
       "<table border=\"1\" class=\"dataframe\">\n",
       "  <thead>\n",
       "    <tr style=\"text-align: right;\">\n",
       "      <th></th>\n",
       "      <th>z1i</th>\n",
       "      <th>z1o</th>\n",
       "      <th>di</th>\n",
       "      <th>do</th>\n",
       "      <th>R</th>\n",
       "      <th>DiameterRatio</th>\n",
       "      <th>criteria0</th>\n",
       "      <th>criteria1</th>\n",
       "      <th>front</th>\n",
       "      <th>crowd</th>\n",
       "    </tr>\n",
       "    <tr>\n",
       "      <th>id</th>\n",
       "      <th></th>\n",
       "      <th></th>\n",
       "      <th></th>\n",
       "      <th></th>\n",
       "      <th></th>\n",
       "      <th></th>\n",
       "      <th></th>\n",
       "      <th></th>\n",
       "      <th></th>\n",
       "      <th></th>\n",
       "    </tr>\n",
       "  </thead>\n",
       "  <tbody>\n",
       "    <tr>\n",
       "      <th>-7591026460462084478</th>\n",
       "      <td>48</td>\n",
       "      <td>20</td>\n",
       "      <td>66</td>\n",
       "      <td>94</td>\n",
       "      <td>4.785714</td>\n",
       "      <td>1.000000</td>\n",
       "      <td>-0.246604</td>\n",
       "      <td>-0.060060</td>\n",
       "      <td>1.0</td>\n",
       "      <td>inf</td>\n",
       "    </tr>\n",
       "    <tr>\n",
       "      <th>1525785286617851104</th>\n",
       "      <td>47</td>\n",
       "      <td>46</td>\n",
       "      <td>140</td>\n",
       "      <td>137</td>\n",
       "      <td>42823.000000</td>\n",
       "      <td>1.021858</td>\n",
       "      <td>20.178223</td>\n",
       "      <td>-0.053508</td>\n",
       "      <td>1.0</td>\n",
       "      <td>inf</td>\n",
       "    </tr>\n",
       "    <tr>\n",
       "      <th>7677142254259258754</th>\n",
       "      <td>32</td>\n",
       "      <td>53</td>\n",
       "      <td>106</td>\n",
       "      <td>85</td>\n",
       "      <td>9.095238</td>\n",
       "      <td>1.000000</td>\n",
       "      <td>-0.244548</td>\n",
       "      <td>-0.060060</td>\n",
       "      <td>1.0</td>\n",
       "      <td>inf</td>\n",
       "    </tr>\n",
       "    <tr>\n",
       "      <th>4081329764494348248</th>\n",
       "      <td>59</td>\n",
       "      <td>58</td>\n",
       "      <td>115</td>\n",
       "      <td>113</td>\n",
       "      <td>13282.000000</td>\n",
       "      <td>1.017544</td>\n",
       "      <td>6.086795</td>\n",
       "      <td>-0.054801</td>\n",
       "      <td>1.0</td>\n",
       "      <td>15.334592</td>\n",
       "    </tr>\n",
       "    <tr>\n",
       "      <th>-1925941739584333781</th>\n",
       "      <td>59</td>\n",
       "      <td>58</td>\n",
       "      <td>123</td>\n",
       "      <td>121</td>\n",
       "      <td>8626.800000</td>\n",
       "      <td>1.016760</td>\n",
       "      <td>3.866206</td>\n",
       "      <td>-0.055036</td>\n",
       "      <td>1.0</td>\n",
       "      <td>3.998523</td>\n",
       "    </tr>\n",
       "    <tr>\n",
       "      <th>...</th>\n",
       "      <td>...</td>\n",
       "      <td>...</td>\n",
       "      <td>...</td>\n",
       "      <td>...</td>\n",
       "      <td>...</td>\n",
       "      <td>...</td>\n",
       "      <td>...</td>\n",
       "      <td>...</td>\n",
       "      <td>...</td>\n",
       "      <td>...</td>\n",
       "    </tr>\n",
       "    <tr>\n",
       "      <th>3506857804665357961</th>\n",
       "      <td>44</td>\n",
       "      <td>46</td>\n",
       "      <td>48</td>\n",
       "      <td>49</td>\n",
       "      <td>NaN</td>\n",
       "      <td>NaN</td>\n",
       "      <td>NaN</td>\n",
       "      <td>NaN</td>\n",
       "      <td>NaN</td>\n",
       "      <td>NaN</td>\n",
       "    </tr>\n",
       "    <tr>\n",
       "      <th>89660999858288062</th>\n",
       "      <td>46</td>\n",
       "      <td>42</td>\n",
       "      <td>125</td>\n",
       "      <td>99</td>\n",
       "      <td>NaN</td>\n",
       "      <td>NaN</td>\n",
       "      <td>NaN</td>\n",
       "      <td>NaN</td>\n",
       "      <td>NaN</td>\n",
       "      <td>NaN</td>\n",
       "    </tr>\n",
       "    <tr>\n",
       "      <th>-4380755009424265921</th>\n",
       "      <td>46</td>\n",
       "      <td>46</td>\n",
       "      <td>95</td>\n",
       "      <td>123</td>\n",
       "      <td>NaN</td>\n",
       "      <td>NaN</td>\n",
       "      <td>NaN</td>\n",
       "      <td>NaN</td>\n",
       "      <td>NaN</td>\n",
       "      <td>NaN</td>\n",
       "    </tr>\n",
       "    <tr>\n",
       "      <th>7967655557932408952</th>\n",
       "      <td>42</td>\n",
       "      <td>31</td>\n",
       "      <td>122</td>\n",
       "      <td>124</td>\n",
       "      <td>NaN</td>\n",
       "      <td>NaN</td>\n",
       "      <td>NaN</td>\n",
       "      <td>NaN</td>\n",
       "      <td>NaN</td>\n",
       "      <td>NaN</td>\n",
       "    </tr>\n",
       "    <tr>\n",
       "      <th>4804642464000577574</th>\n",
       "      <td>33</td>\n",
       "      <td>49</td>\n",
       "      <td>123</td>\n",
       "      <td>115</td>\n",
       "      <td>NaN</td>\n",
       "      <td>NaN</td>\n",
       "      <td>NaN</td>\n",
       "      <td>NaN</td>\n",
       "      <td>NaN</td>\n",
       "      <td>NaN</td>\n",
       "    </tr>\n",
       "  </tbody>\n",
       "</table>\n",
       "<p>4402 rows × 10 columns</p>\n",
       "</div>"
      ],
      "text/plain": [
       "                      z1i  z1o   di   do             R  DiameterRatio  \\\n",
       "id                                                                      \n",
       "-7591026460462084478   48   20   66   94      4.785714       1.000000   \n",
       " 1525785286617851104   47   46  140  137  42823.000000       1.021858   \n",
       " 7677142254259258754   32   53  106   85      9.095238       1.000000   \n",
       " 4081329764494348248   59   58  115  113  13282.000000       1.017544   \n",
       "-1925941739584333781   59   58  123  121   8626.800000       1.016760   \n",
       "...                   ...  ...  ...  ...           ...            ...   \n",
       " 3506857804665357961   44   46   48   49           NaN            NaN   \n",
       " 89660999858288062     46   42  125   99           NaN            NaN   \n",
       "-4380755009424265921   46   46   95  123           NaN            NaN   \n",
       " 7967655557932408952   42   31  122  124           NaN            NaN   \n",
       " 4804642464000577574   33   49  123  115           NaN            NaN   \n",
       "\n",
       "                      criteria0  criteria1  front      crowd  \n",
       "id                                                            \n",
       "-7591026460462084478  -0.246604  -0.060060    1.0        inf  \n",
       " 1525785286617851104  20.178223  -0.053508    1.0        inf  \n",
       " 7677142254259258754  -0.244548  -0.060060    1.0        inf  \n",
       " 4081329764494348248   6.086795  -0.054801    1.0  15.334592  \n",
       "-1925941739584333781   3.866206  -0.055036    1.0   3.998523  \n",
       "...                         ...        ...    ...        ...  \n",
       " 3506857804665357961        NaN        NaN    NaN        NaN  \n",
       " 89660999858288062          NaN        NaN    NaN        NaN  \n",
       "-4380755009424265921        NaN        NaN    NaN        NaN  \n",
       " 7967655557932408952        NaN        NaN    NaN        NaN  \n",
       " 4804642464000577574        NaN        NaN    NaN        NaN  \n",
       "\n",
       "[4402 rows x 10 columns]"
      ]
     },
     "execution_count": 31,
     "metadata": {},
     "output_type": "execute_result"
    }
   ],
   "source": [
    "pop.datasets.fitness"
   ]
  },
  {
   "cell_type": "code",
   "execution_count": 32,
   "metadata": {},
   "outputs": [
    {
     "data": {
      "text/plain": [
       "-42822.00000000517"
      ]
     },
     "execution_count": 32,
     "metadata": {},
     "output_type": "execute_result"
    }
   ],
   "source": [
    "calculate_R(47, 187, 46, 183)"
   ]
  }
 ],
 "metadata": {
  "kernelspec": {
   "display_name": "Lamarck Env",
   "language": "python",
   "name": "lamarck"
  },
  "language_info": {
   "codemirror_mode": {
    "name": "ipython",
    "version": 3
   },
   "file_extension": ".py",
   "mimetype": "text/x-python",
   "name": "python",
   "nbconvert_exporter": "python",
   "pygments_lexer": "ipython3",
   "version": "3.9.1"
  }
 },
 "nbformat": 4,
 "nbformat_minor": 4
}
