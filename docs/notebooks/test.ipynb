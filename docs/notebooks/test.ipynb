{
 "cells": [
  {
   "cell_type": "code",
   "execution_count": 1,
   "metadata": {},
   "outputs": [],
   "source": [
    "import sys\n",
    "import pandas as pd\n",
    "sys.path.append('../..')"
   ]
  },
  {
   "cell_type": "markdown",
   "metadata": {},
   "source": [
    "# Creature"
   ]
  },
  {
   "cell_type": "code",
   "execution_count": 2,
   "metadata": {},
   "outputs": [],
   "source": [
    "from lamarck import Creature"
   ]
  },
  {
   "cell_type": "code",
   "execution_count": 3,
   "metadata": {},
   "outputs": [],
   "source": [
    "genome = {\n",
    "    'x': 10,\n",
    "    'y': 'A',\n",
    "    'z': (1, 2, 3)\n",
    "}"
   ]
  },
  {
   "cell_type": "code",
   "execution_count": 4,
   "metadata": {},
   "outputs": [],
   "source": [
    "creature = Creature(genome)"
   ]
  },
  {
   "cell_type": "code",
   "execution_count": 5,
   "metadata": {},
   "outputs": [
    {
     "data": {
      "text/plain": [
       "-1132686742664702176"
      ]
     },
     "execution_count": 5,
     "metadata": {},
     "output_type": "execute_result"
    }
   ],
   "source": [
    "creature.id"
   ]
  },
  {
   "cell_type": "markdown",
   "metadata": {},
   "source": [
    "# Genome Creator"
   ]
  },
  {
   "cell_type": "code",
   "execution_count": 6,
   "metadata": {},
   "outputs": [],
   "source": [
    "from lamarck.assistant import GenomeCreator"
   ]
  },
  {
   "cell_type": "code",
   "execution_count": 7,
   "metadata": {},
   "outputs": [],
   "source": [
    "genome_creator = GenomeCreator()"
   ]
  },
  {
   "cell_type": "code",
   "execution_count": 8,
   "metadata": {},
   "outputs": [],
   "source": [
    "genome_creator.add_gene_specs.numeric(name='x',\n",
    "                                      min=0,\n",
    "                                      max=10,\n",
    "                                      progression='linear',\n",
    "                                      domain='int')\n",
    "\n",
    "genome_creator.add_gene_specs.categorical(name='y', domain=['A', 'B', 'C', 'D', 'E'])\n",
    "\n",
    "genome_creator.add_gene_specs.vectorial(name='z', length=4, replace=False, domain=['i', 'j', 'k', 'l', 'm'])"
   ]
  },
  {
   "cell_type": "code",
   "execution_count": 9,
   "metadata": {},
   "outputs": [],
   "source": [
    "genome_blueprint = genome_creator.get_genome_blueprint()"
   ]
  },
  {
   "cell_type": "code",
   "execution_count": 10,
   "metadata": {},
   "outputs": [
    {
     "data": {
      "text/plain": [
       "{'x': {'type': 'numeric',\n",
       "  'domain': 'int',\n",
       "  'ranges': {'min': 0, 'max': 10, 'progression': 'linear'}},\n",
       " 'y': {'type': 'categorical', 'domain': ['A', 'B', 'C', 'D', 'E']},\n",
       " 'z': {'type': 'vectorial',\n",
       "  'domain': ['i', 'j', 'k', 'l', 'm'],\n",
       "  'ranges': {'length': 4, 'replace': False}}}"
      ]
     },
     "execution_count": 10,
     "metadata": {},
     "output_type": "execute_result"
    }
   ],
   "source": [
    "genome_blueprint"
   ]
  },
  {
   "cell_type": "markdown",
   "metadata": {},
   "source": [
    "# Population Creator"
   ]
  },
  {
   "cell_type": "code",
   "execution_count": 11,
   "metadata": {},
   "outputs": [],
   "source": [
    "from lamarck.assistant import PopulationCreator"
   ]
  },
  {
   "cell_type": "code",
   "execution_count": 12,
   "metadata": {},
   "outputs": [],
   "source": [
    "pop_creator = PopulationCreator(genome_blueprint)"
   ]
  },
  {
   "cell_type": "code",
   "execution_count": 13,
   "metadata": {},
   "outputs": [
    {
     "data": {
      "text/plain": [
       "Population with 1000 Creatures with genes x (numeric), y (categorical), z (vectorial).\n",
       "        "
      ]
     },
     "execution_count": 13,
     "metadata": {},
     "output_type": "execute_result"
    }
   ],
   "source": [
    "popdet = pop_creator.create.det(10)\n",
    "popdet"
   ]
  },
  {
   "cell_type": "code",
   "execution_count": 14,
   "metadata": {},
   "outputs": [
    {
     "data": {
      "text/html": [
       "<div>\n",
       "<style scoped>\n",
       "    .dataframe tbody tr th:only-of-type {\n",
       "        vertical-align: middle;\n",
       "    }\n",
       "\n",
       "    .dataframe tbody tr th {\n",
       "        vertical-align: top;\n",
       "    }\n",
       "\n",
       "    .dataframe thead th {\n",
       "        text-align: right;\n",
       "    }\n",
       "</style>\n",
       "<table border=\"1\" class=\"dataframe\">\n",
       "  <thead>\n",
       "    <tr style=\"text-align: right;\">\n",
       "      <th></th>\n",
       "      <th>x</th>\n",
       "      <th>y</th>\n",
       "      <th>z</th>\n",
       "    </tr>\n",
       "  </thead>\n",
       "  <tbody>\n",
       "    <tr>\n",
       "      <th>0</th>\n",
       "      <td>0</td>\n",
       "      <td>A</td>\n",
       "      <td>(i, j, k, l)</td>\n",
       "    </tr>\n",
       "    <tr>\n",
       "      <th>1</th>\n",
       "      <td>0</td>\n",
       "      <td>A</td>\n",
       "      <td>(i, l, j, k)</td>\n",
       "    </tr>\n",
       "    <tr>\n",
       "      <th>2</th>\n",
       "      <td>0</td>\n",
       "      <td>A</td>\n",
       "      <td>(j, i, k, l)</td>\n",
       "    </tr>\n",
       "    <tr>\n",
       "      <th>3</th>\n",
       "      <td>0</td>\n",
       "      <td>A</td>\n",
       "      <td>(j, l, i, k)</td>\n",
       "    </tr>\n",
       "    <tr>\n",
       "      <th>4</th>\n",
       "      <td>0</td>\n",
       "      <td>A</td>\n",
       "      <td>(k, i, j, l)</td>\n",
       "    </tr>\n",
       "  </tbody>\n",
       "</table>\n",
       "</div>"
      ],
      "text/plain": [
       "   x  y             z\n",
       "0  0  A  (i, j, k, l)\n",
       "1  0  A  (i, l, j, k)\n",
       "2  0  A  (j, i, k, l)\n",
       "3  0  A  (j, l, i, k)\n",
       "4  0  A  (k, i, j, l)"
      ]
     },
     "execution_count": 14,
     "metadata": {},
     "output_type": "execute_result"
    }
   ],
   "source": [
    "popdet.datasets.main.head()"
   ]
  },
  {
   "cell_type": "code",
   "execution_count": 15,
   "metadata": {},
   "outputs": [
    {
     "data": {
      "text/plain": [
       "Population with 2000 Creatures with genes x (numeric), y (categorical), z (vectorial).\n",
       "        "
      ]
     },
     "execution_count": 15,
     "metadata": {},
     "output_type": "execute_result"
    }
   ],
   "source": [
    "poprand = pop_creator.create.rand(2000)\n",
    "poprand"
   ]
  },
  {
   "cell_type": "code",
   "execution_count": 16,
   "metadata": {},
   "outputs": [
    {
     "data": {
      "text/html": [
       "<div>\n",
       "<style scoped>\n",
       "    .dataframe tbody tr th:only-of-type {\n",
       "        vertical-align: middle;\n",
       "    }\n",
       "\n",
       "    .dataframe tbody tr th {\n",
       "        vertical-align: top;\n",
       "    }\n",
       "\n",
       "    .dataframe thead th {\n",
       "        text-align: right;\n",
       "    }\n",
       "</style>\n",
       "<table border=\"1\" class=\"dataframe\">\n",
       "  <thead>\n",
       "    <tr style=\"text-align: right;\">\n",
       "      <th></th>\n",
       "      <th>x</th>\n",
       "      <th>y</th>\n",
       "      <th>z</th>\n",
       "    </tr>\n",
       "    <tr>\n",
       "      <th>id</th>\n",
       "      <th></th>\n",
       "      <th></th>\n",
       "      <th></th>\n",
       "    </tr>\n",
       "  </thead>\n",
       "  <tbody>\n",
       "    <tr>\n",
       "      <th>666509958041338162</th>\n",
       "      <td>4</td>\n",
       "      <td>B</td>\n",
       "      <td>(l, i, k, j)</td>\n",
       "    </tr>\n",
       "    <tr>\n",
       "      <th>7023763548431575953</th>\n",
       "      <td>8</td>\n",
       "      <td>C</td>\n",
       "      <td>(j, m, k, l)</td>\n",
       "    </tr>\n",
       "    <tr>\n",
       "      <th>-3391006703001545400</th>\n",
       "      <td>6</td>\n",
       "      <td>D</td>\n",
       "      <td>(k, l, j, m)</td>\n",
       "    </tr>\n",
       "    <tr>\n",
       "      <th>-5071905066210007658</th>\n",
       "      <td>2</td>\n",
       "      <td>C</td>\n",
       "      <td>(i, l, k, m)</td>\n",
       "    </tr>\n",
       "    <tr>\n",
       "      <th>-3731567702039812928</th>\n",
       "      <td>5</td>\n",
       "      <td>B</td>\n",
       "      <td>(i, m, j, l)</td>\n",
       "    </tr>\n",
       "  </tbody>\n",
       "</table>\n",
       "</div>"
      ],
      "text/plain": [
       "                      x  y             z\n",
       "id                                      \n",
       " 666509958041338162   4  B  (l, i, k, j)\n",
       " 7023763548431575953  8  C  (j, m, k, l)\n",
       "-3391006703001545400  6  D  (k, l, j, m)\n",
       "-5071905066210007658  2  C  (i, l, k, m)\n",
       "-3731567702039812928  5  B  (i, m, j, l)"
      ]
     },
     "execution_count": 16,
     "metadata": {},
     "output_type": "execute_result"
    }
   ],
   "source": [
    "poprand.datasets.input.head()"
   ]
  },
  {
   "cell_type": "code",
   "execution_count": 17,
   "metadata": {},
   "outputs": [
    {
     "data": {
      "text/plain": [
       "Population with 3000 Creatures with genes x (numeric), y (categorical), z (vectorial).\n",
       "        "
      ]
     },
     "execution_count": 17,
     "metadata": {},
     "output_type": "execute_result"
    }
   ],
   "source": [
    "popdirty = popdet + poprand\n",
    "popdirty"
   ]
  },
  {
   "cell_type": "code",
   "execution_count": 18,
   "metadata": {},
   "outputs": [
    {
     "data": {
      "text/html": [
       "<div>\n",
       "<style scoped>\n",
       "    .dataframe tbody tr th:only-of-type {\n",
       "        vertical-align: middle;\n",
       "    }\n",
       "\n",
       "    .dataframe tbody tr th {\n",
       "        vertical-align: top;\n",
       "    }\n",
       "\n",
       "    .dataframe thead th {\n",
       "        text-align: right;\n",
       "    }\n",
       "</style>\n",
       "<table border=\"1\" class=\"dataframe\">\n",
       "  <thead>\n",
       "    <tr style=\"text-align: right;\">\n",
       "      <th></th>\n",
       "      <th>x</th>\n",
       "      <th>y</th>\n",
       "      <th>z</th>\n",
       "    </tr>\n",
       "    <tr>\n",
       "      <th>id</th>\n",
       "      <th></th>\n",
       "      <th></th>\n",
       "      <th></th>\n",
       "    </tr>\n",
       "  </thead>\n",
       "  <tbody>\n",
       "    <tr>\n",
       "      <th>-711150599823231430</th>\n",
       "      <td>0</td>\n",
       "      <td>A</td>\n",
       "      <td>(i, j, k, l)</td>\n",
       "    </tr>\n",
       "    <tr>\n",
       "      <th>-5835641605386335832</th>\n",
       "      <td>0</td>\n",
       "      <td>A</td>\n",
       "      <td>(i, l, j, k)</td>\n",
       "    </tr>\n",
       "    <tr>\n",
       "      <th>-7693062973519985788</th>\n",
       "      <td>0</td>\n",
       "      <td>A</td>\n",
       "      <td>(j, i, k, l)</td>\n",
       "    </tr>\n",
       "    <tr>\n",
       "      <th>8895525364854942014</th>\n",
       "      <td>0</td>\n",
       "      <td>A</td>\n",
       "      <td>(j, l, i, k)</td>\n",
       "    </tr>\n",
       "    <tr>\n",
       "      <th>-8966928643616163701</th>\n",
       "      <td>0</td>\n",
       "      <td>A</td>\n",
       "      <td>(k, i, j, l)</td>\n",
       "    </tr>\n",
       "  </tbody>\n",
       "</table>\n",
       "</div>"
      ],
      "text/plain": [
       "                      x  y             z\n",
       "id                                      \n",
       "-711150599823231430   0  A  (i, j, k, l)\n",
       "-5835641605386335832  0  A  (i, l, j, k)\n",
       "-7693062973519985788  0  A  (j, i, k, l)\n",
       " 8895525364854942014  0  A  (j, l, i, k)\n",
       "-8966928643616163701  0  A  (k, i, j, l)"
      ]
     },
     "execution_count": 18,
     "metadata": {},
     "output_type": "execute_result"
    }
   ],
   "source": [
    "popdirty.datasets.input.head()"
   ]
  },
  {
   "cell_type": "code",
   "execution_count": 19,
   "metadata": {},
   "outputs": [
    {
     "data": {
      "text/plain": [
       "Population with 2078 Creatures with genes x (numeric), y (categorical), z (vectorial).\n",
       "        "
      ]
     },
     "execution_count": 19,
     "metadata": {},
     "output_type": "execute_result"
    }
   ],
   "source": [
    "pop = popdirty.drop_duplicates()\n",
    "pop"
   ]
  },
  {
   "cell_type": "code",
   "execution_count": 20,
   "metadata": {},
   "outputs": [
    {
     "data": {
      "text/html": [
       "<div>\n",
       "<style scoped>\n",
       "    .dataframe tbody tr th:only-of-type {\n",
       "        vertical-align: middle;\n",
       "    }\n",
       "\n",
       "    .dataframe tbody tr th {\n",
       "        vertical-align: top;\n",
       "    }\n",
       "\n",
       "    .dataframe thead th {\n",
       "        text-align: right;\n",
       "    }\n",
       "</style>\n",
       "<table border=\"1\" class=\"dataframe\">\n",
       "  <thead>\n",
       "    <tr style=\"text-align: right;\">\n",
       "      <th></th>\n",
       "      <th>x</th>\n",
       "      <th>y</th>\n",
       "      <th>z</th>\n",
       "    </tr>\n",
       "    <tr>\n",
       "      <th>id</th>\n",
       "      <th></th>\n",
       "      <th></th>\n",
       "      <th></th>\n",
       "    </tr>\n",
       "  </thead>\n",
       "  <tbody>\n",
       "    <tr>\n",
       "      <th>-711150599823231430</th>\n",
       "      <td>0</td>\n",
       "      <td>A</td>\n",
       "      <td>(i, j, k, l)</td>\n",
       "    </tr>\n",
       "    <tr>\n",
       "      <th>-5835641605386335832</th>\n",
       "      <td>0</td>\n",
       "      <td>A</td>\n",
       "      <td>(i, l, j, k)</td>\n",
       "    </tr>\n",
       "    <tr>\n",
       "      <th>-7693062973519985788</th>\n",
       "      <td>0</td>\n",
       "      <td>A</td>\n",
       "      <td>(j, i, k, l)</td>\n",
       "    </tr>\n",
       "    <tr>\n",
       "      <th>8895525364854942014</th>\n",
       "      <td>0</td>\n",
       "      <td>A</td>\n",
       "      <td>(j, l, i, k)</td>\n",
       "    </tr>\n",
       "    <tr>\n",
       "      <th>-8966928643616163701</th>\n",
       "      <td>0</td>\n",
       "      <td>A</td>\n",
       "      <td>(k, i, j, l)</td>\n",
       "    </tr>\n",
       "  </tbody>\n",
       "</table>\n",
       "</div>"
      ],
      "text/plain": [
       "                      x  y             z\n",
       "id                                      \n",
       "-711150599823231430   0  A  (i, j, k, l)\n",
       "-5835641605386335832  0  A  (i, l, j, k)\n",
       "-7693062973519985788  0  A  (j, i, k, l)\n",
       " 8895525364854942014  0  A  (j, l, i, k)\n",
       "-8966928643616163701  0  A  (k, i, j, l)"
      ]
     },
     "execution_count": 20,
     "metadata": {},
     "output_type": "execute_result"
    }
   ],
   "source": [
    "pop.datasets.input.head()"
   ]
  },
  {
   "cell_type": "markdown",
   "metadata": {},
   "source": [
    "# Environment"
   ]
  },
  {
   "cell_type": "code",
   "execution_count": 21,
   "metadata": {},
   "outputs": [],
   "source": [
    "from lamarck import Environment"
   ]
  },
  {
   "cell_type": "code",
   "execution_count": 22,
   "metadata": {},
   "outputs": [],
   "source": [
    "import hashlib\n",
    "\n",
    "def tuplehash(tuple_obj):\n",
    "    encoded = ''.join(tuple_obj).encode()\n",
    "    m = hashlib.md5()\n",
    "    m.update(encoded)\n",
    "    d = m.digest()\n",
    "    return int.from_bytes(d, 'big')\n",
    "    \n",
    "    \n",
    "def dummy_process(x, y, z):\n",
    "    zval = (tuplehash(z) % 1000) / (x+1)**0.75\n",
    "    yval = zval // ord(y) + tuplehash((y, y)) % 73\n",
    "    return {\n",
    "        'time': (x + 1) * abs(zval - yval) // 10,\n",
    "        'profit': (abs(3*zval - 2*yval)**((int(x/10) + 1) % 9) // (tuplehash((y, y)) % 7 + 1)) % 10000 + (zval*yval) //10\n",
    "    }"
   ]
  },
  {
   "cell_type": "code",
   "execution_count": 23,
   "metadata": {},
   "outputs": [],
   "source": [
    "env = Environment()"
   ]
  },
  {
   "cell_type": "code",
   "execution_count": 24,
   "metadata": {},
   "outputs": [],
   "source": [
    "env.config.set_process(dummy_process)"
   ]
  },
  {
   "cell_type": "code",
   "execution_count": 25,
   "metadata": {},
   "outputs": [],
   "source": [
    "env.config.set_output_varibles('time', 'profit')"
   ]
  },
  {
   "cell_type": "code",
   "execution_count": 26,
   "metadata": {},
   "outputs": [
    {
     "data": {
      "text/plain": [
       "multi:   False\n",
       "output_varibles:   ('time', 'profit')\n",
       "process:   <function dummy_process at 0x7f39b3a065e0>"
      ]
     },
     "execution_count": 26,
     "metadata": {},
     "output_type": "execute_result"
    }
   ],
   "source": [
    "env.config"
   ]
  },
  {
   "cell_type": "code",
   "execution_count": 27,
   "metadata": {},
   "outputs": [
    {
     "data": {
      "text/plain": [
       "Creature <1163125967778414808> - genome: {'x': 0, 'y': 'B', 'z': ('i', 'j', 'k', 'l')}"
      ]
     },
     "execution_count": 27,
     "metadata": {},
     "output_type": "execute_result"
    }
   ],
   "source": [
    "cr = pop[10]\n",
    "cr"
   ]
  },
  {
   "cell_type": "markdown",
   "metadata": {},
   "source": [
    "### Simulate Creature"
   ]
  },
  {
   "cell_type": "code",
   "execution_count": 28,
   "metadata": {},
   "outputs": [
    {
     "data": {
      "text/plain": [
       "{'time': 93.0, 'profit': 6323.0}"
      ]
     },
     "execution_count": 28,
     "metadata": {},
     "output_type": "execute_result"
    }
   ],
   "source": [
    "env.simulate(cr)"
   ]
  },
  {
   "cell_type": "markdown",
   "metadata": {},
   "source": [
    "### Simulate Population"
   ]
  },
  {
   "cell_type": "code",
   "execution_count": 29,
   "metadata": {},
   "outputs": [],
   "source": [
    "simpop = env.simulate(pop)"
   ]
  },
  {
   "cell_type": "code",
   "execution_count": 30,
   "metadata": {},
   "outputs": [
    {
     "data": {
      "text/plain": [
       "Population with 2078 Creatures with genes x (numeric), y (categorical), z (vectorial).\n",
       "        "
      ]
     },
     "execution_count": 30,
     "metadata": {},
     "output_type": "execute_result"
    }
   ],
   "source": [
    "simpop"
   ]
  },
  {
   "cell_type": "code",
   "execution_count": 31,
   "metadata": {},
   "outputs": [
    {
     "data": {
      "text/html": [
       "<div>\n",
       "<style scoped>\n",
       "    .dataframe tbody tr th:only-of-type {\n",
       "        vertical-align: middle;\n",
       "    }\n",
       "\n",
       "    .dataframe tbody tr th {\n",
       "        vertical-align: top;\n",
       "    }\n",
       "\n",
       "    .dataframe thead th {\n",
       "        text-align: right;\n",
       "    }\n",
       "</style>\n",
       "<table border=\"1\" class=\"dataframe\">\n",
       "  <thead>\n",
       "    <tr style=\"text-align: right;\">\n",
       "      <th></th>\n",
       "      <th>x</th>\n",
       "      <th>y</th>\n",
       "      <th>z</th>\n",
       "      <th>time</th>\n",
       "      <th>profit</th>\n",
       "    </tr>\n",
       "  </thead>\n",
       "  <tbody>\n",
       "    <tr>\n",
       "      <th>-711150599823231430</th>\n",
       "      <td>0</td>\n",
       "      <td>A</td>\n",
       "      <td>(i, j, k, l)</td>\n",
       "      <td>95.0</td>\n",
       "      <td>2154.0</td>\n",
       "    </tr>\n",
       "    <tr>\n",
       "      <th>-5835641605386335832</th>\n",
       "      <td>0</td>\n",
       "      <td>A</td>\n",
       "      <td>(i, l, j, k)</td>\n",
       "      <td>52.0</td>\n",
       "      <td>877.0</td>\n",
       "    </tr>\n",
       "    <tr>\n",
       "      <th>-7693062973519985788</th>\n",
       "      <td>0</td>\n",
       "      <td>A</td>\n",
       "      <td>(j, i, k, l)</td>\n",
       "      <td>25.0</td>\n",
       "      <td>325.0</td>\n",
       "    </tr>\n",
       "    <tr>\n",
       "      <th>8895525364854942014</th>\n",
       "      <td>0</td>\n",
       "      <td>A</td>\n",
       "      <td>(j, l, i, k)</td>\n",
       "      <td>76.0</td>\n",
       "      <td>1492.0</td>\n",
       "    </tr>\n",
       "    <tr>\n",
       "      <th>-8966928643616163701</th>\n",
       "      <td>0</td>\n",
       "      <td>A</td>\n",
       "      <td>(k, i, j, l)</td>\n",
       "      <td>16.0</td>\n",
       "      <td>171.0</td>\n",
       "    </tr>\n",
       "  </tbody>\n",
       "</table>\n",
       "</div>"
      ],
      "text/plain": [
       "                      x  y             z  time  profit\n",
       "-711150599823231430   0  A  (i, j, k, l)  95.0  2154.0\n",
       "-5835641605386335832  0  A  (i, l, j, k)  52.0   877.0\n",
       "-7693062973519985788  0  A  (j, i, k, l)  25.0   325.0\n",
       " 8895525364854942014  0  A  (j, l, i, k)  76.0  1492.0\n",
       "-8966928643616163701  0  A  (k, i, j, l)  16.0   171.0"
      ]
     },
     "execution_count": 31,
     "metadata": {},
     "output_type": "execute_result"
    }
   ],
   "source": [
    "simpop.datasets.output.head()"
   ]
  },
  {
   "cell_type": "markdown",
   "metadata": {},
   "source": [
    "### Simulate Population - Multi Thread"
   ]
  },
  {
   "cell_type": "code",
   "execution_count": 32,
   "metadata": {},
   "outputs": [],
   "source": [
    "env.config.set_multi(True)"
   ]
  },
  {
   "cell_type": "code",
   "execution_count": 33,
   "metadata": {},
   "outputs": [],
   "source": [
    "simpop = env.simulate(pop)"
   ]
  },
  {
   "cell_type": "code",
   "execution_count": 34,
   "metadata": {},
   "outputs": [
    {
     "data": {
      "text/html": [
       "<div>\n",
       "<style scoped>\n",
       "    .dataframe tbody tr th:only-of-type {\n",
       "        vertical-align: middle;\n",
       "    }\n",
       "\n",
       "    .dataframe tbody tr th {\n",
       "        vertical-align: top;\n",
       "    }\n",
       "\n",
       "    .dataframe thead th {\n",
       "        text-align: right;\n",
       "    }\n",
       "</style>\n",
       "<table border=\"1\" class=\"dataframe\">\n",
       "  <thead>\n",
       "    <tr style=\"text-align: right;\">\n",
       "      <th></th>\n",
       "      <th>x</th>\n",
       "      <th>y</th>\n",
       "      <th>z</th>\n",
       "      <th>time</th>\n",
       "      <th>profit</th>\n",
       "    </tr>\n",
       "  </thead>\n",
       "  <tbody>\n",
       "    <tr>\n",
       "      <th>-711150599823231430</th>\n",
       "      <td>0</td>\n",
       "      <td>A</td>\n",
       "      <td>(i, j, k, l)</td>\n",
       "      <td>95.0</td>\n",
       "      <td>2154.0</td>\n",
       "    </tr>\n",
       "    <tr>\n",
       "      <th>-5835641605386335832</th>\n",
       "      <td>0</td>\n",
       "      <td>A</td>\n",
       "      <td>(i, l, j, k)</td>\n",
       "      <td>52.0</td>\n",
       "      <td>877.0</td>\n",
       "    </tr>\n",
       "    <tr>\n",
       "      <th>-7693062973519985788</th>\n",
       "      <td>0</td>\n",
       "      <td>A</td>\n",
       "      <td>(j, i, k, l)</td>\n",
       "      <td>25.0</td>\n",
       "      <td>325.0</td>\n",
       "    </tr>\n",
       "    <tr>\n",
       "      <th>8895525364854942014</th>\n",
       "      <td>0</td>\n",
       "      <td>A</td>\n",
       "      <td>(j, l, i, k)</td>\n",
       "      <td>76.0</td>\n",
       "      <td>1492.0</td>\n",
       "    </tr>\n",
       "    <tr>\n",
       "      <th>-8966928643616163701</th>\n",
       "      <td>0</td>\n",
       "      <td>A</td>\n",
       "      <td>(k, i, j, l)</td>\n",
       "      <td>16.0</td>\n",
       "      <td>171.0</td>\n",
       "    </tr>\n",
       "  </tbody>\n",
       "</table>\n",
       "</div>"
      ],
      "text/plain": [
       "                      x  y             z  time  profit\n",
       "-711150599823231430   0  A  (i, j, k, l)  95.0  2154.0\n",
       "-5835641605386335832  0  A  (i, l, j, k)  52.0   877.0\n",
       "-7693062973519985788  0  A  (j, i, k, l)  25.0   325.0\n",
       " 8895525364854942014  0  A  (j, l, i, k)  76.0  1492.0\n",
       "-8966928643616163701  0  A  (k, i, j, l)  16.0   171.0"
      ]
     },
     "execution_count": 34,
     "metadata": {},
     "output_type": "execute_result"
    }
   ],
   "source": [
    "simpop.datasets.output.head()"
   ]
  },
  {
   "cell_type": "markdown",
   "metadata": {},
   "source": [
    "# Fitness"
   ]
  },
  {
   "cell_type": "markdown",
   "metadata": {},
   "source": [
    "### 1. Single Objective"
   ]
  },
  {
   "cell_type": "code",
   "execution_count": 35,
   "metadata": {},
   "outputs": [],
   "source": [
    "single_objective_pop = simpop.apply_fitness.single_objective(output='time', objective='min')"
   ]
  },
  {
   "cell_type": "code",
   "execution_count": 36,
   "metadata": {},
   "outputs": [
    {
     "data": {
      "text/html": [
       "<div>\n",
       "<style scoped>\n",
       "    .dataframe tbody tr th:only-of-type {\n",
       "        vertical-align: middle;\n",
       "    }\n",
       "\n",
       "    .dataframe tbody tr th {\n",
       "        vertical-align: top;\n",
       "    }\n",
       "\n",
       "    .dataframe thead th {\n",
       "        text-align: right;\n",
       "    }\n",
       "</style>\n",
       "<table border=\"1\" class=\"dataframe\">\n",
       "  <thead>\n",
       "    <tr style=\"text-align: right;\">\n",
       "      <th></th>\n",
       "      <th>x</th>\n",
       "      <th>y</th>\n",
       "      <th>z</th>\n",
       "      <th>time</th>\n",
       "      <th>profit</th>\n",
       "      <th>criteria</th>\n",
       "    </tr>\n",
       "  </thead>\n",
       "  <tbody>\n",
       "    <tr>\n",
       "      <th>8461363887649495</th>\n",
       "      <td>3</td>\n",
       "      <td>D</td>\n",
       "      <td>(k, i, j, m)</td>\n",
       "      <td>0.0</td>\n",
       "      <td>33.0</td>\n",
       "      <td>0.0</td>\n",
       "    </tr>\n",
       "    <tr>\n",
       "      <th>-1962383659364999440</th>\n",
       "      <td>1</td>\n",
       "      <td>B</td>\n",
       "      <td>(k, i, l, j)</td>\n",
       "      <td>0.0</td>\n",
       "      <td>72.0</td>\n",
       "      <td>0.0</td>\n",
       "    </tr>\n",
       "    <tr>\n",
       "      <th>5595222774491071447</th>\n",
       "      <td>6</td>\n",
       "      <td>E</td>\n",
       "      <td>(l, m, i, j)</td>\n",
       "      <td>0.0</td>\n",
       "      <td>232.0</td>\n",
       "      <td>0.0</td>\n",
       "    </tr>\n",
       "    <tr>\n",
       "      <th>1729626594819878671</th>\n",
       "      <td>3</td>\n",
       "      <td>B</td>\n",
       "      <td>(m, i, l, j)</td>\n",
       "      <td>0.0</td>\n",
       "      <td>60.0</td>\n",
       "      <td>0.0</td>\n",
       "    </tr>\n",
       "    <tr>\n",
       "      <th>-756907030698599695</th>\n",
       "      <td>4</td>\n",
       "      <td>C</td>\n",
       "      <td>(m, i, l, j)</td>\n",
       "      <td>0.0</td>\n",
       "      <td>31.0</td>\n",
       "      <td>0.0</td>\n",
       "    </tr>\n",
       "  </tbody>\n",
       "</table>\n",
       "</div>"
      ],
      "text/plain": [
       "                      x  y             z  time  profit  criteria\n",
       " 8461363887649495     3  D  (k, i, j, m)   0.0    33.0       0.0\n",
       "-1962383659364999440  1  B  (k, i, l, j)   0.0    72.0       0.0\n",
       " 5595222774491071447  6  E  (l, m, i, j)   0.0   232.0       0.0\n",
       " 1729626594819878671  3  B  (m, i, l, j)   0.0    60.0       0.0\n",
       "-756907030698599695   4  C  (m, i, l, j)   0.0    31.0       0.0"
      ]
     },
     "execution_count": 36,
     "metadata": {},
     "output_type": "execute_result"
    }
   ],
   "source": [
    "single_objective_pop.datasets.fitness.head()"
   ]
  },
  {
   "cell_type": "markdown",
   "metadata": {},
   "source": [
    "### 2. Multi Objective - Ranked"
   ]
  },
  {
   "cell_type": "code",
   "execution_count": 37,
   "metadata": {},
   "outputs": [],
   "source": [
    "ranked_objective_pop = simpop.apply_fitness.multi_objective.ranked(priorities=['time', 'profit'], objectives=['min', 'max'])"
   ]
  },
  {
   "cell_type": "code",
   "execution_count": 38,
   "metadata": {},
   "outputs": [
    {
     "data": {
      "text/html": [
       "<div>\n",
       "<style scoped>\n",
       "    .dataframe tbody tr th:only-of-type {\n",
       "        vertical-align: middle;\n",
       "    }\n",
       "\n",
       "    .dataframe tbody tr th {\n",
       "        vertical-align: top;\n",
       "    }\n",
       "\n",
       "    .dataframe thead th {\n",
       "        text-align: right;\n",
       "    }\n",
       "</style>\n",
       "<table border=\"1\" class=\"dataframe\">\n",
       "  <thead>\n",
       "    <tr style=\"text-align: right;\">\n",
       "      <th></th>\n",
       "      <th>x</th>\n",
       "      <th>y</th>\n",
       "      <th>z</th>\n",
       "      <th>time</th>\n",
       "      <th>profit</th>\n",
       "      <th>criteria0</th>\n",
       "      <th>criteria1</th>\n",
       "    </tr>\n",
       "  </thead>\n",
       "  <tbody>\n",
       "    <tr>\n",
       "      <th>1193589128154534061</th>\n",
       "      <td>1</td>\n",
       "      <td>E</td>\n",
       "      <td>(k, m, l, j)</td>\n",
       "      <td>0.0</td>\n",
       "      <td>236.0</td>\n",
       "      <td>0.0</td>\n",
       "      <td>236.0</td>\n",
       "    </tr>\n",
       "    <tr>\n",
       "      <th>1860729043613065368</th>\n",
       "      <td>5</td>\n",
       "      <td>E</td>\n",
       "      <td>(j, m, i, l)</td>\n",
       "      <td>0.0</td>\n",
       "      <td>234.0</td>\n",
       "      <td>0.0</td>\n",
       "      <td>234.0</td>\n",
       "    </tr>\n",
       "    <tr>\n",
       "      <th>5595222774491071447</th>\n",
       "      <td>6</td>\n",
       "      <td>E</td>\n",
       "      <td>(l, m, i, j)</td>\n",
       "      <td>0.0</td>\n",
       "      <td>232.0</td>\n",
       "      <td>0.0</td>\n",
       "      <td>232.0</td>\n",
       "    </tr>\n",
       "    <tr>\n",
       "      <th>2630803200567522982</th>\n",
       "      <td>8</td>\n",
       "      <td>E</td>\n",
       "      <td>(i, l, m, j)</td>\n",
       "      <td>0.0</td>\n",
       "      <td>230.0</td>\n",
       "      <td>0.0</td>\n",
       "      <td>230.0</td>\n",
       "    </tr>\n",
       "    <tr>\n",
       "      <th>5014467073235153863</th>\n",
       "      <td>7</td>\n",
       "      <td>E</td>\n",
       "      <td>(m, l, k, i)</td>\n",
       "      <td>0.0</td>\n",
       "      <td>229.0</td>\n",
       "      <td>0.0</td>\n",
       "      <td>229.0</td>\n",
       "    </tr>\n",
       "  </tbody>\n",
       "</table>\n",
       "</div>"
      ],
      "text/plain": [
       "                     x  y             z  time  profit  criteria0  criteria1\n",
       "1193589128154534061  1  E  (k, m, l, j)   0.0   236.0        0.0      236.0\n",
       "1860729043613065368  5  E  (j, m, i, l)   0.0   234.0        0.0      234.0\n",
       "5595222774491071447  6  E  (l, m, i, j)   0.0   232.0        0.0      232.0\n",
       "2630803200567522982  8  E  (i, l, m, j)   0.0   230.0        0.0      230.0\n",
       "5014467073235153863  7  E  (m, l, k, i)   0.0   229.0        0.0      229.0"
      ]
     },
     "execution_count": 38,
     "metadata": {},
     "output_type": "execute_result"
    }
   ],
   "source": [
    "ranked_objective_pop.datasets.fitness.head()"
   ]
  },
  {
   "cell_type": "markdown",
   "metadata": {},
   "source": [
    "### 3. Multi Objective - Pareto"
   ]
  },
  {
   "cell_type": "code",
   "execution_count": 39,
   "metadata": {},
   "outputs": [],
   "source": [
    "pareto_objective_pop = simpop.apply_fitness.multi_objective.pareto(outputs=['time', 'profit'], objectives=['min', 'max'])"
   ]
  },
  {
   "cell_type": "code",
   "execution_count": 40,
   "metadata": {},
   "outputs": [
    {
     "data": {
      "text/html": [
       "<div>\n",
       "<style scoped>\n",
       "    .dataframe tbody tr th:only-of-type {\n",
       "        vertical-align: middle;\n",
       "    }\n",
       "\n",
       "    .dataframe tbody tr th {\n",
       "        vertical-align: top;\n",
       "    }\n",
       "\n",
       "    .dataframe thead th {\n",
       "        text-align: right;\n",
       "    }\n",
       "</style>\n",
       "<table border=\"1\" class=\"dataframe\">\n",
       "  <thead>\n",
       "    <tr style=\"text-align: right;\">\n",
       "      <th></th>\n",
       "      <th>x</th>\n",
       "      <th>y</th>\n",
       "      <th>z</th>\n",
       "      <th>time</th>\n",
       "      <th>profit</th>\n",
       "      <th>criteria0</th>\n",
       "      <th>criteria1</th>\n",
       "      <th>front</th>\n",
       "      <th>crowd</th>\n",
       "    </tr>\n",
       "  </thead>\n",
       "  <tbody>\n",
       "    <tr>\n",
       "      <th>-2818785265728612721</th>\n",
       "      <td>10</td>\n",
       "      <td>E</td>\n",
       "      <td>(i, j, k, l)</td>\n",
       "      <td>122.0</td>\n",
       "      <td>10167.0</td>\n",
       "      <td>1.300701</td>\n",
       "      <td>7.827338</td>\n",
       "      <td>1</td>\n",
       "      <td>8.958610</td>\n",
       "    </tr>\n",
       "    <tr>\n",
       "      <th>-3369932058506276551</th>\n",
       "      <td>10</td>\n",
       "      <td>C</td>\n",
       "      <td>(k, l, i, j)</td>\n",
       "      <td>66.0</td>\n",
       "      <td>10076.0</td>\n",
       "      <td>0.005753</td>\n",
       "      <td>7.751207</td>\n",
       "      <td>1</td>\n",
       "      <td>8.563777</td>\n",
       "    </tr>\n",
       "    <tr>\n",
       "      <th>-3593402087204699045</th>\n",
       "      <td>10</td>\n",
       "      <td>B</td>\n",
       "      <td>(j, i, k, l)</td>\n",
       "      <td>24.0</td>\n",
       "      <td>7949.0</td>\n",
       "      <td>-0.965458</td>\n",
       "      <td>5.971752</td>\n",
       "      <td>1</td>\n",
       "      <td>6.670358</td>\n",
       "    </tr>\n",
       "    <tr>\n",
       "      <th>4721639248791679893</th>\n",
       "      <td>10</td>\n",
       "      <td>B</td>\n",
       "      <td>(l, k, i, j)</td>\n",
       "      <td>23.0</td>\n",
       "      <td>7599.0</td>\n",
       "      <td>-0.988582</td>\n",
       "      <td>5.678941</td>\n",
       "      <td>1</td>\n",
       "      <td>6.376638</td>\n",
       "    </tr>\n",
       "    <tr>\n",
       "      <th>-468910374316508830</th>\n",
       "      <td>10</td>\n",
       "      <td>B</td>\n",
       "      <td>(k, i, j, l)</td>\n",
       "      <td>6.0</td>\n",
       "      <td>1656.0</td>\n",
       "      <td>-1.381691</td>\n",
       "      <td>0.707009</td>\n",
       "      <td>1</td>\n",
       "      <td>1.389431</td>\n",
       "    </tr>\n",
       "  </tbody>\n",
       "</table>\n",
       "</div>"
      ],
      "text/plain": [
       "                       x  y             z   time   profit  criteria0  \\\n",
       "-2818785265728612721  10  E  (i, j, k, l)  122.0  10167.0   1.300701   \n",
       "-3369932058506276551  10  C  (k, l, i, j)   66.0  10076.0   0.005753   \n",
       "-3593402087204699045  10  B  (j, i, k, l)   24.0   7949.0  -0.965458   \n",
       " 4721639248791679893  10  B  (l, k, i, j)   23.0   7599.0  -0.988582   \n",
       "-468910374316508830   10  B  (k, i, j, l)    6.0   1656.0  -1.381691   \n",
       "\n",
       "                      criteria1  front     crowd  \n",
       "-2818785265728612721   7.827338      1  8.958610  \n",
       "-3369932058506276551   7.751207      1  8.563777  \n",
       "-3593402087204699045   5.971752      1  6.670358  \n",
       " 4721639248791679893   5.678941      1  6.376638  \n",
       "-468910374316508830    0.707009      1  1.389431  "
      ]
     },
     "execution_count": 40,
     "metadata": {},
     "output_type": "execute_result"
    }
   ],
   "source": [
    "pareto_objective_pop.datasets.fitness.head()"
   ]
  },
  {
   "cell_type": "code",
   "execution_count": 43,
   "metadata": {},
   "outputs": [
    {
     "data": {
      "image/png": "[encoded data removed]",
      "text/plain": [
       "<Figure size 432x288 with 2 Axes>"
      ]
     },
     "metadata": {
      "needs_background": "light"
     },
     "output_type": "display_data"
    }
   ],
   "source": [
    "ax = pareto_objective_pop.plot.fronts('time', 'profit', 1)"
   ]
  },
  {
   "cell_type": "markdown",
   "metadata": {},
   "source": [
    "# Selection"
   ]
  },
  {
   "cell_type": "code",
   "execution_count": null,
   "metadata": {},
   "outputs": [],
   "source": []
  }
 ],
 "metadata": {
  "kernelspec": {
   "display_name": "Lamarck Env",
   "language": "python",
   "name": "lamarck"
  },
  "language_info": {
   "codemirror_mode": {
    "name": "ipython",
    "version": 3
   },
   "file_extension": ".py",
   "mimetype": "text/x-python",
   "name": "python",
   "nbconvert_exporter": "python",
   "pygments_lexer": "ipython3",
   "version": "3.9.1"
  }
 },
 "nbformat": 4,
 "nbformat_minor": 4
}
