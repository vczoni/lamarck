{
 "cells": [
  {
   "cell_type": "code",
   "execution_count": 1,
   "metadata": {},
   "outputs": [],
   "source": [
    "import sys\n",
    "import pandas as pd\n",
    "sys.path.append('../..')"
   ]
  },
  {
   "cell_type": "markdown",
   "metadata": {},
   "source": [
    "# Creature"
   ]
  },
  {
   "cell_type": "code",
   "execution_count": 2,
   "metadata": {},
   "outputs": [],
   "source": [
    "from lamarck import Creature"
   ]
  },
  {
   "cell_type": "code",
   "execution_count": 3,
   "metadata": {},
   "outputs": [],
   "source": [
    "genome = {\n",
    "    'x': 10,\n",
    "    'y': 'A',\n",
    "    'z': (1, 2, 3)\n",
    "}"
   ]
  },
  {
   "cell_type": "code",
   "execution_count": 4,
   "metadata": {},
   "outputs": [],
   "source": [
    "creature = Creature(genome)"
   ]
  },
  {
   "cell_type": "code",
   "execution_count": 5,
   "metadata": {},
   "outputs": [
    {
     "data": {
      "text/plain": [
       "8238622632183650910"
      ]
     },
     "execution_count": 5,
     "metadata": {},
     "output_type": "execute_result"
    }
   ],
   "source": [
    "creature.id"
   ]
  },
  {
   "cell_type": "markdown",
   "metadata": {},
   "source": [
    "# Genome Creator"
   ]
  },
  {
   "cell_type": "code",
   "execution_count": 6,
   "metadata": {},
   "outputs": [],
   "source": [
    "from lamarck.assistant import GenomeCreator"
   ]
  },
  {
   "cell_type": "code",
   "execution_count": 7,
   "metadata": {},
   "outputs": [],
   "source": [
    "genome_creator = GenomeCreator()"
   ]
  },
  {
   "cell_type": "code",
   "execution_count": 8,
   "metadata": {},
   "outputs": [],
   "source": [
    "genome_creator.add_gene_specs.numeric(name='x',\n",
    "                                      min=0,\n",
    "                                      max=10,\n",
    "                                      progression='linear',\n",
    "                                      domain='int')\n",
    "\n",
    "genome_creator.add_gene_specs.categorical(name='y', domain=['A', 'B', 'C', 'D', 'E'])\n",
    "\n",
    "genome_creator.add_gene_specs.vectorial(name='z', length=4, replace=False, domain=['i', 'j', 'k', 'l', 'm'])"
   ]
  },
  {
   "cell_type": "code",
   "execution_count": 9,
   "metadata": {},
   "outputs": [],
   "source": [
    "genome_blueprint = genome_creator.get_genome_blueprint()"
   ]
  },
  {
   "cell_type": "code",
   "execution_count": 10,
   "metadata": {},
   "outputs": [
    {
     "data": {
      "text/plain": [
       "{'x': {'type': 'numeric',\n",
       "  'domain': 'int',\n",
       "  'ranges': {'min': 0, 'max': 10, 'progression': 'linear'}},\n",
       " 'y': {'type': 'categorical', 'domain': ['A', 'B', 'C', 'D', 'E']},\n",
       " 'z': {'type': 'vectorial',\n",
       "  'domain': ['i', 'j', 'k', 'l', 'm'],\n",
       "  'ranges': {'length': 4, 'replace': False}}}"
      ]
     },
     "execution_count": 10,
     "metadata": {},
     "output_type": "execute_result"
    }
   ],
   "source": [
    "genome_blueprint"
   ]
  },
  {
   "cell_type": "markdown",
   "metadata": {},
   "source": [
    "# Population Creator"
   ]
  },
  {
   "cell_type": "code",
   "execution_count": 11,
   "metadata": {},
   "outputs": [],
   "source": [
    "from lamarck.assistant import PopulationCreator"
   ]
  },
  {
   "cell_type": "code",
   "execution_count": 12,
   "metadata": {},
   "outputs": [],
   "source": [
    "pop_creator = PopulationCreator(genome_blueprint)"
   ]
  },
  {
   "cell_type": "code",
   "execution_count": 13,
   "metadata": {},
   "outputs": [
    {
     "data": {
      "text/plain": [
       "Population with 512 Creatures with genes x (numeric), y (categorical), z (vectorial).\n",
       "        "
      ]
     },
     "execution_count": 13,
     "metadata": {},
     "output_type": "execute_result"
    }
   ],
   "source": [
    "popdet = pop_creator.create.det(8)\n",
    "popdet"
   ]
  },
  {
   "cell_type": "code",
   "execution_count": 14,
   "metadata": {},
   "outputs": [
    {
     "data": {
      "text/html": [
       "<div>\n",
       "<style scoped>\n",
       "    .dataframe tbody tr th:only-of-type {\n",
       "        vertical-align: middle;\n",
       "    }\n",
       "\n",
       "    .dataframe tbody tr th {\n",
       "        vertical-align: top;\n",
       "    }\n",
       "\n",
       "    .dataframe thead th {\n",
       "        text-align: right;\n",
       "    }\n",
       "</style>\n",
       "<table border=\"1\" class=\"dataframe\">\n",
       "  <thead>\n",
       "    <tr style=\"text-align: right;\">\n",
       "      <th></th>\n",
       "      <th>x</th>\n",
       "      <th>y</th>\n",
       "      <th>z</th>\n",
       "    </tr>\n",
       "    <tr>\n",
       "      <th>id</th>\n",
       "      <th></th>\n",
       "      <th></th>\n",
       "      <th></th>\n",
       "    </tr>\n",
       "  </thead>\n",
       "  <tbody>\n",
       "    <tr>\n",
       "      <th>-4015457666807580625</th>\n",
       "      <td>0</td>\n",
       "      <td>A</td>\n",
       "      <td>(i, j, k, l)</td>\n",
       "    </tr>\n",
       "    <tr>\n",
       "      <th>3545851876194391172</th>\n",
       "      <td>0</td>\n",
       "      <td>A</td>\n",
       "      <td>(i, l, k, m)</td>\n",
       "    </tr>\n",
       "    <tr>\n",
       "      <th>4365786867098929223</th>\n",
       "      <td>0</td>\n",
       "      <td>A</td>\n",
       "      <td>(j, k, i, l)</td>\n",
       "    </tr>\n",
       "    <tr>\n",
       "      <th>-4622797072526929267</th>\n",
       "      <td>0</td>\n",
       "      <td>A</td>\n",
       "      <td>(j, m, k, l)</td>\n",
       "    </tr>\n",
       "    <tr>\n",
       "      <th>-3956257810174252755</th>\n",
       "      <td>0</td>\n",
       "      <td>A</td>\n",
       "      <td>(k, l, i, j)</td>\n",
       "    </tr>\n",
       "  </tbody>\n",
       "</table>\n",
       "</div>"
      ],
      "text/plain": [
       "                      x  y             z\n",
       "id                                      \n",
       "-4015457666807580625  0  A  (i, j, k, l)\n",
       " 3545851876194391172  0  A  (i, l, k, m)\n",
       " 4365786867098929223  0  A  (j, k, i, l)\n",
       "-4622797072526929267  0  A  (j, m, k, l)\n",
       "-3956257810174252755  0  A  (k, l, i, j)"
      ]
     },
     "execution_count": 14,
     "metadata": {},
     "output_type": "execute_result"
    }
   ],
   "source": [
    "popdet.datasets.input.head()"
   ]
  },
  {
   "cell_type": "code",
   "execution_count": 15,
   "metadata": {},
   "outputs": [
    {
     "data": {
      "text/plain": [
       "Population with 500 Creatures with genes x (numeric), y (categorical), z (vectorial).\n",
       "        "
      ]
     },
     "execution_count": 15,
     "metadata": {},
     "output_type": "execute_result"
    }
   ],
   "source": [
    "poprand = pop_creator.create.rand(500)\n",
    "poprand"
   ]
  },
  {
   "cell_type": "code",
   "execution_count": 16,
   "metadata": {},
   "outputs": [
    {
     "data": {
      "text/html": [
       "<div>\n",
       "<style scoped>\n",
       "    .dataframe tbody tr th:only-of-type {\n",
       "        vertical-align: middle;\n",
       "    }\n",
       "\n",
       "    .dataframe tbody tr th {\n",
       "        vertical-align: top;\n",
       "    }\n",
       "\n",
       "    .dataframe thead th {\n",
       "        text-align: right;\n",
       "    }\n",
       "</style>\n",
       "<table border=\"1\" class=\"dataframe\">\n",
       "  <thead>\n",
       "    <tr style=\"text-align: right;\">\n",
       "      <th></th>\n",
       "      <th>x</th>\n",
       "      <th>y</th>\n",
       "      <th>z</th>\n",
       "    </tr>\n",
       "    <tr>\n",
       "      <th>id</th>\n",
       "      <th></th>\n",
       "      <th></th>\n",
       "      <th></th>\n",
       "    </tr>\n",
       "  </thead>\n",
       "  <tbody>\n",
       "    <tr>\n",
       "      <th>-1190890751082445703</th>\n",
       "      <td>6</td>\n",
       "      <td>A</td>\n",
       "      <td>(i, k, m, l)</td>\n",
       "    </tr>\n",
       "    <tr>\n",
       "      <th>5163737277706275531</th>\n",
       "      <td>4</td>\n",
       "      <td>C</td>\n",
       "      <td>(k, j, i, m)</td>\n",
       "    </tr>\n",
       "    <tr>\n",
       "      <th>-177934071534029137</th>\n",
       "      <td>2</td>\n",
       "      <td>D</td>\n",
       "      <td>(m, j, k, l)</td>\n",
       "    </tr>\n",
       "    <tr>\n",
       "      <th>2964318424360967602</th>\n",
       "      <td>0</td>\n",
       "      <td>C</td>\n",
       "      <td>(i, k, l, m)</td>\n",
       "    </tr>\n",
       "    <tr>\n",
       "      <th>420254094062621090</th>\n",
       "      <td>0</td>\n",
       "      <td>D</td>\n",
       "      <td>(m, l, j, k)</td>\n",
       "    </tr>\n",
       "  </tbody>\n",
       "</table>\n",
       "</div>"
      ],
      "text/plain": [
       "                      x  y             z\n",
       "id                                      \n",
       "-1190890751082445703  6  A  (i, k, m, l)\n",
       " 5163737277706275531  4  C  (k, j, i, m)\n",
       "-177934071534029137   2  D  (m, j, k, l)\n",
       " 2964318424360967602  0  C  (i, k, l, m)\n",
       " 420254094062621090   0  D  (m, l, j, k)"
      ]
     },
     "execution_count": 16,
     "metadata": {},
     "output_type": "execute_result"
    }
   ],
   "source": [
    "poprand.datasets.input.head()"
   ]
  },
  {
   "cell_type": "code",
   "execution_count": 17,
   "metadata": {},
   "outputs": [
    {
     "data": {
      "text/plain": [
       "Population with 1012 Creatures with genes x (numeric), y (categorical), z (vectorial).\n",
       "        "
      ]
     },
     "execution_count": 17,
     "metadata": {},
     "output_type": "execute_result"
    }
   ],
   "source": [
    "pop = popdet + poprand\n",
    "pop"
   ]
  },
  {
   "cell_type": "code",
   "execution_count": 18,
   "metadata": {},
   "outputs": [
    {
     "data": {
      "text/plain": [
       "Population with 785 Creatures with genes x (numeric), y (categorical), z (vectorial).\n",
       "        "
      ]
     },
     "execution_count": 18,
     "metadata": {},
     "output_type": "execute_result"
    }
   ],
   "source": [
    "pop.drop_duplicates()\n",
    "pop"
   ]
  },
  {
   "cell_type": "code",
   "execution_count": 19,
   "metadata": {},
   "outputs": [
    {
     "data": {
      "text/html": [
       "<div>\n",
       "<style scoped>\n",
       "    .dataframe tbody tr th:only-of-type {\n",
       "        vertical-align: middle;\n",
       "    }\n",
       "\n",
       "    .dataframe tbody tr th {\n",
       "        vertical-align: top;\n",
       "    }\n",
       "\n",
       "    .dataframe thead th {\n",
       "        text-align: right;\n",
       "    }\n",
       "</style>\n",
       "<table border=\"1\" class=\"dataframe\">\n",
       "  <thead>\n",
       "    <tr style=\"text-align: right;\">\n",
       "      <th></th>\n",
       "      <th>x</th>\n",
       "      <th>y</th>\n",
       "      <th>z</th>\n",
       "    </tr>\n",
       "    <tr>\n",
       "      <th>id</th>\n",
       "      <th></th>\n",
       "      <th></th>\n",
       "      <th></th>\n",
       "    </tr>\n",
       "  </thead>\n",
       "  <tbody>\n",
       "    <tr>\n",
       "      <th>-4015457666807580625</th>\n",
       "      <td>0</td>\n",
       "      <td>A</td>\n",
       "      <td>(i, j, k, l)</td>\n",
       "    </tr>\n",
       "    <tr>\n",
       "      <th>3545851876194391172</th>\n",
       "      <td>0</td>\n",
       "      <td>A</td>\n",
       "      <td>(i, l, k, m)</td>\n",
       "    </tr>\n",
       "    <tr>\n",
       "      <th>4365786867098929223</th>\n",
       "      <td>0</td>\n",
       "      <td>A</td>\n",
       "      <td>(j, k, i, l)</td>\n",
       "    </tr>\n",
       "    <tr>\n",
       "      <th>-4622797072526929267</th>\n",
       "      <td>0</td>\n",
       "      <td>A</td>\n",
       "      <td>(j, m, k, l)</td>\n",
       "    </tr>\n",
       "    <tr>\n",
       "      <th>-3956257810174252755</th>\n",
       "      <td>0</td>\n",
       "      <td>A</td>\n",
       "      <td>(k, l, i, j)</td>\n",
       "    </tr>\n",
       "  </tbody>\n",
       "</table>\n",
       "</div>"
      ],
      "text/plain": [
       "                      x  y             z\n",
       "id                                      \n",
       "-4015457666807580625  0  A  (i, j, k, l)\n",
       " 3545851876194391172  0  A  (i, l, k, m)\n",
       " 4365786867098929223  0  A  (j, k, i, l)\n",
       "-4622797072526929267  0  A  (j, m, k, l)\n",
       "-3956257810174252755  0  A  (k, l, i, j)"
      ]
     },
     "execution_count": 19,
     "metadata": {},
     "output_type": "execute_result"
    }
   ],
   "source": [
    "pop.datasets.input.head()"
   ]
  },
  {
   "cell_type": "markdown",
   "metadata": {},
   "source": [
    "# Environment"
   ]
  },
  {
   "cell_type": "code",
   "execution_count": 20,
   "metadata": {},
   "outputs": [],
   "source": [
    "from lamarck import Environment"
   ]
  },
  {
   "cell_type": "code",
   "execution_count": 21,
   "metadata": {},
   "outputs": [],
   "source": [
    "import hashlib\n",
    "\n",
    "def tuplehash(tuple_obj):\n",
    "    encoded = ''.join(tuple_obj).encode()\n",
    "    m = hashlib.md5()\n",
    "    m.update(encoded)\n",
    "    d = m.digest()\n",
    "    return int.from_bytes(d, 'big')\n",
    "    \n",
    "    \n",
    "def dummy_process(x, y, z):\n",
    "    zval = (tuplehash(z) % 1000) / (x+1)**0.75\n",
    "    yval = zval // ord(y) + tuplehash((y, y)) % 73\n",
    "    return {\n",
    "        'time': (x + 1) * abs(zval - yval) // 10,\n",
    "        'profit': (abs(3*zval - 2*yval)**((int(x/10) + 1) % 9) // (tuplehash((y, y)) % 7 + 1)) % 10000 + (zval*yval) //10\n",
    "    }"
   ]
  },
  {
   "cell_type": "code",
   "execution_count": 22,
   "metadata": {},
   "outputs": [],
   "source": [
    "env = Environment()"
   ]
  },
  {
   "cell_type": "code",
   "execution_count": 23,
   "metadata": {},
   "outputs": [],
   "source": [
    "env.config.set_process(dummy_process)"
   ]
  },
  {
   "cell_type": "code",
   "execution_count": 24,
   "metadata": {},
   "outputs": [],
   "source": [
    "env.config.set_output_varibles('time', 'profit')"
   ]
  },
  {
   "cell_type": "code",
   "execution_count": 25,
   "metadata": {},
   "outputs": [
    {
     "data": {
      "text/plain": [
       "multi:   False\n",
       "output_varibles:   ('time', 'profit')\n",
       "process:   <function dummy_process at 0x7f55274f6ee0>"
      ]
     },
     "execution_count": 25,
     "metadata": {},
     "output_type": "execute_result"
    }
   ],
   "source": [
    "env.config"
   ]
  },
  {
   "cell_type": "code",
   "execution_count": 26,
   "metadata": {},
   "outputs": [
    {
     "data": {
      "text/plain": [
       "Creature <3022725617755790894> - genome: {'x': 0, 'y': 'B', 'z': ('j', 'k', 'i', 'l')}"
      ]
     },
     "execution_count": 26,
     "metadata": {},
     "output_type": "execute_result"
    }
   ],
   "source": [
    "cr = pop[10]\n",
    "cr"
   ]
  },
  {
   "cell_type": "markdown",
   "metadata": {},
   "source": [
    "### Simulate Creature"
   ]
  },
  {
   "cell_type": "code",
   "execution_count": 27,
   "metadata": {},
   "outputs": [
    {
     "data": {
      "text/plain": [
       "{'time': 54.0, 'profit': 3384.0}"
      ]
     },
     "execution_count": 27,
     "metadata": {},
     "output_type": "execute_result"
    }
   ],
   "source": [
    "env.simulate(cr)"
   ]
  },
  {
   "cell_type": "markdown",
   "metadata": {},
   "source": [
    "### Simulate Population"
   ]
  },
  {
   "cell_type": "code",
   "execution_count": 28,
   "metadata": {},
   "outputs": [],
   "source": [
    "simpop = pop.copy()"
   ]
  },
  {
   "cell_type": "code",
   "execution_count": 29,
   "metadata": {},
   "outputs": [],
   "source": [
    "env.simulate(simpop)"
   ]
  },
  {
   "cell_type": "code",
   "execution_count": 30,
   "metadata": {},
   "outputs": [
    {
     "data": {
      "text/html": [
       "<div>\n",
       "<style scoped>\n",
       "    .dataframe tbody tr th:only-of-type {\n",
       "        vertical-align: middle;\n",
       "    }\n",
       "\n",
       "    .dataframe tbody tr th {\n",
       "        vertical-align: top;\n",
       "    }\n",
       "\n",
       "    .dataframe thead th {\n",
       "        text-align: right;\n",
       "    }\n",
       "</style>\n",
       "<table border=\"1\" class=\"dataframe\">\n",
       "  <thead>\n",
       "    <tr style=\"text-align: right;\">\n",
       "      <th></th>\n",
       "      <th>x</th>\n",
       "      <th>y</th>\n",
       "      <th>z</th>\n",
       "      <th>time</th>\n",
       "      <th>profit</th>\n",
       "    </tr>\n",
       "  </thead>\n",
       "  <tbody>\n",
       "    <tr>\n",
       "      <th>-4015457666807580625</th>\n",
       "      <td>0</td>\n",
       "      <td>A</td>\n",
       "      <td>(i, j, k, l)</td>\n",
       "      <td>95.0</td>\n",
       "      <td>2154.0</td>\n",
       "    </tr>\n",
       "    <tr>\n",
       "      <th>3545851876194391172</th>\n",
       "      <td>0</td>\n",
       "      <td>A</td>\n",
       "      <td>(i, l, k, m)</td>\n",
       "      <td>62.0</td>\n",
       "      <td>1105.0</td>\n",
       "    </tr>\n",
       "    <tr>\n",
       "      <th>4365786867098929223</th>\n",
       "      <td>0</td>\n",
       "      <td>A</td>\n",
       "      <td>(j, k, i, l)</td>\n",
       "      <td>56.0</td>\n",
       "      <td>930.0</td>\n",
       "    </tr>\n",
       "    <tr>\n",
       "      <th>-4622797072526929267</th>\n",
       "      <td>0</td>\n",
       "      <td>A</td>\n",
       "      <td>(j, m, k, l)</td>\n",
       "      <td>27.0</td>\n",
       "      <td>338.0</td>\n",
       "    </tr>\n",
       "    <tr>\n",
       "      <th>-3956257810174252755</th>\n",
       "      <td>0</td>\n",
       "      <td>A</td>\n",
       "      <td>(k, l, i, j)</td>\n",
       "      <td>45.0</td>\n",
       "      <td>715.0</td>\n",
       "    </tr>\n",
       "  </tbody>\n",
       "</table>\n",
       "</div>"
      ],
      "text/plain": [
       "                      x  y             z  time  profit\n",
       "-4015457666807580625  0  A  (i, j, k, l)  95.0  2154.0\n",
       " 3545851876194391172  0  A  (i, l, k, m)  62.0  1105.0\n",
       " 4365786867098929223  0  A  (j, k, i, l)  56.0   930.0\n",
       "-4622797072526929267  0  A  (j, m, k, l)  27.0   338.0\n",
       "-3956257810174252755  0  A  (k, l, i, j)  45.0   715.0"
      ]
     },
     "execution_count": 30,
     "metadata": {},
     "output_type": "execute_result"
    }
   ],
   "source": [
    "simpop.datasets.output.head()"
   ]
  },
  {
   "cell_type": "markdown",
   "metadata": {},
   "source": [
    "### Simulate Population - Multi Thread"
   ]
  },
  {
   "cell_type": "code",
   "execution_count": 31,
   "metadata": {},
   "outputs": [],
   "source": [
    "env.config.set_multi(True)"
   ]
  },
  {
   "cell_type": "code",
   "execution_count": 32,
   "metadata": {},
   "outputs": [],
   "source": [
    "env.simulate(simpop)"
   ]
  },
  {
   "cell_type": "code",
   "execution_count": 33,
   "metadata": {},
   "outputs": [
    {
     "data": {
      "text/html": [
       "<div>\n",
       "<style scoped>\n",
       "    .dataframe tbody tr th:only-of-type {\n",
       "        vertical-align: middle;\n",
       "    }\n",
       "\n",
       "    .dataframe tbody tr th {\n",
       "        vertical-align: top;\n",
       "    }\n",
       "\n",
       "    .dataframe thead th {\n",
       "        text-align: right;\n",
       "    }\n",
       "</style>\n",
       "<table border=\"1\" class=\"dataframe\">\n",
       "  <thead>\n",
       "    <tr style=\"text-align: right;\">\n",
       "      <th></th>\n",
       "      <th>x</th>\n",
       "      <th>y</th>\n",
       "      <th>z</th>\n",
       "      <th>time</th>\n",
       "      <th>profit</th>\n",
       "    </tr>\n",
       "  </thead>\n",
       "  <tbody>\n",
       "    <tr>\n",
       "      <th>-4015457666807580625</th>\n",
       "      <td>0</td>\n",
       "      <td>A</td>\n",
       "      <td>(i, j, k, l)</td>\n",
       "      <td>95.0</td>\n",
       "      <td>2154.0</td>\n",
       "    </tr>\n",
       "    <tr>\n",
       "      <th>3545851876194391172</th>\n",
       "      <td>0</td>\n",
       "      <td>A</td>\n",
       "      <td>(i, l, k, m)</td>\n",
       "      <td>62.0</td>\n",
       "      <td>1105.0</td>\n",
       "    </tr>\n",
       "    <tr>\n",
       "      <th>4365786867098929223</th>\n",
       "      <td>0</td>\n",
       "      <td>A</td>\n",
       "      <td>(j, k, i, l)</td>\n",
       "      <td>56.0</td>\n",
       "      <td>930.0</td>\n",
       "    </tr>\n",
       "    <tr>\n",
       "      <th>-4622797072526929267</th>\n",
       "      <td>0</td>\n",
       "      <td>A</td>\n",
       "      <td>(j, m, k, l)</td>\n",
       "      <td>27.0</td>\n",
       "      <td>338.0</td>\n",
       "    </tr>\n",
       "    <tr>\n",
       "      <th>-3956257810174252755</th>\n",
       "      <td>0</td>\n",
       "      <td>A</td>\n",
       "      <td>(k, l, i, j)</td>\n",
       "      <td>45.0</td>\n",
       "      <td>715.0</td>\n",
       "    </tr>\n",
       "  </tbody>\n",
       "</table>\n",
       "</div>"
      ],
      "text/plain": [
       "                      x  y             z  time  profit\n",
       "-4015457666807580625  0  A  (i, j, k, l)  95.0  2154.0\n",
       " 3545851876194391172  0  A  (i, l, k, m)  62.0  1105.0\n",
       " 4365786867098929223  0  A  (j, k, i, l)  56.0   930.0\n",
       "-4622797072526929267  0  A  (j, m, k, l)  27.0   338.0\n",
       "-3956257810174252755  0  A  (k, l, i, j)  45.0   715.0"
      ]
     },
     "execution_count": 33,
     "metadata": {},
     "output_type": "execute_result"
    }
   ],
   "source": [
    "simpop.datasets.output.head()"
   ]
  },
  {
   "cell_type": "code",
   "execution_count": 34,
   "metadata": {},
   "outputs": [
    {
     "data": {
      "text/html": [
       "<div>\n",
       "<style scoped>\n",
       "    .dataframe tbody tr th:only-of-type {\n",
       "        vertical-align: middle;\n",
       "    }\n",
       "\n",
       "    .dataframe tbody tr th {\n",
       "        vertical-align: top;\n",
       "    }\n",
       "\n",
       "    .dataframe thead th {\n",
       "        text-align: right;\n",
       "    }\n",
       "</style>\n",
       "<table border=\"1\" class=\"dataframe\">\n",
       "  <thead>\n",
       "    <tr style=\"text-align: right;\">\n",
       "      <th></th>\n",
       "      <th>x</th>\n",
       "      <th>y</th>\n",
       "      <th>z</th>\n",
       "      <th>time</th>\n",
       "      <th>profit</th>\n",
       "    </tr>\n",
       "  </thead>\n",
       "  <tbody>\n",
       "    <tr>\n",
       "      <th>-4343479379093812633</th>\n",
       "      <td>0</td>\n",
       "      <td>A</td>\n",
       "      <td>(j, l, i, m)</td>\n",
       "      <td>0.0</td>\n",
       "      <td>9.0</td>\n",
       "    </tr>\n",
       "    <tr>\n",
       "      <th>4999458655766073072</th>\n",
       "      <td>0</td>\n",
       "      <td>C</td>\n",
       "      <td>(j, l, i, m)</td>\n",
       "      <td>0.0</td>\n",
       "      <td>21.0</td>\n",
       "    </tr>\n",
       "    <tr>\n",
       "      <th>-5400013540583317574</th>\n",
       "      <td>4</td>\n",
       "      <td>C</td>\n",
       "      <td>(k, i, j, m)</td>\n",
       "      <td>0.0</td>\n",
       "      <td>27.0</td>\n",
       "    </tr>\n",
       "    <tr>\n",
       "      <th>982886745688837765</th>\n",
       "      <td>7</td>\n",
       "      <td>D</td>\n",
       "      <td>(k, m, l, j)</td>\n",
       "      <td>0.0</td>\n",
       "      <td>30.0</td>\n",
       "    </tr>\n",
       "    <tr>\n",
       "      <th>-7568335771499096860</th>\n",
       "      <td>2</td>\n",
       "      <td>C</td>\n",
       "      <td>(l, j, m, k)</td>\n",
       "      <td>0.0</td>\n",
       "      <td>33.0</td>\n",
       "    </tr>\n",
       "    <tr>\n",
       "      <th>...</th>\n",
       "      <td>...</td>\n",
       "      <td>...</td>\n",
       "      <td>...</td>\n",
       "      <td>...</td>\n",
       "      <td>...</td>\n",
       "    </tr>\n",
       "    <tr>\n",
       "      <th>-6698806686623074731</th>\n",
       "      <td>8</td>\n",
       "      <td>A</td>\n",
       "      <td>(i, j, k, l)</td>\n",
       "      <td>162.0</td>\n",
       "      <td>189.0</td>\n",
       "    </tr>\n",
       "    <tr>\n",
       "      <th>-4553304591318098589</th>\n",
       "      <td>8</td>\n",
       "      <td>A</td>\n",
       "      <td>(m, j, k, l)</td>\n",
       "      <td>165.0</td>\n",
       "      <td>192.0</td>\n",
       "    </tr>\n",
       "    <tr>\n",
       "      <th>6927172237444445606</th>\n",
       "      <td>9</td>\n",
       "      <td>A</td>\n",
       "      <td>(k, m, l, i)</td>\n",
       "      <td>169.0</td>\n",
       "      <td>178.0</td>\n",
       "    </tr>\n",
       "    <tr>\n",
       "      <th>7435603795071891305</th>\n",
       "      <td>10</td>\n",
       "      <td>A</td>\n",
       "      <td>(i, j, k, l)</td>\n",
       "      <td>169.0</td>\n",
       "      <td>1556.0</td>\n",
       "    </tr>\n",
       "    <tr>\n",
       "      <th>-8865638183332684169</th>\n",
       "      <td>10</td>\n",
       "      <td>A</td>\n",
       "      <td>(m, j, k, l)</td>\n",
       "      <td>172.0</td>\n",
       "      <td>2564.0</td>\n",
       "    </tr>\n",
       "  </tbody>\n",
       "</table>\n",
       "<p>785 rows × 5 columns</p>\n",
       "</div>"
      ],
      "text/plain": [
       "                       x  y             z   time  profit\n",
       "-4343479379093812633   0  A  (j, l, i, m)    0.0     9.0\n",
       " 4999458655766073072   0  C  (j, l, i, m)    0.0    21.0\n",
       "-5400013540583317574   4  C  (k, i, j, m)    0.0    27.0\n",
       " 982886745688837765    7  D  (k, m, l, j)    0.0    30.0\n",
       "-7568335771499096860   2  C  (l, j, m, k)    0.0    33.0\n",
       "...                   .. ..           ...    ...     ...\n",
       "-6698806686623074731   8  A  (i, j, k, l)  162.0   189.0\n",
       "-4553304591318098589   8  A  (m, j, k, l)  165.0   192.0\n",
       " 6927172237444445606   9  A  (k, m, l, i)  169.0   178.0\n",
       " 7435603795071891305  10  A  (i, j, k, l)  169.0  1556.0\n",
       "-8865638183332684169  10  A  (m, j, k, l)  172.0  2564.0\n",
       "\n",
       "[785 rows x 5 columns]"
      ]
     },
     "execution_count": 34,
     "metadata": {},
     "output_type": "execute_result"
    }
   ],
   "source": [
    "simpop.datasets.output.sort_values(['time', 'profit'])"
   ]
  },
  {
   "cell_type": "markdown",
   "metadata": {},
   "source": [
    "# Fitness"
   ]
  },
  {
   "cell_type": "markdown",
   "metadata": {},
   "source": [
    "### 1. Single Objective"
   ]
  },
  {
   "cell_type": "code",
   "execution_count": 35,
   "metadata": {},
   "outputs": [],
   "source": [
    "single_objective_pop = simpop.apply_fitness.single_objective(output='time', objective='min')"
   ]
  },
  {
   "cell_type": "code",
   "execution_count": 36,
   "metadata": {},
   "outputs": [
    {
     "data": {
      "text/html": [
       "<div>\n",
       "<style scoped>\n",
       "    .dataframe tbody tr th:only-of-type {\n",
       "        vertical-align: middle;\n",
       "    }\n",
       "\n",
       "    .dataframe tbody tr th {\n",
       "        vertical-align: top;\n",
       "    }\n",
       "\n",
       "    .dataframe thead th {\n",
       "        text-align: right;\n",
       "    }\n",
       "</style>\n",
       "<table border=\"1\" class=\"dataframe\">\n",
       "  <thead>\n",
       "    <tr style=\"text-align: right;\">\n",
       "      <th></th>\n",
       "      <th>x</th>\n",
       "      <th>y</th>\n",
       "      <th>z</th>\n",
       "      <th>time</th>\n",
       "      <th>profit</th>\n",
       "      <th>criteria</th>\n",
       "    </tr>\n",
       "  </thead>\n",
       "  <tbody>\n",
       "    <tr>\n",
       "      <th>982886745688837765</th>\n",
       "      <td>7</td>\n",
       "      <td>D</td>\n",
       "      <td>(k, m, l, j)</td>\n",
       "      <td>0.0</td>\n",
       "      <td>30.0</td>\n",
       "      <td>0.0</td>\n",
       "    </tr>\n",
       "    <tr>\n",
       "      <th>-7568335771499096860</th>\n",
       "      <td>2</td>\n",
       "      <td>C</td>\n",
       "      <td>(l, j, m, k)</td>\n",
       "      <td>0.0</td>\n",
       "      <td>33.0</td>\n",
       "      <td>0.0</td>\n",
       "    </tr>\n",
       "    <tr>\n",
       "      <th>-5400013540583317574</th>\n",
       "      <td>4</td>\n",
       "      <td>C</td>\n",
       "      <td>(k, i, j, m)</td>\n",
       "      <td>0.0</td>\n",
       "      <td>27.0</td>\n",
       "      <td>0.0</td>\n",
       "    </tr>\n",
       "    <tr>\n",
       "      <th>-1498821102843282844</th>\n",
       "      <td>9</td>\n",
       "      <td>B</td>\n",
       "      <td>(l, m, k, i)</td>\n",
       "      <td>0.0</td>\n",
       "      <td>74.0</td>\n",
       "      <td>0.0</td>\n",
       "    </tr>\n",
       "    <tr>\n",
       "      <th>4999458655766073072</th>\n",
       "      <td>0</td>\n",
       "      <td>C</td>\n",
       "      <td>(j, l, i, m)</td>\n",
       "      <td>0.0</td>\n",
       "      <td>21.0</td>\n",
       "      <td>0.0</td>\n",
       "    </tr>\n",
       "  </tbody>\n",
       "</table>\n",
       "</div>"
      ],
      "text/plain": [
       "                      x  y             z  time  profit  criteria\n",
       " 982886745688837765   7  D  (k, m, l, j)   0.0    30.0       0.0\n",
       "-7568335771499096860  2  C  (l, j, m, k)   0.0    33.0       0.0\n",
       "-5400013540583317574  4  C  (k, i, j, m)   0.0    27.0       0.0\n",
       "-1498821102843282844  9  B  (l, m, k, i)   0.0    74.0       0.0\n",
       " 4999458655766073072  0  C  (j, l, i, m)   0.0    21.0       0.0"
      ]
     },
     "execution_count": 36,
     "metadata": {},
     "output_type": "execute_result"
    }
   ],
   "source": [
    "single_objective_pop.datasets.fitness.head()"
   ]
  },
  {
   "cell_type": "markdown",
   "metadata": {},
   "source": [
    "### 2. Multi Objective - Ranked"
   ]
  },
  {
   "cell_type": "code",
   "execution_count": 37,
   "metadata": {},
   "outputs": [],
   "source": [
    "ranked_objective_pop = simpop.apply_fitness.multi_objective.ranked(priorities=['time', 'profit'], objectives=['min', 'max'])"
   ]
  },
  {
   "cell_type": "code",
   "execution_count": 38,
   "metadata": {},
   "outputs": [
    {
     "data": {
      "text/html": [
       "<div>\n",
       "<style scoped>\n",
       "    .dataframe tbody tr th:only-of-type {\n",
       "        vertical-align: middle;\n",
       "    }\n",
       "\n",
       "    .dataframe tbody tr th {\n",
       "        vertical-align: top;\n",
       "    }\n",
       "\n",
       "    .dataframe thead th {\n",
       "        text-align: right;\n",
       "    }\n",
       "</style>\n",
       "<table border=\"1\" class=\"dataframe\">\n",
       "  <thead>\n",
       "    <tr style=\"text-align: right;\">\n",
       "      <th></th>\n",
       "      <th>x</th>\n",
       "      <th>y</th>\n",
       "      <th>z</th>\n",
       "      <th>time</th>\n",
       "      <th>profit</th>\n",
       "      <th>criteria0</th>\n",
       "      <th>criteria1</th>\n",
       "    </tr>\n",
       "  </thead>\n",
       "  <tbody>\n",
       "    <tr>\n",
       "      <th>-1498821102843282844</th>\n",
       "      <td>9</td>\n",
       "      <td>B</td>\n",
       "      <td>(l, m, k, i)</td>\n",
       "      <td>0.0</td>\n",
       "      <td>74.0</td>\n",
       "      <td>0.0</td>\n",
       "      <td>74.0</td>\n",
       "    </tr>\n",
       "    <tr>\n",
       "      <th>-7568335771499096860</th>\n",
       "      <td>2</td>\n",
       "      <td>C</td>\n",
       "      <td>(l, j, m, k)</td>\n",
       "      <td>0.0</td>\n",
       "      <td>33.0</td>\n",
       "      <td>0.0</td>\n",
       "      <td>33.0</td>\n",
       "    </tr>\n",
       "    <tr>\n",
       "      <th>982886745688837765</th>\n",
       "      <td>7</td>\n",
       "      <td>D</td>\n",
       "      <td>(k, m, l, j)</td>\n",
       "      <td>0.0</td>\n",
       "      <td>30.0</td>\n",
       "      <td>0.0</td>\n",
       "      <td>30.0</td>\n",
       "    </tr>\n",
       "    <tr>\n",
       "      <th>-5400013540583317574</th>\n",
       "      <td>4</td>\n",
       "      <td>C</td>\n",
       "      <td>(k, i, j, m)</td>\n",
       "      <td>0.0</td>\n",
       "      <td>27.0</td>\n",
       "      <td>0.0</td>\n",
       "      <td>27.0</td>\n",
       "    </tr>\n",
       "    <tr>\n",
       "      <th>4999458655766073072</th>\n",
       "      <td>0</td>\n",
       "      <td>C</td>\n",
       "      <td>(j, l, i, m)</td>\n",
       "      <td>0.0</td>\n",
       "      <td>21.0</td>\n",
       "      <td>0.0</td>\n",
       "      <td>21.0</td>\n",
       "    </tr>\n",
       "  </tbody>\n",
       "</table>\n",
       "</div>"
      ],
      "text/plain": [
       "                      x  y             z  time  profit  criteria0  criteria1\n",
       "-1498821102843282844  9  B  (l, m, k, i)   0.0    74.0        0.0       74.0\n",
       "-7568335771499096860  2  C  (l, j, m, k)   0.0    33.0        0.0       33.0\n",
       " 982886745688837765   7  D  (k, m, l, j)   0.0    30.0        0.0       30.0\n",
       "-5400013540583317574  4  C  (k, i, j, m)   0.0    27.0        0.0       27.0\n",
       " 4999458655766073072  0  C  (j, l, i, m)   0.0    21.0        0.0       21.0"
      ]
     },
     "execution_count": 38,
     "metadata": {},
     "output_type": "execute_result"
    }
   ],
   "source": [
    "ranked_objective_pop.datasets.fitness.head()"
   ]
  },
  {
   "cell_type": "markdown",
   "metadata": {},
   "source": [
    "### 3. Multi Objective - Pareto"
   ]
  },
  {
   "cell_type": "code",
   "execution_count": 39,
   "metadata": {},
   "outputs": [],
   "source": [
    "simpop.datasets._objectives"
   ]
  },
  {
   "cell_type": "code",
   "execution_count": 40,
   "metadata": {},
   "outputs": [],
   "source": [
    "pareto_objective_pop = simpop.apply_fitness.multi_objective.pareto(outputs=['time', 'profit'], objectives=['min', 'max'])"
   ]
  },
  {
   "cell_type": "code",
   "execution_count": 41,
   "metadata": {},
   "outputs": [
    {
     "data": {
      "text/html": [
       "<div>\n",
       "<style scoped>\n",
       "    .dataframe tbody tr th:only-of-type {\n",
       "        vertical-align: middle;\n",
       "    }\n",
       "\n",
       "    .dataframe tbody tr th {\n",
       "        vertical-align: top;\n",
       "    }\n",
       "\n",
       "    .dataframe thead th {\n",
       "        text-align: right;\n",
       "    }\n",
       "</style>\n",
       "<table border=\"1\" class=\"dataframe\">\n",
       "  <thead>\n",
       "    <tr style=\"text-align: right;\">\n",
       "      <th></th>\n",
       "      <th>x</th>\n",
       "      <th>y</th>\n",
       "      <th>z</th>\n",
       "      <th>time</th>\n",
       "      <th>profit</th>\n",
       "      <th>criteria0</th>\n",
       "      <th>criteria1</th>\n",
       "      <th>front</th>\n",
       "      <th>crowd</th>\n",
       "    </tr>\n",
       "  </thead>\n",
       "  <tbody>\n",
       "    <tr>\n",
       "      <th>-7912951133175248468</th>\n",
       "      <td>10</td>\n",
       "      <td>E</td>\n",
       "      <td>(i, l, k, m)</td>\n",
       "      <td>64.0</td>\n",
       "      <td>10444.0</td>\n",
       "      <td>-0.070205</td>\n",
       "      <td>6.934859</td>\n",
       "      <td>1</td>\n",
       "      <td>inf</td>\n",
       "    </tr>\n",
       "    <tr>\n",
       "      <th>4999458655766073072</th>\n",
       "      <td>0</td>\n",
       "      <td>C</td>\n",
       "      <td>(j, l, i, m)</td>\n",
       "      <td>0.0</td>\n",
       "      <td>21.0</td>\n",
       "      <td>-1.506317</td>\n",
       "      <td>-0.661142</td>\n",
       "      <td>1</td>\n",
       "      <td>inf</td>\n",
       "    </tr>\n",
       "    <tr>\n",
       "      <th>-4343479379093812633</th>\n",
       "      <td>0</td>\n",
       "      <td>A</td>\n",
       "      <td>(j, l, i, m)</td>\n",
       "      <td>0.0</td>\n",
       "      <td>9.0</td>\n",
       "      <td>-1.506317</td>\n",
       "      <td>-0.669887</td>\n",
       "      <td>1</td>\n",
       "      <td>inf</td>\n",
       "    </tr>\n",
       "    <tr>\n",
       "      <th>-7240740050977900867</th>\n",
       "      <td>10</td>\n",
       "      <td>B</td>\n",
       "      <td>(l, m, i, j)</td>\n",
       "      <td>13.0</td>\n",
       "      <td>3417.0</td>\n",
       "      <td>-1.214607</td>\n",
       "      <td>1.813771</td>\n",
       "      <td>1</td>\n",
       "      <td>4.916809</td>\n",
       "    </tr>\n",
       "    <tr>\n",
       "      <th>-3544859504167048918</th>\n",
       "      <td>10</td>\n",
       "      <td>B</td>\n",
       "      <td>(l, i, k, m)</td>\n",
       "      <td>22.0</td>\n",
       "      <td>7089.0</td>\n",
       "      <td>-1.012654</td>\n",
       "      <td>4.489825</td>\n",
       "      <td>1</td>\n",
       "      <td>4.324740</td>\n",
       "    </tr>\n",
       "  </tbody>\n",
       "</table>\n",
       "</div>"
      ],
      "text/plain": [
       "                       x  y             z  time   profit  criteria0  \\\n",
       "-7912951133175248468  10  E  (i, l, k, m)  64.0  10444.0  -0.070205   \n",
       " 4999458655766073072   0  C  (j, l, i, m)   0.0     21.0  -1.506317   \n",
       "-4343479379093812633   0  A  (j, l, i, m)   0.0      9.0  -1.506317   \n",
       "-7240740050977900867  10  B  (l, m, i, j)  13.0   3417.0  -1.214607   \n",
       "-3544859504167048918  10  B  (l, i, k, m)  22.0   7089.0  -1.012654   \n",
       "\n",
       "                      criteria1  front     crowd  \n",
       "-7912951133175248468   6.934859      1       inf  \n",
       " 4999458655766073072  -0.661142      1       inf  \n",
       "-4343479379093812633  -0.669887      1       inf  \n",
       "-7240740050977900867   1.813771      1  4.916809  \n",
       "-3544859504167048918   4.489825      1  4.324740  "
      ]
     },
     "execution_count": 41,
     "metadata": {},
     "output_type": "execute_result"
    }
   ],
   "source": [
    "pareto_objective_pop.datasets.fitness.head()"
   ]
  },
  {
   "cell_type": "code",
   "execution_count": 42,
   "metadata": {},
   "outputs": [
    {
     "data": {
      "image/png": "[encoded data removed]",
      "text/plain": [
       "<Figure size 432x288 with 2 Axes>"
      ]
     },
     "metadata": {
      "needs_background": "light"
     },
     "output_type": "display_data"
    }
   ],
   "source": [
    "ax = pareto_objective_pop.plot.fronts('time', 'profit', 1)"
   ]
  },
  {
   "cell_type": "markdown",
   "metadata": {},
   "source": [
    "# Selection"
   ]
  },
  {
   "cell_type": "code",
   "execution_count": 43,
   "metadata": {},
   "outputs": [],
   "source": [
    "selected_pop = pareto_objective_pop.select()"
   ]
  },
  {
   "cell_type": "code",
   "execution_count": 44,
   "metadata": {},
   "outputs": [
    {
     "data": {
      "text/html": [
       "<div>\n",
       "<style scoped>\n",
       "    .dataframe tbody tr th:only-of-type {\n",
       "        vertical-align: middle;\n",
       "    }\n",
       "\n",
       "    .dataframe tbody tr th {\n",
       "        vertical-align: top;\n",
       "    }\n",
       "\n",
       "    .dataframe thead th {\n",
       "        text-align: right;\n",
       "    }\n",
       "</style>\n",
       "<table border=\"1\" class=\"dataframe\">\n",
       "  <thead>\n",
       "    <tr style=\"text-align: right;\">\n",
       "      <th></th>\n",
       "      <th>x</th>\n",
       "      <th>y</th>\n",
       "      <th>z</th>\n",
       "      <th>time</th>\n",
       "      <th>profit</th>\n",
       "    </tr>\n",
       "  </thead>\n",
       "  <tbody>\n",
       "    <tr>\n",
       "      <th>-7912951133175248468</th>\n",
       "      <td>10</td>\n",
       "      <td>E</td>\n",
       "      <td>(i, l, k, m)</td>\n",
       "      <td>64.0</td>\n",
       "      <td>10444.0</td>\n",
       "    </tr>\n",
       "    <tr>\n",
       "      <th>4999458655766073072</th>\n",
       "      <td>0</td>\n",
       "      <td>C</td>\n",
       "      <td>(j, l, i, m)</td>\n",
       "      <td>0.0</td>\n",
       "      <td>21.0</td>\n",
       "    </tr>\n",
       "    <tr>\n",
       "      <th>-4343479379093812633</th>\n",
       "      <td>0</td>\n",
       "      <td>A</td>\n",
       "      <td>(j, l, i, m)</td>\n",
       "      <td>0.0</td>\n",
       "      <td>9.0</td>\n",
       "    </tr>\n",
       "    <tr>\n",
       "      <th>-7240740050977900867</th>\n",
       "      <td>10</td>\n",
       "      <td>B</td>\n",
       "      <td>(l, m, i, j)</td>\n",
       "      <td>13.0</td>\n",
       "      <td>3417.0</td>\n",
       "    </tr>\n",
       "    <tr>\n",
       "      <th>-3544859504167048918</th>\n",
       "      <td>10</td>\n",
       "      <td>B</td>\n",
       "      <td>(l, i, k, m)</td>\n",
       "      <td>22.0</td>\n",
       "      <td>7089.0</td>\n",
       "    </tr>\n",
       "    <tr>\n",
       "      <th>...</th>\n",
       "      <td>...</td>\n",
       "      <td>...</td>\n",
       "      <td>...</td>\n",
       "      <td>...</td>\n",
       "      <td>...</td>\n",
       "    </tr>\n",
       "    <tr>\n",
       "      <th>4819758971177606074</th>\n",
       "      <td>9</td>\n",
       "      <td>C</td>\n",
       "      <td>(l, m, i, j)</td>\n",
       "      <td>20.0</td>\n",
       "      <td>77.0</td>\n",
       "    </tr>\n",
       "    <tr>\n",
       "      <th>-2251063663087417683</th>\n",
       "      <td>1</td>\n",
       "      <td>A</td>\n",
       "      <td>(m, j, i, k)</td>\n",
       "      <td>29.0</td>\n",
       "      <td>156.0</td>\n",
       "    </tr>\n",
       "    <tr>\n",
       "      <th>-2814611490443622306</th>\n",
       "      <td>4</td>\n",
       "      <td>D</td>\n",
       "      <td>(j, m, k, l)</td>\n",
       "      <td>32.0</td>\n",
       "      <td>184.0</td>\n",
       "    </tr>\n",
       "    <tr>\n",
       "      <th>-3830714044006735493</th>\n",
       "      <td>4</td>\n",
       "      <td>C</td>\n",
       "      <td>(j, m, k, l)</td>\n",
       "      <td>33.0</td>\n",
       "      <td>194.0</td>\n",
       "    </tr>\n",
       "    <tr>\n",
       "      <th>-5378596141723079221</th>\n",
       "      <td>9</td>\n",
       "      <td>B</td>\n",
       "      <td>(m, l, i, j)</td>\n",
       "      <td>20.0</td>\n",
       "      <td>41.0</td>\n",
       "    </tr>\n",
       "  </tbody>\n",
       "</table>\n",
       "<p>392 rows × 5 columns</p>\n",
       "</div>"
      ],
      "text/plain": [
       "                       x  y             z  time   profit\n",
       "-7912951133175248468  10  E  (i, l, k, m)  64.0  10444.0\n",
       " 4999458655766073072   0  C  (j, l, i, m)   0.0     21.0\n",
       "-4343479379093812633   0  A  (j, l, i, m)   0.0      9.0\n",
       "-7240740050977900867  10  B  (l, m, i, j)  13.0   3417.0\n",
       "-3544859504167048918  10  B  (l, i, k, m)  22.0   7089.0\n",
       "...                   .. ..           ...   ...      ...\n",
       " 4819758971177606074   9  C  (l, m, i, j)  20.0     77.0\n",
       "-2251063663087417683   1  A  (m, j, i, k)  29.0    156.0\n",
       "-2814611490443622306   4  D  (j, m, k, l)  32.0    184.0\n",
       "-3830714044006735493   4  C  (j, m, k, l)  33.0    194.0\n",
       "-5378596141723079221   9  B  (m, l, i, j)  20.0     41.0\n",
       "\n",
       "[392 rows x 5 columns]"
      ]
     },
     "execution_count": 44,
     "metadata": {},
     "output_type": "execute_result"
    }
   ],
   "source": [
    "selected_pop.datasets.output"
   ]
  },
  {
   "cell_type": "markdown",
   "metadata": {},
   "source": [
    "# Repopulate"
   ]
  },
  {
   "cell_type": "code",
   "execution_count": null,
   "metadata": {},
   "outputs": [],
   "source": []
  }
 ],
 "metadata": {
  "kernelspec": {
   "display_name": "Lamarck Env",
   "language": "python",
   "name": "lamarck"
  },
  "language_info": {
   "codemirror_mode": {
    "name": "ipython",
    "version": 3
   },
   "file_extension": ".py",
   "mimetype": "text/x-python",
   "name": "python",
   "nbconvert_exporter": "python",
   "pygments_lexer": "ipython3",
   "version": "3.9.1"
  }
 },
 "nbformat": 4,
 "nbformat_minor": 4
}
