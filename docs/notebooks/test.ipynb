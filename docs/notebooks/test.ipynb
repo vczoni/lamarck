{
 "cells": [
  {
   "cell_type": "code",
   "execution_count": 1,
   "metadata": {},
   "outputs": [],
   "source": [
    "import sys\n",
    "import pandas as pd\n",
    "sys.path.append('../..')"
   ]
  },
  {
   "cell_type": "markdown",
   "metadata": {},
   "source": [
    "# Creature"
   ]
  },
  {
   "cell_type": "code",
   "execution_count": 2,
   "metadata": {},
   "outputs": [],
   "source": [
    "from lamarck import Creature"
   ]
  },
  {
   "cell_type": "code",
   "execution_count": 3,
   "metadata": {},
   "outputs": [],
   "source": [
    "genome = {\n",
    "    'x': 10,\n",
    "    'y': 'A',\n",
    "    'z': (1, 2, 3)\n",
    "}"
   ]
  },
  {
   "cell_type": "code",
   "execution_count": 4,
   "metadata": {},
   "outputs": [],
   "source": [
    "creature = Creature(genome)"
   ]
  },
  {
   "cell_type": "code",
   "execution_count": 5,
   "metadata": {},
   "outputs": [
    {
     "data": {
      "text/plain": [
       "350751103660512638"
      ]
     },
     "execution_count": 5,
     "metadata": {},
     "output_type": "execute_result"
    }
   ],
   "source": [
    "creature.id"
   ]
  },
  {
   "cell_type": "markdown",
   "metadata": {},
   "source": [
    "# Genome Creator"
   ]
  },
  {
   "cell_type": "code",
   "execution_count": 6,
   "metadata": {},
   "outputs": [],
   "source": [
    "from lamarck.assistant import GenomeCreator"
   ]
  },
  {
   "cell_type": "code",
   "execution_count": 7,
   "metadata": {},
   "outputs": [],
   "source": [
    "genome_creator = GenomeCreator()"
   ]
  },
  {
   "cell_type": "code",
   "execution_count": 8,
   "metadata": {},
   "outputs": [],
   "source": [
    "genome_creator.add_gene_specs.numeric(name='x',\n",
    "                                      min=0,\n",
    "                                      max=10,\n",
    "                                      progression='linear',\n",
    "                                      domain='int')\n",
    "\n",
    "genome_creator.add_gene_specs.categorical(name='y', domain=['A', 'B', 'C', 'D', 'E'])\n",
    "\n",
    "genome_creator.add_gene_specs.vectorial(name='z', length=4, replace=False, domain=['i', 'j', 'k', 'l', 'm'])"
   ]
  },
  {
   "cell_type": "code",
   "execution_count": 9,
   "metadata": {},
   "outputs": [],
   "source": [
    "genome_blueprint = genome_creator.get_genome_blueprint()"
   ]
  },
  {
   "cell_type": "code",
   "execution_count": 10,
   "metadata": {},
   "outputs": [
    {
     "data": {
      "text/plain": [
       "{'x': {'type': 'numeric',\n",
       "  'domain': 'int',\n",
       "  'ranges': {'min': 0, 'max': 10, 'progression': 'linear'}},\n",
       " 'y': {'type': 'categorical', 'domain': ['A', 'B', 'C', 'D', 'E']},\n",
       " 'z': {'type': 'vectorial',\n",
       "  'domain': ['i', 'j', 'k', 'l', 'm'],\n",
       "  'ranges': {'length': 4, 'replace': False}}}"
      ]
     },
     "execution_count": 10,
     "metadata": {},
     "output_type": "execute_result"
    }
   ],
   "source": [
    "genome_blueprint"
   ]
  },
  {
   "cell_type": "markdown",
   "metadata": {},
   "source": [
    "# Population Creator"
   ]
  },
  {
   "cell_type": "code",
   "execution_count": 11,
   "metadata": {},
   "outputs": [],
   "source": [
    "from lamarck.assistant import PopulationCreator"
   ]
  },
  {
   "cell_type": "code",
   "execution_count": 12,
   "metadata": {},
   "outputs": [],
   "source": [
    "pop_creator = PopulationCreator(genome_blueprint)"
   ]
  },
  {
   "cell_type": "code",
   "execution_count": 13,
   "metadata": {},
   "outputs": [
    {
     "data": {
      "text/plain": [
       "Population with 1000 Creatures with genes x (numeric), y (categorical), z (vectorial).\n",
       "        "
      ]
     },
     "execution_count": 13,
     "metadata": {},
     "output_type": "execute_result"
    }
   ],
   "source": [
    "popdet = pop_creator.create.det(10)\n",
    "popdet"
   ]
  },
  {
   "cell_type": "code",
   "execution_count": 14,
   "metadata": {},
   "outputs": [
    {
     "data": {
      "text/html": [
       "<div>\n",
       "<style scoped>\n",
       "    .dataframe tbody tr th:only-of-type {\n",
       "        vertical-align: middle;\n",
       "    }\n",
       "\n",
       "    .dataframe tbody tr th {\n",
       "        vertical-align: top;\n",
       "    }\n",
       "\n",
       "    .dataframe thead th {\n",
       "        text-align: right;\n",
       "    }\n",
       "</style>\n",
       "<table border=\"1\" class=\"dataframe\">\n",
       "  <thead>\n",
       "    <tr style=\"text-align: right;\">\n",
       "      <th></th>\n",
       "      <th>x</th>\n",
       "      <th>y</th>\n",
       "      <th>z</th>\n",
       "    </tr>\n",
       "  </thead>\n",
       "  <tbody>\n",
       "    <tr>\n",
       "      <th>0</th>\n",
       "      <td>0</td>\n",
       "      <td>A</td>\n",
       "      <td>(i, j, k, l)</td>\n",
       "    </tr>\n",
       "    <tr>\n",
       "      <th>1</th>\n",
       "      <td>0</td>\n",
       "      <td>A</td>\n",
       "      <td>(i, l, j, k)</td>\n",
       "    </tr>\n",
       "    <tr>\n",
       "      <th>2</th>\n",
       "      <td>0</td>\n",
       "      <td>A</td>\n",
       "      <td>(j, i, k, l)</td>\n",
       "    </tr>\n",
       "    <tr>\n",
       "      <th>3</th>\n",
       "      <td>0</td>\n",
       "      <td>A</td>\n",
       "      <td>(j, l, i, k)</td>\n",
       "    </tr>\n",
       "    <tr>\n",
       "      <th>4</th>\n",
       "      <td>0</td>\n",
       "      <td>A</td>\n",
       "      <td>(k, i, j, l)</td>\n",
       "    </tr>\n",
       "  </tbody>\n",
       "</table>\n",
       "</div>"
      ],
      "text/plain": [
       "   x  y             z\n",
       "0  0  A  (i, j, k, l)\n",
       "1  0  A  (i, l, j, k)\n",
       "2  0  A  (j, i, k, l)\n",
       "3  0  A  (j, l, i, k)\n",
       "4  0  A  (k, i, j, l)"
      ]
     },
     "execution_count": 14,
     "metadata": {},
     "output_type": "execute_result"
    }
   ],
   "source": [
    "popdet.datasets.main.head()"
   ]
  },
  {
   "cell_type": "code",
   "execution_count": 15,
   "metadata": {},
   "outputs": [
    {
     "data": {
      "text/plain": [
       "Population with 2000 Creatures with genes x (numeric), y (categorical), z (vectorial).\n",
       "        "
      ]
     },
     "execution_count": 15,
     "metadata": {},
     "output_type": "execute_result"
    }
   ],
   "source": [
    "poprand = pop_creator.create.rand(2000)\n",
    "poprand"
   ]
  },
  {
   "cell_type": "code",
   "execution_count": 16,
   "metadata": {},
   "outputs": [
    {
     "data": {
      "text/html": [
       "<div>\n",
       "<style scoped>\n",
       "    .dataframe tbody tr th:only-of-type {\n",
       "        vertical-align: middle;\n",
       "    }\n",
       "\n",
       "    .dataframe tbody tr th {\n",
       "        vertical-align: top;\n",
       "    }\n",
       "\n",
       "    .dataframe thead th {\n",
       "        text-align: right;\n",
       "    }\n",
       "</style>\n",
       "<table border=\"1\" class=\"dataframe\">\n",
       "  <thead>\n",
       "    <tr style=\"text-align: right;\">\n",
       "      <th></th>\n",
       "      <th>x</th>\n",
       "      <th>y</th>\n",
       "      <th>z</th>\n",
       "    </tr>\n",
       "    <tr>\n",
       "      <th>id</th>\n",
       "      <th></th>\n",
       "      <th></th>\n",
       "      <th></th>\n",
       "    </tr>\n",
       "  </thead>\n",
       "  <tbody>\n",
       "    <tr>\n",
       "      <th>-2343315789547106773</th>\n",
       "      <td>5</td>\n",
       "      <td>A</td>\n",
       "      <td>(m, l, i, k)</td>\n",
       "    </tr>\n",
       "    <tr>\n",
       "      <th>1635015029756663698</th>\n",
       "      <td>1</td>\n",
       "      <td>B</td>\n",
       "      <td>(k, j, l, i)</td>\n",
       "    </tr>\n",
       "    <tr>\n",
       "      <th>5732641332224216384</th>\n",
       "      <td>4</td>\n",
       "      <td>D</td>\n",
       "      <td>(l, j, i, m)</td>\n",
       "    </tr>\n",
       "    <tr>\n",
       "      <th>3600777870297941095</th>\n",
       "      <td>2</td>\n",
       "      <td>C</td>\n",
       "      <td>(i, j, k, m)</td>\n",
       "    </tr>\n",
       "    <tr>\n",
       "      <th>5464706345166054962</th>\n",
       "      <td>8</td>\n",
       "      <td>D</td>\n",
       "      <td>(i, m, l, j)</td>\n",
       "    </tr>\n",
       "  </tbody>\n",
       "</table>\n",
       "</div>"
      ],
      "text/plain": [
       "                      x  y             z\n",
       "id                                      \n",
       "-2343315789547106773  5  A  (m, l, i, k)\n",
       " 1635015029756663698  1  B  (k, j, l, i)\n",
       " 5732641332224216384  4  D  (l, j, i, m)\n",
       " 3600777870297941095  2  C  (i, j, k, m)\n",
       " 5464706345166054962  8  D  (i, m, l, j)"
      ]
     },
     "execution_count": 16,
     "metadata": {},
     "output_type": "execute_result"
    }
   ],
   "source": [
    "poprand.datasets.input.head()"
   ]
  },
  {
   "cell_type": "code",
   "execution_count": 17,
   "metadata": {},
   "outputs": [
    {
     "data": {
      "text/plain": [
       "Population with 3000 Creatures with genes x (numeric), y (categorical), z (vectorial).\n",
       "        "
      ]
     },
     "execution_count": 17,
     "metadata": {},
     "output_type": "execute_result"
    }
   ],
   "source": [
    "popdirty = popdet + poprand\n",
    "popdirty"
   ]
  },
  {
   "cell_type": "code",
   "execution_count": 18,
   "metadata": {},
   "outputs": [
    {
     "data": {
      "text/html": [
       "<div>\n",
       "<style scoped>\n",
       "    .dataframe tbody tr th:only-of-type {\n",
       "        vertical-align: middle;\n",
       "    }\n",
       "\n",
       "    .dataframe tbody tr th {\n",
       "        vertical-align: top;\n",
       "    }\n",
       "\n",
       "    .dataframe thead th {\n",
       "        text-align: right;\n",
       "    }\n",
       "</style>\n",
       "<table border=\"1\" class=\"dataframe\">\n",
       "  <thead>\n",
       "    <tr style=\"text-align: right;\">\n",
       "      <th></th>\n",
       "      <th>x</th>\n",
       "      <th>y</th>\n",
       "      <th>z</th>\n",
       "    </tr>\n",
       "    <tr>\n",
       "      <th>id</th>\n",
       "      <th></th>\n",
       "      <th></th>\n",
       "      <th></th>\n",
       "    </tr>\n",
       "  </thead>\n",
       "  <tbody>\n",
       "    <tr>\n",
       "      <th>-6377645003138114473</th>\n",
       "      <td>0</td>\n",
       "      <td>A</td>\n",
       "      <td>(i, j, k, l)</td>\n",
       "    </tr>\n",
       "    <tr>\n",
       "      <th>-4854398439382140014</th>\n",
       "      <td>0</td>\n",
       "      <td>A</td>\n",
       "      <td>(i, l, j, k)</td>\n",
       "    </tr>\n",
       "    <tr>\n",
       "      <th>-5177463136661683501</th>\n",
       "      <td>0</td>\n",
       "      <td>A</td>\n",
       "      <td>(j, i, k, l)</td>\n",
       "    </tr>\n",
       "    <tr>\n",
       "      <th>-6931274389953361450</th>\n",
       "      <td>0</td>\n",
       "      <td>A</td>\n",
       "      <td>(j, l, i, k)</td>\n",
       "    </tr>\n",
       "    <tr>\n",
       "      <th>-652508397162970080</th>\n",
       "      <td>0</td>\n",
       "      <td>A</td>\n",
       "      <td>(k, i, j, l)</td>\n",
       "    </tr>\n",
       "  </tbody>\n",
       "</table>\n",
       "</div>"
      ],
      "text/plain": [
       "                      x  y             z\n",
       "id                                      \n",
       "-6377645003138114473  0  A  (i, j, k, l)\n",
       "-4854398439382140014  0  A  (i, l, j, k)\n",
       "-5177463136661683501  0  A  (j, i, k, l)\n",
       "-6931274389953361450  0  A  (j, l, i, k)\n",
       "-652508397162970080   0  A  (k, i, j, l)"
      ]
     },
     "execution_count": 18,
     "metadata": {},
     "output_type": "execute_result"
    }
   ],
   "source": [
    "popdirty.datasets.input.head()"
   ]
  },
  {
   "cell_type": "code",
   "execution_count": 19,
   "metadata": {},
   "outputs": [
    {
     "data": {
      "text/plain": [
       "Population with 2082 Creatures with genes x (numeric), y (categorical), z (vectorial).\n",
       "        "
      ]
     },
     "execution_count": 19,
     "metadata": {},
     "output_type": "execute_result"
    }
   ],
   "source": [
    "pop = popdirty.drop_duplicates()\n",
    "pop"
   ]
  },
  {
   "cell_type": "code",
   "execution_count": 20,
   "metadata": {},
   "outputs": [
    {
     "data": {
      "text/html": [
       "<div>\n",
       "<style scoped>\n",
       "    .dataframe tbody tr th:only-of-type {\n",
       "        vertical-align: middle;\n",
       "    }\n",
       "\n",
       "    .dataframe tbody tr th {\n",
       "        vertical-align: top;\n",
       "    }\n",
       "\n",
       "    .dataframe thead th {\n",
       "        text-align: right;\n",
       "    }\n",
       "</style>\n",
       "<table border=\"1\" class=\"dataframe\">\n",
       "  <thead>\n",
       "    <tr style=\"text-align: right;\">\n",
       "      <th></th>\n",
       "      <th>x</th>\n",
       "      <th>y</th>\n",
       "      <th>z</th>\n",
       "    </tr>\n",
       "    <tr>\n",
       "      <th>id</th>\n",
       "      <th></th>\n",
       "      <th></th>\n",
       "      <th></th>\n",
       "    </tr>\n",
       "  </thead>\n",
       "  <tbody>\n",
       "    <tr>\n",
       "      <th>-6377645003138114473</th>\n",
       "      <td>0</td>\n",
       "      <td>A</td>\n",
       "      <td>(i, j, k, l)</td>\n",
       "    </tr>\n",
       "    <tr>\n",
       "      <th>-4854398439382140014</th>\n",
       "      <td>0</td>\n",
       "      <td>A</td>\n",
       "      <td>(i, l, j, k)</td>\n",
       "    </tr>\n",
       "    <tr>\n",
       "      <th>-5177463136661683501</th>\n",
       "      <td>0</td>\n",
       "      <td>A</td>\n",
       "      <td>(j, i, k, l)</td>\n",
       "    </tr>\n",
       "    <tr>\n",
       "      <th>-6931274389953361450</th>\n",
       "      <td>0</td>\n",
       "      <td>A</td>\n",
       "      <td>(j, l, i, k)</td>\n",
       "    </tr>\n",
       "    <tr>\n",
       "      <th>-652508397162970080</th>\n",
       "      <td>0</td>\n",
       "      <td>A</td>\n",
       "      <td>(k, i, j, l)</td>\n",
       "    </tr>\n",
       "  </tbody>\n",
       "</table>\n",
       "</div>"
      ],
      "text/plain": [
       "                      x  y             z\n",
       "id                                      \n",
       "-6377645003138114473  0  A  (i, j, k, l)\n",
       "-4854398439382140014  0  A  (i, l, j, k)\n",
       "-5177463136661683501  0  A  (j, i, k, l)\n",
       "-6931274389953361450  0  A  (j, l, i, k)\n",
       "-652508397162970080   0  A  (k, i, j, l)"
      ]
     },
     "execution_count": 20,
     "metadata": {},
     "output_type": "execute_result"
    }
   ],
   "source": [
    "pop.datasets.input.head()"
   ]
  },
  {
   "cell_type": "markdown",
   "metadata": {},
   "source": [
    "# Environment"
   ]
  },
  {
   "cell_type": "code",
   "execution_count": 21,
   "metadata": {},
   "outputs": [],
   "source": [
    "from lamarck import Environment"
   ]
  },
  {
   "cell_type": "code",
   "execution_count": 22,
   "metadata": {},
   "outputs": [],
   "source": [
    "import hashlib\n",
    "\n",
    "def tuplehash(tuple_obj):\n",
    "    encoded = ''.join(tuple_obj).encode()\n",
    "    m = hashlib.md5()\n",
    "    m.update(encoded)\n",
    "    d = m.digest()\n",
    "    return int.from_bytes(d, 'big')\n",
    "    \n",
    "    \n",
    "def dummy_process(x, y, z):\n",
    "    zval = (tuplehash(z) % 1000) / (x+1)**0.75\n",
    "    yval = zval // ord(y) + tuplehash((y, y)) % 73\n",
    "    return {\n",
    "        'time': (x + 1) * abs(zval - yval) // 10,\n",
    "        'profit': (abs(3*zval - 2*yval)**((int(x/10) + 1) % 9) // (tuplehash((y, y)) % 7 + 1)) % 10000 + (zval*yval) //10\n",
    "    }"
   ]
  },
  {
   "cell_type": "code",
   "execution_count": 23,
   "metadata": {},
   "outputs": [],
   "source": [
    "env = Environment()"
   ]
  },
  {
   "cell_type": "code",
   "execution_count": 24,
   "metadata": {},
   "outputs": [],
   "source": [
    "env.config.set_process(dummy_process)"
   ]
  },
  {
   "cell_type": "code",
   "execution_count": 25,
   "metadata": {},
   "outputs": [],
   "source": [
    "env.config.set_output_varibles('time', 'profit')"
   ]
  },
  {
   "cell_type": "code",
   "execution_count": 26,
   "metadata": {},
   "outputs": [
    {
     "data": {
      "text/plain": [
       "multi:   False\n",
       "output_varibles:   ('time', 'profit')\n",
       "process:   <function dummy_process at 0x7f3209ea6310>"
      ]
     },
     "execution_count": 26,
     "metadata": {},
     "output_type": "execute_result"
    }
   ],
   "source": [
    "env.config"
   ]
  },
  {
   "cell_type": "code",
   "execution_count": 27,
   "metadata": {},
   "outputs": [
    {
     "data": {
      "text/plain": [
       "Creature <8227899131304219844> - genome: {'x': 0, 'y': 'B', 'z': ('i', 'j', 'k', 'l')}"
      ]
     },
     "execution_count": 27,
     "metadata": {},
     "output_type": "execute_result"
    }
   ],
   "source": [
    "cr = pop[10]\n",
    "cr"
   ]
  },
  {
   "cell_type": "markdown",
   "metadata": {},
   "source": [
    "### Simulate Creature"
   ]
  },
  {
   "cell_type": "code",
   "execution_count": 28,
   "metadata": {},
   "outputs": [
    {
     "data": {
      "text/plain": [
       "{'time': 93.0, 'profit': 6323.0}"
      ]
     },
     "execution_count": 28,
     "metadata": {},
     "output_type": "execute_result"
    }
   ],
   "source": [
    "env.simulate(cr)"
   ]
  },
  {
   "cell_type": "markdown",
   "metadata": {},
   "source": [
    "### Simulate Population"
   ]
  },
  {
   "cell_type": "code",
   "execution_count": 29,
   "metadata": {},
   "outputs": [],
   "source": [
    "simpop = env.simulate(pop)"
   ]
  },
  {
   "cell_type": "code",
   "execution_count": 30,
   "metadata": {},
   "outputs": [
    {
     "data": {
      "text/plain": [
       "Population with 2082 Creatures with genes x (numeric), y (categorical), z (vectorial).\n",
       "        "
      ]
     },
     "execution_count": 30,
     "metadata": {},
     "output_type": "execute_result"
    }
   ],
   "source": [
    "simpop"
   ]
  },
  {
   "cell_type": "code",
   "execution_count": 31,
   "metadata": {},
   "outputs": [
    {
     "data": {
      "text/html": [
       "<div>\n",
       "<style scoped>\n",
       "    .dataframe tbody tr th:only-of-type {\n",
       "        vertical-align: middle;\n",
       "    }\n",
       "\n",
       "    .dataframe tbody tr th {\n",
       "        vertical-align: top;\n",
       "    }\n",
       "\n",
       "    .dataframe thead th {\n",
       "        text-align: right;\n",
       "    }\n",
       "</style>\n",
       "<table border=\"1\" class=\"dataframe\">\n",
       "  <thead>\n",
       "    <tr style=\"text-align: right;\">\n",
       "      <th></th>\n",
       "      <th>x</th>\n",
       "      <th>y</th>\n",
       "      <th>z</th>\n",
       "      <th>time</th>\n",
       "      <th>profit</th>\n",
       "    </tr>\n",
       "  </thead>\n",
       "  <tbody>\n",
       "    <tr>\n",
       "      <th>-6377645003138114473</th>\n",
       "      <td>0</td>\n",
       "      <td>A</td>\n",
       "      <td>(i, j, k, l)</td>\n",
       "      <td>95.0</td>\n",
       "      <td>2154.0</td>\n",
       "    </tr>\n",
       "    <tr>\n",
       "      <th>-4854398439382140014</th>\n",
       "      <td>0</td>\n",
       "      <td>A</td>\n",
       "      <td>(i, l, j, k)</td>\n",
       "      <td>52.0</td>\n",
       "      <td>877.0</td>\n",
       "    </tr>\n",
       "    <tr>\n",
       "      <th>-5177463136661683501</th>\n",
       "      <td>0</td>\n",
       "      <td>A</td>\n",
       "      <td>(j, i, k, l)</td>\n",
       "      <td>25.0</td>\n",
       "      <td>325.0</td>\n",
       "    </tr>\n",
       "    <tr>\n",
       "      <th>-6931274389953361450</th>\n",
       "      <td>0</td>\n",
       "      <td>A</td>\n",
       "      <td>(j, l, i, k)</td>\n",
       "      <td>76.0</td>\n",
       "      <td>1492.0</td>\n",
       "    </tr>\n",
       "    <tr>\n",
       "      <th>-652508397162970080</th>\n",
       "      <td>0</td>\n",
       "      <td>A</td>\n",
       "      <td>(k, i, j, l)</td>\n",
       "      <td>16.0</td>\n",
       "      <td>171.0</td>\n",
       "    </tr>\n",
       "  </tbody>\n",
       "</table>\n",
       "</div>"
      ],
      "text/plain": [
       "                      x  y             z  time  profit\n",
       "-6377645003138114473  0  A  (i, j, k, l)  95.0  2154.0\n",
       "-4854398439382140014  0  A  (i, l, j, k)  52.0   877.0\n",
       "-5177463136661683501  0  A  (j, i, k, l)  25.0   325.0\n",
       "-6931274389953361450  0  A  (j, l, i, k)  76.0  1492.0\n",
       "-652508397162970080   0  A  (k, i, j, l)  16.0   171.0"
      ]
     },
     "execution_count": 31,
     "metadata": {},
     "output_type": "execute_result"
    }
   ],
   "source": [
    "simpop.datasets.output.head()"
   ]
  },
  {
   "cell_type": "markdown",
   "metadata": {},
   "source": [
    "### Simulate Population - Multi Thread"
   ]
  },
  {
   "cell_type": "code",
   "execution_count": 32,
   "metadata": {},
   "outputs": [],
   "source": [
    "env.config.set_multi(True)"
   ]
  },
  {
   "cell_type": "code",
   "execution_count": 33,
   "metadata": {},
   "outputs": [],
   "source": [
    "simpop = env.simulate(pop)"
   ]
  },
  {
   "cell_type": "code",
   "execution_count": 34,
   "metadata": {},
   "outputs": [
    {
     "data": {
      "text/html": [
       "<div>\n",
       "<style scoped>\n",
       "    .dataframe tbody tr th:only-of-type {\n",
       "        vertical-align: middle;\n",
       "    }\n",
       "\n",
       "    .dataframe tbody tr th {\n",
       "        vertical-align: top;\n",
       "    }\n",
       "\n",
       "    .dataframe thead th {\n",
       "        text-align: right;\n",
       "    }\n",
       "</style>\n",
       "<table border=\"1\" class=\"dataframe\">\n",
       "  <thead>\n",
       "    <tr style=\"text-align: right;\">\n",
       "      <th></th>\n",
       "      <th>x</th>\n",
       "      <th>y</th>\n",
       "      <th>z</th>\n",
       "      <th>time</th>\n",
       "      <th>profit</th>\n",
       "    </tr>\n",
       "  </thead>\n",
       "  <tbody>\n",
       "    <tr>\n",
       "      <th>-6377645003138114473</th>\n",
       "      <td>0</td>\n",
       "      <td>A</td>\n",
       "      <td>(i, j, k, l)</td>\n",
       "      <td>95.0</td>\n",
       "      <td>2154.0</td>\n",
       "    </tr>\n",
       "    <tr>\n",
       "      <th>-4854398439382140014</th>\n",
       "      <td>0</td>\n",
       "      <td>A</td>\n",
       "      <td>(i, l, j, k)</td>\n",
       "      <td>52.0</td>\n",
       "      <td>877.0</td>\n",
       "    </tr>\n",
       "    <tr>\n",
       "      <th>-5177463136661683501</th>\n",
       "      <td>0</td>\n",
       "      <td>A</td>\n",
       "      <td>(j, i, k, l)</td>\n",
       "      <td>25.0</td>\n",
       "      <td>325.0</td>\n",
       "    </tr>\n",
       "    <tr>\n",
       "      <th>-6931274389953361450</th>\n",
       "      <td>0</td>\n",
       "      <td>A</td>\n",
       "      <td>(j, l, i, k)</td>\n",
       "      <td>76.0</td>\n",
       "      <td>1492.0</td>\n",
       "    </tr>\n",
       "    <tr>\n",
       "      <th>-652508397162970080</th>\n",
       "      <td>0</td>\n",
       "      <td>A</td>\n",
       "      <td>(k, i, j, l)</td>\n",
       "      <td>16.0</td>\n",
       "      <td>171.0</td>\n",
       "    </tr>\n",
       "  </tbody>\n",
       "</table>\n",
       "</div>"
      ],
      "text/plain": [
       "                      x  y             z  time  profit\n",
       "-6377645003138114473  0  A  (i, j, k, l)  95.0  2154.0\n",
       "-4854398439382140014  0  A  (i, l, j, k)  52.0   877.0\n",
       "-5177463136661683501  0  A  (j, i, k, l)  25.0   325.0\n",
       "-6931274389953361450  0  A  (j, l, i, k)  76.0  1492.0\n",
       "-652508397162970080   0  A  (k, i, j, l)  16.0   171.0"
      ]
     },
     "execution_count": 34,
     "metadata": {},
     "output_type": "execute_result"
    }
   ],
   "source": [
    "simpop.datasets.output.head()"
   ]
  },
  {
   "cell_type": "markdown",
   "metadata": {},
   "source": [
    "# Fitness"
   ]
  },
  {
   "cell_type": "markdown",
   "metadata": {},
   "source": [
    "### 1. Single Objective"
   ]
  },
  {
   "cell_type": "code",
   "execution_count": 35,
   "metadata": {},
   "outputs": [],
   "source": [
    "single_objective_pop = simpop.apply_fitness.single_objective(output='time', objective='min')"
   ]
  },
  {
   "cell_type": "code",
   "execution_count": 36,
   "metadata": {},
   "outputs": [
    {
     "data": {
      "text/html": [
       "<div>\n",
       "<style scoped>\n",
       "    .dataframe tbody tr th:only-of-type {\n",
       "        vertical-align: middle;\n",
       "    }\n",
       "\n",
       "    .dataframe tbody tr th {\n",
       "        vertical-align: top;\n",
       "    }\n",
       "\n",
       "    .dataframe thead th {\n",
       "        text-align: right;\n",
       "    }\n",
       "</style>\n",
       "<table border=\"1\" class=\"dataframe\">\n",
       "  <thead>\n",
       "    <tr style=\"text-align: right;\">\n",
       "      <th></th>\n",
       "      <th>x</th>\n",
       "      <th>y</th>\n",
       "      <th>z</th>\n",
       "      <th>time</th>\n",
       "      <th>profit</th>\n",
       "      <th>criteria</th>\n",
       "    </tr>\n",
       "  </thead>\n",
       "  <tbody>\n",
       "    <tr>\n",
       "      <th>6169570088167091210</th>\n",
       "      <td>10</td>\n",
       "      <td>D</td>\n",
       "      <td>(m, i, j, k)</td>\n",
       "      <td>0.0</td>\n",
       "      <td>86.0</td>\n",
       "      <td>0.0</td>\n",
       "    </tr>\n",
       "    <tr>\n",
       "      <th>6985559981651260374</th>\n",
       "      <td>9</td>\n",
       "      <td>E</td>\n",
       "      <td>(i, k, m, l)</td>\n",
       "      <td>0.0</td>\n",
       "      <td>227.0</td>\n",
       "      <td>0.0</td>\n",
       "    </tr>\n",
       "    <tr>\n",
       "      <th>4459491884439036227</th>\n",
       "      <td>2</td>\n",
       "      <td>D</td>\n",
       "      <td>(l, j, m, k)</td>\n",
       "      <td>0.0</td>\n",
       "      <td>32.0</td>\n",
       "      <td>0.0</td>\n",
       "    </tr>\n",
       "    <tr>\n",
       "      <th>5188603756708380101</th>\n",
       "      <td>6</td>\n",
       "      <td>A</td>\n",
       "      <td>(j, l, i, m)</td>\n",
       "      <td>0.0</td>\n",
       "      <td>1.0</td>\n",
       "      <td>0.0</td>\n",
       "    </tr>\n",
       "    <tr>\n",
       "      <th>642139397544818635</th>\n",
       "      <td>1</td>\n",
       "      <td>A</td>\n",
       "      <td>(m, l, i, j)</td>\n",
       "      <td>0.0</td>\n",
       "      <td>3.0</td>\n",
       "      <td>0.0</td>\n",
       "    </tr>\n",
       "  </tbody>\n",
       "</table>\n",
       "</div>"
      ],
      "text/plain": [
       "                      x  y             z  time  profit  criteria\n",
       "6169570088167091210  10  D  (m, i, j, k)   0.0    86.0       0.0\n",
       "6985559981651260374   9  E  (i, k, m, l)   0.0   227.0       0.0\n",
       "4459491884439036227   2  D  (l, j, m, k)   0.0    32.0       0.0\n",
       "5188603756708380101   6  A  (j, l, i, m)   0.0     1.0       0.0\n",
       "642139397544818635    1  A  (m, l, i, j)   0.0     3.0       0.0"
      ]
     },
     "execution_count": 36,
     "metadata": {},
     "output_type": "execute_result"
    }
   ],
   "source": [
    "single_objective_pop.datasets.fitness.head()"
   ]
  },
  {
   "cell_type": "markdown",
   "metadata": {},
   "source": [
    "### 2. Multi Objective - Ranked"
   ]
  },
  {
   "cell_type": "code",
   "execution_count": 37,
   "metadata": {},
   "outputs": [],
   "source": [
    "ranked_objective_pop = simpop.apply_fitness.multi_objective.ranked(priorities=['time', 'profit'], objectives=['min', 'max'])"
   ]
  },
  {
   "cell_type": "code",
   "execution_count": 38,
   "metadata": {},
   "outputs": [
    {
     "data": {
      "text/html": [
       "<div>\n",
       "<style scoped>\n",
       "    .dataframe tbody tr th:only-of-type {\n",
       "        vertical-align: middle;\n",
       "    }\n",
       "\n",
       "    .dataframe tbody tr th {\n",
       "        vertical-align: top;\n",
       "    }\n",
       "\n",
       "    .dataframe thead th {\n",
       "        text-align: right;\n",
       "    }\n",
       "</style>\n",
       "<table border=\"1\" class=\"dataframe\">\n",
       "  <thead>\n",
       "    <tr style=\"text-align: right;\">\n",
       "      <th></th>\n",
       "      <th>x</th>\n",
       "      <th>y</th>\n",
       "      <th>z</th>\n",
       "      <th>time</th>\n",
       "      <th>profit</th>\n",
       "      <th>criteria0</th>\n",
       "      <th>criteria1</th>\n",
       "    </tr>\n",
       "  </thead>\n",
       "  <tbody>\n",
       "    <tr>\n",
       "      <th>-119608305692111034</th>\n",
       "      <td>0</td>\n",
       "      <td>E</td>\n",
       "      <td>(m, j, k, i)</td>\n",
       "      <td>0.0</td>\n",
       "      <td>277.0</td>\n",
       "      <td>0.0</td>\n",
       "      <td>277.0</td>\n",
       "    </tr>\n",
       "    <tr>\n",
       "      <th>4731536916938161600</th>\n",
       "      <td>0</td>\n",
       "      <td>E</td>\n",
       "      <td>(k, i, j, m)</td>\n",
       "      <td>0.0</td>\n",
       "      <td>250.0</td>\n",
       "      <td>0.0</td>\n",
       "      <td>250.0</td>\n",
       "    </tr>\n",
       "    <tr>\n",
       "      <th>830350755679795832</th>\n",
       "      <td>1</td>\n",
       "      <td>E</td>\n",
       "      <td>(k, m, l, j)</td>\n",
       "      <td>0.0</td>\n",
       "      <td>236.0</td>\n",
       "      <td>0.0</td>\n",
       "      <td>236.0</td>\n",
       "    </tr>\n",
       "    <tr>\n",
       "      <th>2114934944207812834</th>\n",
       "      <td>6</td>\n",
       "      <td>E</td>\n",
       "      <td>(l, m, i, j)</td>\n",
       "      <td>0.0</td>\n",
       "      <td>232.0</td>\n",
       "      <td>0.0</td>\n",
       "      <td>232.0</td>\n",
       "    </tr>\n",
       "    <tr>\n",
       "      <th>7484395103258128608</th>\n",
       "      <td>2</td>\n",
       "      <td>E</td>\n",
       "      <td>(m, i, j, k)</td>\n",
       "      <td>0.0</td>\n",
       "      <td>227.0</td>\n",
       "      <td>0.0</td>\n",
       "      <td>227.0</td>\n",
       "    </tr>\n",
       "  </tbody>\n",
       "</table>\n",
       "</div>"
      ],
      "text/plain": [
       "                      x  y             z  time  profit  criteria0  criteria1\n",
       "-119608305692111034   0  E  (m, j, k, i)   0.0   277.0        0.0      277.0\n",
       " 4731536916938161600  0  E  (k, i, j, m)   0.0   250.0        0.0      250.0\n",
       " 830350755679795832   1  E  (k, m, l, j)   0.0   236.0        0.0      236.0\n",
       " 2114934944207812834  6  E  (l, m, i, j)   0.0   232.0        0.0      232.0\n",
       " 7484395103258128608  2  E  (m, i, j, k)   0.0   227.0        0.0      227.0"
      ]
     },
     "execution_count": 38,
     "metadata": {},
     "output_type": "execute_result"
    }
   ],
   "source": [
    "ranked_objective_pop.datasets.fitness.head()"
   ]
  },
  {
   "cell_type": "markdown",
   "metadata": {},
   "source": [
    "### 3. Multi Objective - Pareto"
   ]
  },
  {
   "cell_type": "code",
   "execution_count": 39,
   "metadata": {},
   "outputs": [],
   "source": [
    "pareto_objective_pop = simpop.apply_fitness.multi_objective.pareto(outputs=['time', 'profit'], objectives=['min', 'max'])"
   ]
  },
  {
   "cell_type": "code",
   "execution_count": 40,
   "metadata": {},
   "outputs": [
    {
     "data": {
      "text/html": [
       "<div>\n",
       "<style scoped>\n",
       "    .dataframe tbody tr th:only-of-type {\n",
       "        vertical-align: middle;\n",
       "    }\n",
       "\n",
       "    .dataframe tbody tr th {\n",
       "        vertical-align: top;\n",
       "    }\n",
       "\n",
       "    .dataframe thead th {\n",
       "        text-align: right;\n",
       "    }\n",
       "</style>\n",
       "<table border=\"1\" class=\"dataframe\">\n",
       "  <thead>\n",
       "    <tr style=\"text-align: right;\">\n",
       "      <th></th>\n",
       "      <th>x</th>\n",
       "      <th>y</th>\n",
       "      <th>z</th>\n",
       "      <th>time</th>\n",
       "      <th>profit</th>\n",
       "      <th>criteria0</th>\n",
       "      <th>criteria1</th>\n",
       "      <th>front</th>\n",
       "      <th>crowd</th>\n",
       "    </tr>\n",
       "  </thead>\n",
       "  <tbody>\n",
       "    <tr>\n",
       "      <th>1154167961796706623</th>\n",
       "      <td>10</td>\n",
       "      <td>E</td>\n",
       "      <td>(i, j, k, l)</td>\n",
       "      <td>122.0</td>\n",
       "      <td>10167.0</td>\n",
       "      <td>1.265489</td>\n",
       "      <td>8.101657</td>\n",
       "      <td>1</td>\n",
       "      <td>inf</td>\n",
       "    </tr>\n",
       "    <tr>\n",
       "      <th>-847312559579097849</th>\n",
       "      <td>4</td>\n",
       "      <td>A</td>\n",
       "      <td>(m, l, i, j)</td>\n",
       "      <td>0.0</td>\n",
       "      <td>1.0</td>\n",
       "      <td>-1.472004</td>\n",
       "      <td>-0.669931</td>\n",
       "      <td>1</td>\n",
       "      <td>inf</td>\n",
       "    </tr>\n",
       "    <tr>\n",
       "      <th>4731536916938161600</th>\n",
       "      <td>0</td>\n",
       "      <td>E</td>\n",
       "      <td>(k, i, j, m)</td>\n",
       "      <td>0.0</td>\n",
       "      <td>250.0</td>\n",
       "      <td>-1.472004</td>\n",
       "      <td>-0.455084</td>\n",
       "      <td>1</td>\n",
       "      <td>inf</td>\n",
       "    </tr>\n",
       "    <tr>\n",
       "      <th>-3600541832540001448</th>\n",
       "      <td>10</td>\n",
       "      <td>B</td>\n",
       "      <td>(k, i, j, l)</td>\n",
       "      <td>6.0</td>\n",
       "      <td>1656.0</td>\n",
       "      <td>-1.337374</td>\n",
       "      <td>0.758062</td>\n",
       "      <td>1</td>\n",
       "      <td>6.484295</td>\n",
       "    </tr>\n",
       "    <tr>\n",
       "      <th>-3437589868106570349</th>\n",
       "      <td>10</td>\n",
       "      <td>B</td>\n",
       "      <td>(l, k, i, j)</td>\n",
       "      <td>23.0</td>\n",
       "      <td>7599.0</td>\n",
       "      <td>-0.955920</td>\n",
       "      <td>5.885895</td>\n",
       "      <td>1</td>\n",
       "      <td>5.833717</td>\n",
       "    </tr>\n",
       "  </tbody>\n",
       "</table>\n",
       "</div>"
      ],
      "text/plain": [
       "                       x  y             z   time   profit  criteria0  \\\n",
       " 1154167961796706623  10  E  (i, j, k, l)  122.0  10167.0   1.265489   \n",
       "-847312559579097849    4  A  (m, l, i, j)    0.0      1.0  -1.472004   \n",
       " 4731536916938161600   0  E  (k, i, j, m)    0.0    250.0  -1.472004   \n",
       "-3600541832540001448  10  B  (k, i, j, l)    6.0   1656.0  -1.337374   \n",
       "-3437589868106570349  10  B  (l, k, i, j)   23.0   7599.0  -0.955920   \n",
       "\n",
       "                      criteria1  front     crowd  \n",
       " 1154167961796706623   8.101657      1       inf  \n",
       "-847312559579097849   -0.669931      1       inf  \n",
       " 4731536916938161600  -0.455084      1       inf  \n",
       "-3600541832540001448   0.758062      1  6.484295  \n",
       "-3437589868106570349   5.885895      1  5.833717  "
      ]
     },
     "execution_count": 40,
     "metadata": {},
     "output_type": "execute_result"
    }
   ],
   "source": [
    "pareto_objective_pop.datasets.fitness.head()"
   ]
  },
  {
   "cell_type": "code",
   "execution_count": 41,
   "metadata": {},
   "outputs": [
    {
     "data": {
      "image/png": "[encoded data removed]",
      "text/plain": [
       "<Figure size 432x288 with 2 Axes>"
      ]
     },
     "metadata": {
      "needs_background": "light"
     },
     "output_type": "display_data"
    }
   ],
   "source": [
    "ax = pareto_objective_pop.plot.fronts('time', 'profit', 1)"
   ]
  },
  {
   "cell_type": "markdown",
   "metadata": {},
   "source": [
    "# Selection"
   ]
  },
  {
   "cell_type": "code",
   "execution_count": null,
   "metadata": {},
   "outputs": [],
   "source": []
  }
 ],
 "metadata": {
  "kernelspec": {
   "display_name": "Lamarck Env",
   "language": "python",
   "name": "lamarck"
  },
  "language_info": {
   "codemirror_mode": {
    "name": "ipython",
    "version": 3
   },
   "file_extension": ".py",
   "mimetype": "text/x-python",
   "name": "python",
   "nbconvert_exporter": "python",
   "pygments_lexer": "ipython3",
   "version": "3.9.1"
  }
 },
 "nbformat": 4,
 "nbformat_minor": 4
}
