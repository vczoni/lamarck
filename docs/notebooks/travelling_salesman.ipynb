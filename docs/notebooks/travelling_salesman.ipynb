{
 "cells": [
  {
   "cell_type": "code",
   "execution_count": 1,
   "metadata": {},
   "outputs": [],
   "source": [
    "import sys\n",
    "import numpy as np\n",
    "import pandas as pd\n",
    "sys.path.append('../..')"
   ]
  },
  {
   "cell_type": "code",
   "execution_count": 2,
   "metadata": {},
   "outputs": [],
   "source": [
    "from tqdm import tqdm\n",
    "import itertools\n",
    "from matplotlib import pyplot as plt"
   ]
  },
  {
   "cell_type": "code",
   "execution_count": 3,
   "metadata": {},
   "outputs": [],
   "source": [
    "from lamarck.assistant import GenomeCreator\n",
    "from lamarck.assistant import PopulationCreator\n",
    "from lamarck import Environment"
   ]
  },
  {
   "cell_type": "markdown",
   "metadata": {},
   "source": [
    "# Setup"
   ]
  },
  {
   "cell_type": "markdown",
   "metadata": {},
   "source": [
    "#### Process"
   ]
  },
  {
   "cell_type": "code",
   "execution_count": 4,
   "metadata": {},
   "outputs": [],
   "source": [
    "class Location:\n",
    "    def __init__(self, x, y):\n",
    "        self.x = x\n",
    "        self.y = y\n",
    "    \n",
    "    def __repr__(self):\n",
    "        return ', '.join([f'x: {self.x}', f'y: {self.y}'])\n",
    "    \n",
    "    def distance(self, other):\n",
    "        dx = self.x - other.x\n",
    "        dy = self.y - other.y\n",
    "        return np.hypot(dx, dy)\n",
    "    \n",
    "\n",
    "class TravelSalesman:\n",
    "    def __init__(self, n_cities, seed=42):\n",
    "        self._n = n_cities\n",
    "        self._seed = seed\n",
    "        self.coords = []\n",
    "        self.coord_df = None\n",
    "        self.build()\n",
    "    \n",
    "    def build(self):\n",
    "        np.random.seed(self._seed)\n",
    "        self.coords = [Location(*np.random.randint(0, 100, size=2))\n",
    "                       for _ in range(self._n)]\n",
    "        coord_data = [(loc.x, loc.y) for loc in self.coords]\n",
    "        self.coord_df = pd.DataFrame(coord_data, columns=['x', 'y'])\n",
    "    \n",
    "    def get_distance(self, id1, id2):\n",
    "        loc1 = self.coords[id1]\n",
    "        loc2 = self.coords[id2]\n",
    "        return loc1.distance(loc2)\n",
    "    \n",
    "    def get_route_distance(self, seq):\n",
    "        if seq is None:\n",
    "            seq = list(range(self._n))\n",
    "        dist = 0\n",
    "        for city1, city2 in zip(seq[0:-1], seq[1:]):\n",
    "            dist += self.get_distance(city1, city2)\n",
    "        return dist\n",
    "    \n",
    "    \n",
    "    def plot(self, hl=None, **kw):\n",
    "        ax = self.coord_df.plot.scatter('x', 'y', xlim=(0, 100), ylim=(0, 100), **kw)\n",
    "        if hl is not None:\n",
    "            if isinstance(hl, int):\n",
    "                self.coord_df[hl:hl+1].plot.scatter('x', 'y', ax=ax, color='m')\n",
    "            elif isinstance(hl, (list, tuple)):\n",
    "                [self.coord_df[h:h+1].plot.scatter('x', 'y', ax=ax, color='m')\n",
    "                 for h in hl]\n",
    "        plt.gca().set_aspect('equal', adjustable='box')\n",
    "        return ax\n",
    "    \n",
    "    def plot_route(self, seq=None, hl=None, **kw):\n",
    "        if seq is None:\n",
    "            seq = list(range(self._n))\n",
    "        ax = self.coord_df.loc[np.array(seq)]\\\n",
    "            .plot('x', 'y', color='grey', legend=False)\n",
    "        ax = self.plot(hl=hl, ax=ax, **kw)\n",
    "        plt.gca().set_aspect('equal', adjustable='box')\n",
    "        start = seq[0]\n",
    "        end = seq[-1]\n",
    "        ax = self.coord_df[start:start+1]\\\n",
    "            .plot.scatter('x', 'y', color='lime', ax=ax)\n",
    "        ax = self.coord_df[end:end+1]\\\n",
    "            .plot.scatter('x', 'y', color='r', ax=ax)\n",
    "\n",
    "\n",
    "def process_deco(trav):\n",
    "    def wrapper(cities):\n",
    "        return {'dist': trav.get_route_distance(cities)}\n",
    "    return wrapper"
   ]
  },
  {
   "cell_type": "code",
   "execution_count": 5,
   "metadata": {},
   "outputs": [],
   "source": [
    "n_cities = 13"
   ]
  },
  {
   "cell_type": "code",
   "execution_count": 6,
   "metadata": {},
   "outputs": [],
   "source": [
    "trav = TravelSalesman(n_cities)"
   ]
  },
  {
   "cell_type": "code",
   "execution_count": 7,
   "metadata": {},
   "outputs": [
    {
     "data": {
      "text/plain": [
       "69.57010852370435"
      ]
     },
     "execution_count": 7,
     "metadata": {},
     "output_type": "execute_result"
    },
    {
     "data": {
      "image/png": "[encoded data removed]",
      "text/plain": [
       "<Figure size 432x288 with 1 Axes>"
      ]
     },
     "metadata": {
      "needs_background": "light"
     },
     "output_type": "display_data"
    }
   ],
   "source": [
    "trav.plot(3)\n",
    "trav.get_distance(2, 3)"
   ]
  },
  {
   "cell_type": "code",
   "execution_count": 8,
   "metadata": {},
   "outputs": [
    {
     "data": {
      "image/png": "[encoded data removed]",
      "text/plain": [
       "<Figure size 432x288 with 1 Axes>"
      ]
     },
     "metadata": {
      "needs_background": "light"
     },
     "output_type": "display_data"
    }
   ],
   "source": [
    "trav.plot_route()"
   ]
  },
  {
   "cell_type": "markdown",
   "metadata": {},
   "source": [
    "# Finding best - Brute Force"
   ]
  },
  {
   "cell_type": "raw",
   "metadata": {},
   "source": [
    "gen = itertools.permutations((tuple(range(n_cities))), n_cities)\n",
    "min_dist = np.inf\n",
    "N = np.math.factorial(n_cities)\n",
    "pbar = tqdm(range(N))\n",
    "for _ in pbar:\n",
    "    seq = next(gen)\n",
    "    dist = trav.get_route_distance(seq)\n",
    "    if dist < min_dist:\n",
    "        min_dist = dist\n",
    "        best_seq = seq"
   ]
  },
  {
   "cell_type": "code",
   "execution_count": 9,
   "metadata": {},
   "outputs": [],
   "source": [
    "best_seq = (5, 3, 4, 0, 8, 1, 10, 7, 9, 2, 11, 6)\n",
    "min_dist = 260.1159879435773"
   ]
  },
  {
   "cell_type": "code",
   "execution_count": 10,
   "metadata": {},
   "outputs": [
    {
     "name": "stdout",
     "output_type": "stream",
     "text": [
      "(5, 3, 4, 0, 8, 1, 10, 7, 9, 2, 11, 6) dist: 260.1159879435773\n"
     ]
    },
    {
     "data": {
      "image/png": "[encoded data removed]",
      "text/plain": [
       "<Figure size 432x288 with 1 Axes>"
      ]
     },
     "metadata": {
      "needs_background": "light"
     },
     "output_type": "display_data"
    }
   ],
   "source": [
    "print(best_seq, 'dist:', min_dist)\n",
    "trav.plot_route(best_seq)"
   ]
  },
  {
   "cell_type": "markdown",
   "metadata": {},
   "source": [
    "# Finding best - GA"
   ]
  },
  {
   "cell_type": "markdown",
   "metadata": {},
   "source": [
    "#### Optimization Function"
   ]
  },
  {
   "cell_type": "code",
   "execution_count": 11,
   "metadata": {},
   "outputs": [],
   "source": [
    "process = process_deco(trav)"
   ]
  },
  {
   "cell_type": "markdown",
   "metadata": {},
   "source": [
    "#### Genome Creation"
   ]
  },
  {
   "cell_type": "code",
   "execution_count": 12,
   "metadata": {},
   "outputs": [],
   "source": [
    "genome_creator = GenomeCreator()"
   ]
  },
  {
   "cell_type": "code",
   "execution_count": 13,
   "metadata": {},
   "outputs": [],
   "source": [
    "genome_creator.add_gene_specs.vectorial(name='cities',\n",
    "                                        length=n_cities,\n",
    "                                        replace=False,\n",
    "                                        domain=tuple(range(n_cities))\n",
    "                                       )\n",
    "\n",
    "genome_blueprint = genome_creator.get_genome_blueprint()"
   ]
  },
  {
   "cell_type": "code",
   "execution_count": 14,
   "metadata": {},
   "outputs": [
    {
     "data": {
      "text/plain": [
       "{'cities': {'type': 'vectorial',\n",
       "  'domain': (0, 1, 2, 3, 4, 5, 6, 7, 8, 9, 10, 11, 12),\n",
       "  'ranges': {'length': 13, 'replace': False}}}"
      ]
     },
     "execution_count": 14,
     "metadata": {},
     "output_type": "execute_result"
    }
   ],
   "source": [
    "genome_blueprint"
   ]
  },
  {
   "cell_type": "markdown",
   "metadata": {},
   "source": [
    "#### Population"
   ]
  },
  {
   "cell_type": "code",
   "execution_count": 15,
   "metadata": {},
   "outputs": [],
   "source": [
    "ndet=7\n",
    "nrand=2000"
   ]
  },
  {
   "cell_type": "code",
   "execution_count": null,
   "metadata": {},
   "outputs": [],
   "source": [
    "pop_creator = PopulationCreator(genome_blueprint)\n",
    "pop = pop_creator.create.det(ndet) + pop_creator.create.rand(nrand)\n",
    "pop.define()\n",
    "pop"
   ]
  },
  {
   "cell_type": "markdown",
   "metadata": {},
   "source": [
    "### Simulate"
   ]
  },
  {
   "cell_type": "code",
   "execution_count": null,
   "metadata": {},
   "outputs": [],
   "source": [
    "output = 'dist'\n",
    "objective = 'min'\n",
    "n_generations = 20"
   ]
  },
  {
   "cell_type": "code",
   "execution_count": null,
   "metadata": {},
   "outputs": [],
   "source": [
    "# Environment\n",
    "env = Environment()\n",
    "env.config.set_multi(True)\n",
    "env.config.set_process(process)"
   ]
  },
  {
   "cell_type": "code",
   "execution_count": null,
   "metadata": {},
   "outputs": [],
   "source": [
    "pbar = tqdm(range(n_generations))\n",
    "for _ in pbar:\n",
    "    pbar.set_description('Simulating...')\n",
    "    env.simulate(pop)\n",
    "    pbar.set_description('Applying Fitness...')\n",
    "    pop.apply_fitness.single_objective(output, objective=objective)\n",
    "    pbar.set_description('Selecting...')\n",
    "    pop.select()\n",
    "    pbar.set_description('Repopulating...')\n",
    "    pop.reproduce.mutate(p=0.01)\n",
    "    pop.reproduce.tournament(n_dispute=3)"
   ]
  },
  {
   "cell_type": "code",
   "execution_count": null,
   "metadata": {},
   "outputs": [],
   "source": [
    "gen = 0"
   ]
  },
  {
   "cell_type": "code",
   "execution_count": null,
   "metadata": {},
   "outputs": [],
   "source": [
    "f = pop.datasets.history.generation == gen\n",
    "df = pop.datasets.history[f]\n",
    "seq = df.iloc[0]['cities']\n",
    "trav.plot_route(seq, title=f'gen: {gen}')\n",
    "gen += 1"
   ]
  },
  {
   "cell_type": "code",
   "execution_count": null,
   "metadata": {},
   "outputs": [],
   "source": [
    "gens = pop.datasets.history.generation.unique()\n",
    "for gen in gens:\n",
    "    f = pop.datasets.history.generation == gen\n",
    "    df = pop.datasets.history[f]\n",
    "    seq = df.iloc[0]['cities']\n",
    "    trav.plot_route(seq, title=f'gen: {gen}')"
   ]
  },
  {
   "cell_type": "code",
   "execution_count": null,
   "metadata": {},
   "outputs": [],
   "source": [
    "trav.plot_route(best_seq)"
   ]
  },
  {
   "cell_type": "code",
   "execution_count": null,
   "metadata": {},
   "outputs": [],
   "source": [
    "pop.plot.history('dist', min)"
   ]
  },
  {
   "cell_type": "code",
   "execution_count": null,
   "metadata": {},
   "outputs": [],
   "source": [
    "ax = plt.contour([df['']])"
   ]
  }
 ],
 "metadata": {
  "kernelspec": {
   "display_name": "Lamarck Env",
   "language": "python",
   "name": "lamarck"
  },
  "language_info": {
   "codemirror_mode": {
    "name": "ipython",
    "version": 3
   },
   "file_extension": ".py",
   "mimetype": "text/x-python",
   "name": "python",
   "nbconvert_exporter": "python",
   "pygments_lexer": "ipython3",
   "version": "3.9.1"
  }
 },
 "nbformat": 4,
 "nbformat_minor": 4
}
