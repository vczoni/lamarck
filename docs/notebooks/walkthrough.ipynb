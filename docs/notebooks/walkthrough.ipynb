{
 "cells": [
  {
   "cell_type": "code",
   "execution_count": 1,
   "metadata": {},
   "outputs": [],
   "source": [
    "import sys\n",
    "import pandas as pd\n",
    "sys.path.append('../..')"
   ]
  },
  {
   "cell_type": "markdown",
   "metadata": {},
   "source": [
    "# Creature"
   ]
  },
  {
   "cell_type": "code",
   "execution_count": 2,
   "metadata": {},
   "outputs": [],
   "source": [
    "from lamarck import Creature"
   ]
  },
  {
   "cell_type": "code",
   "execution_count": 3,
   "metadata": {},
   "outputs": [],
   "source": [
    "genome = {\n",
    "    'x': 10,\n",
    "    'y': 'A',\n",
    "    'z': (1, 2, 3)\n",
    "}"
   ]
  },
  {
   "cell_type": "code",
   "execution_count": 4,
   "metadata": {},
   "outputs": [],
   "source": [
    "creature = Creature(genome)"
   ]
  },
  {
   "cell_type": "code",
   "execution_count": 5,
   "metadata": {},
   "outputs": [
    {
     "data": {
      "text/plain": [
       "-1163867742055844525"
      ]
     },
     "execution_count": 5,
     "metadata": {},
     "output_type": "execute_result"
    }
   ],
   "source": [
    "creature.id"
   ]
  },
  {
   "cell_type": "markdown",
   "metadata": {},
   "source": [
    "# Genome Creator"
   ]
  },
  {
   "cell_type": "code",
   "execution_count": 6,
   "metadata": {},
   "outputs": [],
   "source": [
    "from lamarck.assistant import GenomeCreator"
   ]
  },
  {
   "cell_type": "code",
   "execution_count": 7,
   "metadata": {},
   "outputs": [],
   "source": [
    "genome_creator = GenomeCreator()"
   ]
  },
  {
   "cell_type": "code",
   "execution_count": 8,
   "metadata": {},
   "outputs": [],
   "source": [
    "genome_creator.add_gene_specs.numeric(name='x',\n",
    "                                      min=0,\n",
    "                                      max=10,\n",
    "                                      progression='linear',\n",
    "                                      domain='int')\n",
    "\n",
    "genome_creator.add_gene_specs.categorical(name='y', domain=['A', 'B', 'C', 'D', 'E'])\n",
    "\n",
    "genome_creator.add_gene_specs.vectorial(name='z', length=4, replace=False, domain=['i', 'j', 'k', 'l', 'm'])"
   ]
  },
  {
   "cell_type": "code",
   "execution_count": 9,
   "metadata": {},
   "outputs": [],
   "source": [
    "genome_blueprint = genome_creator.get_genome_blueprint()"
   ]
  },
  {
   "cell_type": "code",
   "execution_count": 10,
   "metadata": {},
   "outputs": [
    {
     "data": {
      "text/plain": [
       "{'x': {'type': 'numeric',\n",
       "  'domain': 'int',\n",
       "  'ranges': {'min': 0, 'max': 10, 'progression': 'linear'}},\n",
       " 'y': {'type': 'categorical', 'domain': ['A', 'B', 'C', 'D', 'E']},\n",
       " 'z': {'type': 'vectorial',\n",
       "  'domain': ['i', 'j', 'k', 'l', 'm'],\n",
       "  'ranges': {'length': 4, 'replace': False}}}"
      ]
     },
     "execution_count": 10,
     "metadata": {},
     "output_type": "execute_result"
    }
   ],
   "source": [
    "genome_blueprint"
   ]
  },
  {
   "cell_type": "markdown",
   "metadata": {},
   "source": [
    "# Population Creator"
   ]
  },
  {
   "cell_type": "code",
   "execution_count": 11,
   "metadata": {},
   "outputs": [],
   "source": [
    "from lamarck.assistant import PopulationCreator"
   ]
  },
  {
   "cell_type": "code",
   "execution_count": 12,
   "metadata": {},
   "outputs": [],
   "source": [
    "pop_creator = PopulationCreator(genome_blueprint)"
   ]
  },
  {
   "cell_type": "code",
   "execution_count": 13,
   "metadata": {},
   "outputs": [
    {
     "data": {
      "text/plain": [
       "Population with 512 Creatures with genes x (numeric), y (categorical), z (vectorial).\n",
       "        "
      ]
     },
     "execution_count": 13,
     "metadata": {},
     "output_type": "execute_result"
    }
   ],
   "source": [
    "popdet = pop_creator.create.det(8)\n",
    "popdet"
   ]
  },
  {
   "cell_type": "code",
   "execution_count": 14,
   "metadata": {},
   "outputs": [
    {
     "data": {
      "text/html": [
       "<div>\n",
       "<style scoped>\n",
       "    .dataframe tbody tr th:only-of-type {\n",
       "        vertical-align: middle;\n",
       "    }\n",
       "\n",
       "    .dataframe tbody tr th {\n",
       "        vertical-align: top;\n",
       "    }\n",
       "\n",
       "    .dataframe thead th {\n",
       "        text-align: right;\n",
       "    }\n",
       "</style>\n",
       "<table border=\"1\" class=\"dataframe\">\n",
       "  <thead>\n",
       "    <tr style=\"text-align: right;\">\n",
       "      <th></th>\n",
       "      <th>x</th>\n",
       "      <th>y</th>\n",
       "      <th>z</th>\n",
       "    </tr>\n",
       "    <tr>\n",
       "      <th>id</th>\n",
       "      <th></th>\n",
       "      <th></th>\n",
       "      <th></th>\n",
       "    </tr>\n",
       "  </thead>\n",
       "  <tbody>\n",
       "    <tr>\n",
       "      <th>6861546195533386093</th>\n",
       "      <td>0</td>\n",
       "      <td>A</td>\n",
       "      <td>(i, j, k, l)</td>\n",
       "    </tr>\n",
       "    <tr>\n",
       "      <th>-4032542161395495972</th>\n",
       "      <td>0</td>\n",
       "      <td>A</td>\n",
       "      <td>(i, l, k, m)</td>\n",
       "    </tr>\n",
       "    <tr>\n",
       "      <th>80855953509368739</th>\n",
       "      <td>0</td>\n",
       "      <td>A</td>\n",
       "      <td>(j, k, i, l)</td>\n",
       "    </tr>\n",
       "    <tr>\n",
       "      <th>-5359771979190105310</th>\n",
       "      <td>0</td>\n",
       "      <td>A</td>\n",
       "      <td>(j, m, k, l)</td>\n",
       "    </tr>\n",
       "    <tr>\n",
       "      <th>-371711285419199414</th>\n",
       "      <td>0</td>\n",
       "      <td>A</td>\n",
       "      <td>(k, l, i, j)</td>\n",
       "    </tr>\n",
       "  </tbody>\n",
       "</table>\n",
       "</div>"
      ],
      "text/plain": [
       "                      x  y             z\n",
       "id                                      \n",
       " 6861546195533386093  0  A  (i, j, k, l)\n",
       "-4032542161395495972  0  A  (i, l, k, m)\n",
       " 80855953509368739    0  A  (j, k, i, l)\n",
       "-5359771979190105310  0  A  (j, m, k, l)\n",
       "-371711285419199414   0  A  (k, l, i, j)"
      ]
     },
     "execution_count": 14,
     "metadata": {},
     "output_type": "execute_result"
    }
   ],
   "source": [
    "popdet.datasets.input.head()"
   ]
  },
  {
   "cell_type": "code",
   "execution_count": 15,
   "metadata": {},
   "outputs": [
    {
     "data": {
      "text/plain": [
       "Population with 500 Creatures with genes x (numeric), y (categorical), z (vectorial).\n",
       "        "
      ]
     },
     "execution_count": 15,
     "metadata": {},
     "output_type": "execute_result"
    }
   ],
   "source": [
    "poprand = pop_creator.create.rand(500)\n",
    "poprand"
   ]
  },
  {
   "cell_type": "code",
   "execution_count": 16,
   "metadata": {},
   "outputs": [
    {
     "data": {
      "text/html": [
       "<div>\n",
       "<style scoped>\n",
       "    .dataframe tbody tr th:only-of-type {\n",
       "        vertical-align: middle;\n",
       "    }\n",
       "\n",
       "    .dataframe tbody tr th {\n",
       "        vertical-align: top;\n",
       "    }\n",
       "\n",
       "    .dataframe thead th {\n",
       "        text-align: right;\n",
       "    }\n",
       "</style>\n",
       "<table border=\"1\" class=\"dataframe\">\n",
       "  <thead>\n",
       "    <tr style=\"text-align: right;\">\n",
       "      <th></th>\n",
       "      <th>x</th>\n",
       "      <th>y</th>\n",
       "      <th>z</th>\n",
       "    </tr>\n",
       "    <tr>\n",
       "      <th>id</th>\n",
       "      <th></th>\n",
       "      <th></th>\n",
       "      <th></th>\n",
       "    </tr>\n",
       "  </thead>\n",
       "  <tbody>\n",
       "    <tr>\n",
       "      <th>-7868839330480019785</th>\n",
       "      <td>8</td>\n",
       "      <td>B</td>\n",
       "      <td>(l, j, m, i)</td>\n",
       "    </tr>\n",
       "    <tr>\n",
       "      <th>-3394323295741598217</th>\n",
       "      <td>4</td>\n",
       "      <td>E</td>\n",
       "      <td>(j, k, l, i)</td>\n",
       "    </tr>\n",
       "    <tr>\n",
       "      <th>-611500841635827503</th>\n",
       "      <td>6</td>\n",
       "      <td>B</td>\n",
       "      <td>(k, i, l, j)</td>\n",
       "    </tr>\n",
       "    <tr>\n",
       "      <th>8861049532802745730</th>\n",
       "      <td>4</td>\n",
       "      <td>B</td>\n",
       "      <td>(l, j, k, i)</td>\n",
       "    </tr>\n",
       "    <tr>\n",
       "      <th>-6098011024027929297</th>\n",
       "      <td>5</td>\n",
       "      <td>D</td>\n",
       "      <td>(i, m, k, j)</td>\n",
       "    </tr>\n",
       "  </tbody>\n",
       "</table>\n",
       "</div>"
      ],
      "text/plain": [
       "                      x  y             z\n",
       "id                                      \n",
       "-7868839330480019785  8  B  (l, j, m, i)\n",
       "-3394323295741598217  4  E  (j, k, l, i)\n",
       "-611500841635827503   6  B  (k, i, l, j)\n",
       " 8861049532802745730  4  B  (l, j, k, i)\n",
       "-6098011024027929297  5  D  (i, m, k, j)"
      ]
     },
     "execution_count": 16,
     "metadata": {},
     "output_type": "execute_result"
    }
   ],
   "source": [
    "poprand.datasets.input.head()"
   ]
  },
  {
   "cell_type": "code",
   "execution_count": 17,
   "metadata": {},
   "outputs": [
    {
     "data": {
      "text/plain": [
       "Population with 1012 Creatures with genes x (numeric), y (categorical), z (vectorial).\n",
       "        "
      ]
     },
     "execution_count": 17,
     "metadata": {},
     "output_type": "execute_result"
    }
   ],
   "source": [
    "pop = popdet + poprand\n",
    "pop"
   ]
  },
  {
   "cell_type": "code",
   "execution_count": 18,
   "metadata": {},
   "outputs": [
    {
     "data": {
      "text/plain": [
       "Population with 783 Creatures with genes x (numeric), y (categorical), z (vectorial).\n",
       "        "
      ]
     },
     "execution_count": 18,
     "metadata": {},
     "output_type": "execute_result"
    }
   ],
   "source": [
    "pop.drop_duplicates()\n",
    "pop"
   ]
  },
  {
   "cell_type": "code",
   "execution_count": 19,
   "metadata": {},
   "outputs": [
    {
     "data": {
      "text/html": [
       "<div>\n",
       "<style scoped>\n",
       "    .dataframe tbody tr th:only-of-type {\n",
       "        vertical-align: middle;\n",
       "    }\n",
       "\n",
       "    .dataframe tbody tr th {\n",
       "        vertical-align: top;\n",
       "    }\n",
       "\n",
       "    .dataframe thead th {\n",
       "        text-align: right;\n",
       "    }\n",
       "</style>\n",
       "<table border=\"1\" class=\"dataframe\">\n",
       "  <thead>\n",
       "    <tr style=\"text-align: right;\">\n",
       "      <th></th>\n",
       "      <th>x</th>\n",
       "      <th>y</th>\n",
       "      <th>z</th>\n",
       "    </tr>\n",
       "    <tr>\n",
       "      <th>id</th>\n",
       "      <th></th>\n",
       "      <th></th>\n",
       "      <th></th>\n",
       "    </tr>\n",
       "  </thead>\n",
       "  <tbody>\n",
       "    <tr>\n",
       "      <th>6861546195533386093</th>\n",
       "      <td>0</td>\n",
       "      <td>A</td>\n",
       "      <td>(i, j, k, l)</td>\n",
       "    </tr>\n",
       "    <tr>\n",
       "      <th>-4032542161395495972</th>\n",
       "      <td>0</td>\n",
       "      <td>A</td>\n",
       "      <td>(i, l, k, m)</td>\n",
       "    </tr>\n",
       "    <tr>\n",
       "      <th>80855953509368739</th>\n",
       "      <td>0</td>\n",
       "      <td>A</td>\n",
       "      <td>(j, k, i, l)</td>\n",
       "    </tr>\n",
       "    <tr>\n",
       "      <th>-5359771979190105310</th>\n",
       "      <td>0</td>\n",
       "      <td>A</td>\n",
       "      <td>(j, m, k, l)</td>\n",
       "    </tr>\n",
       "    <tr>\n",
       "      <th>-371711285419199414</th>\n",
       "      <td>0</td>\n",
       "      <td>A</td>\n",
       "      <td>(k, l, i, j)</td>\n",
       "    </tr>\n",
       "  </tbody>\n",
       "</table>\n",
       "</div>"
      ],
      "text/plain": [
       "                      x  y             z\n",
       "id                                      \n",
       " 6861546195533386093  0  A  (i, j, k, l)\n",
       "-4032542161395495972  0  A  (i, l, k, m)\n",
       " 80855953509368739    0  A  (j, k, i, l)\n",
       "-5359771979190105310  0  A  (j, m, k, l)\n",
       "-371711285419199414   0  A  (k, l, i, j)"
      ]
     },
     "execution_count": 19,
     "metadata": {},
     "output_type": "execute_result"
    }
   ],
   "source": [
    "pop.datasets.input.head()"
   ]
  },
  {
   "cell_type": "markdown",
   "metadata": {},
   "source": [
    "# Environment"
   ]
  },
  {
   "cell_type": "code",
   "execution_count": 20,
   "metadata": {},
   "outputs": [],
   "source": [
    "from lamarck import Environment"
   ]
  },
  {
   "cell_type": "code",
   "execution_count": 21,
   "metadata": {},
   "outputs": [],
   "source": [
    "import hashlib\n",
    "\n",
    "def tuplehash(tuple_obj):\n",
    "    encoded = ''.join(tuple_obj).encode()\n",
    "    m = hashlib.md5()\n",
    "    m.update(encoded)\n",
    "    d = m.digest()\n",
    "    return int.from_bytes(d, 'big')\n",
    "    \n",
    "    \n",
    "def dummy_process(x, y, z):\n",
    "    zval = (tuplehash(z) % 1000) / (x+1)**0.75\n",
    "    yval = zval // ord(y) + tuplehash((y, y)) % 73\n",
    "    return {\n",
    "        'time': (x + 1) * abs(zval - yval) // 10,\n",
    "        'profit': (abs(3*zval - 2*yval)**((int(x/10) + 1) % 9) // (tuplehash((y, y)) % 7 + 1)) % 10000 + (zval*yval) //10\n",
    "    }"
   ]
  },
  {
   "cell_type": "code",
   "execution_count": 22,
   "metadata": {},
   "outputs": [],
   "source": [
    "env = Environment()"
   ]
  },
  {
   "cell_type": "code",
   "execution_count": 23,
   "metadata": {},
   "outputs": [],
   "source": [
    "env.config.set_process(dummy_process)"
   ]
  },
  {
   "cell_type": "code",
   "execution_count": 24,
   "metadata": {},
   "outputs": [],
   "source": [
    "env.config.set_output_varibles('time', 'profit')"
   ]
  },
  {
   "cell_type": "code",
   "execution_count": 25,
   "metadata": {},
   "outputs": [
    {
     "data": {
      "text/plain": [
       "multi:   False\n",
       "output_varibles:   ('time', 'profit')\n",
       "process:   <function dummy_process at 0x7f7466365700>"
      ]
     },
     "execution_count": 25,
     "metadata": {},
     "output_type": "execute_result"
    }
   ],
   "source": [
    "env.config"
   ]
  },
  {
   "cell_type": "code",
   "execution_count": 26,
   "metadata": {},
   "outputs": [
    {
     "data": {
      "text/plain": [
       "Creature <-3122765390689753995> - genome: {'x': 0, 'y': 'B', 'z': ('j', 'k', 'i', 'l')}"
      ]
     },
     "execution_count": 26,
     "metadata": {},
     "output_type": "execute_result"
    }
   ],
   "source": [
    "cr = pop[10]\n",
    "cr"
   ]
  },
  {
   "cell_type": "markdown",
   "metadata": {},
   "source": [
    "### Simulate Creature"
   ]
  },
  {
   "cell_type": "code",
   "execution_count": 27,
   "metadata": {},
   "outputs": [
    {
     "data": {
      "text/plain": [
       "{'time': 54.0, 'profit': 3384.0}"
      ]
     },
     "execution_count": 27,
     "metadata": {},
     "output_type": "execute_result"
    }
   ],
   "source": [
    "env.simulate(cr)"
   ]
  },
  {
   "cell_type": "markdown",
   "metadata": {},
   "source": [
    "### Simulate Population"
   ]
  },
  {
   "cell_type": "code",
   "execution_count": 28,
   "metadata": {},
   "outputs": [],
   "source": [
    "simpop = pop.copy()"
   ]
  },
  {
   "cell_type": "code",
   "execution_count": 29,
   "metadata": {},
   "outputs": [],
   "source": [
    "env.simulate(simpop)"
   ]
  },
  {
   "cell_type": "code",
   "execution_count": 30,
   "metadata": {},
   "outputs": [
    {
     "data": {
      "text/html": [
       "<div>\n",
       "<style scoped>\n",
       "    .dataframe tbody tr th:only-of-type {\n",
       "        vertical-align: middle;\n",
       "    }\n",
       "\n",
       "    .dataframe tbody tr th {\n",
       "        vertical-align: top;\n",
       "    }\n",
       "\n",
       "    .dataframe thead th {\n",
       "        text-align: right;\n",
       "    }\n",
       "</style>\n",
       "<table border=\"1\" class=\"dataframe\">\n",
       "  <thead>\n",
       "    <tr style=\"text-align: right;\">\n",
       "      <th></th>\n",
       "      <th>x</th>\n",
       "      <th>y</th>\n",
       "      <th>z</th>\n",
       "      <th>time</th>\n",
       "      <th>profit</th>\n",
       "    </tr>\n",
       "  </thead>\n",
       "  <tbody>\n",
       "    <tr>\n",
       "      <th>6861546195533386093</th>\n",
       "      <td>0</td>\n",
       "      <td>A</td>\n",
       "      <td>(i, j, k, l)</td>\n",
       "      <td>95.0</td>\n",
       "      <td>2154.0</td>\n",
       "    </tr>\n",
       "    <tr>\n",
       "      <th>-4032542161395495972</th>\n",
       "      <td>0</td>\n",
       "      <td>A</td>\n",
       "      <td>(i, l, k, m)</td>\n",
       "      <td>62.0</td>\n",
       "      <td>1105.0</td>\n",
       "    </tr>\n",
       "    <tr>\n",
       "      <th>80855953509368739</th>\n",
       "      <td>0</td>\n",
       "      <td>A</td>\n",
       "      <td>(j, k, i, l)</td>\n",
       "      <td>56.0</td>\n",
       "      <td>930.0</td>\n",
       "    </tr>\n",
       "    <tr>\n",
       "      <th>-5359771979190105310</th>\n",
       "      <td>0</td>\n",
       "      <td>A</td>\n",
       "      <td>(j, m, k, l)</td>\n",
       "      <td>27.0</td>\n",
       "      <td>338.0</td>\n",
       "    </tr>\n",
       "    <tr>\n",
       "      <th>-371711285419199414</th>\n",
       "      <td>0</td>\n",
       "      <td>A</td>\n",
       "      <td>(k, l, i, j)</td>\n",
       "      <td>45.0</td>\n",
       "      <td>715.0</td>\n",
       "    </tr>\n",
       "  </tbody>\n",
       "</table>\n",
       "</div>"
      ],
      "text/plain": [
       "                      x  y             z  time  profit\n",
       " 6861546195533386093  0  A  (i, j, k, l)  95.0  2154.0\n",
       "-4032542161395495972  0  A  (i, l, k, m)  62.0  1105.0\n",
       " 80855953509368739    0  A  (j, k, i, l)  56.0   930.0\n",
       "-5359771979190105310  0  A  (j, m, k, l)  27.0   338.0\n",
       "-371711285419199414   0  A  (k, l, i, j)  45.0   715.0"
      ]
     },
     "execution_count": 30,
     "metadata": {},
     "output_type": "execute_result"
    }
   ],
   "source": [
    "simpop.datasets.output.head()"
   ]
  },
  {
   "cell_type": "markdown",
   "metadata": {},
   "source": [
    "### Simulate Population - Multi Thread"
   ]
  },
  {
   "cell_type": "code",
   "execution_count": 31,
   "metadata": {},
   "outputs": [],
   "source": [
    "env.config.set_multi(True)"
   ]
  },
  {
   "cell_type": "code",
   "execution_count": 32,
   "metadata": {},
   "outputs": [],
   "source": [
    "env.simulate(simpop)"
   ]
  },
  {
   "cell_type": "code",
   "execution_count": 33,
   "metadata": {},
   "outputs": [
    {
     "data": {
      "text/html": [
       "<div>\n",
       "<style scoped>\n",
       "    .dataframe tbody tr th:only-of-type {\n",
       "        vertical-align: middle;\n",
       "    }\n",
       "\n",
       "    .dataframe tbody tr th {\n",
       "        vertical-align: top;\n",
       "    }\n",
       "\n",
       "    .dataframe thead th {\n",
       "        text-align: right;\n",
       "    }\n",
       "</style>\n",
       "<table border=\"1\" class=\"dataframe\">\n",
       "  <thead>\n",
       "    <tr style=\"text-align: right;\">\n",
       "      <th></th>\n",
       "      <th>x</th>\n",
       "      <th>y</th>\n",
       "      <th>z</th>\n",
       "      <th>time</th>\n",
       "      <th>profit</th>\n",
       "    </tr>\n",
       "  </thead>\n",
       "  <tbody>\n",
       "    <tr>\n",
       "      <th>6861546195533386093</th>\n",
       "      <td>0</td>\n",
       "      <td>A</td>\n",
       "      <td>(i, j, k, l)</td>\n",
       "      <td>95.0</td>\n",
       "      <td>2154.0</td>\n",
       "    </tr>\n",
       "    <tr>\n",
       "      <th>-4032542161395495972</th>\n",
       "      <td>0</td>\n",
       "      <td>A</td>\n",
       "      <td>(i, l, k, m)</td>\n",
       "      <td>62.0</td>\n",
       "      <td>1105.0</td>\n",
       "    </tr>\n",
       "    <tr>\n",
       "      <th>80855953509368739</th>\n",
       "      <td>0</td>\n",
       "      <td>A</td>\n",
       "      <td>(j, k, i, l)</td>\n",
       "      <td>56.0</td>\n",
       "      <td>930.0</td>\n",
       "    </tr>\n",
       "    <tr>\n",
       "      <th>-5359771979190105310</th>\n",
       "      <td>0</td>\n",
       "      <td>A</td>\n",
       "      <td>(j, m, k, l)</td>\n",
       "      <td>27.0</td>\n",
       "      <td>338.0</td>\n",
       "    </tr>\n",
       "    <tr>\n",
       "      <th>-371711285419199414</th>\n",
       "      <td>0</td>\n",
       "      <td>A</td>\n",
       "      <td>(k, l, i, j)</td>\n",
       "      <td>45.0</td>\n",
       "      <td>715.0</td>\n",
       "    </tr>\n",
       "  </tbody>\n",
       "</table>\n",
       "</div>"
      ],
      "text/plain": [
       "                      x  y             z  time  profit\n",
       " 6861546195533386093  0  A  (i, j, k, l)  95.0  2154.0\n",
       "-4032542161395495972  0  A  (i, l, k, m)  62.0  1105.0\n",
       " 80855953509368739    0  A  (j, k, i, l)  56.0   930.0\n",
       "-5359771979190105310  0  A  (j, m, k, l)  27.0   338.0\n",
       "-371711285419199414   0  A  (k, l, i, j)  45.0   715.0"
      ]
     },
     "execution_count": 33,
     "metadata": {},
     "output_type": "execute_result"
    }
   ],
   "source": [
    "simpop.datasets.output.head()"
   ]
  },
  {
   "cell_type": "code",
   "execution_count": 34,
   "metadata": {},
   "outputs": [
    {
     "data": {
      "text/html": [
       "<div>\n",
       "<style scoped>\n",
       "    .dataframe tbody tr th:only-of-type {\n",
       "        vertical-align: middle;\n",
       "    }\n",
       "\n",
       "    .dataframe tbody tr th {\n",
       "        vertical-align: top;\n",
       "    }\n",
       "\n",
       "    .dataframe thead th {\n",
       "        text-align: right;\n",
       "    }\n",
       "</style>\n",
       "<table border=\"1\" class=\"dataframe\">\n",
       "  <thead>\n",
       "    <tr style=\"text-align: right;\">\n",
       "      <th></th>\n",
       "      <th>x</th>\n",
       "      <th>y</th>\n",
       "      <th>z</th>\n",
       "      <th>time</th>\n",
       "      <th>profit</th>\n",
       "    </tr>\n",
       "  </thead>\n",
       "  <tbody>\n",
       "    <tr>\n",
       "      <th>-7732855632273756853</th>\n",
       "      <td>3</td>\n",
       "      <td>A</td>\n",
       "      <td>(j, l, i, m)</td>\n",
       "      <td>0.0</td>\n",
       "      <td>1.0</td>\n",
       "    </tr>\n",
       "    <tr>\n",
       "      <th>8021172733864497183</th>\n",
       "      <td>5</td>\n",
       "      <td>C</td>\n",
       "      <td>(m, j, k, i)</td>\n",
       "      <td>0.0</td>\n",
       "      <td>25.0</td>\n",
       "    </tr>\n",
       "    <tr>\n",
       "      <th>-7542270506077380496</th>\n",
       "      <td>2</td>\n",
       "      <td>C</td>\n",
       "      <td>(k, i, l, j)</td>\n",
       "      <td>0.0</td>\n",
       "      <td>30.0</td>\n",
       "    </tr>\n",
       "    <tr>\n",
       "      <th>-4841892674668590186</th>\n",
       "      <td>5</td>\n",
       "      <td>C</td>\n",
       "      <td>(j, i, l, k)</td>\n",
       "      <td>0.0</td>\n",
       "      <td>31.0</td>\n",
       "    </tr>\n",
       "    <tr>\n",
       "      <th>-948998627316871266</th>\n",
       "      <td>3</td>\n",
       "      <td>B</td>\n",
       "      <td>(m, i, l, j)</td>\n",
       "      <td>0.0</td>\n",
       "      <td>60.0</td>\n",
       "    </tr>\n",
       "    <tr>\n",
       "      <th>...</th>\n",
       "      <td>...</td>\n",
       "      <td>...</td>\n",
       "      <td>...</td>\n",
       "      <td>...</td>\n",
       "      <td>...</td>\n",
       "    </tr>\n",
       "    <tr>\n",
       "      <th>674698813185448455</th>\n",
       "      <td>7</td>\n",
       "      <td>A</td>\n",
       "      <td>(l, m, j, i)</td>\n",
       "      <td>161.0</td>\n",
       "      <td>233.0</td>\n",
       "    </tr>\n",
       "    <tr>\n",
       "      <th>-2867832112916964838</th>\n",
       "      <td>8</td>\n",
       "      <td>A</td>\n",
       "      <td>(i, j, k, l)</td>\n",
       "      <td>162.0</td>\n",
       "      <td>189.0</td>\n",
       "    </tr>\n",
       "    <tr>\n",
       "      <th>-8207529137218438159</th>\n",
       "      <td>8</td>\n",
       "      <td>A</td>\n",
       "      <td>(m, j, k, l)</td>\n",
       "      <td>165.0</td>\n",
       "      <td>192.0</td>\n",
       "    </tr>\n",
       "    <tr>\n",
       "      <th>1198081398526760981</th>\n",
       "      <td>10</td>\n",
       "      <td>A</td>\n",
       "      <td>(i, j, k, l)</td>\n",
       "      <td>169.0</td>\n",
       "      <td>1556.0</td>\n",
       "    </tr>\n",
       "    <tr>\n",
       "      <th>256741757209655788</th>\n",
       "      <td>10</td>\n",
       "      <td>A</td>\n",
       "      <td>(m, j, k, l)</td>\n",
       "      <td>172.0</td>\n",
       "      <td>2564.0</td>\n",
       "    </tr>\n",
       "  </tbody>\n",
       "</table>\n",
       "<p>783 rows × 5 columns</p>\n",
       "</div>"
      ],
      "text/plain": [
       "                       x  y             z   time  profit\n",
       "-7732855632273756853   3  A  (j, l, i, m)    0.0     1.0\n",
       " 8021172733864497183   5  C  (m, j, k, i)    0.0    25.0\n",
       "-7542270506077380496   2  C  (k, i, l, j)    0.0    30.0\n",
       "-4841892674668590186   5  C  (j, i, l, k)    0.0    31.0\n",
       "-948998627316871266    3  B  (m, i, l, j)    0.0    60.0\n",
       "...                   .. ..           ...    ...     ...\n",
       " 674698813185448455    7  A  (l, m, j, i)  161.0   233.0\n",
       "-2867832112916964838   8  A  (i, j, k, l)  162.0   189.0\n",
       "-8207529137218438159   8  A  (m, j, k, l)  165.0   192.0\n",
       " 1198081398526760981  10  A  (i, j, k, l)  169.0  1556.0\n",
       " 256741757209655788   10  A  (m, j, k, l)  172.0  2564.0\n",
       "\n",
       "[783 rows x 5 columns]"
      ]
     },
     "execution_count": 34,
     "metadata": {},
     "output_type": "execute_result"
    }
   ],
   "source": [
    "simpop.datasets.output.sort_values(['time', 'profit'])"
   ]
  },
  {
   "cell_type": "markdown",
   "metadata": {},
   "source": [
    "# Fitness"
   ]
  },
  {
   "cell_type": "markdown",
   "metadata": {},
   "source": [
    "### 1. Single Objective"
   ]
  },
  {
   "cell_type": "code",
   "execution_count": 35,
   "metadata": {},
   "outputs": [],
   "source": [
    "single_objective_pop = simpop.copy()\n",
    "single_objective_pop.apply_fitness.single_objective(output='time', objective='min')"
   ]
  },
  {
   "cell_type": "code",
   "execution_count": 36,
   "metadata": {},
   "outputs": [
    {
     "data": {
      "text/html": [
       "<div>\n",
       "<style scoped>\n",
       "    .dataframe tbody tr th:only-of-type {\n",
       "        vertical-align: middle;\n",
       "    }\n",
       "\n",
       "    .dataframe tbody tr th {\n",
       "        vertical-align: top;\n",
       "    }\n",
       "\n",
       "    .dataframe thead th {\n",
       "        text-align: right;\n",
       "    }\n",
       "</style>\n",
       "<table border=\"1\" class=\"dataframe\">\n",
       "  <thead>\n",
       "    <tr style=\"text-align: right;\">\n",
       "      <th></th>\n",
       "      <th>x</th>\n",
       "      <th>y</th>\n",
       "      <th>z</th>\n",
       "      <th>time</th>\n",
       "      <th>profit</th>\n",
       "      <th>criteria</th>\n",
       "    </tr>\n",
       "  </thead>\n",
       "  <tbody>\n",
       "    <tr>\n",
       "      <th>8021172733864497183</th>\n",
       "      <td>5</td>\n",
       "      <td>C</td>\n",
       "      <td>(m, j, k, i)</td>\n",
       "      <td>0.0</td>\n",
       "      <td>25.0</td>\n",
       "      <td>0.0</td>\n",
       "    </tr>\n",
       "    <tr>\n",
       "      <th>-7542270506077380496</th>\n",
       "      <td>2</td>\n",
       "      <td>C</td>\n",
       "      <td>(k, i, l, j)</td>\n",
       "      <td>0.0</td>\n",
       "      <td>30.0</td>\n",
       "      <td>0.0</td>\n",
       "    </tr>\n",
       "    <tr>\n",
       "      <th>2883727123381651283</th>\n",
       "      <td>9</td>\n",
       "      <td>B</td>\n",
       "      <td>(i, m, j, l)</td>\n",
       "      <td>0.0</td>\n",
       "      <td>70.0</td>\n",
       "      <td>0.0</td>\n",
       "    </tr>\n",
       "    <tr>\n",
       "      <th>-948998627316871266</th>\n",
       "      <td>3</td>\n",
       "      <td>B</td>\n",
       "      <td>(m, i, l, j)</td>\n",
       "      <td>0.0</td>\n",
       "      <td>60.0</td>\n",
       "      <td>0.0</td>\n",
       "    </tr>\n",
       "    <tr>\n",
       "      <th>3205613051495809671</th>\n",
       "      <td>7</td>\n",
       "      <td>E</td>\n",
       "      <td>(m, l, k, i)</td>\n",
       "      <td>0.0</td>\n",
       "      <td>229.0</td>\n",
       "      <td>0.0</td>\n",
       "    </tr>\n",
       "  </tbody>\n",
       "</table>\n",
       "</div>"
      ],
      "text/plain": [
       "                      x  y             z  time  profit  criteria\n",
       " 8021172733864497183  5  C  (m, j, k, i)   0.0    25.0       0.0\n",
       "-7542270506077380496  2  C  (k, i, l, j)   0.0    30.0       0.0\n",
       " 2883727123381651283  9  B  (i, m, j, l)   0.0    70.0       0.0\n",
       "-948998627316871266   3  B  (m, i, l, j)   0.0    60.0       0.0\n",
       " 3205613051495809671  7  E  (m, l, k, i)   0.0   229.0       0.0"
      ]
     },
     "execution_count": 36,
     "metadata": {},
     "output_type": "execute_result"
    }
   ],
   "source": [
    "single_objective_pop.datasets.fitness.head()"
   ]
  },
  {
   "cell_type": "markdown",
   "metadata": {},
   "source": [
    "### 2. Multi Objective - Ranked"
   ]
  },
  {
   "cell_type": "code",
   "execution_count": 37,
   "metadata": {},
   "outputs": [],
   "source": [
    "ranked_objective_pop = simpop.copy()\n",
    "ranked_objective_pop.apply_fitness.multi_objective.ranked(priorities=['time', 'profit'], objectives=['min', 'max'])"
   ]
  },
  {
   "cell_type": "code",
   "execution_count": 38,
   "metadata": {},
   "outputs": [
    {
     "data": {
      "text/html": [
       "<div>\n",
       "<style scoped>\n",
       "    .dataframe tbody tr th:only-of-type {\n",
       "        vertical-align: middle;\n",
       "    }\n",
       "\n",
       "    .dataframe tbody tr th {\n",
       "        vertical-align: top;\n",
       "    }\n",
       "\n",
       "    .dataframe thead th {\n",
       "        text-align: right;\n",
       "    }\n",
       "</style>\n",
       "<table border=\"1\" class=\"dataframe\">\n",
       "  <thead>\n",
       "    <tr style=\"text-align: right;\">\n",
       "      <th></th>\n",
       "      <th>x</th>\n",
       "      <th>y</th>\n",
       "      <th>z</th>\n",
       "      <th>time</th>\n",
       "      <th>profit</th>\n",
       "      <th>criteria0</th>\n",
       "      <th>criteria1</th>\n",
       "    </tr>\n",
       "  </thead>\n",
       "  <tbody>\n",
       "    <tr>\n",
       "      <th>3205613051495809671</th>\n",
       "      <td>7</td>\n",
       "      <td>E</td>\n",
       "      <td>(m, l, k, i)</td>\n",
       "      <td>0.0</td>\n",
       "      <td>229.0</td>\n",
       "      <td>0.0</td>\n",
       "      <td>229.0</td>\n",
       "    </tr>\n",
       "    <tr>\n",
       "      <th>-2892274780611570128</th>\n",
       "      <td>9</td>\n",
       "      <td>E</td>\n",
       "      <td>(l, k, i, j)</td>\n",
       "      <td>0.0</td>\n",
       "      <td>228.0</td>\n",
       "      <td>0.0</td>\n",
       "      <td>228.0</td>\n",
       "    </tr>\n",
       "    <tr>\n",
       "      <th>-3750317927886080732</th>\n",
       "      <td>0</td>\n",
       "      <td>E</td>\n",
       "      <td>(k, i, l, j)</td>\n",
       "      <td>0.0</td>\n",
       "      <td>182.0</td>\n",
       "      <td>0.0</td>\n",
       "      <td>182.0</td>\n",
       "    </tr>\n",
       "    <tr>\n",
       "      <th>2883727123381651283</th>\n",
       "      <td>9</td>\n",
       "      <td>B</td>\n",
       "      <td>(i, m, j, l)</td>\n",
       "      <td>0.0</td>\n",
       "      <td>70.0</td>\n",
       "      <td>0.0</td>\n",
       "      <td>70.0</td>\n",
       "    </tr>\n",
       "    <tr>\n",
       "      <th>-2961495955366387003</th>\n",
       "      <td>9</td>\n",
       "      <td>B</td>\n",
       "      <td>(l, j, m, i)</td>\n",
       "      <td>0.0</td>\n",
       "      <td>68.0</td>\n",
       "      <td>0.0</td>\n",
       "      <td>68.0</td>\n",
       "    </tr>\n",
       "  </tbody>\n",
       "</table>\n",
       "</div>"
      ],
      "text/plain": [
       "                      x  y             z  time  profit  criteria0  criteria1\n",
       " 3205613051495809671  7  E  (m, l, k, i)   0.0   229.0        0.0      229.0\n",
       "-2892274780611570128  9  E  (l, k, i, j)   0.0   228.0        0.0      228.0\n",
       "-3750317927886080732  0  E  (k, i, l, j)   0.0   182.0        0.0      182.0\n",
       " 2883727123381651283  9  B  (i, m, j, l)   0.0    70.0        0.0       70.0\n",
       "-2961495955366387003  9  B  (l, j, m, i)   0.0    68.0        0.0       68.0"
      ]
     },
     "execution_count": 38,
     "metadata": {},
     "output_type": "execute_result"
    }
   ],
   "source": [
    "ranked_objective_pop.datasets.fitness.head()"
   ]
  },
  {
   "cell_type": "markdown",
   "metadata": {},
   "source": [
    "### 3. Multi Objective - Pareto"
   ]
  },
  {
   "cell_type": "code",
   "execution_count": 39,
   "metadata": {},
   "outputs": [],
   "source": [
    "pareto_objective_pop = simpop.copy()\n",
    "pareto_objective_pop.apply_fitness.multi_objective.pareto(outputs=['time', 'profit'], objectives=['min', 'max'])"
   ]
  },
  {
   "cell_type": "code",
   "execution_count": 40,
   "metadata": {},
   "outputs": [
    {
     "data": {
      "text/html": [
       "<div>\n",
       "<style scoped>\n",
       "    .dataframe tbody tr th:only-of-type {\n",
       "        vertical-align: middle;\n",
       "    }\n",
       "\n",
       "    .dataframe tbody tr th {\n",
       "        vertical-align: top;\n",
       "    }\n",
       "\n",
       "    .dataframe thead th {\n",
       "        text-align: right;\n",
       "    }\n",
       "</style>\n",
       "<table border=\"1\" class=\"dataframe\">\n",
       "  <thead>\n",
       "    <tr style=\"text-align: right;\">\n",
       "      <th></th>\n",
       "      <th>x</th>\n",
       "      <th>y</th>\n",
       "      <th>z</th>\n",
       "      <th>time</th>\n",
       "      <th>profit</th>\n",
       "      <th>criteria0</th>\n",
       "      <th>criteria1</th>\n",
       "      <th>front</th>\n",
       "      <th>crowd</th>\n",
       "    </tr>\n",
       "  </thead>\n",
       "  <tbody>\n",
       "    <tr>\n",
       "      <th>22643032816142471</th>\n",
       "      <td>10</td>\n",
       "      <td>E</td>\n",
       "      <td>(i, l, k, m)</td>\n",
       "      <td>64.0</td>\n",
       "      <td>10444.0</td>\n",
       "      <td>-0.094504</td>\n",
       "      <td>6.806616</td>\n",
       "      <td>1</td>\n",
       "      <td>inf</td>\n",
       "    </tr>\n",
       "    <tr>\n",
       "      <th>-7732855632273756853</th>\n",
       "      <td>3</td>\n",
       "      <td>A</td>\n",
       "      <td>(j, l, i, m)</td>\n",
       "      <td>0.0</td>\n",
       "      <td>1.0</td>\n",
       "      <td>-1.541428</td>\n",
       "      <td>-0.676658</td>\n",
       "      <td>1</td>\n",
       "      <td>inf</td>\n",
       "    </tr>\n",
       "    <tr>\n",
       "      <th>3205613051495809671</th>\n",
       "      <td>7</td>\n",
       "      <td>E</td>\n",
       "      <td>(m, l, k, i)</td>\n",
       "      <td>0.0</td>\n",
       "      <td>229.0</td>\n",
       "      <td>-1.541428</td>\n",
       "      <td>-0.513277</td>\n",
       "      <td>1</td>\n",
       "      <td>inf</td>\n",
       "    </tr>\n",
       "    <tr>\n",
       "      <th>-3809098297114879920</th>\n",
       "      <td>10</td>\n",
       "      <td>B</td>\n",
       "      <td>(l, m, i, j)</td>\n",
       "      <td>13.0</td>\n",
       "      <td>3417.0</td>\n",
       "      <td>-1.247521</td>\n",
       "      <td>1.771189</td>\n",
       "      <td>1</td>\n",
       "      <td>4.369722</td>\n",
       "    </tr>\n",
       "    <tr>\n",
       "      <th>3610556033822198082</th>\n",
       "      <td>10</td>\n",
       "      <td>B</td>\n",
       "      <td>(l, i, k, m)</td>\n",
       "      <td>22.0</td>\n",
       "      <td>7089.0</td>\n",
       "      <td>-1.044048</td>\n",
       "      <td>4.402481</td>\n",
       "      <td>1</td>\n",
       "      <td>4.259476</td>\n",
       "    </tr>\n",
       "  </tbody>\n",
       "</table>\n",
       "</div>"
      ],
      "text/plain": [
       "                       x  y             z  time   profit  criteria0  \\\n",
       " 22643032816142471    10  E  (i, l, k, m)  64.0  10444.0  -0.094504   \n",
       "-7732855632273756853   3  A  (j, l, i, m)   0.0      1.0  -1.541428   \n",
       " 3205613051495809671   7  E  (m, l, k, i)   0.0    229.0  -1.541428   \n",
       "-3809098297114879920  10  B  (l, m, i, j)  13.0   3417.0  -1.247521   \n",
       " 3610556033822198082  10  B  (l, i, k, m)  22.0   7089.0  -1.044048   \n",
       "\n",
       "                      criteria1  front     crowd  \n",
       " 22643032816142471     6.806616      1       inf  \n",
       "-7732855632273756853  -0.676658      1       inf  \n",
       " 3205613051495809671  -0.513277      1       inf  \n",
       "-3809098297114879920   1.771189      1  4.369722  \n",
       " 3610556033822198082   4.402481      1  4.259476  "
      ]
     },
     "execution_count": 40,
     "metadata": {},
     "output_type": "execute_result"
    }
   ],
   "source": [
    "pareto_objective_pop.datasets.fitness.head()"
   ]
  },
  {
   "cell_type": "code",
   "execution_count": 41,
   "metadata": {},
   "outputs": [
    {
     "data": {
      "image/png": "[encoded data removed]",
      "text/plain": [
       "<Figure size 432x288 with 2 Axes>"
      ]
     },
     "metadata": {
      "needs_background": "light"
     },
     "output_type": "display_data"
    }
   ],
   "source": [
    "ax = pareto_objective_pop.plot.fronts('time', 'profit', 1)"
   ]
  },
  {
   "cell_type": "markdown",
   "metadata": {},
   "source": [
    "# Selection"
   ]
  },
  {
   "cell_type": "code",
   "execution_count": 42,
   "metadata": {},
   "outputs": [],
   "source": [
    "selected_pop = pareto_objective_pop.select()"
   ]
  },
  {
   "cell_type": "code",
   "execution_count": 44,
   "metadata": {},
   "outputs": [
    {
     "data": {
      "text/html": [
       "<div>\n",
       "<style scoped>\n",
       "    .dataframe tbody tr th:only-of-type {\n",
       "        vertical-align: middle;\n",
       "    }\n",
       "\n",
       "    .dataframe tbody tr th {\n",
       "        vertical-align: top;\n",
       "    }\n",
       "\n",
       "    .dataframe thead th {\n",
       "        text-align: right;\n",
       "    }\n",
       "</style>\n",
       "<table border=\"1\" class=\"dataframe\">\n",
       "  <thead>\n",
       "    <tr style=\"text-align: right;\">\n",
       "      <th></th>\n",
       "      <th>x</th>\n",
       "      <th>y</th>\n",
       "      <th>z</th>\n",
       "      <th>time</th>\n",
       "      <th>profit</th>\n",
       "      <th>criteria0</th>\n",
       "      <th>criteria1</th>\n",
       "      <th>front</th>\n",
       "      <th>crowd</th>\n",
       "    </tr>\n",
       "  </thead>\n",
       "  <tbody>\n",
       "    <tr>\n",
       "      <th>22643032816142471</th>\n",
       "      <td>10</td>\n",
       "      <td>E</td>\n",
       "      <td>(i, l, k, m)</td>\n",
       "      <td>64.0</td>\n",
       "      <td>10444.0</td>\n",
       "      <td>-0.094504</td>\n",
       "      <td>6.806616</td>\n",
       "      <td>1</td>\n",
       "      <td>inf</td>\n",
       "    </tr>\n",
       "    <tr>\n",
       "      <th>-7732855632273756853</th>\n",
       "      <td>3</td>\n",
       "      <td>A</td>\n",
       "      <td>(j, l, i, m)</td>\n",
       "      <td>0.0</td>\n",
       "      <td>1.0</td>\n",
       "      <td>-1.541428</td>\n",
       "      <td>-0.676658</td>\n",
       "      <td>1</td>\n",
       "      <td>inf</td>\n",
       "    </tr>\n",
       "    <tr>\n",
       "      <th>3205613051495809671</th>\n",
       "      <td>7</td>\n",
       "      <td>E</td>\n",
       "      <td>(m, l, k, i)</td>\n",
       "      <td>0.0</td>\n",
       "      <td>229.0</td>\n",
       "      <td>-1.541428</td>\n",
       "      <td>-0.513277</td>\n",
       "      <td>1</td>\n",
       "      <td>inf</td>\n",
       "    </tr>\n",
       "    <tr>\n",
       "      <th>-3809098297114879920</th>\n",
       "      <td>10</td>\n",
       "      <td>B</td>\n",
       "      <td>(l, m, i, j)</td>\n",
       "      <td>13.0</td>\n",
       "      <td>3417.0</td>\n",
       "      <td>-1.247521</td>\n",
       "      <td>1.771189</td>\n",
       "      <td>1</td>\n",
       "      <td>4.369722</td>\n",
       "    </tr>\n",
       "    <tr>\n",
       "      <th>3610556033822198082</th>\n",
       "      <td>10</td>\n",
       "      <td>B</td>\n",
       "      <td>(l, i, k, m)</td>\n",
       "      <td>22.0</td>\n",
       "      <td>7089.0</td>\n",
       "      <td>-1.044048</td>\n",
       "      <td>4.402481</td>\n",
       "      <td>1</td>\n",
       "      <td>4.259476</td>\n",
       "    </tr>\n",
       "    <tr>\n",
       "      <th>...</th>\n",
       "      <td>...</td>\n",
       "      <td>...</td>\n",
       "      <td>...</td>\n",
       "      <td>...</td>\n",
       "      <td>...</td>\n",
       "      <td>...</td>\n",
       "      <td>...</td>\n",
       "      <td>...</td>\n",
       "      <td>...</td>\n",
       "    </tr>\n",
       "    <tr>\n",
       "      <th>8861049532802745730</th>\n",
       "      <td>4</td>\n",
       "      <td>B</td>\n",
       "      <td>(l, j, k, i)</td>\n",
       "      <td>99.0</td>\n",
       "      <td>1176.0</td>\n",
       "      <td>0.696782</td>\n",
       "      <td>0.165327</td>\n",
       "      <td>13</td>\n",
       "      <td>0.312179</td>\n",
       "    </tr>\n",
       "    <tr>\n",
       "      <th>-2743645887469063301</th>\n",
       "      <td>1</td>\n",
       "      <td>C</td>\n",
       "      <td>(m, j, k, l)</td>\n",
       "      <td>112.0</td>\n",
       "      <td>1830.0</td>\n",
       "      <td>0.990689</td>\n",
       "      <td>0.633972</td>\n",
       "      <td>13</td>\n",
       "      <td>0.296629</td>\n",
       "    </tr>\n",
       "    <tr>\n",
       "      <th>1014458352483803573</th>\n",
       "      <td>3</td>\n",
       "      <td>B</td>\n",
       "      <td>(k, l, m, j)</td>\n",
       "      <td>101.0</td>\n",
       "      <td>1507.0</td>\n",
       "      <td>0.741999</td>\n",
       "      <td>0.402515</td>\n",
       "      <td>13</td>\n",
       "      <td>0.291004</td>\n",
       "    </tr>\n",
       "    <tr>\n",
       "      <th>-7412042989447836145</th>\n",
       "      <td>9</td>\n",
       "      <td>E</td>\n",
       "      <td>(j, i, l, m)</td>\n",
       "      <td>61.0</td>\n",
       "      <td>573.0</td>\n",
       "      <td>-0.162328</td>\n",
       "      <td>-0.266773</td>\n",
       "      <td>13</td>\n",
       "      <td>0.287493</td>\n",
       "    </tr>\n",
       "    <tr>\n",
       "      <th>5794292687183046814</th>\n",
       "      <td>4</td>\n",
       "      <td>B</td>\n",
       "      <td>(i, j, m, k)</td>\n",
       "      <td>96.0</td>\n",
       "      <td>1149.0</td>\n",
       "      <td>0.628958</td>\n",
       "      <td>0.145979</td>\n",
       "      <td>13</td>\n",
       "      <td>0.275849</td>\n",
       "    </tr>\n",
       "  </tbody>\n",
       "</table>\n",
       "<p>391 rows × 9 columns</p>\n",
       "</div>"
      ],
      "text/plain": [
       "                       x  y             z   time   profit  criteria0  \\\n",
       " 22643032816142471    10  E  (i, l, k, m)   64.0  10444.0  -0.094504   \n",
       "-7732855632273756853   3  A  (j, l, i, m)    0.0      1.0  -1.541428   \n",
       " 3205613051495809671   7  E  (m, l, k, i)    0.0    229.0  -1.541428   \n",
       "-3809098297114879920  10  B  (l, m, i, j)   13.0   3417.0  -1.247521   \n",
       " 3610556033822198082  10  B  (l, i, k, m)   22.0   7089.0  -1.044048   \n",
       "...                   .. ..           ...    ...      ...        ...   \n",
       " 8861049532802745730   4  B  (l, j, k, i)   99.0   1176.0   0.696782   \n",
       "-2743645887469063301   1  C  (m, j, k, l)  112.0   1830.0   0.990689   \n",
       " 1014458352483803573   3  B  (k, l, m, j)  101.0   1507.0   0.741999   \n",
       "-7412042989447836145   9  E  (j, i, l, m)   61.0    573.0  -0.162328   \n",
       " 5794292687183046814   4  B  (i, j, m, k)   96.0   1149.0   0.628958   \n",
       "\n",
       "                      criteria1  front     crowd  \n",
       " 22643032816142471     6.806616      1       inf  \n",
       "-7732855632273756853  -0.676658      1       inf  \n",
       " 3205613051495809671  -0.513277      1       inf  \n",
       "-3809098297114879920   1.771189      1  4.369722  \n",
       " 3610556033822198082   4.402481      1  4.259476  \n",
       "...                         ...    ...       ...  \n",
       " 8861049532802745730   0.165327     13  0.312179  \n",
       "-2743645887469063301   0.633972     13  0.296629  \n",
       " 1014458352483803573   0.402515     13  0.291004  \n",
       "-7412042989447836145  -0.266773     13  0.287493  \n",
       " 5794292687183046814   0.145979     13  0.275849  \n",
       "\n",
       "[391 rows x 9 columns]"
      ]
     },
     "execution_count": 44,
     "metadata": {},
     "output_type": "execute_result"
    }
   ],
   "source": [
    "selected_pop.datasets.fitness"
   ]
  },
  {
   "cell_type": "markdown",
   "metadata": {},
   "source": [
    "# Repopulate"
   ]
  },
  {
   "cell_type": "code",
   "execution_count": null,
   "metadata": {},
   "outputs": [],
   "source": []
  }
 ],
 "metadata": {
  "kernelspec": {
   "display_name": "Lamarck Env",
   "language": "python",
   "name": "lamarck"
  },
  "language_info": {
   "codemirror_mode": {
    "name": "ipython",
    "version": 3
   },
   "file_extension": ".py",
   "mimetype": "text/x-python",
   "name": "python",
   "nbconvert_exporter": "python",
   "pygments_lexer": "ipython3",
   "version": "3.9.1"
  }
 },
 "nbformat": 4,
 "nbformat_minor": 4
}
