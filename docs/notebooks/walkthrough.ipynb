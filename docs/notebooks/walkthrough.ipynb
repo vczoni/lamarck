{
 "cells": [
  {
   "cell_type": "code",
   "execution_count": 1,
   "metadata": {},
   "outputs": [],
   "source": [
    "import sys\n",
    "import numpy as np\n",
    "import pandas as pd\n",
    "sys.path.append('../..')"
   ]
  },
  {
   "cell_type": "markdown",
   "metadata": {},
   "source": [
    "# Creature"
   ]
  },
  {
   "cell_type": "code",
   "execution_count": 2,
   "metadata": {},
   "outputs": [],
   "source": [
    "from lamarck import Creature"
   ]
  },
  {
   "cell_type": "code",
   "execution_count": 3,
   "metadata": {},
   "outputs": [],
   "source": [
    "genome = {\n",
    "    'x': 10,\n",
    "    'y': 'A',\n",
    "    'z': (1, 2, 3)\n",
    "}"
   ]
  },
  {
   "cell_type": "code",
   "execution_count": 4,
   "metadata": {},
   "outputs": [],
   "source": [
    "creature = Creature(genome)"
   ]
  },
  {
   "cell_type": "code",
   "execution_count": 5,
   "metadata": {},
   "outputs": [
    {
     "data": {
      "text/plain": [
       "8838201673301490695"
      ]
     },
     "execution_count": 5,
     "metadata": {},
     "output_type": "execute_result"
    }
   ],
   "source": [
    "creature.id"
   ]
  },
  {
   "cell_type": "markdown",
   "metadata": {},
   "source": [
    "# Genome Creator"
   ]
  },
  {
   "cell_type": "code",
   "execution_count": 6,
   "metadata": {},
   "outputs": [],
   "source": [
    "from lamarck.assistant import GenomeCreator"
   ]
  },
  {
   "cell_type": "code",
   "execution_count": 7,
   "metadata": {},
   "outputs": [],
   "source": [
    "genome_creator = GenomeCreator()"
   ]
  },
  {
   "cell_type": "code",
   "execution_count": 8,
   "metadata": {},
   "outputs": [],
   "source": [
    "genome_creator.add_gene_specs.numeric(name='x',\n",
    "                                      min=0,\n",
    "                                      max=10,\n",
    "                                      progression='linear',\n",
    "                                      domain='int')\n",
    "\n",
    "genome_creator.add_gene_specs.categorical(name='y', domain=['A', 'B', 'C', 'D', 'E'])\n",
    "\n",
    "genome_creator.add_gene_specs.vectorial(name='z', length=4, replace=False, domain=['i', 'j', 'k', 'l', 'm'])"
   ]
  },
  {
   "cell_type": "code",
   "execution_count": 9,
   "metadata": {},
   "outputs": [],
   "source": [
    "genome_blueprint = genome_creator.get_genome_blueprint()"
   ]
  },
  {
   "cell_type": "code",
   "execution_count": 10,
   "metadata": {},
   "outputs": [
    {
     "data": {
      "text/plain": [
       "{'x': {'type': 'numeric',\n",
       "  'domain': 'int',\n",
       "  'ranges': {'min': 0, 'max': 10, 'progression': 'linear'}},\n",
       " 'y': {'type': 'categorical', 'domain': ['A', 'B', 'C', 'D', 'E']},\n",
       " 'z': {'type': 'vectorial',\n",
       "  'domain': ['i', 'j', 'k', 'l', 'm'],\n",
       "  'ranges': {'length': 4, 'replace': False}}}"
      ]
     },
     "execution_count": 10,
     "metadata": {},
     "output_type": "execute_result"
    }
   ],
   "source": [
    "genome_blueprint"
   ]
  },
  {
   "cell_type": "markdown",
   "metadata": {},
   "source": [
    "# Population Creator"
   ]
  },
  {
   "cell_type": "code",
   "execution_count": 11,
   "metadata": {},
   "outputs": [],
   "source": [
    "from lamarck.assistant import PopulationCreator"
   ]
  },
  {
   "cell_type": "code",
   "execution_count": 12,
   "metadata": {},
   "outputs": [],
   "source": [
    "pop_creator = PopulationCreator(genome_blueprint)"
   ]
  },
  {
   "cell_type": "code",
   "execution_count": 13,
   "metadata": {},
   "outputs": [
    {
     "data": {
      "text/plain": [
       "Population with 320 Creatures with genes x (numeric), y (categorical), z (vectorial).\n",
       "        "
      ]
     },
     "execution_count": 13,
     "metadata": {},
     "output_type": "execute_result"
    }
   ],
   "source": [
    "popdet = pop_creator.create.det(8)\n",
    "popdet"
   ]
  },
  {
   "cell_type": "code",
   "execution_count": 14,
   "metadata": {},
   "outputs": [
    {
     "data": {
      "text/html": [
       "<div>\n",
       "<style scoped>\n",
       "    .dataframe tbody tr th:only-of-type {\n",
       "        vertical-align: middle;\n",
       "    }\n",
       "\n",
       "    .dataframe tbody tr th {\n",
       "        vertical-align: top;\n",
       "    }\n",
       "\n",
       "    .dataframe thead th {\n",
       "        text-align: right;\n",
       "    }\n",
       "</style>\n",
       "<table border=\"1\" class=\"dataframe\">\n",
       "  <thead>\n",
       "    <tr style=\"text-align: right;\">\n",
       "      <th></th>\n",
       "      <th>x</th>\n",
       "      <th>y</th>\n",
       "      <th>z</th>\n",
       "    </tr>\n",
       "    <tr>\n",
       "      <th>id</th>\n",
       "      <th></th>\n",
       "      <th></th>\n",
       "      <th></th>\n",
       "    </tr>\n",
       "  </thead>\n",
       "  <tbody>\n",
       "    <tr>\n",
       "      <th>6433527344458063378</th>\n",
       "      <td>0</td>\n",
       "      <td>A</td>\n",
       "      <td>(i, j, k, l)</td>\n",
       "    </tr>\n",
       "    <tr>\n",
       "      <th>-8877896705595211217</th>\n",
       "      <td>0</td>\n",
       "      <td>A</td>\n",
       "      <td>(i, l, k, m)</td>\n",
       "    </tr>\n",
       "    <tr>\n",
       "      <th>-3227843474220565743</th>\n",
       "      <td>0</td>\n",
       "      <td>A</td>\n",
       "      <td>(j, k, i, l)</td>\n",
       "    </tr>\n",
       "    <tr>\n",
       "      <th>3396672271838090060</th>\n",
       "      <td>0</td>\n",
       "      <td>A</td>\n",
       "      <td>(j, m, k, l)</td>\n",
       "    </tr>\n",
       "    <tr>\n",
       "      <th>3660655700613520774</th>\n",
       "      <td>0</td>\n",
       "      <td>A</td>\n",
       "      <td>(k, l, i, j)</td>\n",
       "    </tr>\n",
       "  </tbody>\n",
       "</table>\n",
       "</div>"
      ],
      "text/plain": [
       "                      x  y             z\n",
       "id                                      \n",
       " 6433527344458063378  0  A  (i, j, k, l)\n",
       "-8877896705595211217  0  A  (i, l, k, m)\n",
       "-3227843474220565743  0  A  (j, k, i, l)\n",
       " 3396672271838090060  0  A  (j, m, k, l)\n",
       " 3660655700613520774  0  A  (k, l, i, j)"
      ]
     },
     "execution_count": 14,
     "metadata": {},
     "output_type": "execute_result"
    }
   ],
   "source": [
    "popdet.datasets.input.head()"
   ]
  },
  {
   "cell_type": "code",
   "execution_count": 15,
   "metadata": {},
   "outputs": [
    {
     "data": {
      "text/plain": [
       "Population with 475 Creatures with genes x (numeric), y (categorical), z (vectorial).\n",
       "        "
      ]
     },
     "execution_count": 15,
     "metadata": {},
     "output_type": "execute_result"
    }
   ],
   "source": [
    "poprand = pop_creator.create.rand(500)\n",
    "poprand"
   ]
  },
  {
   "cell_type": "code",
   "execution_count": 16,
   "metadata": {},
   "outputs": [
    {
     "data": {
      "text/html": [
       "<div>\n",
       "<style scoped>\n",
       "    .dataframe tbody tr th:only-of-type {\n",
       "        vertical-align: middle;\n",
       "    }\n",
       "\n",
       "    .dataframe tbody tr th {\n",
       "        vertical-align: top;\n",
       "    }\n",
       "\n",
       "    .dataframe thead th {\n",
       "        text-align: right;\n",
       "    }\n",
       "</style>\n",
       "<table border=\"1\" class=\"dataframe\">\n",
       "  <thead>\n",
       "    <tr style=\"text-align: right;\">\n",
       "      <th></th>\n",
       "      <th>x</th>\n",
       "      <th>y</th>\n",
       "      <th>z</th>\n",
       "    </tr>\n",
       "    <tr>\n",
       "      <th>id</th>\n",
       "      <th></th>\n",
       "      <th></th>\n",
       "      <th></th>\n",
       "    </tr>\n",
       "  </thead>\n",
       "  <tbody>\n",
       "    <tr>\n",
       "      <th>-7496722177382481333</th>\n",
       "      <td>9</td>\n",
       "      <td>A</td>\n",
       "      <td>(i, l, k, m)</td>\n",
       "    </tr>\n",
       "    <tr>\n",
       "      <th>7342343474520620595</th>\n",
       "      <td>8</td>\n",
       "      <td>B</td>\n",
       "      <td>(j, i, l, k)</td>\n",
       "    </tr>\n",
       "    <tr>\n",
       "      <th>-9148310331385655273</th>\n",
       "      <td>5</td>\n",
       "      <td>E</td>\n",
       "      <td>(m, l, i, j)</td>\n",
       "    </tr>\n",
       "    <tr>\n",
       "      <th>-2055301305324486445</th>\n",
       "      <td>4</td>\n",
       "      <td>B</td>\n",
       "      <td>(j, m, k, i)</td>\n",
       "    </tr>\n",
       "    <tr>\n",
       "      <th>122483794534368444</th>\n",
       "      <td>3</td>\n",
       "      <td>D</td>\n",
       "      <td>(m, k, j, l)</td>\n",
       "    </tr>\n",
       "  </tbody>\n",
       "</table>\n",
       "</div>"
      ],
      "text/plain": [
       "                      x  y             z\n",
       "id                                      \n",
       "-7496722177382481333  9  A  (i, l, k, m)\n",
       " 7342343474520620595  8  B  (j, i, l, k)\n",
       "-9148310331385655273  5  E  (m, l, i, j)\n",
       "-2055301305324486445  4  B  (j, m, k, i)\n",
       " 122483794534368444   3  D  (m, k, j, l)"
      ]
     },
     "execution_count": 16,
     "metadata": {},
     "output_type": "execute_result"
    }
   ],
   "source": [
    "poprand.datasets.input.head()"
   ]
  },
  {
   "cell_type": "code",
   "execution_count": 17,
   "metadata": {},
   "outputs": [
    {
     "data": {
      "text/plain": [
       "Population with 768 Creatures with genes x (numeric), y (categorical), z (vectorial).\n",
       "        "
      ]
     },
     "execution_count": 17,
     "metadata": {},
     "output_type": "execute_result"
    }
   ],
   "source": [
    "pop = popdet + poprand\n",
    "pop"
   ]
  },
  {
   "cell_type": "code",
   "execution_count": 18,
   "metadata": {},
   "outputs": [
    {
     "data": {
      "text/html": [
       "<div>\n",
       "<style scoped>\n",
       "    .dataframe tbody tr th:only-of-type {\n",
       "        vertical-align: middle;\n",
       "    }\n",
       "\n",
       "    .dataframe tbody tr th {\n",
       "        vertical-align: top;\n",
       "    }\n",
       "\n",
       "    .dataframe thead th {\n",
       "        text-align: right;\n",
       "    }\n",
       "</style>\n",
       "<table border=\"1\" class=\"dataframe\">\n",
       "  <thead>\n",
       "    <tr style=\"text-align: right;\">\n",
       "      <th></th>\n",
       "      <th>x</th>\n",
       "      <th>y</th>\n",
       "      <th>z</th>\n",
       "    </tr>\n",
       "    <tr>\n",
       "      <th>id</th>\n",
       "      <th></th>\n",
       "      <th></th>\n",
       "      <th></th>\n",
       "    </tr>\n",
       "  </thead>\n",
       "  <tbody>\n",
       "    <tr>\n",
       "      <th>6433527344458063378</th>\n",
       "      <td>0</td>\n",
       "      <td>A</td>\n",
       "      <td>(i, j, k, l)</td>\n",
       "    </tr>\n",
       "    <tr>\n",
       "      <th>-8877896705595211217</th>\n",
       "      <td>0</td>\n",
       "      <td>A</td>\n",
       "      <td>(i, l, k, m)</td>\n",
       "    </tr>\n",
       "    <tr>\n",
       "      <th>-3227843474220565743</th>\n",
       "      <td>0</td>\n",
       "      <td>A</td>\n",
       "      <td>(j, k, i, l)</td>\n",
       "    </tr>\n",
       "    <tr>\n",
       "      <th>3396672271838090060</th>\n",
       "      <td>0</td>\n",
       "      <td>A</td>\n",
       "      <td>(j, m, k, l)</td>\n",
       "    </tr>\n",
       "    <tr>\n",
       "      <th>3660655700613520774</th>\n",
       "      <td>0</td>\n",
       "      <td>A</td>\n",
       "      <td>(k, l, i, j)</td>\n",
       "    </tr>\n",
       "  </tbody>\n",
       "</table>\n",
       "</div>"
      ],
      "text/plain": [
       "                      x  y             z\n",
       "id                                      \n",
       " 6433527344458063378  0  A  (i, j, k, l)\n",
       "-8877896705595211217  0  A  (i, l, k, m)\n",
       "-3227843474220565743  0  A  (j, k, i, l)\n",
       " 3396672271838090060  0  A  (j, m, k, l)\n",
       " 3660655700613520774  0  A  (k, l, i, j)"
      ]
     },
     "execution_count": 18,
     "metadata": {},
     "output_type": "execute_result"
    }
   ],
   "source": [
    "pop.datasets.input.head()"
   ]
  },
  {
   "cell_type": "code",
   "execution_count": 19,
   "metadata": {},
   "outputs": [],
   "source": [
    "pop.define()"
   ]
  },
  {
   "cell_type": "markdown",
   "metadata": {},
   "source": [
    "# Environment"
   ]
  },
  {
   "cell_type": "code",
   "execution_count": 20,
   "metadata": {},
   "outputs": [],
   "source": [
    "from lamarck import Environment"
   ]
  },
  {
   "cell_type": "code",
   "execution_count": 21,
   "metadata": {},
   "outputs": [],
   "source": [
    "import hashlib\n",
    "\n",
    "def tuplehash(tuple_obj):\n",
    "    encoded = ''.join(tuple_obj).encode()\n",
    "    m = hashlib.md5()\n",
    "    m.update(encoded)\n",
    "    d = m.digest()\n",
    "    return int.from_bytes(d, 'big')\n",
    "    \n",
    "    \n",
    "def dummy_process(x, y, z):\n",
    "    zval = (tuplehash(z) % 1000) / (x+1)**0.75\n",
    "    yval = zval // ord(y) + tuplehash((y, y)) % 73\n",
    "    return {\n",
    "        'time': (x + 1) * abs(zval - yval) // 10,\n",
    "        'profit': (abs(3*zval - 2*yval)**((int(x/10) + 1) % 9) // (tuplehash((y, y)) % 7 + 1)) % 10000 + (zval*yval) //10\n",
    "    }"
   ]
  },
  {
   "cell_type": "code",
   "execution_count": 22,
   "metadata": {},
   "outputs": [],
   "source": [
    "env = Environment()"
   ]
  },
  {
   "cell_type": "code",
   "execution_count": 23,
   "metadata": {},
   "outputs": [],
   "source": [
    "env.config.set_process(dummy_process)"
   ]
  },
  {
   "cell_type": "code",
   "execution_count": 24,
   "metadata": {},
   "outputs": [],
   "source": [
    "env.config.set_output_varibles('time', 'profit')"
   ]
  },
  {
   "cell_type": "code",
   "execution_count": 25,
   "metadata": {},
   "outputs": [
    {
     "data": {
      "text/plain": [
       "multi:   False\n",
       "output_varibles:   ('time', 'profit')\n",
       "process:   <function dummy_process at 0x7fa63118b9d0>"
      ]
     },
     "execution_count": 25,
     "metadata": {},
     "output_type": "execute_result"
    }
   ],
   "source": [
    "env.config"
   ]
  },
  {
   "cell_type": "markdown",
   "metadata": {},
   "source": [
    "### Simulate Creature"
   ]
  },
  {
   "cell_type": "code",
   "execution_count": 26,
   "metadata": {},
   "outputs": [],
   "source": [
    "cr = pop[0]"
   ]
  },
  {
   "cell_type": "code",
   "execution_count": 27,
   "metadata": {},
   "outputs": [
    {
     "data": {
      "text/plain": [
       "{'time': 95.0, 'profit': 2154.0}"
      ]
     },
     "execution_count": 27,
     "metadata": {},
     "output_type": "execute_result"
    }
   ],
   "source": [
    "env.simulate(cr)"
   ]
  },
  {
   "cell_type": "markdown",
   "metadata": {},
   "source": [
    "### Simulate Population"
   ]
  },
  {
   "cell_type": "code",
   "execution_count": 28,
   "metadata": {},
   "outputs": [],
   "source": [
    "simpop = pop.copy()"
   ]
  },
  {
   "cell_type": "code",
   "execution_count": 29,
   "metadata": {},
   "outputs": [],
   "source": [
    "env.simulate(simpop)"
   ]
  },
  {
   "cell_type": "code",
   "execution_count": 30,
   "metadata": {},
   "outputs": [
    {
     "data": {
      "text/html": [
       "<div>\n",
       "<style scoped>\n",
       "    .dataframe tbody tr th:only-of-type {\n",
       "        vertical-align: middle;\n",
       "    }\n",
       "\n",
       "    .dataframe tbody tr th {\n",
       "        vertical-align: top;\n",
       "    }\n",
       "\n",
       "    .dataframe thead th {\n",
       "        text-align: right;\n",
       "    }\n",
       "</style>\n",
       "<table border=\"1\" class=\"dataframe\">\n",
       "  <thead>\n",
       "    <tr style=\"text-align: right;\">\n",
       "      <th></th>\n",
       "      <th>x</th>\n",
       "      <th>y</th>\n",
       "      <th>z</th>\n",
       "      <th>time</th>\n",
       "      <th>profit</th>\n",
       "    </tr>\n",
       "    <tr>\n",
       "      <th>id</th>\n",
       "      <th></th>\n",
       "      <th></th>\n",
       "      <th></th>\n",
       "      <th></th>\n",
       "      <th></th>\n",
       "    </tr>\n",
       "  </thead>\n",
       "  <tbody>\n",
       "    <tr>\n",
       "      <th>6433527344458063378</th>\n",
       "      <td>0</td>\n",
       "      <td>A</td>\n",
       "      <td>(i, j, k, l)</td>\n",
       "      <td>95.0</td>\n",
       "      <td>2154.0</td>\n",
       "    </tr>\n",
       "    <tr>\n",
       "      <th>-8877896705595211217</th>\n",
       "      <td>0</td>\n",
       "      <td>A</td>\n",
       "      <td>(i, l, k, m)</td>\n",
       "      <td>62.0</td>\n",
       "      <td>1105.0</td>\n",
       "    </tr>\n",
       "    <tr>\n",
       "      <th>-3227843474220565743</th>\n",
       "      <td>0</td>\n",
       "      <td>A</td>\n",
       "      <td>(j, k, i, l)</td>\n",
       "      <td>56.0</td>\n",
       "      <td>930.0</td>\n",
       "    </tr>\n",
       "    <tr>\n",
       "      <th>3396672271838090060</th>\n",
       "      <td>0</td>\n",
       "      <td>A</td>\n",
       "      <td>(j, m, k, l)</td>\n",
       "      <td>27.0</td>\n",
       "      <td>338.0</td>\n",
       "    </tr>\n",
       "    <tr>\n",
       "      <th>3660655700613520774</th>\n",
       "      <td>0</td>\n",
       "      <td>A</td>\n",
       "      <td>(k, l, i, j)</td>\n",
       "      <td>45.0</td>\n",
       "      <td>715.0</td>\n",
       "    </tr>\n",
       "  </tbody>\n",
       "</table>\n",
       "</div>"
      ],
      "text/plain": [
       "                      x  y             z  time  profit\n",
       "id                                                    \n",
       " 6433527344458063378  0  A  (i, j, k, l)  95.0  2154.0\n",
       "-8877896705595211217  0  A  (i, l, k, m)  62.0  1105.0\n",
       "-3227843474220565743  0  A  (j, k, i, l)  56.0   930.0\n",
       " 3396672271838090060  0  A  (j, m, k, l)  27.0   338.0\n",
       " 3660655700613520774  0  A  (k, l, i, j)  45.0   715.0"
      ]
     },
     "execution_count": 30,
     "metadata": {},
     "output_type": "execute_result"
    }
   ],
   "source": [
    "simpop.datasets.output.head()"
   ]
  },
  {
   "cell_type": "markdown",
   "metadata": {},
   "source": [
    "### Simulate Population - Multi Thread"
   ]
  },
  {
   "cell_type": "code",
   "execution_count": 31,
   "metadata": {},
   "outputs": [],
   "source": [
    "env.config.set_multi(True)"
   ]
  },
  {
   "cell_type": "code",
   "execution_count": 32,
   "metadata": {},
   "outputs": [],
   "source": [
    "env.simulate(simpop)"
   ]
  },
  {
   "cell_type": "code",
   "execution_count": 33,
   "metadata": {},
   "outputs": [
    {
     "data": {
      "text/html": [
       "<div>\n",
       "<style scoped>\n",
       "    .dataframe tbody tr th:only-of-type {\n",
       "        vertical-align: middle;\n",
       "    }\n",
       "\n",
       "    .dataframe tbody tr th {\n",
       "        vertical-align: top;\n",
       "    }\n",
       "\n",
       "    .dataframe thead th {\n",
       "        text-align: right;\n",
       "    }\n",
       "</style>\n",
       "<table border=\"1\" class=\"dataframe\">\n",
       "  <thead>\n",
       "    <tr style=\"text-align: right;\">\n",
       "      <th></th>\n",
       "      <th>x</th>\n",
       "      <th>y</th>\n",
       "      <th>z</th>\n",
       "      <th>time</th>\n",
       "      <th>profit</th>\n",
       "    </tr>\n",
       "    <tr>\n",
       "      <th>id</th>\n",
       "      <th></th>\n",
       "      <th></th>\n",
       "      <th></th>\n",
       "      <th></th>\n",
       "      <th></th>\n",
       "    </tr>\n",
       "  </thead>\n",
       "  <tbody>\n",
       "    <tr>\n",
       "      <th>6433527344458063378</th>\n",
       "      <td>0</td>\n",
       "      <td>A</td>\n",
       "      <td>(i, j, k, l)</td>\n",
       "      <td>95.0</td>\n",
       "      <td>2154.0</td>\n",
       "    </tr>\n",
       "    <tr>\n",
       "      <th>-8877896705595211217</th>\n",
       "      <td>0</td>\n",
       "      <td>A</td>\n",
       "      <td>(i, l, k, m)</td>\n",
       "      <td>62.0</td>\n",
       "      <td>1105.0</td>\n",
       "    </tr>\n",
       "    <tr>\n",
       "      <th>-3227843474220565743</th>\n",
       "      <td>0</td>\n",
       "      <td>A</td>\n",
       "      <td>(j, k, i, l)</td>\n",
       "      <td>56.0</td>\n",
       "      <td>930.0</td>\n",
       "    </tr>\n",
       "    <tr>\n",
       "      <th>3396672271838090060</th>\n",
       "      <td>0</td>\n",
       "      <td>A</td>\n",
       "      <td>(j, m, k, l)</td>\n",
       "      <td>27.0</td>\n",
       "      <td>338.0</td>\n",
       "    </tr>\n",
       "    <tr>\n",
       "      <th>3660655700613520774</th>\n",
       "      <td>0</td>\n",
       "      <td>A</td>\n",
       "      <td>(k, l, i, j)</td>\n",
       "      <td>45.0</td>\n",
       "      <td>715.0</td>\n",
       "    </tr>\n",
       "  </tbody>\n",
       "</table>\n",
       "</div>"
      ],
      "text/plain": [
       "                      x  y             z  time  profit\n",
       "id                                                    \n",
       " 6433527344458063378  0  A  (i, j, k, l)  95.0  2154.0\n",
       "-8877896705595211217  0  A  (i, l, k, m)  62.0  1105.0\n",
       "-3227843474220565743  0  A  (j, k, i, l)  56.0   930.0\n",
       " 3396672271838090060  0  A  (j, m, k, l)  27.0   338.0\n",
       " 3660655700613520774  0  A  (k, l, i, j)  45.0   715.0"
      ]
     },
     "execution_count": 33,
     "metadata": {},
     "output_type": "execute_result"
    }
   ],
   "source": [
    "simpop.datasets.output.head()"
   ]
  },
  {
   "cell_type": "markdown",
   "metadata": {},
   "source": [
    "# Fitness"
   ]
  },
  {
   "cell_type": "markdown",
   "metadata": {},
   "source": [
    "### 1. Single Objective"
   ]
  },
  {
   "cell_type": "code",
   "execution_count": 34,
   "metadata": {},
   "outputs": [],
   "source": [
    "single_objective_pop = simpop.copy()\n",
    "single_objective_pop.apply_fitness.single_objective(output='time', objective='min')"
   ]
  },
  {
   "cell_type": "code",
   "execution_count": 35,
   "metadata": {},
   "outputs": [
    {
     "data": {
      "text/html": [
       "<div>\n",
       "<style scoped>\n",
       "    .dataframe tbody tr th:only-of-type {\n",
       "        vertical-align: middle;\n",
       "    }\n",
       "\n",
       "    .dataframe tbody tr th {\n",
       "        vertical-align: top;\n",
       "    }\n",
       "\n",
       "    .dataframe thead th {\n",
       "        text-align: right;\n",
       "    }\n",
       "</style>\n",
       "<table border=\"1\" class=\"dataframe\">\n",
       "  <thead>\n",
       "    <tr style=\"text-align: right;\">\n",
       "      <th></th>\n",
       "      <th>x</th>\n",
       "      <th>y</th>\n",
       "      <th>z</th>\n",
       "      <th>time</th>\n",
       "      <th>profit</th>\n",
       "      <th>criteria</th>\n",
       "    </tr>\n",
       "    <tr>\n",
       "      <th>id</th>\n",
       "      <th></th>\n",
       "      <th></th>\n",
       "      <th></th>\n",
       "      <th></th>\n",
       "      <th></th>\n",
       "      <th></th>\n",
       "    </tr>\n",
       "  </thead>\n",
       "  <tbody>\n",
       "    <tr>\n",
       "      <th>6672104317169820365</th>\n",
       "      <td>0</td>\n",
       "      <td>A</td>\n",
       "      <td>(m, l, i, j)</td>\n",
       "      <td>0.0</td>\n",
       "      <td>7.0</td>\n",
       "      <td>0.0</td>\n",
       "    </tr>\n",
       "    <tr>\n",
       "      <th>-1977895560618862609</th>\n",
       "      <td>2</td>\n",
       "      <td>D</td>\n",
       "      <td>(l, j, m, k)</td>\n",
       "      <td>0.0</td>\n",
       "      <td>32.0</td>\n",
       "      <td>0.0</td>\n",
       "    </tr>\n",
       "    <tr>\n",
       "      <th>-5769083481463724591</th>\n",
       "      <td>3</td>\n",
       "      <td>E</td>\n",
       "      <td>(l, m, k, i)</td>\n",
       "      <td>0.0</td>\n",
       "      <td>220.0</td>\n",
       "      <td>0.0</td>\n",
       "    </tr>\n",
       "    <tr>\n",
       "      <th>8559013099194805076</th>\n",
       "      <td>0</td>\n",
       "      <td>E</td>\n",
       "      <td>(k, i, l, j)</td>\n",
       "      <td>0.0</td>\n",
       "      <td>182.0</td>\n",
       "      <td>0.0</td>\n",
       "    </tr>\n",
       "    <tr>\n",
       "      <th>-3398235405689068258</th>\n",
       "      <td>8</td>\n",
       "      <td>A</td>\n",
       "      <td>(l, k, m, j)</td>\n",
       "      <td>0.0</td>\n",
       "      <td>3.0</td>\n",
       "      <td>0.0</td>\n",
       "    </tr>\n",
       "  </tbody>\n",
       "</table>\n",
       "</div>"
      ],
      "text/plain": [
       "                      x  y             z  time  profit  criteria\n",
       "id                                                              \n",
       " 6672104317169820365  0  A  (m, l, i, j)   0.0     7.0       0.0\n",
       "-1977895560618862609  2  D  (l, j, m, k)   0.0    32.0       0.0\n",
       "-5769083481463724591  3  E  (l, m, k, i)   0.0   220.0       0.0\n",
       " 8559013099194805076  0  E  (k, i, l, j)   0.0   182.0       0.0\n",
       "-3398235405689068258  8  A  (l, k, m, j)   0.0     3.0       0.0"
      ]
     },
     "execution_count": 35,
     "metadata": {},
     "output_type": "execute_result"
    }
   ],
   "source": [
    "single_objective_pop.datasets.fitness.head()"
   ]
  },
  {
   "cell_type": "markdown",
   "metadata": {},
   "source": [
    "### 2. Multi Objective - Ranked"
   ]
  },
  {
   "cell_type": "code",
   "execution_count": 36,
   "metadata": {},
   "outputs": [],
   "source": [
    "ranked_objective_pop = simpop.copy()\n",
    "ranked_objective_pop.apply_fitness.multi_objective.ranked(priorities=['time', 'profit'], objectives=['min', 'max'])"
   ]
  },
  {
   "cell_type": "code",
   "execution_count": 37,
   "metadata": {},
   "outputs": [
    {
     "data": {
      "text/html": [
       "<div>\n",
       "<style scoped>\n",
       "    .dataframe tbody tr th:only-of-type {\n",
       "        vertical-align: middle;\n",
       "    }\n",
       "\n",
       "    .dataframe tbody tr th {\n",
       "        vertical-align: top;\n",
       "    }\n",
       "\n",
       "    .dataframe thead th {\n",
       "        text-align: right;\n",
       "    }\n",
       "</style>\n",
       "<table border=\"1\" class=\"dataframe\">\n",
       "  <thead>\n",
       "    <tr style=\"text-align: right;\">\n",
       "      <th></th>\n",
       "      <th>x</th>\n",
       "      <th>y</th>\n",
       "      <th>z</th>\n",
       "      <th>time</th>\n",
       "      <th>profit</th>\n",
       "      <th>criteria0</th>\n",
       "      <th>criteria1</th>\n",
       "    </tr>\n",
       "    <tr>\n",
       "      <th>id</th>\n",
       "      <th></th>\n",
       "      <th></th>\n",
       "      <th></th>\n",
       "      <th></th>\n",
       "      <th></th>\n",
       "      <th></th>\n",
       "      <th></th>\n",
       "    </tr>\n",
       "  </thead>\n",
       "  <tbody>\n",
       "    <tr>\n",
       "      <th>-5769083481463724591</th>\n",
       "      <td>3</td>\n",
       "      <td>E</td>\n",
       "      <td>(l, m, k, i)</td>\n",
       "      <td>0.0</td>\n",
       "      <td>220.0</td>\n",
       "      <td>0.0</td>\n",
       "      <td>220.0</td>\n",
       "    </tr>\n",
       "    <tr>\n",
       "      <th>8559013099194805076</th>\n",
       "      <td>0</td>\n",
       "      <td>E</td>\n",
       "      <td>(k, i, l, j)</td>\n",
       "      <td>0.0</td>\n",
       "      <td>182.0</td>\n",
       "      <td>0.0</td>\n",
       "      <td>182.0</td>\n",
       "    </tr>\n",
       "    <tr>\n",
       "      <th>-1977895560618862609</th>\n",
       "      <td>2</td>\n",
       "      <td>D</td>\n",
       "      <td>(l, j, m, k)</td>\n",
       "      <td>0.0</td>\n",
       "      <td>32.0</td>\n",
       "      <td>0.0</td>\n",
       "      <td>32.0</td>\n",
       "    </tr>\n",
       "    <tr>\n",
       "      <th>6672104317169820365</th>\n",
       "      <td>0</td>\n",
       "      <td>A</td>\n",
       "      <td>(m, l, i, j)</td>\n",
       "      <td>0.0</td>\n",
       "      <td>7.0</td>\n",
       "      <td>0.0</td>\n",
       "      <td>7.0</td>\n",
       "    </tr>\n",
       "    <tr>\n",
       "      <th>-3398235405689068258</th>\n",
       "      <td>8</td>\n",
       "      <td>A</td>\n",
       "      <td>(l, k, m, j)</td>\n",
       "      <td>0.0</td>\n",
       "      <td>3.0</td>\n",
       "      <td>0.0</td>\n",
       "      <td>3.0</td>\n",
       "    </tr>\n",
       "  </tbody>\n",
       "</table>\n",
       "</div>"
      ],
      "text/plain": [
       "                      x  y             z  time  profit  criteria0  criteria1\n",
       "id                                                                          \n",
       "-5769083481463724591  3  E  (l, m, k, i)   0.0   220.0        0.0      220.0\n",
       " 8559013099194805076  0  E  (k, i, l, j)   0.0   182.0        0.0      182.0\n",
       "-1977895560618862609  2  D  (l, j, m, k)   0.0    32.0        0.0       32.0\n",
       " 6672104317169820365  0  A  (m, l, i, j)   0.0     7.0        0.0        7.0\n",
       "-3398235405689068258  8  A  (l, k, m, j)   0.0     3.0        0.0        3.0"
      ]
     },
     "execution_count": 37,
     "metadata": {},
     "output_type": "execute_result"
    }
   ],
   "source": [
    "ranked_objective_pop.datasets.fitness.head()"
   ]
  },
  {
   "cell_type": "markdown",
   "metadata": {},
   "source": [
    "### 3. Multi Objective - Pareto"
   ]
  },
  {
   "cell_type": "code",
   "execution_count": 38,
   "metadata": {},
   "outputs": [],
   "source": [
    "pareto_objective_pop = simpop.copy()\n",
    "pareto_objective_pop.apply_fitness.multi_objective.pareto(outputs=['time', 'profit'], objectives=['min', 'max'])"
   ]
  },
  {
   "cell_type": "code",
   "execution_count": 39,
   "metadata": {},
   "outputs": [
    {
     "data": {
      "text/html": [
       "<div>\n",
       "<style scoped>\n",
       "    .dataframe tbody tr th:only-of-type {\n",
       "        vertical-align: middle;\n",
       "    }\n",
       "\n",
       "    .dataframe tbody tr th {\n",
       "        vertical-align: top;\n",
       "    }\n",
       "\n",
       "    .dataframe thead th {\n",
       "        text-align: right;\n",
       "    }\n",
       "</style>\n",
       "<table border=\"1\" class=\"dataframe\">\n",
       "  <thead>\n",
       "    <tr style=\"text-align: right;\">\n",
       "      <th></th>\n",
       "      <th>x</th>\n",
       "      <th>y</th>\n",
       "      <th>z</th>\n",
       "      <th>time</th>\n",
       "      <th>profit</th>\n",
       "      <th>criteria0</th>\n",
       "      <th>criteria1</th>\n",
       "      <th>front</th>\n",
       "      <th>crowd</th>\n",
       "    </tr>\n",
       "    <tr>\n",
       "      <th>id</th>\n",
       "      <th></th>\n",
       "      <th></th>\n",
       "      <th></th>\n",
       "      <th></th>\n",
       "      <th></th>\n",
       "      <th></th>\n",
       "      <th></th>\n",
       "      <th></th>\n",
       "      <th></th>\n",
       "    </tr>\n",
       "  </thead>\n",
       "  <tbody>\n",
       "    <tr>\n",
       "      <th>3251499876914191407</th>\n",
       "      <td>10</td>\n",
       "      <td>E</td>\n",
       "      <td>(i, l, k, m)</td>\n",
       "      <td>64.0</td>\n",
       "      <td>10444.0</td>\n",
       "      <td>0.003444</td>\n",
       "      <td>6.743913</td>\n",
       "      <td>1</td>\n",
       "      <td>inf</td>\n",
       "    </tr>\n",
       "    <tr>\n",
       "      <th>-5769083481463724591</th>\n",
       "      <td>3</td>\n",
       "      <td>E</td>\n",
       "      <td>(l, m, k, i)</td>\n",
       "      <td>0.0</td>\n",
       "      <td>220.0</td>\n",
       "      <td>-1.468689</td>\n",
       "      <td>-0.518281</td>\n",
       "      <td>1</td>\n",
       "      <td>inf</td>\n",
       "    </tr>\n",
       "    <tr>\n",
       "      <th>-3398235405689068258</th>\n",
       "      <td>8</td>\n",
       "      <td>A</td>\n",
       "      <td>(l, k, m, j)</td>\n",
       "      <td>0.0</td>\n",
       "      <td>3.0</td>\n",
       "      <td>-1.468689</td>\n",
       "      <td>-0.672418</td>\n",
       "      <td>1</td>\n",
       "      <td>inf</td>\n",
       "    </tr>\n",
       "    <tr>\n",
       "      <th>-4286958303535734763</th>\n",
       "      <td>10</td>\n",
       "      <td>B</td>\n",
       "      <td>(l, m, i, j)</td>\n",
       "      <td>13.0</td>\n",
       "      <td>3417.0</td>\n",
       "      <td>-1.169662</td>\n",
       "      <td>1.752575</td>\n",
       "      <td>1</td>\n",
       "      <td>4.396206</td>\n",
       "    </tr>\n",
       "    <tr>\n",
       "      <th>4640955115387081998</th>\n",
       "      <td>10</td>\n",
       "      <td>B</td>\n",
       "      <td>(l, i, k, m)</td>\n",
       "      <td>22.0</td>\n",
       "      <td>7089.0</td>\n",
       "      <td>-0.962643</td>\n",
       "      <td>4.360828</td>\n",
       "      <td>1</td>\n",
       "      <td>4.229874</td>\n",
       "    </tr>\n",
       "  </tbody>\n",
       "</table>\n",
       "</div>"
      ],
      "text/plain": [
       "                       x  y             z  time   profit  criteria0  \\\n",
       "id                                                                    \n",
       " 3251499876914191407  10  E  (i, l, k, m)  64.0  10444.0   0.003444   \n",
       "-5769083481463724591   3  E  (l, m, k, i)   0.0    220.0  -1.468689   \n",
       "-3398235405689068258   8  A  (l, k, m, j)   0.0      3.0  -1.468689   \n",
       "-4286958303535734763  10  B  (l, m, i, j)  13.0   3417.0  -1.169662   \n",
       " 4640955115387081998  10  B  (l, i, k, m)  22.0   7089.0  -0.962643   \n",
       "\n",
       "                      criteria1  front     crowd  \n",
       "id                                                \n",
       " 3251499876914191407   6.743913      1       inf  \n",
       "-5769083481463724591  -0.518281      1       inf  \n",
       "-3398235405689068258  -0.672418      1       inf  \n",
       "-4286958303535734763   1.752575      1  4.396206  \n",
       " 4640955115387081998   4.360828      1  4.229874  "
      ]
     },
     "execution_count": 39,
     "metadata": {},
     "output_type": "execute_result"
    }
   ],
   "source": [
    "pareto_objective_pop.datasets.fitness.head()"
   ]
  },
  {
   "cell_type": "code",
   "execution_count": 40,
   "metadata": {},
   "outputs": [
    {
     "data": {
      "image/png": "[encoded data removed]",
      "text/plain": [
       "<Figure size 432x288 with 2 Axes>"
      ]
     },
     "metadata": {
      "needs_background": "light"
     },
     "output_type": "display_data"
    }
   ],
   "source": [
    "ax = pareto_objective_pop.plot.fronts('time', 'profit', 1)"
   ]
  },
  {
   "cell_type": "markdown",
   "metadata": {},
   "source": [
    "# Selection"
   ]
  },
  {
   "cell_type": "code",
   "execution_count": 41,
   "metadata": {},
   "outputs": [
    {
     "data": {
      "text/plain": [
       "Population with 384 Creatures with genes x (numeric), y (categorical), z (vectorial).\n",
       "        "
      ]
     },
     "execution_count": 41,
     "metadata": {},
     "output_type": "execute_result"
    }
   ],
   "source": [
    "selected_pop = pareto_objective_pop.select()\n",
    "selected_pop"
   ]
  },
  {
   "cell_type": "code",
   "execution_count": 42,
   "metadata": {},
   "outputs": [
    {
     "data": {
      "text/html": [
       "<div>\n",
       "<style scoped>\n",
       "    .dataframe tbody tr th:only-of-type {\n",
       "        vertical-align: middle;\n",
       "    }\n",
       "\n",
       "    .dataframe tbody tr th {\n",
       "        vertical-align: top;\n",
       "    }\n",
       "\n",
       "    .dataframe thead th {\n",
       "        text-align: right;\n",
       "    }\n",
       "</style>\n",
       "<table border=\"1\" class=\"dataframe\">\n",
       "  <thead>\n",
       "    <tr style=\"text-align: right;\">\n",
       "      <th></th>\n",
       "      <th>x</th>\n",
       "      <th>y</th>\n",
       "      <th>z</th>\n",
       "      <th>time</th>\n",
       "      <th>profit</th>\n",
       "      <th>criteria0</th>\n",
       "      <th>criteria1</th>\n",
       "      <th>front</th>\n",
       "      <th>crowd</th>\n",
       "    </tr>\n",
       "    <tr>\n",
       "      <th>id</th>\n",
       "      <th></th>\n",
       "      <th></th>\n",
       "      <th></th>\n",
       "      <th></th>\n",
       "      <th></th>\n",
       "      <th></th>\n",
       "      <th></th>\n",
       "      <th></th>\n",
       "      <th></th>\n",
       "    </tr>\n",
       "  </thead>\n",
       "  <tbody>\n",
       "    <tr>\n",
       "      <th>3251499876914191407</th>\n",
       "      <td>10</td>\n",
       "      <td>E</td>\n",
       "      <td>(i, l, k, m)</td>\n",
       "      <td>64.0</td>\n",
       "      <td>10444.0</td>\n",
       "      <td>0.003444</td>\n",
       "      <td>6.743913</td>\n",
       "      <td>1</td>\n",
       "      <td>inf</td>\n",
       "    </tr>\n",
       "    <tr>\n",
       "      <th>-5769083481463724591</th>\n",
       "      <td>3</td>\n",
       "      <td>E</td>\n",
       "      <td>(l, m, k, i)</td>\n",
       "      <td>0.0</td>\n",
       "      <td>220.0</td>\n",
       "      <td>-1.468689</td>\n",
       "      <td>-0.518281</td>\n",
       "      <td>1</td>\n",
       "      <td>inf</td>\n",
       "    </tr>\n",
       "    <tr>\n",
       "      <th>-3398235405689068258</th>\n",
       "      <td>8</td>\n",
       "      <td>A</td>\n",
       "      <td>(l, k, m, j)</td>\n",
       "      <td>0.0</td>\n",
       "      <td>3.0</td>\n",
       "      <td>-1.468689</td>\n",
       "      <td>-0.672418</td>\n",
       "      <td>1</td>\n",
       "      <td>inf</td>\n",
       "    </tr>\n",
       "    <tr>\n",
       "      <th>-4286958303535734763</th>\n",
       "      <td>10</td>\n",
       "      <td>B</td>\n",
       "      <td>(l, m, i, j)</td>\n",
       "      <td>13.0</td>\n",
       "      <td>3417.0</td>\n",
       "      <td>-1.169662</td>\n",
       "      <td>1.752575</td>\n",
       "      <td>1</td>\n",
       "      <td>4.396206</td>\n",
       "    </tr>\n",
       "    <tr>\n",
       "      <th>4640955115387081998</th>\n",
       "      <td>10</td>\n",
       "      <td>B</td>\n",
       "      <td>(l, i, k, m)</td>\n",
       "      <td>22.0</td>\n",
       "      <td>7089.0</td>\n",
       "      <td>-0.962643</td>\n",
       "      <td>4.360828</td>\n",
       "      <td>1</td>\n",
       "      <td>4.229874</td>\n",
       "    </tr>\n",
       "    <tr>\n",
       "      <th>...</th>\n",
       "      <td>...</td>\n",
       "      <td>...</td>\n",
       "      <td>...</td>\n",
       "      <td>...</td>\n",
       "      <td>...</td>\n",
       "      <td>...</td>\n",
       "      <td>...</td>\n",
       "      <td>...</td>\n",
       "      <td>...</td>\n",
       "    </tr>\n",
       "    <tr>\n",
       "      <th>672284021934527352</th>\n",
       "      <td>1</td>\n",
       "      <td>D</td>\n",
       "      <td>(l, i, k, j)</td>\n",
       "      <td>80.0</td>\n",
       "      <td>1185.0</td>\n",
       "      <td>0.371478</td>\n",
       "      <td>0.167167</td>\n",
       "      <td>12</td>\n",
       "      <td>0.238060</td>\n",
       "    </tr>\n",
       "    <tr>\n",
       "      <th>-6813530215927234160</th>\n",
       "      <td>3</td>\n",
       "      <td>E</td>\n",
       "      <td>(j, m, k, i)</td>\n",
       "      <td>80.0</td>\n",
       "      <td>1389.0</td>\n",
       "      <td>0.371478</td>\n",
       "      <td>0.312070</td>\n",
       "      <td>12</td>\n",
       "      <td>0.237349</td>\n",
       "    </tr>\n",
       "    <tr>\n",
       "      <th>8861383415468208551</th>\n",
       "      <td>8</td>\n",
       "      <td>B</td>\n",
       "      <td>(j, k, l, m)</td>\n",
       "      <td>52.0</td>\n",
       "      <td>387.0</td>\n",
       "      <td>-0.272581</td>\n",
       "      <td>-0.399660</td>\n",
       "      <td>12</td>\n",
       "      <td>0.219804</td>\n",
       "    </tr>\n",
       "    <tr>\n",
       "      <th>-1447797008556716762</th>\n",
       "      <td>5</td>\n",
       "      <td>C</td>\n",
       "      <td>(l, m, i, j)</td>\n",
       "      <td>22.0</td>\n",
       "      <td>117.0</td>\n",
       "      <td>-0.962643</td>\n",
       "      <td>-0.591443</td>\n",
       "      <td>12</td>\n",
       "      <td>0.214560</td>\n",
       "    </tr>\n",
       "    <tr>\n",
       "      <th>-3451262138974949845</th>\n",
       "      <td>9</td>\n",
       "      <td>B</td>\n",
       "      <td>(i, m, k, l)</td>\n",
       "      <td>47.0</td>\n",
       "      <td>326.0</td>\n",
       "      <td>-0.387591</td>\n",
       "      <td>-0.442988</td>\n",
       "      <td>12</td>\n",
       "      <td>0.214288</td>\n",
       "    </tr>\n",
       "  </tbody>\n",
       "</table>\n",
       "<p>384 rows × 9 columns</p>\n",
       "</div>"
      ],
      "text/plain": [
       "                       x  y             z  time   profit  criteria0  \\\n",
       "id                                                                    \n",
       " 3251499876914191407  10  E  (i, l, k, m)  64.0  10444.0   0.003444   \n",
       "-5769083481463724591   3  E  (l, m, k, i)   0.0    220.0  -1.468689   \n",
       "-3398235405689068258   8  A  (l, k, m, j)   0.0      3.0  -1.468689   \n",
       "-4286958303535734763  10  B  (l, m, i, j)  13.0   3417.0  -1.169662   \n",
       " 4640955115387081998  10  B  (l, i, k, m)  22.0   7089.0  -0.962643   \n",
       "...                   .. ..           ...   ...      ...        ...   \n",
       " 672284021934527352    1  D  (l, i, k, j)  80.0   1185.0   0.371478   \n",
       "-6813530215927234160   3  E  (j, m, k, i)  80.0   1389.0   0.371478   \n",
       " 8861383415468208551   8  B  (j, k, l, m)  52.0    387.0  -0.272581   \n",
       "-1447797008556716762   5  C  (l, m, i, j)  22.0    117.0  -0.962643   \n",
       "-3451262138974949845   9  B  (i, m, k, l)  47.0    326.0  -0.387591   \n",
       "\n",
       "                      criteria1  front     crowd  \n",
       "id                                                \n",
       " 3251499876914191407   6.743913      1       inf  \n",
       "-5769083481463724591  -0.518281      1       inf  \n",
       "-3398235405689068258  -0.672418      1       inf  \n",
       "-4286958303535734763   1.752575      1  4.396206  \n",
       " 4640955115387081998   4.360828      1  4.229874  \n",
       "...                         ...    ...       ...  \n",
       " 672284021934527352    0.167167     12  0.238060  \n",
       "-6813530215927234160   0.312070     12  0.237349  \n",
       " 8861383415468208551  -0.399660     12  0.219804  \n",
       "-1447797008556716762  -0.591443     12  0.214560  \n",
       "-3451262138974949845  -0.442988     12  0.214288  \n",
       "\n",
       "[384 rows x 9 columns]"
      ]
     },
     "execution_count": 42,
     "metadata": {},
     "output_type": "execute_result"
    }
   ],
   "source": [
    "selected_pop.datasets.fitness"
   ]
  },
  {
   "cell_type": "markdown",
   "metadata": {},
   "source": [
    "# Repopulate"
   ]
  },
  {
   "cell_type": "code",
   "execution_count": 43,
   "metadata": {},
   "outputs": [
    {
     "data": {
      "text/plain": [
       "Population with 384 Creatures with genes x (numeric), y (categorical), z (vectorial).\n",
       "        "
      ]
     },
     "execution_count": 43,
     "metadata": {},
     "output_type": "execute_result"
    }
   ],
   "source": [
    "newpop = selected_pop.copy()\n",
    "newpop"
   ]
  },
  {
   "cell_type": "code",
   "execution_count": 44,
   "metadata": {},
   "outputs": [
    {
     "data": {
      "text/html": [
       "<div>\n",
       "<style scoped>\n",
       "    .dataframe tbody tr th:only-of-type {\n",
       "        vertical-align: middle;\n",
       "    }\n",
       "\n",
       "    .dataframe tbody tr th {\n",
       "        vertical-align: top;\n",
       "    }\n",
       "\n",
       "    .dataframe thead th {\n",
       "        text-align: right;\n",
       "    }\n",
       "</style>\n",
       "<table border=\"1\" class=\"dataframe\">\n",
       "  <thead>\n",
       "    <tr style=\"text-align: right;\">\n",
       "      <th></th>\n",
       "      <th>x</th>\n",
       "      <th>y</th>\n",
       "      <th>z</th>\n",
       "      <th>time</th>\n",
       "      <th>profit</th>\n",
       "      <th>criteria0</th>\n",
       "      <th>criteria1</th>\n",
       "      <th>front</th>\n",
       "      <th>crowd</th>\n",
       "    </tr>\n",
       "    <tr>\n",
       "      <th>id</th>\n",
       "      <th></th>\n",
       "      <th></th>\n",
       "      <th></th>\n",
       "      <th></th>\n",
       "      <th></th>\n",
       "      <th></th>\n",
       "      <th></th>\n",
       "      <th></th>\n",
       "      <th></th>\n",
       "    </tr>\n",
       "  </thead>\n",
       "  <tbody>\n",
       "    <tr>\n",
       "      <th>3251499876914191407</th>\n",
       "      <td>10</td>\n",
       "      <td>E</td>\n",
       "      <td>(i, l, k, m)</td>\n",
       "      <td>64.0</td>\n",
       "      <td>10444.0</td>\n",
       "      <td>0.003444</td>\n",
       "      <td>6.743913</td>\n",
       "      <td>1</td>\n",
       "      <td>inf</td>\n",
       "    </tr>\n",
       "    <tr>\n",
       "      <th>-5769083481463724591</th>\n",
       "      <td>3</td>\n",
       "      <td>E</td>\n",
       "      <td>(l, m, k, i)</td>\n",
       "      <td>0.0</td>\n",
       "      <td>220.0</td>\n",
       "      <td>-1.468689</td>\n",
       "      <td>-0.518281</td>\n",
       "      <td>1</td>\n",
       "      <td>inf</td>\n",
       "    </tr>\n",
       "    <tr>\n",
       "      <th>-3398235405689068258</th>\n",
       "      <td>8</td>\n",
       "      <td>A</td>\n",
       "      <td>(l, k, m, j)</td>\n",
       "      <td>0.0</td>\n",
       "      <td>3.0</td>\n",
       "      <td>-1.468689</td>\n",
       "      <td>-0.672418</td>\n",
       "      <td>1</td>\n",
       "      <td>inf</td>\n",
       "    </tr>\n",
       "    <tr>\n",
       "      <th>-4286958303535734763</th>\n",
       "      <td>10</td>\n",
       "      <td>B</td>\n",
       "      <td>(l, m, i, j)</td>\n",
       "      <td>13.0</td>\n",
       "      <td>3417.0</td>\n",
       "      <td>-1.169662</td>\n",
       "      <td>1.752575</td>\n",
       "      <td>1</td>\n",
       "      <td>4.396206</td>\n",
       "    </tr>\n",
       "    <tr>\n",
       "      <th>4640955115387081998</th>\n",
       "      <td>10</td>\n",
       "      <td>B</td>\n",
       "      <td>(l, i, k, m)</td>\n",
       "      <td>22.0</td>\n",
       "      <td>7089.0</td>\n",
       "      <td>-0.962643</td>\n",
       "      <td>4.360828</td>\n",
       "      <td>1</td>\n",
       "      <td>4.229874</td>\n",
       "    </tr>\n",
       "    <tr>\n",
       "      <th>...</th>\n",
       "      <td>...</td>\n",
       "      <td>...</td>\n",
       "      <td>...</td>\n",
       "      <td>...</td>\n",
       "      <td>...</td>\n",
       "      <td>...</td>\n",
       "      <td>...</td>\n",
       "      <td>...</td>\n",
       "      <td>...</td>\n",
       "    </tr>\n",
       "    <tr>\n",
       "      <th>672284021934527352</th>\n",
       "      <td>1</td>\n",
       "      <td>D</td>\n",
       "      <td>(l, i, k, j)</td>\n",
       "      <td>80.0</td>\n",
       "      <td>1185.0</td>\n",
       "      <td>0.371478</td>\n",
       "      <td>0.167167</td>\n",
       "      <td>12</td>\n",
       "      <td>0.238060</td>\n",
       "    </tr>\n",
       "    <tr>\n",
       "      <th>-6813530215927234160</th>\n",
       "      <td>3</td>\n",
       "      <td>E</td>\n",
       "      <td>(j, m, k, i)</td>\n",
       "      <td>80.0</td>\n",
       "      <td>1389.0</td>\n",
       "      <td>0.371478</td>\n",
       "      <td>0.312070</td>\n",
       "      <td>12</td>\n",
       "      <td>0.237349</td>\n",
       "    </tr>\n",
       "    <tr>\n",
       "      <th>8861383415468208551</th>\n",
       "      <td>8</td>\n",
       "      <td>B</td>\n",
       "      <td>(j, k, l, m)</td>\n",
       "      <td>52.0</td>\n",
       "      <td>387.0</td>\n",
       "      <td>-0.272581</td>\n",
       "      <td>-0.399660</td>\n",
       "      <td>12</td>\n",
       "      <td>0.219804</td>\n",
       "    </tr>\n",
       "    <tr>\n",
       "      <th>-1447797008556716762</th>\n",
       "      <td>5</td>\n",
       "      <td>C</td>\n",
       "      <td>(l, m, i, j)</td>\n",
       "      <td>22.0</td>\n",
       "      <td>117.0</td>\n",
       "      <td>-0.962643</td>\n",
       "      <td>-0.591443</td>\n",
       "      <td>12</td>\n",
       "      <td>0.214560</td>\n",
       "    </tr>\n",
       "    <tr>\n",
       "      <th>-3451262138974949845</th>\n",
       "      <td>9</td>\n",
       "      <td>B</td>\n",
       "      <td>(i, m, k, l)</td>\n",
       "      <td>47.0</td>\n",
       "      <td>326.0</td>\n",
       "      <td>-0.387591</td>\n",
       "      <td>-0.442988</td>\n",
       "      <td>12</td>\n",
       "      <td>0.214288</td>\n",
       "    </tr>\n",
       "  </tbody>\n",
       "</table>\n",
       "<p>384 rows × 9 columns</p>\n",
       "</div>"
      ],
      "text/plain": [
       "                       x  y             z  time   profit  criteria0  \\\n",
       "id                                                                    \n",
       " 3251499876914191407  10  E  (i, l, k, m)  64.0  10444.0   0.003444   \n",
       "-5769083481463724591   3  E  (l, m, k, i)   0.0    220.0  -1.468689   \n",
       "-3398235405689068258   8  A  (l, k, m, j)   0.0      3.0  -1.468689   \n",
       "-4286958303535734763  10  B  (l, m, i, j)  13.0   3417.0  -1.169662   \n",
       " 4640955115387081998  10  B  (l, i, k, m)  22.0   7089.0  -0.962643   \n",
       "...                   .. ..           ...   ...      ...        ...   \n",
       " 672284021934527352    1  D  (l, i, k, j)  80.0   1185.0   0.371478   \n",
       "-6813530215927234160   3  E  (j, m, k, i)  80.0   1389.0   0.371478   \n",
       " 8861383415468208551   8  B  (j, k, l, m)  52.0    387.0  -0.272581   \n",
       "-1447797008556716762   5  C  (l, m, i, j)  22.0    117.0  -0.962643   \n",
       "-3451262138974949845   9  B  (i, m, k, l)  47.0    326.0  -0.387591   \n",
       "\n",
       "                      criteria1  front     crowd  \n",
       "id                                                \n",
       " 3251499876914191407   6.743913      1       inf  \n",
       "-5769083481463724591  -0.518281      1       inf  \n",
       "-3398235405689068258  -0.672418      1       inf  \n",
       "-4286958303535734763   1.752575      1  4.396206  \n",
       " 4640955115387081998   4.360828      1  4.229874  \n",
       "...                         ...    ...       ...  \n",
       " 672284021934527352    0.167167     12  0.238060  \n",
       "-6813530215927234160   0.312070     12  0.237349  \n",
       " 8861383415468208551  -0.399660     12  0.219804  \n",
       "-1447797008556716762  -0.591443     12  0.214560  \n",
       "-3451262138974949845  -0.442988     12  0.214288  \n",
       "\n",
       "[384 rows x 9 columns]"
      ]
     },
     "execution_count": 44,
     "metadata": {},
     "output_type": "execute_result"
    }
   ],
   "source": [
    "newpop.datasets.fitness"
   ]
  },
  {
   "cell_type": "code",
   "execution_count": 45,
   "metadata": {},
   "outputs": [],
   "source": [
    "newpop.reproduce.tournament(n_children=len(newpop)/2)"
   ]
  },
  {
   "cell_type": "code",
   "execution_count": 46,
   "metadata": {},
   "outputs": [
    {
     "name": "stderr",
     "output_type": "stream",
     "text": [
      "Exception ignored in: <generator object generate_elite_parent_pair at 0x7fa62c3d5120>\n",
      "Traceback (most recent call last):\n",
      "  File \"<ipython-input-46-f056f8818bf1>\", line 1, in <module>\n",
      "RuntimeError: generator ignored GeneratorExit\n"
     ]
    }
   ],
   "source": [
    "newpop.reproduce.elitism()"
   ]
  },
  {
   "cell_type": "code",
   "execution_count": 47,
   "metadata": {},
   "outputs": [
    {
     "data": {
      "text/plain": [
       "Population with 768 Creatures with genes x (numeric), y (categorical), z (vectorial).\n",
       "        "
      ]
     },
     "execution_count": 47,
     "metadata": {},
     "output_type": "execute_result"
    }
   ],
   "source": [
    "newpop"
   ]
  },
  {
   "cell_type": "code",
   "execution_count": 48,
   "metadata": {},
   "outputs": [],
   "source": [
    "env.simulate(newpop)"
   ]
  },
  {
   "cell_type": "code",
   "execution_count": 49,
   "metadata": {},
   "outputs": [],
   "source": [
    "newpop.apply_fitness.multi_objective.pareto(outputs=['time', 'profit'], objectives=['min', 'max'])"
   ]
  },
  {
   "cell_type": "code",
   "execution_count": 50,
   "metadata": {},
   "outputs": [
    {
     "data": {
      "text/html": [
       "<div>\n",
       "<style scoped>\n",
       "    .dataframe tbody tr th:only-of-type {\n",
       "        vertical-align: middle;\n",
       "    }\n",
       "\n",
       "    .dataframe tbody tr th {\n",
       "        vertical-align: top;\n",
       "    }\n",
       "\n",
       "    .dataframe thead th {\n",
       "        text-align: right;\n",
       "    }\n",
       "</style>\n",
       "<table border=\"1\" class=\"dataframe\">\n",
       "  <thead>\n",
       "    <tr style=\"text-align: right;\">\n",
       "      <th></th>\n",
       "      <th>x</th>\n",
       "      <th>y</th>\n",
       "      <th>z</th>\n",
       "      <th>time</th>\n",
       "      <th>profit</th>\n",
       "      <th>criteria0</th>\n",
       "      <th>criteria1</th>\n",
       "      <th>front</th>\n",
       "      <th>crowd</th>\n",
       "    </tr>\n",
       "    <tr>\n",
       "      <th>id</th>\n",
       "      <th></th>\n",
       "      <th></th>\n",
       "      <th></th>\n",
       "      <th></th>\n",
       "      <th></th>\n",
       "      <th></th>\n",
       "      <th></th>\n",
       "      <th></th>\n",
       "      <th></th>\n",
       "    </tr>\n",
       "  </thead>\n",
       "  <tbody>\n",
       "    <tr>\n",
       "      <th>-3398235405689068258</th>\n",
       "      <td>8</td>\n",
       "      <td>A</td>\n",
       "      <td>(l, k, m, j)</td>\n",
       "      <td>0.0</td>\n",
       "      <td>3.0</td>\n",
       "      <td>-1.209932</td>\n",
       "      <td>-0.743848</td>\n",
       "      <td>1</td>\n",
       "      <td>inf</td>\n",
       "    </tr>\n",
       "    <tr>\n",
       "      <th>-8483195981628226952</th>\n",
       "      <td>10</td>\n",
       "      <td>E</td>\n",
       "      <td>(j, k, i, m)</td>\n",
       "      <td>97.0</td>\n",
       "      <td>10471.0</td>\n",
       "      <td>1.399881</td>\n",
       "      <td>4.286824</td>\n",
       "      <td>1</td>\n",
       "      <td>inf</td>\n",
       "    </tr>\n",
       "    <tr>\n",
       "      <th>-1257128419952029854</th>\n",
       "      <td>6</td>\n",
       "      <td>E</td>\n",
       "      <td>(l, m, i, j)</td>\n",
       "      <td>0.0</td>\n",
       "      <td>232.0</td>\n",
       "      <td>-1.209932</td>\n",
       "      <td>-0.633796</td>\n",
       "      <td>1</td>\n",
       "      <td>inf</td>\n",
       "    </tr>\n",
       "    <tr>\n",
       "      <th>-4286958303535734763</th>\n",
       "      <td>10</td>\n",
       "      <td>B</td>\n",
       "      <td>(l, m, i, j)</td>\n",
       "      <td>13.0</td>\n",
       "      <td>3417.0</td>\n",
       "      <td>-0.860164</td>\n",
       "      <td>0.896839</td>\n",
       "      <td>1</td>\n",
       "      <td>2.645481</td>\n",
       "    </tr>\n",
       "    <tr>\n",
       "      <th>4640955115387081998</th>\n",
       "      <td>10</td>\n",
       "      <td>B</td>\n",
       "      <td>(l, i, k, m)</td>\n",
       "      <td>22.0</td>\n",
       "      <td>7089.0</td>\n",
       "      <td>-0.618016</td>\n",
       "      <td>2.661515</td>\n",
       "      <td>1</td>\n",
       "      <td>2.278823</td>\n",
       "    </tr>\n",
       "    <tr>\n",
       "      <th>...</th>\n",
       "      <td>...</td>\n",
       "      <td>...</td>\n",
       "      <td>...</td>\n",
       "      <td>...</td>\n",
       "      <td>...</td>\n",
       "      <td>...</td>\n",
       "      <td>...</td>\n",
       "      <td>...</td>\n",
       "      <td>...</td>\n",
       "    </tr>\n",
       "    <tr>\n",
       "      <th>3555023663014216655</th>\n",
       "      <td>10</td>\n",
       "      <td>E</td>\n",
       "      <td>(k, m, i, l)</td>\n",
       "      <td>18.0</td>\n",
       "      <td>143.0</td>\n",
       "      <td>-0.725637</td>\n",
       "      <td>-0.676567</td>\n",
       "      <td>10</td>\n",
       "      <td>0.000481</td>\n",
       "    </tr>\n",
       "    <tr>\n",
       "      <th>961587692786678996</th>\n",
       "      <td>5</td>\n",
       "      <td>E</td>\n",
       "      <td>(k, m, l, j)</td>\n",
       "      <td>15.0</td>\n",
       "      <td>105.0</td>\n",
       "      <td>-0.806353</td>\n",
       "      <td>-0.694829</td>\n",
       "      <td>10</td>\n",
       "      <td>0.000000</td>\n",
       "    </tr>\n",
       "    <tr>\n",
       "      <th>1961139289560472833</th>\n",
       "      <td>6</td>\n",
       "      <td>B</td>\n",
       "      <td>(l, k, i, j)</td>\n",
       "      <td>27.0</td>\n",
       "      <td>273.0</td>\n",
       "      <td>-0.483489</td>\n",
       "      <td>-0.614093</td>\n",
       "      <td>10</td>\n",
       "      <td>0.000000</td>\n",
       "    </tr>\n",
       "    <tr>\n",
       "      <th>-3597441132674986382</th>\n",
       "      <td>1</td>\n",
       "      <td>A</td>\n",
       "      <td>(i, k, j, l)</td>\n",
       "      <td>16.0</td>\n",
       "      <td>81.0</td>\n",
       "      <td>-0.779448</td>\n",
       "      <td>-0.706363</td>\n",
       "      <td>10</td>\n",
       "      <td>0.000000</td>\n",
       "    </tr>\n",
       "    <tr>\n",
       "      <th>1192987382755482191</th>\n",
       "      <td>0</td>\n",
       "      <td>A</td>\n",
       "      <td>(m, i, j, k)</td>\n",
       "      <td>10.0</td>\n",
       "      <td>97.0</td>\n",
       "      <td>-0.940879</td>\n",
       "      <td>-0.698674</td>\n",
       "      <td>10</td>\n",
       "      <td>0.000000</td>\n",
       "    </tr>\n",
       "  </tbody>\n",
       "</table>\n",
       "<p>768 rows × 9 columns</p>\n",
       "</div>"
      ],
      "text/plain": [
       "                       x  y             z  time   profit  criteria0  \\\n",
       "id                                                                    \n",
       "-3398235405689068258   8  A  (l, k, m, j)   0.0      3.0  -1.209932   \n",
       "-8483195981628226952  10  E  (j, k, i, m)  97.0  10471.0   1.399881   \n",
       "-1257128419952029854   6  E  (l, m, i, j)   0.0    232.0  -1.209932   \n",
       "-4286958303535734763  10  B  (l, m, i, j)  13.0   3417.0  -0.860164   \n",
       " 4640955115387081998  10  B  (l, i, k, m)  22.0   7089.0  -0.618016   \n",
       "...                   .. ..           ...   ...      ...        ...   \n",
       " 3555023663014216655  10  E  (k, m, i, l)  18.0    143.0  -0.725637   \n",
       " 961587692786678996    5  E  (k, m, l, j)  15.0    105.0  -0.806353   \n",
       " 1961139289560472833   6  B  (l, k, i, j)  27.0    273.0  -0.483489   \n",
       "-3597441132674986382   1  A  (i, k, j, l)  16.0     81.0  -0.779448   \n",
       " 1192987382755482191   0  A  (m, i, j, k)  10.0     97.0  -0.940879   \n",
       "\n",
       "                      criteria1  front     crowd  \n",
       "id                                                \n",
       "-3398235405689068258  -0.743848      1       inf  \n",
       "-8483195981628226952   4.286824      1       inf  \n",
       "-1257128419952029854  -0.633796      1       inf  \n",
       "-4286958303535734763   0.896839      1  2.645481  \n",
       " 4640955115387081998   2.661515      1  2.278823  \n",
       "...                         ...    ...       ...  \n",
       " 3555023663014216655  -0.676567     10  0.000481  \n",
       " 961587692786678996   -0.694829     10  0.000000  \n",
       " 1961139289560472833  -0.614093     10  0.000000  \n",
       "-3597441132674986382  -0.706363     10  0.000000  \n",
       " 1192987382755482191  -0.698674     10  0.000000  \n",
       "\n",
       "[768 rows x 9 columns]"
      ]
     },
     "execution_count": 50,
     "metadata": {},
     "output_type": "execute_result"
    }
   ],
   "source": [
    "newpop.datasets.fitness"
   ]
  },
  {
   "cell_type": "code",
   "execution_count": 51,
   "metadata": {},
   "outputs": [
    {
     "data": {
      "image/png": "[encoded data removed]",
      "text/plain": [
       "<Figure size 432x288 with 2 Axes>"
      ]
     },
     "metadata": {
      "needs_background": "light"
     },
     "output_type": "display_data"
    }
   ],
   "source": [
    "ax = pareto_objective_pop.plot.fronts('time', 'profit', 1, show_worst=True)"
   ]
  },
  {
   "cell_type": "code",
   "execution_count": 52,
   "metadata": {},
   "outputs": [
    {
     "data": {
      "image/png": "[encoded data removed]",
      "text/plain": [
       "<Figure size 432x288 with 2 Axes>"
      ]
     },
     "metadata": {
      "needs_background": "light"
     },
     "output_type": "display_data"
    }
   ],
   "source": [
    "ax = newpop.plot.fronts('time', 'profit', 1, show_worst=True)"
   ]
  },
  {
   "cell_type": "markdown",
   "metadata": {},
   "source": [
    "## Mutation"
   ]
  },
  {
   "cell_type": "code",
   "execution_count": null,
   "metadata": {},
   "outputs": [],
   "source": []
  },
  {
   "cell_type": "markdown",
   "metadata": {},
   "source": [
    "# Mini process example"
   ]
  },
  {
   "cell_type": "code",
   "execution_count": 53,
   "metadata": {},
   "outputs": [],
   "source": [
    "from tqdm import tqdm"
   ]
  },
  {
   "cell_type": "code",
   "execution_count": 54,
   "metadata": {},
   "outputs": [
    {
     "name": "stderr",
     "output_type": "stream",
     "text": [
      "[mean profit: 3939.02] Generating Offspring...: 100%|██████████| 20/20 [04:40<00:00, 14.03s/it]     \n"
     ]
    }
   ],
   "source": [
    "# population\n",
    "pop_creator = PopulationCreator(genome_blueprint)\n",
    "pop = pop_creator.create.det(7) + pop_creator.create.rand(500)\n",
    "pop.define()\n",
    "\n",
    "#environment\n",
    "env = Environment()\n",
    "env.config.set_process(dummy_process)\n",
    "env.config.set_output_varibles('time', 'profit')\n",
    "\n",
    "# iterarions\n",
    "n_generations = 20\n",
    "pbar = tqdm(range(n_generations))\n",
    "profit = 0\n",
    "for _ in pbar:\n",
    "    pbar.set_description(f'[mean profit: {profit}] Simulating...')\n",
    "    env.simulate(pop)\n",
    "    profit = round(pop.datasets.output['profit'].mean(), 2)\n",
    "    pbar.set_description(f'[mean profit: {profit}] Applying Fitness Criteria...')\n",
    "    pop.apply_fitness.single_objective('profit', objective='max')\n",
    "    pbar.set_description(f'[mean profit: {profit}] Selecting...')\n",
    "    pop = pop.select()\n",
    "    pbar.set_description(f'[mean profit: {profit}] Generating Offspring...')\n",
    "    pop.reproduce.tournament(n_dispute=2)"
   ]
  },
  {
   "cell_type": "code",
   "execution_count": 55,
   "metadata": {},
   "outputs": [
    {
     "data": {
      "text/plain": [
       "<AxesSubplot:xlabel='generation', ylabel='profit'>"
      ]
     },
     "execution_count": 55,
     "metadata": {},
     "output_type": "execute_result"
    },
    {
     "data": {
      "image/png": "[encoded data removed]",
      "text/plain": [
       "<Figure size 432x288 with 1 Axes>"
      ]
     },
     "metadata": {
      "needs_background": "light"
     },
     "output_type": "display_data"
    },
    {
     "data": {
      "image/png": "[encoded data removed]",
      "text/plain": [
       "<Figure size 432x288 with 1 Axes>"
      ]
     },
     "metadata": {
      "needs_background": "light"
     },
     "output_type": "display_data"
    }
   ],
   "source": [
    "pop.plot.history('profit', 'mean')\n",
    "pop.plot.history('profit', 'max')"
   ]
  }
 ],
 "metadata": {
  "kernelspec": {
   "display_name": "Lamarck Env",
   "language": "python",
   "name": "lamarck"
  },
  "language_info": {
   "codemirror_mode": {
    "name": "ipython",
    "version": 3
   },
   "file_extension": ".py",
   "mimetype": "text/x-python",
   "name": "python",
   "nbconvert_exporter": "python",
   "pygments_lexer": "ipython3",
   "version": "3.9.1"
  }
 },
 "nbformat": 4,
 "nbformat_minor": 4
}
