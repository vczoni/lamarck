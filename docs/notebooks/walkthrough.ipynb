{
 "cells": [
  {
   "cell_type": "code",
   "execution_count": 1,
   "metadata": {},
   "outputs": [],
   "source": [
    "import sys\n",
    "import pandas as pd\n",
    "sys.path.append('../..')"
   ]
  },
  {
   "cell_type": "markdown",
   "metadata": {},
   "source": [
    "# Creature"
   ]
  },
  {
   "cell_type": "code",
   "execution_count": 2,
   "metadata": {},
   "outputs": [],
   "source": [
    "from lamarck import Creature"
   ]
  },
  {
   "cell_type": "code",
   "execution_count": 3,
   "metadata": {},
   "outputs": [],
   "source": [
    "genome = {\n",
    "    'x': 10,\n",
    "    'y': 'A',\n",
    "    'z': (1, 2, 3)\n",
    "}"
   ]
  },
  {
   "cell_type": "code",
   "execution_count": 4,
   "metadata": {},
   "outputs": [],
   "source": [
    "creature = Creature(genome)"
   ]
  },
  {
   "cell_type": "code",
   "execution_count": 5,
   "metadata": {},
   "outputs": [
    {
     "data": {
      "text/plain": [
       "1498426106769281422"
      ]
     },
     "execution_count": 5,
     "metadata": {},
     "output_type": "execute_result"
    }
   ],
   "source": [
    "creature.id"
   ]
  },
  {
   "cell_type": "markdown",
   "metadata": {},
   "source": [
    "# Genome Creator"
   ]
  },
  {
   "cell_type": "code",
   "execution_count": 6,
   "metadata": {},
   "outputs": [],
   "source": [
    "from lamarck.assistant import GenomeCreator"
   ]
  },
  {
   "cell_type": "code",
   "execution_count": 7,
   "metadata": {},
   "outputs": [],
   "source": [
    "genome_creator = GenomeCreator()"
   ]
  },
  {
   "cell_type": "code",
   "execution_count": 8,
   "metadata": {},
   "outputs": [],
   "source": [
    "genome_creator.add_gene_specs.numeric(name='x',\n",
    "                                      min=0,\n",
    "                                      max=10,\n",
    "                                      progression='linear',\n",
    "                                      domain='int')\n",
    "\n",
    "genome_creator.add_gene_specs.categorical(name='y', domain=['A', 'B', 'C', 'D', 'E'])\n",
    "\n",
    "genome_creator.add_gene_specs.vectorial(name='z', length=4, replace=False, domain=['i', 'j', 'k', 'l', 'm'])"
   ]
  },
  {
   "cell_type": "code",
   "execution_count": 9,
   "metadata": {},
   "outputs": [],
   "source": [
    "genome_blueprint = genome_creator.get_genome_blueprint()"
   ]
  },
  {
   "cell_type": "code",
   "execution_count": 10,
   "metadata": {},
   "outputs": [
    {
     "data": {
      "text/plain": [
       "{'x': {'type': 'numeric',\n",
       "  'domain': 'int',\n",
       "  'ranges': {'min': 0, 'max': 10, 'progression': 'linear'}},\n",
       " 'y': {'type': 'categorical', 'domain': ['A', 'B', 'C', 'D', 'E']},\n",
       " 'z': {'type': 'vectorial',\n",
       "  'domain': ['i', 'j', 'k', 'l', 'm'],\n",
       "  'ranges': {'length': 4, 'replace': False}}}"
      ]
     },
     "execution_count": 10,
     "metadata": {},
     "output_type": "execute_result"
    }
   ],
   "source": [
    "genome_blueprint"
   ]
  },
  {
   "cell_type": "markdown",
   "metadata": {},
   "source": [
    "# Population Creator"
   ]
  },
  {
   "cell_type": "code",
   "execution_count": 11,
   "metadata": {},
   "outputs": [],
   "source": [
    "from lamarck.assistant import PopulationCreator"
   ]
  },
  {
   "cell_type": "code",
   "execution_count": 12,
   "metadata": {},
   "outputs": [],
   "source": [
    "pop_creator = PopulationCreator(genome_blueprint)"
   ]
  },
  {
   "cell_type": "code",
   "execution_count": 13,
   "metadata": {},
   "outputs": [
    {
     "data": {
      "text/plain": [
       "Population with 512 Creatures with genes x (numeric), y (categorical), z (vectorial).\n",
       "        "
      ]
     },
     "execution_count": 13,
     "metadata": {},
     "output_type": "execute_result"
    }
   ],
   "source": [
    "popdet = pop_creator.create.det(8)\n",
    "popdet"
   ]
  },
  {
   "cell_type": "code",
   "execution_count": 14,
   "metadata": {},
   "outputs": [
    {
     "data": {
      "text/html": [
       "<div>\n",
       "<style scoped>\n",
       "    .dataframe tbody tr th:only-of-type {\n",
       "        vertical-align: middle;\n",
       "    }\n",
       "\n",
       "    .dataframe tbody tr th {\n",
       "        vertical-align: top;\n",
       "    }\n",
       "\n",
       "    .dataframe thead th {\n",
       "        text-align: right;\n",
       "    }\n",
       "</style>\n",
       "<table border=\"1\" class=\"dataframe\">\n",
       "  <thead>\n",
       "    <tr style=\"text-align: right;\">\n",
       "      <th></th>\n",
       "      <th>x</th>\n",
       "      <th>y</th>\n",
       "      <th>z</th>\n",
       "    </tr>\n",
       "    <tr>\n",
       "      <th>id</th>\n",
       "      <th></th>\n",
       "      <th></th>\n",
       "      <th></th>\n",
       "    </tr>\n",
       "  </thead>\n",
       "  <tbody>\n",
       "    <tr>\n",
       "      <th>-2311121770384920740</th>\n",
       "      <td>0</td>\n",
       "      <td>A</td>\n",
       "      <td>(i, j, k, l)</td>\n",
       "    </tr>\n",
       "    <tr>\n",
       "      <th>8121178475967757911</th>\n",
       "      <td>0</td>\n",
       "      <td>A</td>\n",
       "      <td>(i, l, k, m)</td>\n",
       "    </tr>\n",
       "    <tr>\n",
       "      <th>-424982330329757554</th>\n",
       "      <td>0</td>\n",
       "      <td>A</td>\n",
       "      <td>(j, k, i, l)</td>\n",
       "    </tr>\n",
       "    <tr>\n",
       "      <th>5302173382874556174</th>\n",
       "      <td>0</td>\n",
       "      <td>A</td>\n",
       "      <td>(j, m, k, l)</td>\n",
       "    </tr>\n",
       "    <tr>\n",
       "      <th>-9212557593147139075</th>\n",
       "      <td>0</td>\n",
       "      <td>A</td>\n",
       "      <td>(k, l, i, j)</td>\n",
       "    </tr>\n",
       "  </tbody>\n",
       "</table>\n",
       "</div>"
      ],
      "text/plain": [
       "                      x  y             z\n",
       "id                                      \n",
       "-2311121770384920740  0  A  (i, j, k, l)\n",
       " 8121178475967757911  0  A  (i, l, k, m)\n",
       "-424982330329757554   0  A  (j, k, i, l)\n",
       " 5302173382874556174  0  A  (j, m, k, l)\n",
       "-9212557593147139075  0  A  (k, l, i, j)"
      ]
     },
     "execution_count": 14,
     "metadata": {},
     "output_type": "execute_result"
    }
   ],
   "source": [
    "popdet.datasets.input.head()"
   ]
  },
  {
   "cell_type": "code",
   "execution_count": 15,
   "metadata": {},
   "outputs": [
    {
     "data": {
      "text/plain": [
       "Population with 500 Creatures with genes x (numeric), y (categorical), z (vectorial).\n",
       "        "
      ]
     },
     "execution_count": 15,
     "metadata": {},
     "output_type": "execute_result"
    }
   ],
   "source": [
    "poprand = pop_creator.create.rand(500)\n",
    "poprand"
   ]
  },
  {
   "cell_type": "code",
   "execution_count": 16,
   "metadata": {},
   "outputs": [
    {
     "data": {
      "text/html": [
       "<div>\n",
       "<style scoped>\n",
       "    .dataframe tbody tr th:only-of-type {\n",
       "        vertical-align: middle;\n",
       "    }\n",
       "\n",
       "    .dataframe tbody tr th {\n",
       "        vertical-align: top;\n",
       "    }\n",
       "\n",
       "    .dataframe thead th {\n",
       "        text-align: right;\n",
       "    }\n",
       "</style>\n",
       "<table border=\"1\" class=\"dataframe\">\n",
       "  <thead>\n",
       "    <tr style=\"text-align: right;\">\n",
       "      <th></th>\n",
       "      <th>x</th>\n",
       "      <th>y</th>\n",
       "      <th>z</th>\n",
       "    </tr>\n",
       "    <tr>\n",
       "      <th>id</th>\n",
       "      <th></th>\n",
       "      <th></th>\n",
       "      <th></th>\n",
       "    </tr>\n",
       "  </thead>\n",
       "  <tbody>\n",
       "    <tr>\n",
       "      <th>-5366168046210034197</th>\n",
       "      <td>8</td>\n",
       "      <td>E</td>\n",
       "      <td>(m, i, l, k)</td>\n",
       "    </tr>\n",
       "    <tr>\n",
       "      <th>2612157645512327506</th>\n",
       "      <td>4</td>\n",
       "      <td>B</td>\n",
       "      <td>(k, m, j, l)</td>\n",
       "    </tr>\n",
       "    <tr>\n",
       "      <th>9077002637884115198</th>\n",
       "      <td>1</td>\n",
       "      <td>C</td>\n",
       "      <td>(l, k, m, j)</td>\n",
       "    </tr>\n",
       "    <tr>\n",
       "      <th>-7406983480297035617</th>\n",
       "      <td>2</td>\n",
       "      <td>E</td>\n",
       "      <td>(j, i, m, l)</td>\n",
       "    </tr>\n",
       "    <tr>\n",
       "      <th>-5878808263387039893</th>\n",
       "      <td>5</td>\n",
       "      <td>E</td>\n",
       "      <td>(m, k, i, l)</td>\n",
       "    </tr>\n",
       "  </tbody>\n",
       "</table>\n",
       "</div>"
      ],
      "text/plain": [
       "                      x  y             z\n",
       "id                                      \n",
       "-5366168046210034197  8  E  (m, i, l, k)\n",
       " 2612157645512327506  4  B  (k, m, j, l)\n",
       " 9077002637884115198  1  C  (l, k, m, j)\n",
       "-7406983480297035617  2  E  (j, i, m, l)\n",
       "-5878808263387039893  5  E  (m, k, i, l)"
      ]
     },
     "execution_count": 16,
     "metadata": {},
     "output_type": "execute_result"
    }
   ],
   "source": [
    "poprand.datasets.input.head()"
   ]
  },
  {
   "cell_type": "code",
   "execution_count": 17,
   "metadata": {},
   "outputs": [
    {
     "data": {
      "text/plain": [
       "Population with 1012 Creatures with genes x (numeric), y (categorical), z (vectorial).\n",
       "        "
      ]
     },
     "execution_count": 17,
     "metadata": {},
     "output_type": "execute_result"
    }
   ],
   "source": [
    "pop = popdet + poprand\n",
    "pop"
   ]
  },
  {
   "cell_type": "code",
   "execution_count": 18,
   "metadata": {},
   "outputs": [
    {
     "data": {
      "text/plain": [
       "Population with 783 Creatures with genes x (numeric), y (categorical), z (vectorial).\n",
       "        "
      ]
     },
     "execution_count": 18,
     "metadata": {},
     "output_type": "execute_result"
    }
   ],
   "source": [
    "pop.drop_duplicates()\n",
    "pop"
   ]
  },
  {
   "cell_type": "code",
   "execution_count": 19,
   "metadata": {},
   "outputs": [
    {
     "data": {
      "text/html": [
       "<div>\n",
       "<style scoped>\n",
       "    .dataframe tbody tr th:only-of-type {\n",
       "        vertical-align: middle;\n",
       "    }\n",
       "\n",
       "    .dataframe tbody tr th {\n",
       "        vertical-align: top;\n",
       "    }\n",
       "\n",
       "    .dataframe thead th {\n",
       "        text-align: right;\n",
       "    }\n",
       "</style>\n",
       "<table border=\"1\" class=\"dataframe\">\n",
       "  <thead>\n",
       "    <tr style=\"text-align: right;\">\n",
       "      <th></th>\n",
       "      <th>x</th>\n",
       "      <th>y</th>\n",
       "      <th>z</th>\n",
       "    </tr>\n",
       "    <tr>\n",
       "      <th>id</th>\n",
       "      <th></th>\n",
       "      <th></th>\n",
       "      <th></th>\n",
       "    </tr>\n",
       "  </thead>\n",
       "  <tbody>\n",
       "    <tr>\n",
       "      <th>-2311121770384920740</th>\n",
       "      <td>0</td>\n",
       "      <td>A</td>\n",
       "      <td>(i, j, k, l)</td>\n",
       "    </tr>\n",
       "    <tr>\n",
       "      <th>8121178475967757911</th>\n",
       "      <td>0</td>\n",
       "      <td>A</td>\n",
       "      <td>(i, l, k, m)</td>\n",
       "    </tr>\n",
       "    <tr>\n",
       "      <th>-424982330329757554</th>\n",
       "      <td>0</td>\n",
       "      <td>A</td>\n",
       "      <td>(j, k, i, l)</td>\n",
       "    </tr>\n",
       "    <tr>\n",
       "      <th>5302173382874556174</th>\n",
       "      <td>0</td>\n",
       "      <td>A</td>\n",
       "      <td>(j, m, k, l)</td>\n",
       "    </tr>\n",
       "    <tr>\n",
       "      <th>-9212557593147139075</th>\n",
       "      <td>0</td>\n",
       "      <td>A</td>\n",
       "      <td>(k, l, i, j)</td>\n",
       "    </tr>\n",
       "  </tbody>\n",
       "</table>\n",
       "</div>"
      ],
      "text/plain": [
       "                      x  y             z\n",
       "id                                      \n",
       "-2311121770384920740  0  A  (i, j, k, l)\n",
       " 8121178475967757911  0  A  (i, l, k, m)\n",
       "-424982330329757554   0  A  (j, k, i, l)\n",
       " 5302173382874556174  0  A  (j, m, k, l)\n",
       "-9212557593147139075  0  A  (k, l, i, j)"
      ]
     },
     "execution_count": 19,
     "metadata": {},
     "output_type": "execute_result"
    }
   ],
   "source": [
    "pop.datasets.input.head()"
   ]
  },
  {
   "cell_type": "markdown",
   "metadata": {},
   "source": [
    "# Environment"
   ]
  },
  {
   "cell_type": "code",
   "execution_count": 20,
   "metadata": {},
   "outputs": [],
   "source": [
    "from lamarck import Environment"
   ]
  },
  {
   "cell_type": "code",
   "execution_count": 21,
   "metadata": {},
   "outputs": [],
   "source": [
    "import hashlib\n",
    "\n",
    "def tuplehash(tuple_obj):\n",
    "    encoded = ''.join(tuple_obj).encode()\n",
    "    m = hashlib.md5()\n",
    "    m.update(encoded)\n",
    "    d = m.digest()\n",
    "    return int.from_bytes(d, 'big')\n",
    "    \n",
    "    \n",
    "def dummy_process(x, y, z):\n",
    "    zval = (tuplehash(z) % 1000) / (x+1)**0.75\n",
    "    yval = zval // ord(y) + tuplehash((y, y)) % 73\n",
    "    return {\n",
    "        'time': (x + 1) * abs(zval - yval) // 10,\n",
    "        'profit': (abs(3*zval - 2*yval)**((int(x/10) + 1) % 9) // (tuplehash((y, y)) % 7 + 1)) % 10000 + (zval*yval) //10\n",
    "    }"
   ]
  },
  {
   "cell_type": "code",
   "execution_count": 22,
   "metadata": {},
   "outputs": [],
   "source": [
    "env = Environment()"
   ]
  },
  {
   "cell_type": "code",
   "execution_count": 23,
   "metadata": {},
   "outputs": [],
   "source": [
    "env.config.set_process(dummy_process)"
   ]
  },
  {
   "cell_type": "code",
   "execution_count": 24,
   "metadata": {},
   "outputs": [],
   "source": [
    "env.config.set_output_varibles('time', 'profit')"
   ]
  },
  {
   "cell_type": "code",
   "execution_count": 25,
   "metadata": {},
   "outputs": [
    {
     "data": {
      "text/plain": [
       "multi:   False\n",
       "output_varibles:   ('time', 'profit')\n",
       "process:   <function dummy_process at 0x7f47cefb1a60>"
      ]
     },
     "execution_count": 25,
     "metadata": {},
     "output_type": "execute_result"
    }
   ],
   "source": [
    "env.config"
   ]
  },
  {
   "cell_type": "code",
   "execution_count": 26,
   "metadata": {},
   "outputs": [
    {
     "data": {
      "text/plain": [
       "Creature <-8733467105369308285> - genome: {'x': 0, 'y': 'B', 'z': ('j', 'k', 'i', 'l')}"
      ]
     },
     "execution_count": 26,
     "metadata": {},
     "output_type": "execute_result"
    }
   ],
   "source": [
    "cr = pop[10]\n",
    "cr"
   ]
  },
  {
   "cell_type": "markdown",
   "metadata": {},
   "source": [
    "### Simulate Creature"
   ]
  },
  {
   "cell_type": "code",
   "execution_count": 27,
   "metadata": {},
   "outputs": [
    {
     "data": {
      "text/plain": [
       "{'time': 54.0, 'profit': 3384.0}"
      ]
     },
     "execution_count": 27,
     "metadata": {},
     "output_type": "execute_result"
    }
   ],
   "source": [
    "env.simulate(cr)"
   ]
  },
  {
   "cell_type": "markdown",
   "metadata": {},
   "source": [
    "### Simulate Population"
   ]
  },
  {
   "cell_type": "code",
   "execution_count": 28,
   "metadata": {},
   "outputs": [],
   "source": [
    "simpop = pop.copy()"
   ]
  },
  {
   "cell_type": "code",
   "execution_count": 29,
   "metadata": {},
   "outputs": [],
   "source": [
    "env.simulate(simpop)"
   ]
  },
  {
   "cell_type": "code",
   "execution_count": 35,
   "metadata": {},
   "outputs": [
    {
     "data": {
      "text/html": [
       "<div>\n",
       "<style scoped>\n",
       "    .dataframe tbody tr th:only-of-type {\n",
       "        vertical-align: middle;\n",
       "    }\n",
       "\n",
       "    .dataframe tbody tr th {\n",
       "        vertical-align: top;\n",
       "    }\n",
       "\n",
       "    .dataframe thead th {\n",
       "        text-align: right;\n",
       "    }\n",
       "</style>\n",
       "<table border=\"1\" class=\"dataframe\">\n",
       "  <thead>\n",
       "    <tr style=\"text-align: right;\">\n",
       "      <th></th>\n",
       "      <th>x</th>\n",
       "      <th>y</th>\n",
       "      <th>z</th>\n",
       "      <th>time</th>\n",
       "      <th>profit</th>\n",
       "    </tr>\n",
       "    <tr>\n",
       "      <th>id</th>\n",
       "      <th></th>\n",
       "      <th></th>\n",
       "      <th></th>\n",
       "      <th></th>\n",
       "      <th></th>\n",
       "    </tr>\n",
       "  </thead>\n",
       "  <tbody>\n",
       "    <tr>\n",
       "      <th>-2311121770384920740</th>\n",
       "      <td>0</td>\n",
       "      <td>A</td>\n",
       "      <td>(i, j, k, l)</td>\n",
       "      <td>95.0</td>\n",
       "      <td>2154.0</td>\n",
       "    </tr>\n",
       "    <tr>\n",
       "      <th>8121178475967757911</th>\n",
       "      <td>0</td>\n",
       "      <td>A</td>\n",
       "      <td>(i, l, k, m)</td>\n",
       "      <td>62.0</td>\n",
       "      <td>1105.0</td>\n",
       "    </tr>\n",
       "    <tr>\n",
       "      <th>-424982330329757554</th>\n",
       "      <td>0</td>\n",
       "      <td>A</td>\n",
       "      <td>(j, k, i, l)</td>\n",
       "      <td>56.0</td>\n",
       "      <td>930.0</td>\n",
       "    </tr>\n",
       "    <tr>\n",
       "      <th>5302173382874556174</th>\n",
       "      <td>0</td>\n",
       "      <td>A</td>\n",
       "      <td>(j, m, k, l)</td>\n",
       "      <td>27.0</td>\n",
       "      <td>338.0</td>\n",
       "    </tr>\n",
       "    <tr>\n",
       "      <th>-9212557593147139075</th>\n",
       "      <td>0</td>\n",
       "      <td>A</td>\n",
       "      <td>(k, l, i, j)</td>\n",
       "      <td>45.0</td>\n",
       "      <td>715.0</td>\n",
       "    </tr>\n",
       "  </tbody>\n",
       "</table>\n",
       "</div>"
      ],
      "text/plain": [
       "                      x  y             z  time  profit\n",
       "id                                                    \n",
       "-2311121770384920740  0  A  (i, j, k, l)  95.0  2154.0\n",
       " 8121178475967757911  0  A  (i, l, k, m)  62.0  1105.0\n",
       "-424982330329757554   0  A  (j, k, i, l)  56.0   930.0\n",
       " 5302173382874556174  0  A  (j, m, k, l)  27.0   338.0\n",
       "-9212557593147139075  0  A  (k, l, i, j)  45.0   715.0"
      ]
     },
     "execution_count": 35,
     "metadata": {},
     "output_type": "execute_result"
    }
   ],
   "source": [
    "simpop.datasets.output.head()"
   ]
  },
  {
   "cell_type": "markdown",
   "metadata": {},
   "source": [
    "### Simulate Population - Multi Thread"
   ]
  },
  {
   "cell_type": "code",
   "execution_count": 36,
   "metadata": {},
   "outputs": [],
   "source": [
    "env.config.set_multi(True)"
   ]
  },
  {
   "cell_type": "code",
   "execution_count": 37,
   "metadata": {},
   "outputs": [],
   "source": [
    "env.simulate(simpop)"
   ]
  },
  {
   "cell_type": "code",
   "execution_count": 38,
   "metadata": {},
   "outputs": [
    {
     "data": {
      "text/html": [
       "<div>\n",
       "<style scoped>\n",
       "    .dataframe tbody tr th:only-of-type {\n",
       "        vertical-align: middle;\n",
       "    }\n",
       "\n",
       "    .dataframe tbody tr th {\n",
       "        vertical-align: top;\n",
       "    }\n",
       "\n",
       "    .dataframe thead th {\n",
       "        text-align: right;\n",
       "    }\n",
       "</style>\n",
       "<table border=\"1\" class=\"dataframe\">\n",
       "  <thead>\n",
       "    <tr style=\"text-align: right;\">\n",
       "      <th></th>\n",
       "      <th>x</th>\n",
       "      <th>y</th>\n",
       "      <th>z</th>\n",
       "      <th>time</th>\n",
       "      <th>profit</th>\n",
       "    </tr>\n",
       "    <tr>\n",
       "      <th>id</th>\n",
       "      <th></th>\n",
       "      <th></th>\n",
       "      <th></th>\n",
       "      <th></th>\n",
       "      <th></th>\n",
       "    </tr>\n",
       "  </thead>\n",
       "  <tbody>\n",
       "    <tr>\n",
       "      <th>-2311121770384920740</th>\n",
       "      <td>0</td>\n",
       "      <td>A</td>\n",
       "      <td>(i, j, k, l)</td>\n",
       "      <td>95.0</td>\n",
       "      <td>2154.0</td>\n",
       "    </tr>\n",
       "    <tr>\n",
       "      <th>8121178475967757911</th>\n",
       "      <td>0</td>\n",
       "      <td>A</td>\n",
       "      <td>(i, l, k, m)</td>\n",
       "      <td>62.0</td>\n",
       "      <td>1105.0</td>\n",
       "    </tr>\n",
       "    <tr>\n",
       "      <th>-424982330329757554</th>\n",
       "      <td>0</td>\n",
       "      <td>A</td>\n",
       "      <td>(j, k, i, l)</td>\n",
       "      <td>56.0</td>\n",
       "      <td>930.0</td>\n",
       "    </tr>\n",
       "    <tr>\n",
       "      <th>5302173382874556174</th>\n",
       "      <td>0</td>\n",
       "      <td>A</td>\n",
       "      <td>(j, m, k, l)</td>\n",
       "      <td>27.0</td>\n",
       "      <td>338.0</td>\n",
       "    </tr>\n",
       "    <tr>\n",
       "      <th>-9212557593147139075</th>\n",
       "      <td>0</td>\n",
       "      <td>A</td>\n",
       "      <td>(k, l, i, j)</td>\n",
       "      <td>45.0</td>\n",
       "      <td>715.0</td>\n",
       "    </tr>\n",
       "  </tbody>\n",
       "</table>\n",
       "</div>"
      ],
      "text/plain": [
       "                      x  y             z  time  profit\n",
       "id                                                    \n",
       "-2311121770384920740  0  A  (i, j, k, l)  95.0  2154.0\n",
       " 8121178475967757911  0  A  (i, l, k, m)  62.0  1105.0\n",
       "-424982330329757554   0  A  (j, k, i, l)  56.0   930.0\n",
       " 5302173382874556174  0  A  (j, m, k, l)  27.0   338.0\n",
       "-9212557593147139075  0  A  (k, l, i, j)  45.0   715.0"
      ]
     },
     "execution_count": 38,
     "metadata": {},
     "output_type": "execute_result"
    }
   ],
   "source": [
    "simpop.datasets.output.head()"
   ]
  },
  {
   "cell_type": "markdown",
   "metadata": {},
   "source": [
    "# Fitness"
   ]
  },
  {
   "cell_type": "markdown",
   "metadata": {},
   "source": [
    "### 1. Single Objective"
   ]
  },
  {
   "cell_type": "code",
   "execution_count": 40,
   "metadata": {},
   "outputs": [],
   "source": [
    "single_objective_pop = simpop.copy()\n",
    "single_objective_pop.apply_fitness.single_objective(output='time', objective='min')"
   ]
  },
  {
   "cell_type": "code",
   "execution_count": 41,
   "metadata": {},
   "outputs": [
    {
     "data": {
      "text/html": [
       "<div>\n",
       "<style scoped>\n",
       "    .dataframe tbody tr th:only-of-type {\n",
       "        vertical-align: middle;\n",
       "    }\n",
       "\n",
       "    .dataframe tbody tr th {\n",
       "        vertical-align: top;\n",
       "    }\n",
       "\n",
       "    .dataframe thead th {\n",
       "        text-align: right;\n",
       "    }\n",
       "</style>\n",
       "<table border=\"1\" class=\"dataframe\">\n",
       "  <thead>\n",
       "    <tr style=\"text-align: right;\">\n",
       "      <th></th>\n",
       "      <th>x</th>\n",
       "      <th>y</th>\n",
       "      <th>z</th>\n",
       "      <th>time</th>\n",
       "      <th>profit</th>\n",
       "      <th>criteria</th>\n",
       "    </tr>\n",
       "    <tr>\n",
       "      <th>id</th>\n",
       "      <th></th>\n",
       "      <th></th>\n",
       "      <th></th>\n",
       "      <th></th>\n",
       "      <th></th>\n",
       "      <th></th>\n",
       "    </tr>\n",
       "  </thead>\n",
       "  <tbody>\n",
       "    <tr>\n",
       "      <th>-7418012264280342711</th>\n",
       "      <td>5</td>\n",
       "      <td>C</td>\n",
       "      <td>(m, i, l, j)</td>\n",
       "      <td>0.0</td>\n",
       "      <td>26.0</td>\n",
       "      <td>0.0</td>\n",
       "    </tr>\n",
       "    <tr>\n",
       "      <th>9077002637884115198</th>\n",
       "      <td>1</td>\n",
       "      <td>C</td>\n",
       "      <td>(l, k, m, j)</td>\n",
       "      <td>0.0</td>\n",
       "      <td>27.0</td>\n",
       "      <td>0.0</td>\n",
       "    </tr>\n",
       "    <tr>\n",
       "      <th>8783385848233624038</th>\n",
       "      <td>9</td>\n",
       "      <td>B</td>\n",
       "      <td>(j, i, m, l)</td>\n",
       "      <td>0.0</td>\n",
       "      <td>65.0</td>\n",
       "      <td>0.0</td>\n",
       "    </tr>\n",
       "    <tr>\n",
       "      <th>5688944865713323924</th>\n",
       "      <td>2</td>\n",
       "      <td>E</td>\n",
       "      <td>(m, i, j, k)</td>\n",
       "      <td>0.0</td>\n",
       "      <td>227.0</td>\n",
       "      <td>0.0</td>\n",
       "    </tr>\n",
       "    <tr>\n",
       "      <th>-6553138373434287334</th>\n",
       "      <td>0</td>\n",
       "      <td>B</td>\n",
       "      <td>(l, k, m, j)</td>\n",
       "      <td>0.0</td>\n",
       "      <td>91.0</td>\n",
       "      <td>0.0</td>\n",
       "    </tr>\n",
       "  </tbody>\n",
       "</table>\n",
       "</div>"
      ],
      "text/plain": [
       "                      x  y             z time profit criteria\n",
       "id                                                           \n",
       "-7418012264280342711  5  C  (m, i, l, j)  0.0   26.0      0.0\n",
       " 9077002637884115198  1  C  (l, k, m, j)  0.0   27.0      0.0\n",
       " 8783385848233624038  9  B  (j, i, m, l)  0.0   65.0      0.0\n",
       " 5688944865713323924  2  E  (m, i, j, k)  0.0  227.0      0.0\n",
       "-6553138373434287334  0  B  (l, k, m, j)  0.0   91.0      0.0"
      ]
     },
     "execution_count": 41,
     "metadata": {},
     "output_type": "execute_result"
    }
   ],
   "source": [
    "single_objective_pop.datasets.fitness.head()"
   ]
  },
  {
   "cell_type": "markdown",
   "metadata": {},
   "source": [
    "### 2. Multi Objective - Ranked"
   ]
  },
  {
   "cell_type": "code",
   "execution_count": 42,
   "metadata": {},
   "outputs": [],
   "source": [
    "ranked_objective_pop = simpop.copy()\n",
    "ranked_objective_pop.apply_fitness.multi_objective.ranked(priorities=['time', 'profit'], objectives=['min', 'max'])"
   ]
  },
  {
   "cell_type": "code",
   "execution_count": 43,
   "metadata": {},
   "outputs": [
    {
     "data": {
      "text/html": [
       "<div>\n",
       "<style scoped>\n",
       "    .dataframe tbody tr th:only-of-type {\n",
       "        vertical-align: middle;\n",
       "    }\n",
       "\n",
       "    .dataframe tbody tr th {\n",
       "        vertical-align: top;\n",
       "    }\n",
       "\n",
       "    .dataframe thead th {\n",
       "        text-align: right;\n",
       "    }\n",
       "</style>\n",
       "<table border=\"1\" class=\"dataframe\">\n",
       "  <thead>\n",
       "    <tr style=\"text-align: right;\">\n",
       "      <th></th>\n",
       "      <th>x</th>\n",
       "      <th>y</th>\n",
       "      <th>z</th>\n",
       "      <th>time</th>\n",
       "      <th>profit</th>\n",
       "      <th>criteria0</th>\n",
       "      <th>criteria1</th>\n",
       "    </tr>\n",
       "    <tr>\n",
       "      <th>id</th>\n",
       "      <th></th>\n",
       "      <th></th>\n",
       "      <th></th>\n",
       "      <th></th>\n",
       "      <th></th>\n",
       "      <th></th>\n",
       "      <th></th>\n",
       "    </tr>\n",
       "  </thead>\n",
       "  <tbody>\n",
       "    <tr>\n",
       "      <th>5688944865713323924</th>\n",
       "      <td>2</td>\n",
       "      <td>E</td>\n",
       "      <td>(m, i, j, k)</td>\n",
       "      <td>0.0</td>\n",
       "      <td>227.0</td>\n",
       "      <td>0.0</td>\n",
       "      <td>227.0</td>\n",
       "    </tr>\n",
       "    <tr>\n",
       "      <th>5708894731771342730</th>\n",
       "      <td>2</td>\n",
       "      <td>E</td>\n",
       "      <td>(l, k, m, i)</td>\n",
       "      <td>0.0</td>\n",
       "      <td>218.0</td>\n",
       "      <td>0.0</td>\n",
       "      <td>218.0</td>\n",
       "    </tr>\n",
       "    <tr>\n",
       "      <th>-6553138373434287334</th>\n",
       "      <td>0</td>\n",
       "      <td>B</td>\n",
       "      <td>(l, k, m, j)</td>\n",
       "      <td>0.0</td>\n",
       "      <td>91.0</td>\n",
       "      <td>0.0</td>\n",
       "      <td>91.0</td>\n",
       "    </tr>\n",
       "    <tr>\n",
       "      <th>-4010107794088262724</th>\n",
       "      <td>9</td>\n",
       "      <td>B</td>\n",
       "      <td>(i, m, j, l)</td>\n",
       "      <td>0.0</td>\n",
       "      <td>70.0</td>\n",
       "      <td>0.0</td>\n",
       "      <td>70.0</td>\n",
       "    </tr>\n",
       "    <tr>\n",
       "      <th>8783385848233624038</th>\n",
       "      <td>9</td>\n",
       "      <td>B</td>\n",
       "      <td>(j, i, m, l)</td>\n",
       "      <td>0.0</td>\n",
       "      <td>65.0</td>\n",
       "      <td>0.0</td>\n",
       "      <td>65.0</td>\n",
       "    </tr>\n",
       "  </tbody>\n",
       "</table>\n",
       "</div>"
      ],
      "text/plain": [
       "                      x  y             z time profit criteria0 criteria1\n",
       "id                                                                      \n",
       " 5688944865713323924  2  E  (m, i, j, k)  0.0  227.0       0.0     227.0\n",
       " 5708894731771342730  2  E  (l, k, m, i)  0.0  218.0       0.0     218.0\n",
       "-6553138373434287334  0  B  (l, k, m, j)  0.0   91.0       0.0      91.0\n",
       "-4010107794088262724  9  B  (i, m, j, l)  0.0   70.0       0.0      70.0\n",
       " 8783385848233624038  9  B  (j, i, m, l)  0.0   65.0       0.0      65.0"
      ]
     },
     "execution_count": 43,
     "metadata": {},
     "output_type": "execute_result"
    }
   ],
   "source": [
    "ranked_objective_pop.datasets.fitness.head()"
   ]
  },
  {
   "cell_type": "markdown",
   "metadata": {},
   "source": [
    "### 3. Multi Objective - Pareto"
   ]
  },
  {
   "cell_type": "code",
   "execution_count": 44,
   "metadata": {},
   "outputs": [],
   "source": [
    "pareto_objective_pop = simpop.copy()\n",
    "pareto_objective_pop.apply_fitness.multi_objective.pareto(outputs=['time', 'profit'], objectives=['min', 'max'])"
   ]
  },
  {
   "cell_type": "code",
   "execution_count": 45,
   "metadata": {},
   "outputs": [
    {
     "data": {
      "text/html": [
       "<div>\n",
       "<style scoped>\n",
       "    .dataframe tbody tr th:only-of-type {\n",
       "        vertical-align: middle;\n",
       "    }\n",
       "\n",
       "    .dataframe tbody tr th {\n",
       "        vertical-align: top;\n",
       "    }\n",
       "\n",
       "    .dataframe thead th {\n",
       "        text-align: right;\n",
       "    }\n",
       "</style>\n",
       "<table border=\"1\" class=\"dataframe\">\n",
       "  <thead>\n",
       "    <tr style=\"text-align: right;\">\n",
       "      <th></th>\n",
       "      <th>x</th>\n",
       "      <th>y</th>\n",
       "      <th>z</th>\n",
       "      <th>time</th>\n",
       "      <th>profit</th>\n",
       "      <th>criteria0</th>\n",
       "      <th>criteria1</th>\n",
       "      <th>front</th>\n",
       "      <th>crowd</th>\n",
       "    </tr>\n",
       "    <tr>\n",
       "      <th>id</th>\n",
       "      <th></th>\n",
       "      <th></th>\n",
       "      <th></th>\n",
       "      <th></th>\n",
       "      <th></th>\n",
       "      <th></th>\n",
       "      <th></th>\n",
       "      <th></th>\n",
       "      <th></th>\n",
       "    </tr>\n",
       "  </thead>\n",
       "  <tbody>\n",
       "    <tr>\n",
       "      <th>2941931596413198285</th>\n",
       "      <td>10</td>\n",
       "      <td>E</td>\n",
       "      <td>(i, l, k, m)</td>\n",
       "      <td>64.0</td>\n",
       "      <td>10444.0</td>\n",
       "      <td>-0.034458</td>\n",
       "      <td>6.752109</td>\n",
       "      <td>1</td>\n",
       "      <td>inf</td>\n",
       "    </tr>\n",
       "    <tr>\n",
       "      <th>-4212862584898279532</th>\n",
       "      <td>0</td>\n",
       "      <td>A</td>\n",
       "      <td>(j, l, i, m)</td>\n",
       "      <td>0.0</td>\n",
       "      <td>9.0</td>\n",
       "      <td>-1.510947</td>\n",
       "      <td>-0.676142</td>\n",
       "      <td>1</td>\n",
       "      <td>inf</td>\n",
       "    </tr>\n",
       "    <tr>\n",
       "      <th>-2206211520026585127</th>\n",
       "      <td>10</td>\n",
       "      <td>B</td>\n",
       "      <td>(l, m, i, j)</td>\n",
       "      <td>13.0</td>\n",
       "      <td>3417.0</td>\n",
       "      <td>-1.211036</td>\n",
       "      <td>1.749874</td>\n",
       "      <td>1</td>\n",
       "      <td>4.734635</td>\n",
       "    </tr>\n",
       "    <tr>\n",
       "      <th>-8198866316848277721</th>\n",
       "      <td>10</td>\n",
       "      <td>B</td>\n",
       "      <td>(l, i, k, m)</td>\n",
       "      <td>22.0</td>\n",
       "      <td>7089.0</td>\n",
       "      <td>-1.003404</td>\n",
       "      <td>4.363821</td>\n",
       "      <td>1</td>\n",
       "      <td>4.239341</td>\n",
       "    </tr>\n",
       "    <tr>\n",
       "      <th>-9159174176909665451</th>\n",
       "      <td>10</td>\n",
       "      <td>B</td>\n",
       "      <td>(j, m, k, l)</td>\n",
       "      <td>26.0</td>\n",
       "      <td>8951.0</td>\n",
       "      <td>-0.911124</td>\n",
       "      <td>5.689303</td>\n",
       "      <td>1</td>\n",
       "      <td>3.357234</td>\n",
       "    </tr>\n",
       "  </tbody>\n",
       "</table>\n",
       "</div>"
      ],
      "text/plain": [
       "                       x  y             z  time   profit criteria0 criteria1  \\\n",
       "id                                                                             \n",
       " 2941931596413198285  10  E  (i, l, k, m)  64.0  10444.0 -0.034458  6.752109   \n",
       "-4212862584898279532   0  A  (j, l, i, m)   0.0      9.0 -1.510947 -0.676142   \n",
       "-2206211520026585127  10  B  (l, m, i, j)  13.0   3417.0 -1.211036  1.749874   \n",
       "-8198866316848277721  10  B  (l, i, k, m)  22.0   7089.0 -1.003404  4.363821   \n",
       "-9159174176909665451  10  B  (j, m, k, l)  26.0   8951.0 -0.911124  5.689303   \n",
       "\n",
       "                      front     crowd  \n",
       "id                                     \n",
       " 2941931596413198285      1       inf  \n",
       "-4212862584898279532      1       inf  \n",
       "-2206211520026585127      1  4.734635  \n",
       "-8198866316848277721      1  4.239341  \n",
       "-9159174176909665451      1  3.357234  "
      ]
     },
     "execution_count": 45,
     "metadata": {},
     "output_type": "execute_result"
    }
   ],
   "source": [
    "pareto_objective_pop.datasets.fitness.head()"
   ]
  },
  {
   "cell_type": "code",
   "execution_count": 47,
   "metadata": {},
   "outputs": [
    {
     "data": {
      "image/png": "[encoded data removed]",
      "text/plain": [
       "<Figure size 432x288 with 2 Axes>"
      ]
     },
     "metadata": {
      "needs_background": "light"
     },
     "output_type": "display_data"
    }
   ],
   "source": [
    "ax = pareto_objective_pop.plot.fronts('time', 'profit', 1)"
   ]
  },
  {
   "cell_type": "markdown",
   "metadata": {},
   "source": [
    "# Selection"
   ]
  },
  {
   "cell_type": "code",
   "execution_count": 48,
   "metadata": {},
   "outputs": [],
   "source": [
    "selected_pop = pareto_objective_pop.select()"
   ]
  },
  {
   "cell_type": "code",
   "execution_count": 49,
   "metadata": {},
   "outputs": [
    {
     "data": {
      "text/html": [
       "<div>\n",
       "<style scoped>\n",
       "    .dataframe tbody tr th:only-of-type {\n",
       "        vertical-align: middle;\n",
       "    }\n",
       "\n",
       "    .dataframe tbody tr th {\n",
       "        vertical-align: top;\n",
       "    }\n",
       "\n",
       "    .dataframe thead th {\n",
       "        text-align: right;\n",
       "    }\n",
       "</style>\n",
       "<table border=\"1\" class=\"dataframe\">\n",
       "  <thead>\n",
       "    <tr style=\"text-align: right;\">\n",
       "      <th></th>\n",
       "      <th>x</th>\n",
       "      <th>y</th>\n",
       "      <th>z</th>\n",
       "      <th>time</th>\n",
       "      <th>profit</th>\n",
       "      <th>criteria0</th>\n",
       "      <th>criteria1</th>\n",
       "      <th>front</th>\n",
       "      <th>crowd</th>\n",
       "    </tr>\n",
       "    <tr>\n",
       "      <th>id</th>\n",
       "      <th></th>\n",
       "      <th></th>\n",
       "      <th></th>\n",
       "      <th></th>\n",
       "      <th></th>\n",
       "      <th></th>\n",
       "      <th></th>\n",
       "      <th></th>\n",
       "      <th></th>\n",
       "    </tr>\n",
       "  </thead>\n",
       "  <tbody>\n",
       "    <tr>\n",
       "      <th>2941931596413198285</th>\n",
       "      <td>10</td>\n",
       "      <td>E</td>\n",
       "      <td>(i, l, k, m)</td>\n",
       "      <td>64.0</td>\n",
       "      <td>10444.0</td>\n",
       "      <td>-0.034458</td>\n",
       "      <td>6.752109</td>\n",
       "      <td>1</td>\n",
       "      <td>inf</td>\n",
       "    </tr>\n",
       "    <tr>\n",
       "      <th>-4212862584898279532</th>\n",
       "      <td>0</td>\n",
       "      <td>A</td>\n",
       "      <td>(j, l, i, m)</td>\n",
       "      <td>0.0</td>\n",
       "      <td>9.0</td>\n",
       "      <td>-1.510947</td>\n",
       "      <td>-0.676142</td>\n",
       "      <td>1</td>\n",
       "      <td>inf</td>\n",
       "    </tr>\n",
       "    <tr>\n",
       "      <th>-2206211520026585127</th>\n",
       "      <td>10</td>\n",
       "      <td>B</td>\n",
       "      <td>(l, m, i, j)</td>\n",
       "      <td>13.0</td>\n",
       "      <td>3417.0</td>\n",
       "      <td>-1.211036</td>\n",
       "      <td>1.749874</td>\n",
       "      <td>1</td>\n",
       "      <td>4.734635</td>\n",
       "    </tr>\n",
       "    <tr>\n",
       "      <th>-8198866316848277721</th>\n",
       "      <td>10</td>\n",
       "      <td>B</td>\n",
       "      <td>(l, i, k, m)</td>\n",
       "      <td>22.0</td>\n",
       "      <td>7089.0</td>\n",
       "      <td>-1.003404</td>\n",
       "      <td>4.363821</td>\n",
       "      <td>1</td>\n",
       "      <td>4.239341</td>\n",
       "    </tr>\n",
       "    <tr>\n",
       "      <th>-9159174176909665451</th>\n",
       "      <td>10</td>\n",
       "      <td>B</td>\n",
       "      <td>(j, m, k, l)</td>\n",
       "      <td>26.0</td>\n",
       "      <td>8951.0</td>\n",
       "      <td>-0.911124</td>\n",
       "      <td>5.689303</td>\n",
       "      <td>1</td>\n",
       "      <td>3.357234</td>\n",
       "    </tr>\n",
       "    <tr>\n",
       "      <th>...</th>\n",
       "      <td>...</td>\n",
       "      <td>...</td>\n",
       "      <td>...</td>\n",
       "      <td>...</td>\n",
       "      <td>...</td>\n",
       "      <td>...</td>\n",
       "      <td>...</td>\n",
       "      <td>...</td>\n",
       "      <td>...</td>\n",
       "    </tr>\n",
       "    <tr>\n",
       "      <th>-2529234069696293676</th>\n",
       "      <td>9</td>\n",
       "      <td>D</td>\n",
       "      <td>(l, m, i, j)</td>\n",
       "      <td>19.0</td>\n",
       "      <td>73.0</td>\n",
       "      <td>-1.072615</td>\n",
       "      <td>-0.630583</td>\n",
       "      <td>12</td>\n",
       "      <td>0.061511</td>\n",
       "    </tr>\n",
       "    <tr>\n",
       "      <th>-6991487901554725359</th>\n",
       "      <td>4</td>\n",
       "      <td>E</td>\n",
       "      <td>(i, l, k, m)</td>\n",
       "      <td>71.0</td>\n",
       "      <td>1035.0</td>\n",
       "      <td>0.127033</td>\n",
       "      <td>0.054226</td>\n",
       "      <td>12</td>\n",
       "      <td>0.061511</td>\n",
       "    </tr>\n",
       "    <tr>\n",
       "      <th>1611663322079526276</th>\n",
       "      <td>1</td>\n",
       "      <td>D</td>\n",
       "      <td>(i, l, k, m)</td>\n",
       "      <td>71.0</td>\n",
       "      <td>1022.0</td>\n",
       "      <td>0.127033</td>\n",
       "      <td>0.044972</td>\n",
       "      <td>12</td>\n",
       "      <td>0.050833</td>\n",
       "    </tr>\n",
       "    <tr>\n",
       "      <th>-7735860122647985365</th>\n",
       "      <td>7</td>\n",
       "      <td>D</td>\n",
       "      <td>(i, l, m, k)</td>\n",
       "      <td>19.0</td>\n",
       "      <td>86.0</td>\n",
       "      <td>-1.072615</td>\n",
       "      <td>-0.621329</td>\n",
       "      <td>12</td>\n",
       "      <td>0.033748</td>\n",
       "    </tr>\n",
       "    <tr>\n",
       "      <th>4045161677898052205</th>\n",
       "      <td>1</td>\n",
       "      <td>A</td>\n",
       "      <td>(l, i, k, m)</td>\n",
       "      <td>29.0</td>\n",
       "      <td>154.0</td>\n",
       "      <td>-0.841913</td>\n",
       "      <td>-0.572922</td>\n",
       "      <td>12</td>\n",
       "      <td>0.032034</td>\n",
       "    </tr>\n",
       "  </tbody>\n",
       "</table>\n",
       "<p>392 rows × 9 columns</p>\n",
       "</div>"
      ],
      "text/plain": [
       "                       x  y             z  time   profit criteria0 criteria1  \\\n",
       "id                                                                             \n",
       " 2941931596413198285  10  E  (i, l, k, m)  64.0  10444.0 -0.034458  6.752109   \n",
       "-4212862584898279532   0  A  (j, l, i, m)   0.0      9.0 -1.510947 -0.676142   \n",
       "-2206211520026585127  10  B  (l, m, i, j)  13.0   3417.0 -1.211036  1.749874   \n",
       "-8198866316848277721  10  B  (l, i, k, m)  22.0   7089.0 -1.003404  4.363821   \n",
       "-9159174176909665451  10  B  (j, m, k, l)  26.0   8951.0 -0.911124  5.689303   \n",
       "...                   .. ..           ...   ...      ...       ...       ...   \n",
       "-2529234069696293676   9  D  (l, m, i, j)  19.0     73.0 -1.072615 -0.630583   \n",
       "-6991487901554725359   4  E  (i, l, k, m)  71.0   1035.0  0.127033  0.054226   \n",
       " 1611663322079526276   1  D  (i, l, k, m)  71.0   1022.0  0.127033  0.044972   \n",
       "-7735860122647985365   7  D  (i, l, m, k)  19.0     86.0 -1.072615 -0.621329   \n",
       " 4045161677898052205   1  A  (l, i, k, m)  29.0    154.0 -0.841913 -0.572922   \n",
       "\n",
       "                      front     crowd  \n",
       "id                                     \n",
       " 2941931596413198285      1       inf  \n",
       "-4212862584898279532      1       inf  \n",
       "-2206211520026585127      1  4.734635  \n",
       "-8198866316848277721      1  4.239341  \n",
       "-9159174176909665451      1  3.357234  \n",
       "...                     ...       ...  \n",
       "-2529234069696293676     12  0.061511  \n",
       "-6991487901554725359     12  0.061511  \n",
       " 1611663322079526276     12  0.050833  \n",
       "-7735860122647985365     12  0.033748  \n",
       " 4045161677898052205     12  0.032034  \n",
       "\n",
       "[392 rows x 9 columns]"
      ]
     },
     "execution_count": 49,
     "metadata": {},
     "output_type": "execute_result"
    }
   ],
   "source": [
    "selected_pop.datasets.fitness"
   ]
  },
  {
   "cell_type": "markdown",
   "metadata": {},
   "source": [
    "# Repopulate"
   ]
  },
  {
   "cell_type": "code",
   "execution_count": 120,
   "metadata": {},
   "outputs": [],
   "source": [
    "import numpy as np\n",
    "import pandas as pd"
   ]
  },
  {
   "cell_type": "code",
   "execution_count": 114,
   "metadata": {},
   "outputs": [
    {
     "data": {
      "text/plain": [
       "50"
      ]
     },
     "execution_count": 114,
     "metadata": {},
     "output_type": "execute_result"
    }
   ],
   "source": [
    "min(np.random.choice(100, 3, replace=False))"
   ]
  },
  {
   "cell_type": "code",
   "execution_count": 116,
   "metadata": {},
   "outputs": [],
   "source": [
    "a = pop.get_creature.from_index(0)"
   ]
  },
  {
   "cell_type": "code",
   "execution_count": 119,
   "metadata": {},
   "outputs": [
    {
     "data": {
      "text/html": [
       "<div>\n",
       "<style scoped>\n",
       "    .dataframe tbody tr th:only-of-type {\n",
       "        vertical-align: middle;\n",
       "    }\n",
       "\n",
       "    .dataframe tbody tr th {\n",
       "        vertical-align: top;\n",
       "    }\n",
       "\n",
       "    .dataframe thead th {\n",
       "        text-align: right;\n",
       "    }\n",
       "</style>\n",
       "<table border=\"1\" class=\"dataframe\">\n",
       "  <thead>\n",
       "    <tr style=\"text-align: right;\">\n",
       "      <th></th>\n",
       "      <th>x</th>\n",
       "      <th>y</th>\n",
       "      <th>z</th>\n",
       "    </tr>\n",
       "    <tr>\n",
       "      <th>id</th>\n",
       "      <th></th>\n",
       "      <th></th>\n",
       "      <th></th>\n",
       "    </tr>\n",
       "  </thead>\n",
       "  <tbody>\n",
       "    <tr>\n",
       "      <th>6861546195533386093</th>\n",
       "      <td>0</td>\n",
       "      <td>A</td>\n",
       "      <td>(i, j, k, l)</td>\n",
       "    </tr>\n",
       "    <tr>\n",
       "      <th>-4032542161395495972</th>\n",
       "      <td>0</td>\n",
       "      <td>A</td>\n",
       "      <td>(i, l, k, m)</td>\n",
       "    </tr>\n",
       "    <tr>\n",
       "      <th>80855953509368739</th>\n",
       "      <td>0</td>\n",
       "      <td>A</td>\n",
       "      <td>(j, k, i, l)</td>\n",
       "    </tr>\n",
       "    <tr>\n",
       "      <th>-5359771979190105310</th>\n",
       "      <td>0</td>\n",
       "      <td>A</td>\n",
       "      <td>(j, m, k, l)</td>\n",
       "    </tr>\n",
       "    <tr>\n",
       "      <th>-371711285419199414</th>\n",
       "      <td>0</td>\n",
       "      <td>A</td>\n",
       "      <td>(k, l, i, j)</td>\n",
       "    </tr>\n",
       "  </tbody>\n",
       "</table>\n",
       "</div>"
      ],
      "text/plain": [
       "                      x  y             z\n",
       "id                                      \n",
       " 6861546195533386093  0  A  (i, j, k, l)\n",
       "-4032542161395495972  0  A  (i, l, k, m)\n",
       " 80855953509368739    0  A  (j, k, i, l)\n",
       "-5359771979190105310  0  A  (j, m, k, l)\n",
       "-371711285419199414   0  A  (k, l, i, j)"
      ]
     },
     "execution_count": 119,
     "metadata": {},
     "output_type": "execute_result"
    }
   ],
   "source": [
    "pop.datasets.input.head()"
   ]
  },
  {
   "cell_type": "code",
   "execution_count": 118,
   "metadata": {},
   "outputs": [
    {
     "data": {
      "text/plain": [
       "{'x': 0, 'y': 'A', 'z': ('i', 'j', 'k', 'l')}"
      ]
     },
     "execution_count": 118,
     "metadata": {},
     "output_type": "execute_result"
    }
   ],
   "source": [
    "a.genome"
   ]
  },
  {
   "cell_type": "code",
   "execution_count": 125,
   "metadata": {},
   "outputs": [
    {
     "data": {
      "text/html": [
       "<div>\n",
       "<style scoped>\n",
       "    .dataframe tbody tr th:only-of-type {\n",
       "        vertical-align: middle;\n",
       "    }\n",
       "\n",
       "    .dataframe tbody tr th {\n",
       "        vertical-align: top;\n",
       "    }\n",
       "\n",
       "    .dataframe thead th {\n",
       "        text-align: right;\n",
       "    }\n",
       "</style>\n",
       "<table border=\"1\" class=\"dataframe\">\n",
       "  <thead>\n",
       "    <tr style=\"text-align: right;\">\n",
       "      <th></th>\n",
       "      <th>x</th>\n",
       "      <th>y</th>\n",
       "      <th>z</th>\n",
       "    </tr>\n",
       "  </thead>\n",
       "  <tbody>\n",
       "    <tr>\n",
       "      <th>6861546195533386093</th>\n",
       "      <td>0</td>\n",
       "      <td>A</td>\n",
       "      <td>(i, j, k, l)</td>\n",
       "    </tr>\n",
       "  </tbody>\n",
       "</table>\n",
       "</div>"
      ],
      "text/plain": [
       "                     x  y             z\n",
       "6861546195533386093  0  A  (i, j, k, l)"
      ]
     },
     "execution_count": 125,
     "metadata": {},
     "output_type": "execute_result"
    }
   ],
   "source": [
    "pd.DataFrame({k: [v] for k, v in a.genome.items()}, index=[a.id])"
   ]
  },
  {
   "cell_type": "markdown",
   "metadata": {},
   "source": [
    "## Mutation"
   ]
  },
  {
   "cell_type": "code",
   "execution_count": null,
   "metadata": {},
   "outputs": [],
   "source": []
  }
 ],
 "metadata": {
  "kernelspec": {
   "display_name": "Lamarck Env",
   "language": "python",
   "name": "lamarck"
  },
  "language_info": {
   "codemirror_mode": {
    "name": "ipython",
    "version": 3
   },
   "file_extension": ".py",
   "mimetype": "text/x-python",
   "name": "python",
   "nbconvert_exporter": "python",
   "pygments_lexer": "ipython3",
   "version": "3.9.1"
  }
 },
 "nbformat": 4,
 "nbformat_minor": 4
}
