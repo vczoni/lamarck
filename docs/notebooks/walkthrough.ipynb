{
 "cells": [
  {
   "cell_type": "code",
   "execution_count": 1,
   "metadata": {},
   "outputs": [],
   "source": [
    "import sys\n",
    "import numpy as np\n",
    "import pandas as pd\n",
    "sys.path.append('../..')"
   ]
  },
  {
   "cell_type": "markdown",
   "metadata": {},
   "source": [
    "# Creature"
   ]
  },
  {
   "cell_type": "code",
   "execution_count": 2,
   "metadata": {},
   "outputs": [],
   "source": [
    "from lamarck import Creature"
   ]
  },
  {
   "cell_type": "code",
   "execution_count": 3,
   "metadata": {},
   "outputs": [],
   "source": [
    "genome = {\n",
    "    'x': 10,\n",
    "    'y': 'A',\n",
    "    'z': (1, 2, 3)\n",
    "}"
   ]
  },
  {
   "cell_type": "code",
   "execution_count": 4,
   "metadata": {},
   "outputs": [],
   "source": [
    "creature = Creature(genome)"
   ]
  },
  {
   "cell_type": "code",
   "execution_count": 5,
   "metadata": {},
   "outputs": [
    {
     "data": {
      "text/plain": [
       "-2732894652789882171"
      ]
     },
     "execution_count": 5,
     "metadata": {},
     "output_type": "execute_result"
    }
   ],
   "source": [
    "creature.id"
   ]
  },
  {
   "cell_type": "markdown",
   "metadata": {},
   "source": [
    "# Genome Creator"
   ]
  },
  {
   "cell_type": "code",
   "execution_count": 6,
   "metadata": {},
   "outputs": [],
   "source": [
    "from lamarck.assistant import GenomeCreator"
   ]
  },
  {
   "cell_type": "code",
   "execution_count": 7,
   "metadata": {},
   "outputs": [],
   "source": [
    "genome_creator = GenomeCreator()"
   ]
  },
  {
   "cell_type": "code",
   "execution_count": 8,
   "metadata": {},
   "outputs": [],
   "source": [
    "genome_creator.add_gene_specs.numeric(name='x',\n",
    "                                      min=0,\n",
    "                                      max=10,\n",
    "                                      progression='linear',\n",
    "                                      domain='int')\n",
    "\n",
    "genome_creator.add_gene_specs.categorical(name='y', domain=['A', 'B', 'C', 'D', 'E'])\n",
    "\n",
    "genome_creator.add_gene_specs.vectorial(name='z', length=4, replace=False, domain=['i', 'j', 'k', 'l', 'm'])"
   ]
  },
  {
   "cell_type": "code",
   "execution_count": 9,
   "metadata": {},
   "outputs": [],
   "source": [
    "genome_blueprint = genome_creator.get_genome_blueprint()"
   ]
  },
  {
   "cell_type": "code",
   "execution_count": 10,
   "metadata": {},
   "outputs": [
    {
     "data": {
      "text/plain": [
       "{'x': {'type': 'numeric',\n",
       "  'domain': 'int',\n",
       "  'ranges': {'min': 0, 'max': 10, 'progression': 'linear'}},\n",
       " 'y': {'type': 'categorical', 'domain': ['A', 'B', 'C', 'D', 'E']},\n",
       " 'z': {'type': 'vectorial',\n",
       "  'domain': ['i', 'j', 'k', 'l', 'm'],\n",
       "  'ranges': {'length': 4, 'replace': False}}}"
      ]
     },
     "execution_count": 10,
     "metadata": {},
     "output_type": "execute_result"
    }
   ],
   "source": [
    "genome_blueprint"
   ]
  },
  {
   "cell_type": "markdown",
   "metadata": {},
   "source": [
    "# Population Creator"
   ]
  },
  {
   "cell_type": "code",
   "execution_count": 11,
   "metadata": {},
   "outputs": [],
   "source": [
    "from lamarck.assistant import PopulationCreator"
   ]
  },
  {
   "cell_type": "code",
   "execution_count": 12,
   "metadata": {},
   "outputs": [],
   "source": [
    "pop_creator = PopulationCreator(genome_blueprint)"
   ]
  },
  {
   "cell_type": "code",
   "execution_count": 13,
   "metadata": {},
   "outputs": [
    {
     "data": {
      "text/plain": [
       "Population with 320 Creatures with genes x (numeric), y (categorical), z (vectorial).\n",
       "        "
      ]
     },
     "execution_count": 13,
     "metadata": {},
     "output_type": "execute_result"
    }
   ],
   "source": [
    "popdet = pop_creator.create.det(8)\n",
    "popdet"
   ]
  },
  {
   "cell_type": "code",
   "execution_count": 14,
   "metadata": {},
   "outputs": [
    {
     "data": {
      "text/html": [
       "<div>\n",
       "<style scoped>\n",
       "    .dataframe tbody tr th:only-of-type {\n",
       "        vertical-align: middle;\n",
       "    }\n",
       "\n",
       "    .dataframe tbody tr th {\n",
       "        vertical-align: top;\n",
       "    }\n",
       "\n",
       "    .dataframe thead th {\n",
       "        text-align: right;\n",
       "    }\n",
       "</style>\n",
       "<table border=\"1\" class=\"dataframe\">\n",
       "  <thead>\n",
       "    <tr style=\"text-align: right;\">\n",
       "      <th></th>\n",
       "      <th>x</th>\n",
       "      <th>y</th>\n",
       "      <th>z</th>\n",
       "    </tr>\n",
       "    <tr>\n",
       "      <th>id</th>\n",
       "      <th></th>\n",
       "      <th></th>\n",
       "      <th></th>\n",
       "    </tr>\n",
       "  </thead>\n",
       "  <tbody>\n",
       "    <tr>\n",
       "      <th>3031482908558041379</th>\n",
       "      <td>0</td>\n",
       "      <td>A</td>\n",
       "      <td>(i, j, k, l)</td>\n",
       "    </tr>\n",
       "    <tr>\n",
       "      <th>6251823401527655697</th>\n",
       "      <td>0</td>\n",
       "      <td>A</td>\n",
       "      <td>(i, l, k, m)</td>\n",
       "    </tr>\n",
       "    <tr>\n",
       "      <th>3840016745127989809</th>\n",
       "      <td>0</td>\n",
       "      <td>A</td>\n",
       "      <td>(j, k, i, l)</td>\n",
       "    </tr>\n",
       "    <tr>\n",
       "      <th>4223112620767646059</th>\n",
       "      <td>0</td>\n",
       "      <td>A</td>\n",
       "      <td>(j, m, k, l)</td>\n",
       "    </tr>\n",
       "    <tr>\n",
       "      <th>2397758302742530432</th>\n",
       "      <td>0</td>\n",
       "      <td>A</td>\n",
       "      <td>(k, l, i, j)</td>\n",
       "    </tr>\n",
       "  </tbody>\n",
       "</table>\n",
       "</div>"
      ],
      "text/plain": [
       "                     x  y             z\n",
       "id                                     \n",
       "3031482908558041379  0  A  (i, j, k, l)\n",
       "6251823401527655697  0  A  (i, l, k, m)\n",
       "3840016745127989809  0  A  (j, k, i, l)\n",
       "4223112620767646059  0  A  (j, m, k, l)\n",
       "2397758302742530432  0  A  (k, l, i, j)"
      ]
     },
     "execution_count": 14,
     "metadata": {},
     "output_type": "execute_result"
    }
   ],
   "source": [
    "popdet.datasets.input.head()"
   ]
  },
  {
   "cell_type": "code",
   "execution_count": 15,
   "metadata": {},
   "outputs": [
    {
     "data": {
      "text/plain": [
       "Population with 479 Creatures with genes x (numeric), y (categorical), z (vectorial).\n",
       "        "
      ]
     },
     "execution_count": 15,
     "metadata": {},
     "output_type": "execute_result"
    }
   ],
   "source": [
    "poprand = pop_creator.create.rand(500)\n",
    "poprand"
   ]
  },
  {
   "cell_type": "code",
   "execution_count": 16,
   "metadata": {},
   "outputs": [
    {
     "data": {
      "text/html": [
       "<div>\n",
       "<style scoped>\n",
       "    .dataframe tbody tr th:only-of-type {\n",
       "        vertical-align: middle;\n",
       "    }\n",
       "\n",
       "    .dataframe tbody tr th {\n",
       "        vertical-align: top;\n",
       "    }\n",
       "\n",
       "    .dataframe thead th {\n",
       "        text-align: right;\n",
       "    }\n",
       "</style>\n",
       "<table border=\"1\" class=\"dataframe\">\n",
       "  <thead>\n",
       "    <tr style=\"text-align: right;\">\n",
       "      <th></th>\n",
       "      <th>x</th>\n",
       "      <th>y</th>\n",
       "      <th>z</th>\n",
       "    </tr>\n",
       "    <tr>\n",
       "      <th>id</th>\n",
       "      <th></th>\n",
       "      <th></th>\n",
       "      <th></th>\n",
       "    </tr>\n",
       "  </thead>\n",
       "  <tbody>\n",
       "    <tr>\n",
       "      <th>1759538036093661357</th>\n",
       "      <td>5</td>\n",
       "      <td>C</td>\n",
       "      <td>(l, j, i, k)</td>\n",
       "    </tr>\n",
       "    <tr>\n",
       "      <th>1120153781201280843</th>\n",
       "      <td>4</td>\n",
       "      <td>B</td>\n",
       "      <td>(j, k, i, l)</td>\n",
       "    </tr>\n",
       "    <tr>\n",
       "      <th>-5507276641304832881</th>\n",
       "      <td>1</td>\n",
       "      <td>D</td>\n",
       "      <td>(j, l, m, i)</td>\n",
       "    </tr>\n",
       "    <tr>\n",
       "      <th>-2848532857695145308</th>\n",
       "      <td>3</td>\n",
       "      <td>D</td>\n",
       "      <td>(l, j, k, m)</td>\n",
       "    </tr>\n",
       "    <tr>\n",
       "      <th>2475634850107127965</th>\n",
       "      <td>4</td>\n",
       "      <td>D</td>\n",
       "      <td>(m, i, j, k)</td>\n",
       "    </tr>\n",
       "  </tbody>\n",
       "</table>\n",
       "</div>"
      ],
      "text/plain": [
       "                      x  y             z\n",
       "id                                      \n",
       " 1759538036093661357  5  C  (l, j, i, k)\n",
       " 1120153781201280843  4  B  (j, k, i, l)\n",
       "-5507276641304832881  1  D  (j, l, m, i)\n",
       "-2848532857695145308  3  D  (l, j, k, m)\n",
       " 2475634850107127965  4  D  (m, i, j, k)"
      ]
     },
     "execution_count": 16,
     "metadata": {},
     "output_type": "execute_result"
    }
   ],
   "source": [
    "poprand.datasets.input.head()"
   ]
  },
  {
   "cell_type": "code",
   "execution_count": 17,
   "metadata": {},
   "outputs": [
    {
     "data": {
      "text/plain": [
       "Population with 773 Creatures with genes x (numeric), y (categorical), z (vectorial).\n",
       "        "
      ]
     },
     "execution_count": 17,
     "metadata": {},
     "output_type": "execute_result"
    }
   ],
   "source": [
    "pop = popdet + poprand\n",
    "pop"
   ]
  },
  {
   "cell_type": "code",
   "execution_count": 18,
   "metadata": {},
   "outputs": [
    {
     "data": {
      "text/html": [
       "<div>\n",
       "<style scoped>\n",
       "    .dataframe tbody tr th:only-of-type {\n",
       "        vertical-align: middle;\n",
       "    }\n",
       "\n",
       "    .dataframe tbody tr th {\n",
       "        vertical-align: top;\n",
       "    }\n",
       "\n",
       "    .dataframe thead th {\n",
       "        text-align: right;\n",
       "    }\n",
       "</style>\n",
       "<table border=\"1\" class=\"dataframe\">\n",
       "  <thead>\n",
       "    <tr style=\"text-align: right;\">\n",
       "      <th></th>\n",
       "      <th>x</th>\n",
       "      <th>y</th>\n",
       "      <th>z</th>\n",
       "    </tr>\n",
       "    <tr>\n",
       "      <th>id</th>\n",
       "      <th></th>\n",
       "      <th></th>\n",
       "      <th></th>\n",
       "    </tr>\n",
       "  </thead>\n",
       "  <tbody>\n",
       "    <tr>\n",
       "      <th>3031482908558041379</th>\n",
       "      <td>0</td>\n",
       "      <td>A</td>\n",
       "      <td>(i, j, k, l)</td>\n",
       "    </tr>\n",
       "    <tr>\n",
       "      <th>6251823401527655697</th>\n",
       "      <td>0</td>\n",
       "      <td>A</td>\n",
       "      <td>(i, l, k, m)</td>\n",
       "    </tr>\n",
       "    <tr>\n",
       "      <th>3840016745127989809</th>\n",
       "      <td>0</td>\n",
       "      <td>A</td>\n",
       "      <td>(j, k, i, l)</td>\n",
       "    </tr>\n",
       "    <tr>\n",
       "      <th>4223112620767646059</th>\n",
       "      <td>0</td>\n",
       "      <td>A</td>\n",
       "      <td>(j, m, k, l)</td>\n",
       "    </tr>\n",
       "    <tr>\n",
       "      <th>2397758302742530432</th>\n",
       "      <td>0</td>\n",
       "      <td>A</td>\n",
       "      <td>(k, l, i, j)</td>\n",
       "    </tr>\n",
       "  </tbody>\n",
       "</table>\n",
       "</div>"
      ],
      "text/plain": [
       "                     x  y             z\n",
       "id                                     \n",
       "3031482908558041379  0  A  (i, j, k, l)\n",
       "6251823401527655697  0  A  (i, l, k, m)\n",
       "3840016745127989809  0  A  (j, k, i, l)\n",
       "4223112620767646059  0  A  (j, m, k, l)\n",
       "2397758302742530432  0  A  (k, l, i, j)"
      ]
     },
     "execution_count": 18,
     "metadata": {},
     "output_type": "execute_result"
    }
   ],
   "source": [
    "pop.datasets.input.head()"
   ]
  },
  {
   "cell_type": "code",
   "execution_count": 19,
   "metadata": {},
   "outputs": [],
   "source": [
    "pop.define()"
   ]
  },
  {
   "cell_type": "markdown",
   "metadata": {},
   "source": [
    "# Environment"
   ]
  },
  {
   "cell_type": "code",
   "execution_count": 20,
   "metadata": {},
   "outputs": [],
   "source": [
    "from lamarck import Environment"
   ]
  },
  {
   "cell_type": "code",
   "execution_count": 21,
   "metadata": {},
   "outputs": [],
   "source": [
    "import hashlib\n",
    "\n",
    "def tuplehash(tuple_obj):\n",
    "    encoded = ''.join(tuple_obj).encode()\n",
    "    m = hashlib.md5()\n",
    "    m.update(encoded)\n",
    "    d = m.digest()\n",
    "    return int.from_bytes(d, 'big')\n",
    "    \n",
    "    \n",
    "def dummy_process(x, y, z):\n",
    "    zval = (tuplehash(z) % 1000) / (x+1)**0.75\n",
    "    yval = zval // ord(y) + tuplehash((y, y)) % 73\n",
    "    return {\n",
    "        'time': (x + 1) * abs(zval - yval) // 10,\n",
    "        'profit': (abs(3*zval - 2*yval)**((int(x/10) + 1) % 9) // (tuplehash((y, y)) % 7 + 1)) % 10000 + (zval*yval) //10\n",
    "    }"
   ]
  },
  {
   "cell_type": "code",
   "execution_count": 22,
   "metadata": {},
   "outputs": [],
   "source": [
    "env = Environment()"
   ]
  },
  {
   "cell_type": "code",
   "execution_count": 23,
   "metadata": {},
   "outputs": [],
   "source": [
    "env.config.set_process(dummy_process)"
   ]
  },
  {
   "cell_type": "code",
   "execution_count": 24,
   "metadata": {},
   "outputs": [],
   "source": [
    "env.config.set_output_varibles('time', 'profit')"
   ]
  },
  {
   "cell_type": "code",
   "execution_count": 25,
   "metadata": {},
   "outputs": [
    {
     "data": {
      "text/plain": [
       "multi:   False\n",
       "output_varibles:   ('time', 'profit')\n",
       "process:   <function dummy_process at 0x7f76c1d28700>"
      ]
     },
     "execution_count": 25,
     "metadata": {},
     "output_type": "execute_result"
    }
   ],
   "source": [
    "env.config"
   ]
  },
  {
   "cell_type": "markdown",
   "metadata": {},
   "source": [
    "### Simulate Creature"
   ]
  },
  {
   "cell_type": "code",
   "execution_count": 26,
   "metadata": {},
   "outputs": [],
   "source": [
    "cr = pop[0]"
   ]
  },
  {
   "cell_type": "code",
   "execution_count": 27,
   "metadata": {},
   "outputs": [
    {
     "data": {
      "text/plain": [
       "{'time': 95.0, 'profit': 2154.0}"
      ]
     },
     "execution_count": 27,
     "metadata": {},
     "output_type": "execute_result"
    }
   ],
   "source": [
    "env.simulate(cr)"
   ]
  },
  {
   "cell_type": "markdown",
   "metadata": {},
   "source": [
    "### Simulate Population"
   ]
  },
  {
   "cell_type": "code",
   "execution_count": 28,
   "metadata": {},
   "outputs": [],
   "source": [
    "simpop = pop.copy()"
   ]
  },
  {
   "cell_type": "code",
   "execution_count": 29,
   "metadata": {},
   "outputs": [],
   "source": [
    "env.simulate(simpop)"
   ]
  },
  {
   "cell_type": "code",
   "execution_count": 30,
   "metadata": {},
   "outputs": [
    {
     "data": {
      "text/html": [
       "<div>\n",
       "<style scoped>\n",
       "    .dataframe tbody tr th:only-of-type {\n",
       "        vertical-align: middle;\n",
       "    }\n",
       "\n",
       "    .dataframe tbody tr th {\n",
       "        vertical-align: top;\n",
       "    }\n",
       "\n",
       "    .dataframe thead th {\n",
       "        text-align: right;\n",
       "    }\n",
       "</style>\n",
       "<table border=\"1\" class=\"dataframe\">\n",
       "  <thead>\n",
       "    <tr style=\"text-align: right;\">\n",
       "      <th></th>\n",
       "      <th>x</th>\n",
       "      <th>y</th>\n",
       "      <th>z</th>\n",
       "      <th>time</th>\n",
       "      <th>profit</th>\n",
       "    </tr>\n",
       "    <tr>\n",
       "      <th>id</th>\n",
       "      <th></th>\n",
       "      <th></th>\n",
       "      <th></th>\n",
       "      <th></th>\n",
       "      <th></th>\n",
       "    </tr>\n",
       "  </thead>\n",
       "  <tbody>\n",
       "    <tr>\n",
       "      <th>3031482908558041379</th>\n",
       "      <td>0</td>\n",
       "      <td>A</td>\n",
       "      <td>(i, j, k, l)</td>\n",
       "      <td>95.0</td>\n",
       "      <td>2154.0</td>\n",
       "    </tr>\n",
       "    <tr>\n",
       "      <th>6251823401527655697</th>\n",
       "      <td>0</td>\n",
       "      <td>A</td>\n",
       "      <td>(i, l, k, m)</td>\n",
       "      <td>62.0</td>\n",
       "      <td>1105.0</td>\n",
       "    </tr>\n",
       "    <tr>\n",
       "      <th>3840016745127989809</th>\n",
       "      <td>0</td>\n",
       "      <td>A</td>\n",
       "      <td>(j, k, i, l)</td>\n",
       "      <td>56.0</td>\n",
       "      <td>930.0</td>\n",
       "    </tr>\n",
       "    <tr>\n",
       "      <th>4223112620767646059</th>\n",
       "      <td>0</td>\n",
       "      <td>A</td>\n",
       "      <td>(j, m, k, l)</td>\n",
       "      <td>27.0</td>\n",
       "      <td>338.0</td>\n",
       "    </tr>\n",
       "    <tr>\n",
       "      <th>2397758302742530432</th>\n",
       "      <td>0</td>\n",
       "      <td>A</td>\n",
       "      <td>(k, l, i, j)</td>\n",
       "      <td>45.0</td>\n",
       "      <td>715.0</td>\n",
       "    </tr>\n",
       "  </tbody>\n",
       "</table>\n",
       "</div>"
      ],
      "text/plain": [
       "                     x  y             z  time  profit\n",
       "id                                                   \n",
       "3031482908558041379  0  A  (i, j, k, l)  95.0  2154.0\n",
       "6251823401527655697  0  A  (i, l, k, m)  62.0  1105.0\n",
       "3840016745127989809  0  A  (j, k, i, l)  56.0   930.0\n",
       "4223112620767646059  0  A  (j, m, k, l)  27.0   338.0\n",
       "2397758302742530432  0  A  (k, l, i, j)  45.0   715.0"
      ]
     },
     "execution_count": 30,
     "metadata": {},
     "output_type": "execute_result"
    }
   ],
   "source": [
    "simpop.datasets.output.head()"
   ]
  },
  {
   "cell_type": "markdown",
   "metadata": {},
   "source": [
    "### Simulate Population - Multi Thread"
   ]
  },
  {
   "cell_type": "code",
   "execution_count": 31,
   "metadata": {},
   "outputs": [],
   "source": [
    "env.config.set_multi(True)"
   ]
  },
  {
   "cell_type": "code",
   "execution_count": 32,
   "metadata": {},
   "outputs": [],
   "source": [
    "env.simulate(simpop)"
   ]
  },
  {
   "cell_type": "code",
   "execution_count": 33,
   "metadata": {},
   "outputs": [
    {
     "data": {
      "text/html": [
       "<div>\n",
       "<style scoped>\n",
       "    .dataframe tbody tr th:only-of-type {\n",
       "        vertical-align: middle;\n",
       "    }\n",
       "\n",
       "    .dataframe tbody tr th {\n",
       "        vertical-align: top;\n",
       "    }\n",
       "\n",
       "    .dataframe thead th {\n",
       "        text-align: right;\n",
       "    }\n",
       "</style>\n",
       "<table border=\"1\" class=\"dataframe\">\n",
       "  <thead>\n",
       "    <tr style=\"text-align: right;\">\n",
       "      <th></th>\n",
       "      <th>x</th>\n",
       "      <th>y</th>\n",
       "      <th>z</th>\n",
       "      <th>time</th>\n",
       "      <th>profit</th>\n",
       "    </tr>\n",
       "    <tr>\n",
       "      <th>id</th>\n",
       "      <th></th>\n",
       "      <th></th>\n",
       "      <th></th>\n",
       "      <th></th>\n",
       "      <th></th>\n",
       "    </tr>\n",
       "  </thead>\n",
       "  <tbody>\n",
       "    <tr>\n",
       "      <th>3031482908558041379</th>\n",
       "      <td>0</td>\n",
       "      <td>A</td>\n",
       "      <td>(i, j, k, l)</td>\n",
       "      <td>95.0</td>\n",
       "      <td>2154.0</td>\n",
       "    </tr>\n",
       "    <tr>\n",
       "      <th>6251823401527655697</th>\n",
       "      <td>0</td>\n",
       "      <td>A</td>\n",
       "      <td>(i, l, k, m)</td>\n",
       "      <td>62.0</td>\n",
       "      <td>1105.0</td>\n",
       "    </tr>\n",
       "    <tr>\n",
       "      <th>3840016745127989809</th>\n",
       "      <td>0</td>\n",
       "      <td>A</td>\n",
       "      <td>(j, k, i, l)</td>\n",
       "      <td>56.0</td>\n",
       "      <td>930.0</td>\n",
       "    </tr>\n",
       "    <tr>\n",
       "      <th>4223112620767646059</th>\n",
       "      <td>0</td>\n",
       "      <td>A</td>\n",
       "      <td>(j, m, k, l)</td>\n",
       "      <td>27.0</td>\n",
       "      <td>338.0</td>\n",
       "    </tr>\n",
       "    <tr>\n",
       "      <th>2397758302742530432</th>\n",
       "      <td>0</td>\n",
       "      <td>A</td>\n",
       "      <td>(k, l, i, j)</td>\n",
       "      <td>45.0</td>\n",
       "      <td>715.0</td>\n",
       "    </tr>\n",
       "  </tbody>\n",
       "</table>\n",
       "</div>"
      ],
      "text/plain": [
       "                     x  y             z  time  profit\n",
       "id                                                   \n",
       "3031482908558041379  0  A  (i, j, k, l)  95.0  2154.0\n",
       "6251823401527655697  0  A  (i, l, k, m)  62.0  1105.0\n",
       "3840016745127989809  0  A  (j, k, i, l)  56.0   930.0\n",
       "4223112620767646059  0  A  (j, m, k, l)  27.0   338.0\n",
       "2397758302742530432  0  A  (k, l, i, j)  45.0   715.0"
      ]
     },
     "execution_count": 33,
     "metadata": {},
     "output_type": "execute_result"
    }
   ],
   "source": [
    "simpop.datasets.output.head()"
   ]
  },
  {
   "cell_type": "markdown",
   "metadata": {},
   "source": [
    "# Fitness"
   ]
  },
  {
   "cell_type": "markdown",
   "metadata": {},
   "source": [
    "### 1. Single Objective"
   ]
  },
  {
   "cell_type": "code",
   "execution_count": 34,
   "metadata": {},
   "outputs": [],
   "source": [
    "single_objective_pop = simpop.copy()\n",
    "single_objective_pop.apply_fitness.single_objective(output='time', objective='min')"
   ]
  },
  {
   "cell_type": "code",
   "execution_count": 35,
   "metadata": {},
   "outputs": [
    {
     "data": {
      "text/html": [
       "<div>\n",
       "<style scoped>\n",
       "    .dataframe tbody tr th:only-of-type {\n",
       "        vertical-align: middle;\n",
       "    }\n",
       "\n",
       "    .dataframe tbody tr th {\n",
       "        vertical-align: top;\n",
       "    }\n",
       "\n",
       "    .dataframe thead th {\n",
       "        text-align: right;\n",
       "    }\n",
       "</style>\n",
       "<table border=\"1\" class=\"dataframe\">\n",
       "  <thead>\n",
       "    <tr style=\"text-align: right;\">\n",
       "      <th></th>\n",
       "      <th>x</th>\n",
       "      <th>y</th>\n",
       "      <th>z</th>\n",
       "      <th>time</th>\n",
       "      <th>profit</th>\n",
       "      <th>criteria</th>\n",
       "    </tr>\n",
       "    <tr>\n",
       "      <th>id</th>\n",
       "      <th></th>\n",
       "      <th></th>\n",
       "      <th></th>\n",
       "      <th></th>\n",
       "      <th></th>\n",
       "      <th></th>\n",
       "    </tr>\n",
       "  </thead>\n",
       "  <tbody>\n",
       "    <tr>\n",
       "      <th>2059556440789537027</th>\n",
       "      <td>1</td>\n",
       "      <td>D</td>\n",
       "      <td>(l, k, m, j)</td>\n",
       "      <td>0.0</td>\n",
       "      <td>28.0</td>\n",
       "      <td>0.0</td>\n",
       "    </tr>\n",
       "    <tr>\n",
       "      <th>-6722489819240181410</th>\n",
       "      <td>2</td>\n",
       "      <td>A</td>\n",
       "      <td>(m, l, i, j)</td>\n",
       "      <td>0.0</td>\n",
       "      <td>1.0</td>\n",
       "      <td>0.0</td>\n",
       "    </tr>\n",
       "    <tr>\n",
       "      <th>2039874956744511581</th>\n",
       "      <td>4</td>\n",
       "      <td>E</td>\n",
       "      <td>(i, k, j, l)</td>\n",
       "      <td>0.0</td>\n",
       "      <td>220.0</td>\n",
       "      <td>0.0</td>\n",
       "    </tr>\n",
       "    <tr>\n",
       "      <th>-214453022490344539</th>\n",
       "      <td>2</td>\n",
       "      <td>D</td>\n",
       "      <td>(l, j, m, k)</td>\n",
       "      <td>0.0</td>\n",
       "      <td>32.0</td>\n",
       "      <td>0.0</td>\n",
       "    </tr>\n",
       "    <tr>\n",
       "      <th>-2557345861107735535</th>\n",
       "      <td>6</td>\n",
       "      <td>A</td>\n",
       "      <td>(j, l, i, m)</td>\n",
       "      <td>0.0</td>\n",
       "      <td>1.0</td>\n",
       "      <td>0.0</td>\n",
       "    </tr>\n",
       "  </tbody>\n",
       "</table>\n",
       "</div>"
      ],
      "text/plain": [
       "                      x  y             z  time  profit  criteria\n",
       "id                                                              \n",
       " 2059556440789537027  1  D  (l, k, m, j)   0.0    28.0       0.0\n",
       "-6722489819240181410  2  A  (m, l, i, j)   0.0     1.0       0.0\n",
       " 2039874956744511581  4  E  (i, k, j, l)   0.0   220.0       0.0\n",
       "-214453022490344539   2  D  (l, j, m, k)   0.0    32.0       0.0\n",
       "-2557345861107735535  6  A  (j, l, i, m)   0.0     1.0       0.0"
      ]
     },
     "execution_count": 35,
     "metadata": {},
     "output_type": "execute_result"
    }
   ],
   "source": [
    "single_objective_pop.datasets.fitness.head()"
   ]
  },
  {
   "cell_type": "markdown",
   "metadata": {},
   "source": [
    "### 2. Multi Objective - Ranked"
   ]
  },
  {
   "cell_type": "code",
   "execution_count": 36,
   "metadata": {},
   "outputs": [],
   "source": [
    "ranked_objective_pop = simpop.copy()\n",
    "ranked_objective_pop.apply_fitness.multi_objective.ranked(priorities=['time', 'profit'], objectives=['min', 'max'])"
   ]
  },
  {
   "cell_type": "code",
   "execution_count": 37,
   "metadata": {},
   "outputs": [
    {
     "data": {
      "text/html": [
       "<div>\n",
       "<style scoped>\n",
       "    .dataframe tbody tr th:only-of-type {\n",
       "        vertical-align: middle;\n",
       "    }\n",
       "\n",
       "    .dataframe tbody tr th {\n",
       "        vertical-align: top;\n",
       "    }\n",
       "\n",
       "    .dataframe thead th {\n",
       "        text-align: right;\n",
       "    }\n",
       "</style>\n",
       "<table border=\"1\" class=\"dataframe\">\n",
       "  <thead>\n",
       "    <tr style=\"text-align: right;\">\n",
       "      <th></th>\n",
       "      <th>x</th>\n",
       "      <th>y</th>\n",
       "      <th>z</th>\n",
       "      <th>time</th>\n",
       "      <th>profit</th>\n",
       "      <th>criteria0</th>\n",
       "      <th>criteria1</th>\n",
       "    </tr>\n",
       "    <tr>\n",
       "      <th>id</th>\n",
       "      <th></th>\n",
       "      <th></th>\n",
       "      <th></th>\n",
       "      <th></th>\n",
       "      <th></th>\n",
       "      <th></th>\n",
       "      <th></th>\n",
       "    </tr>\n",
       "  </thead>\n",
       "  <tbody>\n",
       "    <tr>\n",
       "      <th>2039874956744511581</th>\n",
       "      <td>4</td>\n",
       "      <td>E</td>\n",
       "      <td>(i, k, j, l)</td>\n",
       "      <td>0.0</td>\n",
       "      <td>220.0</td>\n",
       "      <td>0.0</td>\n",
       "      <td>220.0</td>\n",
       "    </tr>\n",
       "    <tr>\n",
       "      <th>-214453022490344539</th>\n",
       "      <td>2</td>\n",
       "      <td>D</td>\n",
       "      <td>(l, j, m, k)</td>\n",
       "      <td>0.0</td>\n",
       "      <td>32.0</td>\n",
       "      <td>0.0</td>\n",
       "      <td>32.0</td>\n",
       "    </tr>\n",
       "    <tr>\n",
       "      <th>2059556440789537027</th>\n",
       "      <td>1</td>\n",
       "      <td>D</td>\n",
       "      <td>(l, k, m, j)</td>\n",
       "      <td>0.0</td>\n",
       "      <td>28.0</td>\n",
       "      <td>0.0</td>\n",
       "      <td>28.0</td>\n",
       "    </tr>\n",
       "    <tr>\n",
       "      <th>-2557345861107735535</th>\n",
       "      <td>6</td>\n",
       "      <td>A</td>\n",
       "      <td>(j, l, i, m)</td>\n",
       "      <td>0.0</td>\n",
       "      <td>1.0</td>\n",
       "      <td>0.0</td>\n",
       "      <td>1.0</td>\n",
       "    </tr>\n",
       "    <tr>\n",
       "      <th>-6722489819240181410</th>\n",
       "      <td>2</td>\n",
       "      <td>A</td>\n",
       "      <td>(m, l, i, j)</td>\n",
       "      <td>0.0</td>\n",
       "      <td>1.0</td>\n",
       "      <td>0.0</td>\n",
       "      <td>1.0</td>\n",
       "    </tr>\n",
       "  </tbody>\n",
       "</table>\n",
       "</div>"
      ],
      "text/plain": [
       "                      x  y             z  time  profit  criteria0  criteria1\n",
       "id                                                                          \n",
       " 2039874956744511581  4  E  (i, k, j, l)   0.0   220.0        0.0      220.0\n",
       "-214453022490344539   2  D  (l, j, m, k)   0.0    32.0        0.0       32.0\n",
       " 2059556440789537027  1  D  (l, k, m, j)   0.0    28.0        0.0       28.0\n",
       "-2557345861107735535  6  A  (j, l, i, m)   0.0     1.0        0.0        1.0\n",
       "-6722489819240181410  2  A  (m, l, i, j)   0.0     1.0        0.0        1.0"
      ]
     },
     "execution_count": 37,
     "metadata": {},
     "output_type": "execute_result"
    }
   ],
   "source": [
    "ranked_objective_pop.datasets.fitness.head()"
   ]
  },
  {
   "cell_type": "markdown",
   "metadata": {},
   "source": [
    "### 3. Multi Objective - Pareto"
   ]
  },
  {
   "cell_type": "code",
   "execution_count": 38,
   "metadata": {},
   "outputs": [],
   "source": [
    "pareto_objective_pop = simpop.copy()\n",
    "pareto_objective_pop.apply_fitness.multi_objective.pareto(outputs=['time', 'profit'], objectives=['min', 'max'])"
   ]
  },
  {
   "cell_type": "code",
   "execution_count": 39,
   "metadata": {},
   "outputs": [
    {
     "data": {
      "text/html": [
       "<div>\n",
       "<style scoped>\n",
       "    .dataframe tbody tr th:only-of-type {\n",
       "        vertical-align: middle;\n",
       "    }\n",
       "\n",
       "    .dataframe tbody tr th {\n",
       "        vertical-align: top;\n",
       "    }\n",
       "\n",
       "    .dataframe thead th {\n",
       "        text-align: right;\n",
       "    }\n",
       "</style>\n",
       "<table border=\"1\" class=\"dataframe\">\n",
       "  <thead>\n",
       "    <tr style=\"text-align: right;\">\n",
       "      <th></th>\n",
       "      <th>x</th>\n",
       "      <th>y</th>\n",
       "      <th>z</th>\n",
       "      <th>time</th>\n",
       "      <th>profit</th>\n",
       "      <th>criteria0</th>\n",
       "      <th>criteria1</th>\n",
       "      <th>front</th>\n",
       "      <th>crowd</th>\n",
       "    </tr>\n",
       "    <tr>\n",
       "      <th>id</th>\n",
       "      <th></th>\n",
       "      <th></th>\n",
       "      <th></th>\n",
       "      <th></th>\n",
       "      <th></th>\n",
       "      <th></th>\n",
       "      <th></th>\n",
       "      <th></th>\n",
       "      <th></th>\n",
       "    </tr>\n",
       "  </thead>\n",
       "  <tbody>\n",
       "    <tr>\n",
       "      <th>-3709377954076378354</th>\n",
       "      <td>10</td>\n",
       "      <td>E</td>\n",
       "      <td>(i, l, k, m)</td>\n",
       "      <td>64.0</td>\n",
       "      <td>10444.0</td>\n",
       "      <td>-0.078279</td>\n",
       "      <td>6.751078</td>\n",
       "      <td>1</td>\n",
       "      <td>inf</td>\n",
       "    </tr>\n",
       "    <tr>\n",
       "      <th>-2557345861107735535</th>\n",
       "      <td>6</td>\n",
       "      <td>A</td>\n",
       "      <td>(j, l, i, m)</td>\n",
       "      <td>0.0</td>\n",
       "      <td>1.0</td>\n",
       "      <td>-1.530879</td>\n",
       "      <td>-0.677934</td>\n",
       "      <td>1</td>\n",
       "      <td>inf</td>\n",
       "    </tr>\n",
       "    <tr>\n",
       "      <th>3528809817317481984</th>\n",
       "      <td>10</td>\n",
       "      <td>B</td>\n",
       "      <td>(l, m, i, j)</td>\n",
       "      <td>13.0</td>\n",
       "      <td>3417.0</td>\n",
       "      <td>-1.235819</td>\n",
       "      <td>1.752163</td>\n",
       "      <td>1</td>\n",
       "      <td>4.739160</td>\n",
       "    </tr>\n",
       "    <tr>\n",
       "      <th>6007242308276684661</th>\n",
       "      <td>10</td>\n",
       "      <td>B</td>\n",
       "      <td>(l, i, k, m)</td>\n",
       "      <td>22.0</td>\n",
       "      <td>7089.0</td>\n",
       "      <td>-1.031548</td>\n",
       "      <td>4.364375</td>\n",
       "      <td>1</td>\n",
       "      <td>4.231874</td>\n",
       "    </tr>\n",
       "    <tr>\n",
       "      <th>-7010074918900690879</th>\n",
       "      <td>10</td>\n",
       "      <td>B</td>\n",
       "      <td>(j, m, k, l)</td>\n",
       "      <td>26.0</td>\n",
       "      <td>8951.0</td>\n",
       "      <td>-0.940760</td>\n",
       "      <td>5.688977</td>\n",
       "      <td>1</td>\n",
       "      <td>3.339971</td>\n",
       "    </tr>\n",
       "  </tbody>\n",
       "</table>\n",
       "</div>"
      ],
      "text/plain": [
       "                       x  y             z  time   profit  criteria0  \\\n",
       "id                                                                    \n",
       "-3709377954076378354  10  E  (i, l, k, m)  64.0  10444.0  -0.078279   \n",
       "-2557345861107735535   6  A  (j, l, i, m)   0.0      1.0  -1.530879   \n",
       " 3528809817317481984  10  B  (l, m, i, j)  13.0   3417.0  -1.235819   \n",
       " 6007242308276684661  10  B  (l, i, k, m)  22.0   7089.0  -1.031548   \n",
       "-7010074918900690879  10  B  (j, m, k, l)  26.0   8951.0  -0.940760   \n",
       "\n",
       "                      criteria1  front     crowd  \n",
       "id                                                \n",
       "-3709377954076378354   6.751078      1       inf  \n",
       "-2557345861107735535  -0.677934      1       inf  \n",
       " 3528809817317481984   1.752163      1  4.739160  \n",
       " 6007242308276684661   4.364375      1  4.231874  \n",
       "-7010074918900690879   5.688977      1  3.339971  "
      ]
     },
     "execution_count": 39,
     "metadata": {},
     "output_type": "execute_result"
    }
   ],
   "source": [
    "pareto_objective_pop.datasets.fitness.head()"
   ]
  },
  {
   "cell_type": "code",
   "execution_count": 40,
   "metadata": {},
   "outputs": [
    {
     "data": {
      "image/png": "[encoded data removed]",
      "text/plain": [
       "<Figure size 432x288 with 2 Axes>"
      ]
     },
     "metadata": {
      "needs_background": "light"
     },
     "output_type": "display_data"
    }
   ],
   "source": [
    "ax = pareto_objective_pop.plot.fronts('time', 'profit', 1)"
   ]
  },
  {
   "cell_type": "markdown",
   "metadata": {},
   "source": [
    "# Selection"
   ]
  },
  {
   "cell_type": "code",
   "execution_count": 41,
   "metadata": {},
   "outputs": [
    {
     "data": {
      "text/plain": [
       "Population with 386 Creatures with genes x (numeric), y (categorical), z (vectorial).\n",
       "        "
      ]
     },
     "execution_count": 41,
     "metadata": {},
     "output_type": "execute_result"
    }
   ],
   "source": [
    "selected_pop = pareto_objective_pop.select()\n",
    "selected_pop"
   ]
  },
  {
   "cell_type": "code",
   "execution_count": 42,
   "metadata": {},
   "outputs": [
    {
     "data": {
      "text/html": [
       "<div>\n",
       "<style scoped>\n",
       "    .dataframe tbody tr th:only-of-type {\n",
       "        vertical-align: middle;\n",
       "    }\n",
       "\n",
       "    .dataframe tbody tr th {\n",
       "        vertical-align: top;\n",
       "    }\n",
       "\n",
       "    .dataframe thead th {\n",
       "        text-align: right;\n",
       "    }\n",
       "</style>\n",
       "<table border=\"1\" class=\"dataframe\">\n",
       "  <thead>\n",
       "    <tr style=\"text-align: right;\">\n",
       "      <th></th>\n",
       "      <th>x</th>\n",
       "      <th>y</th>\n",
       "      <th>z</th>\n",
       "      <th>time</th>\n",
       "      <th>profit</th>\n",
       "      <th>criteria0</th>\n",
       "      <th>criteria1</th>\n",
       "      <th>front</th>\n",
       "      <th>crowd</th>\n",
       "    </tr>\n",
       "    <tr>\n",
       "      <th>id</th>\n",
       "      <th></th>\n",
       "      <th></th>\n",
       "      <th></th>\n",
       "      <th></th>\n",
       "      <th></th>\n",
       "      <th></th>\n",
       "      <th></th>\n",
       "      <th></th>\n",
       "      <th></th>\n",
       "    </tr>\n",
       "  </thead>\n",
       "  <tbody>\n",
       "    <tr>\n",
       "      <th>-3709377954076378354</th>\n",
       "      <td>10</td>\n",
       "      <td>E</td>\n",
       "      <td>(i, l, k, m)</td>\n",
       "      <td>64.0</td>\n",
       "      <td>10444.0</td>\n",
       "      <td>-0.078279</td>\n",
       "      <td>6.751078</td>\n",
       "      <td>1</td>\n",
       "      <td>inf</td>\n",
       "    </tr>\n",
       "    <tr>\n",
       "      <th>-2557345861107735535</th>\n",
       "      <td>6</td>\n",
       "      <td>A</td>\n",
       "      <td>(j, l, i, m)</td>\n",
       "      <td>0.0</td>\n",
       "      <td>1.0</td>\n",
       "      <td>-1.530879</td>\n",
       "      <td>-0.677934</td>\n",
       "      <td>1</td>\n",
       "      <td>inf</td>\n",
       "    </tr>\n",
       "    <tr>\n",
       "      <th>3528809817317481984</th>\n",
       "      <td>10</td>\n",
       "      <td>B</td>\n",
       "      <td>(l, m, i, j)</td>\n",
       "      <td>13.0</td>\n",
       "      <td>3417.0</td>\n",
       "      <td>-1.235819</td>\n",
       "      <td>1.752163</td>\n",
       "      <td>1</td>\n",
       "      <td>4.739160</td>\n",
       "    </tr>\n",
       "    <tr>\n",
       "      <th>6007242308276684661</th>\n",
       "      <td>10</td>\n",
       "      <td>B</td>\n",
       "      <td>(l, i, k, m)</td>\n",
       "      <td>22.0</td>\n",
       "      <td>7089.0</td>\n",
       "      <td>-1.031548</td>\n",
       "      <td>4.364375</td>\n",
       "      <td>1</td>\n",
       "      <td>4.231874</td>\n",
       "    </tr>\n",
       "    <tr>\n",
       "      <th>-7010074918900690879</th>\n",
       "      <td>10</td>\n",
       "      <td>B</td>\n",
       "      <td>(j, m, k, l)</td>\n",
       "      <td>26.0</td>\n",
       "      <td>8951.0</td>\n",
       "      <td>-0.940760</td>\n",
       "      <td>5.688977</td>\n",
       "      <td>1</td>\n",
       "      <td>3.339971</td>\n",
       "    </tr>\n",
       "    <tr>\n",
       "      <th>...</th>\n",
       "      <td>...</td>\n",
       "      <td>...</td>\n",
       "      <td>...</td>\n",
       "      <td>...</td>\n",
       "      <td>...</td>\n",
       "      <td>...</td>\n",
       "      <td>...</td>\n",
       "      <td>...</td>\n",
       "      <td>...</td>\n",
       "    </tr>\n",
       "    <tr>\n",
       "      <th>-6638583988351599717</th>\n",
       "      <td>5</td>\n",
       "      <td>C</td>\n",
       "      <td>(j, m, k, l)</td>\n",
       "      <td>33.0</td>\n",
       "      <td>168.0</td>\n",
       "      <td>-0.781882</td>\n",
       "      <td>-0.559133</td>\n",
       "      <td>13</td>\n",
       "      <td>0.131980</td>\n",
       "    </tr>\n",
       "    <tr>\n",
       "      <th>-9154516082064337167</th>\n",
       "      <td>5</td>\n",
       "      <td>D</td>\n",
       "      <td>(l, m, i, j)</td>\n",
       "      <td>21.0</td>\n",
       "      <td>111.0</td>\n",
       "      <td>-1.054244</td>\n",
       "      <td>-0.599682</td>\n",
       "      <td>13</td>\n",
       "      <td>0.122021</td>\n",
       "    </tr>\n",
       "    <tr>\n",
       "      <th>8168757904882472624</th>\n",
       "      <td>5</td>\n",
       "      <td>D</td>\n",
       "      <td>(m, l, k, i)</td>\n",
       "      <td>24.0</td>\n",
       "      <td>121.0</td>\n",
       "      <td>-0.986154</td>\n",
       "      <td>-0.592568</td>\n",
       "      <td>13</td>\n",
       "      <td>0.102881</td>\n",
       "    </tr>\n",
       "    <tr>\n",
       "      <th>-6246618741338823645</th>\n",
       "      <td>4</td>\n",
       "      <td>C</td>\n",
       "      <td>(k, l, i, j)</td>\n",
       "      <td>61.0</td>\n",
       "      <td>349.0</td>\n",
       "      <td>-0.146370</td>\n",
       "      <td>-0.430372</td>\n",
       "      <td>13</td>\n",
       "      <td>0.100882</td>\n",
       "    </tr>\n",
       "    <tr>\n",
       "      <th>7766670594413344359</th>\n",
       "      <td>1</td>\n",
       "      <td>C</td>\n",
       "      <td>(i, j, k, l)</td>\n",
       "      <td>110.0</td>\n",
       "      <td>1802.0</td>\n",
       "      <td>0.965777</td>\n",
       "      <td>0.603273</td>\n",
       "      <td>13</td>\n",
       "      <td>0.098815</td>\n",
       "    </tr>\n",
       "  </tbody>\n",
       "</table>\n",
       "<p>386 rows × 9 columns</p>\n",
       "</div>"
      ],
      "text/plain": [
       "                       x  y             z   time   profit  criteria0  \\\n",
       "id                                                                     \n",
       "-3709377954076378354  10  E  (i, l, k, m)   64.0  10444.0  -0.078279   \n",
       "-2557345861107735535   6  A  (j, l, i, m)    0.0      1.0  -1.530879   \n",
       " 3528809817317481984  10  B  (l, m, i, j)   13.0   3417.0  -1.235819   \n",
       " 6007242308276684661  10  B  (l, i, k, m)   22.0   7089.0  -1.031548   \n",
       "-7010074918900690879  10  B  (j, m, k, l)   26.0   8951.0  -0.940760   \n",
       "...                   .. ..           ...    ...      ...        ...   \n",
       "-6638583988351599717   5  C  (j, m, k, l)   33.0    168.0  -0.781882   \n",
       "-9154516082064337167   5  D  (l, m, i, j)   21.0    111.0  -1.054244   \n",
       " 8168757904882472624   5  D  (m, l, k, i)   24.0    121.0  -0.986154   \n",
       "-6246618741338823645   4  C  (k, l, i, j)   61.0    349.0  -0.146370   \n",
       " 7766670594413344359   1  C  (i, j, k, l)  110.0   1802.0   0.965777   \n",
       "\n",
       "                      criteria1  front     crowd  \n",
       "id                                                \n",
       "-3709377954076378354   6.751078      1       inf  \n",
       "-2557345861107735535  -0.677934      1       inf  \n",
       " 3528809817317481984   1.752163      1  4.739160  \n",
       " 6007242308276684661   4.364375      1  4.231874  \n",
       "-7010074918900690879   5.688977      1  3.339971  \n",
       "...                         ...    ...       ...  \n",
       "-6638583988351599717  -0.559133     13  0.131980  \n",
       "-9154516082064337167  -0.599682     13  0.122021  \n",
       " 8168757904882472624  -0.592568     13  0.102881  \n",
       "-6246618741338823645  -0.430372     13  0.100882  \n",
       " 7766670594413344359   0.603273     13  0.098815  \n",
       "\n",
       "[386 rows x 9 columns]"
      ]
     },
     "execution_count": 42,
     "metadata": {},
     "output_type": "execute_result"
    }
   ],
   "source": [
    "selected_pop.datasets.fitness"
   ]
  },
  {
   "cell_type": "markdown",
   "metadata": {},
   "source": [
    "# Repopulate"
   ]
  },
  {
   "cell_type": "code",
   "execution_count": 43,
   "metadata": {},
   "outputs": [
    {
     "data": {
      "text/plain": [
       "Population with 386 Creatures with genes x (numeric), y (categorical), z (vectorial).\n",
       "        "
      ]
     },
     "execution_count": 43,
     "metadata": {},
     "output_type": "execute_result"
    }
   ],
   "source": [
    "newpop = selected_pop.copy()\n",
    "newpop"
   ]
  },
  {
   "cell_type": "code",
   "execution_count": 44,
   "metadata": {},
   "outputs": [
    {
     "data": {
      "text/html": [
       "<div>\n",
       "<style scoped>\n",
       "    .dataframe tbody tr th:only-of-type {\n",
       "        vertical-align: middle;\n",
       "    }\n",
       "\n",
       "    .dataframe tbody tr th {\n",
       "        vertical-align: top;\n",
       "    }\n",
       "\n",
       "    .dataframe thead th {\n",
       "        text-align: right;\n",
       "    }\n",
       "</style>\n",
       "<table border=\"1\" class=\"dataframe\">\n",
       "  <thead>\n",
       "    <tr style=\"text-align: right;\">\n",
       "      <th></th>\n",
       "      <th>x</th>\n",
       "      <th>y</th>\n",
       "      <th>z</th>\n",
       "      <th>time</th>\n",
       "      <th>profit</th>\n",
       "      <th>criteria0</th>\n",
       "      <th>criteria1</th>\n",
       "      <th>front</th>\n",
       "      <th>crowd</th>\n",
       "    </tr>\n",
       "    <tr>\n",
       "      <th>id</th>\n",
       "      <th></th>\n",
       "      <th></th>\n",
       "      <th></th>\n",
       "      <th></th>\n",
       "      <th></th>\n",
       "      <th></th>\n",
       "      <th></th>\n",
       "      <th></th>\n",
       "      <th></th>\n",
       "    </tr>\n",
       "  </thead>\n",
       "  <tbody>\n",
       "    <tr>\n",
       "      <th>-3709377954076378354</th>\n",
       "      <td>10</td>\n",
       "      <td>E</td>\n",
       "      <td>(i, l, k, m)</td>\n",
       "      <td>64.0</td>\n",
       "      <td>10444.0</td>\n",
       "      <td>-0.078279</td>\n",
       "      <td>6.751078</td>\n",
       "      <td>1</td>\n",
       "      <td>inf</td>\n",
       "    </tr>\n",
       "    <tr>\n",
       "      <th>-2557345861107735535</th>\n",
       "      <td>6</td>\n",
       "      <td>A</td>\n",
       "      <td>(j, l, i, m)</td>\n",
       "      <td>0.0</td>\n",
       "      <td>1.0</td>\n",
       "      <td>-1.530879</td>\n",
       "      <td>-0.677934</td>\n",
       "      <td>1</td>\n",
       "      <td>inf</td>\n",
       "    </tr>\n",
       "    <tr>\n",
       "      <th>3528809817317481984</th>\n",
       "      <td>10</td>\n",
       "      <td>B</td>\n",
       "      <td>(l, m, i, j)</td>\n",
       "      <td>13.0</td>\n",
       "      <td>3417.0</td>\n",
       "      <td>-1.235819</td>\n",
       "      <td>1.752163</td>\n",
       "      <td>1</td>\n",
       "      <td>4.739160</td>\n",
       "    </tr>\n",
       "    <tr>\n",
       "      <th>6007242308276684661</th>\n",
       "      <td>10</td>\n",
       "      <td>B</td>\n",
       "      <td>(l, i, k, m)</td>\n",
       "      <td>22.0</td>\n",
       "      <td>7089.0</td>\n",
       "      <td>-1.031548</td>\n",
       "      <td>4.364375</td>\n",
       "      <td>1</td>\n",
       "      <td>4.231874</td>\n",
       "    </tr>\n",
       "    <tr>\n",
       "      <th>-7010074918900690879</th>\n",
       "      <td>10</td>\n",
       "      <td>B</td>\n",
       "      <td>(j, m, k, l)</td>\n",
       "      <td>26.0</td>\n",
       "      <td>8951.0</td>\n",
       "      <td>-0.940760</td>\n",
       "      <td>5.688977</td>\n",
       "      <td>1</td>\n",
       "      <td>3.339971</td>\n",
       "    </tr>\n",
       "    <tr>\n",
       "      <th>...</th>\n",
       "      <td>...</td>\n",
       "      <td>...</td>\n",
       "      <td>...</td>\n",
       "      <td>...</td>\n",
       "      <td>...</td>\n",
       "      <td>...</td>\n",
       "      <td>...</td>\n",
       "      <td>...</td>\n",
       "      <td>...</td>\n",
       "    </tr>\n",
       "    <tr>\n",
       "      <th>-6638583988351599717</th>\n",
       "      <td>5</td>\n",
       "      <td>C</td>\n",
       "      <td>(j, m, k, l)</td>\n",
       "      <td>33.0</td>\n",
       "      <td>168.0</td>\n",
       "      <td>-0.781882</td>\n",
       "      <td>-0.559133</td>\n",
       "      <td>13</td>\n",
       "      <td>0.131980</td>\n",
       "    </tr>\n",
       "    <tr>\n",
       "      <th>-9154516082064337167</th>\n",
       "      <td>5</td>\n",
       "      <td>D</td>\n",
       "      <td>(l, m, i, j)</td>\n",
       "      <td>21.0</td>\n",
       "      <td>111.0</td>\n",
       "      <td>-1.054244</td>\n",
       "      <td>-0.599682</td>\n",
       "      <td>13</td>\n",
       "      <td>0.122021</td>\n",
       "    </tr>\n",
       "    <tr>\n",
       "      <th>8168757904882472624</th>\n",
       "      <td>5</td>\n",
       "      <td>D</td>\n",
       "      <td>(m, l, k, i)</td>\n",
       "      <td>24.0</td>\n",
       "      <td>121.0</td>\n",
       "      <td>-0.986154</td>\n",
       "      <td>-0.592568</td>\n",
       "      <td>13</td>\n",
       "      <td>0.102881</td>\n",
       "    </tr>\n",
       "    <tr>\n",
       "      <th>-6246618741338823645</th>\n",
       "      <td>4</td>\n",
       "      <td>C</td>\n",
       "      <td>(k, l, i, j)</td>\n",
       "      <td>61.0</td>\n",
       "      <td>349.0</td>\n",
       "      <td>-0.146370</td>\n",
       "      <td>-0.430372</td>\n",
       "      <td>13</td>\n",
       "      <td>0.100882</td>\n",
       "    </tr>\n",
       "    <tr>\n",
       "      <th>7766670594413344359</th>\n",
       "      <td>1</td>\n",
       "      <td>C</td>\n",
       "      <td>(i, j, k, l)</td>\n",
       "      <td>110.0</td>\n",
       "      <td>1802.0</td>\n",
       "      <td>0.965777</td>\n",
       "      <td>0.603273</td>\n",
       "      <td>13</td>\n",
       "      <td>0.098815</td>\n",
       "    </tr>\n",
       "  </tbody>\n",
       "</table>\n",
       "<p>386 rows × 9 columns</p>\n",
       "</div>"
      ],
      "text/plain": [
       "                       x  y             z   time   profit  criteria0  \\\n",
       "id                                                                     \n",
       "-3709377954076378354  10  E  (i, l, k, m)   64.0  10444.0  -0.078279   \n",
       "-2557345861107735535   6  A  (j, l, i, m)    0.0      1.0  -1.530879   \n",
       " 3528809817317481984  10  B  (l, m, i, j)   13.0   3417.0  -1.235819   \n",
       " 6007242308276684661  10  B  (l, i, k, m)   22.0   7089.0  -1.031548   \n",
       "-7010074918900690879  10  B  (j, m, k, l)   26.0   8951.0  -0.940760   \n",
       "...                   .. ..           ...    ...      ...        ...   \n",
       "-6638583988351599717   5  C  (j, m, k, l)   33.0    168.0  -0.781882   \n",
       "-9154516082064337167   5  D  (l, m, i, j)   21.0    111.0  -1.054244   \n",
       " 8168757904882472624   5  D  (m, l, k, i)   24.0    121.0  -0.986154   \n",
       "-6246618741338823645   4  C  (k, l, i, j)   61.0    349.0  -0.146370   \n",
       " 7766670594413344359   1  C  (i, j, k, l)  110.0   1802.0   0.965777   \n",
       "\n",
       "                      criteria1  front     crowd  \n",
       "id                                                \n",
       "-3709377954076378354   6.751078      1       inf  \n",
       "-2557345861107735535  -0.677934      1       inf  \n",
       " 3528809817317481984   1.752163      1  4.739160  \n",
       " 6007242308276684661   4.364375      1  4.231874  \n",
       "-7010074918900690879   5.688977      1  3.339971  \n",
       "...                         ...    ...       ...  \n",
       "-6638583988351599717  -0.559133     13  0.131980  \n",
       "-9154516082064337167  -0.599682     13  0.122021  \n",
       " 8168757904882472624  -0.592568     13  0.102881  \n",
       "-6246618741338823645  -0.430372     13  0.100882  \n",
       " 7766670594413344359   0.603273     13  0.098815  \n",
       "\n",
       "[386 rows x 9 columns]"
      ]
     },
     "execution_count": 44,
     "metadata": {},
     "output_type": "execute_result"
    }
   ],
   "source": [
    "newpop.datasets.fitness"
   ]
  },
  {
   "cell_type": "code",
   "execution_count": 45,
   "metadata": {},
   "outputs": [],
   "source": [
    "newpop.reproduce.tournament(n_children=len(newpop)/2)"
   ]
  },
  {
   "cell_type": "code",
   "execution_count": 46,
   "metadata": {},
   "outputs": [
    {
     "name": "stderr",
     "output_type": "stream",
     "text": [
      "Exception ignored in: <generator object generate_elite_parent_pair at 0x7f76bcfb70b0>\n",
      "Traceback (most recent call last):\n",
      "  File \"<ipython-input-46-f056f8818bf1>\", line 1, in <module>\n",
      "RuntimeError: generator ignored GeneratorExit\n"
     ]
    }
   ],
   "source": [
    "newpop.reproduce.elitism()"
   ]
  },
  {
   "cell_type": "code",
   "execution_count": 47,
   "metadata": {},
   "outputs": [
    {
     "data": {
      "text/plain": [
       "Population with 773 Creatures with genes x (numeric), y (categorical), z (vectorial).\n",
       "        "
      ]
     },
     "execution_count": 47,
     "metadata": {},
     "output_type": "execute_result"
    }
   ],
   "source": [
    "newpop"
   ]
  },
  {
   "cell_type": "code",
   "execution_count": 48,
   "metadata": {},
   "outputs": [],
   "source": [
    "env.simulate(newpop)"
   ]
  },
  {
   "cell_type": "code",
   "execution_count": 49,
   "metadata": {},
   "outputs": [],
   "source": [
    "newpop.apply_fitness.multi_objective.pareto(outputs=['time', 'profit'], objectives=['min', 'max'])"
   ]
  },
  {
   "cell_type": "code",
   "execution_count": 50,
   "metadata": {},
   "outputs": [
    {
     "data": {
      "text/html": [
       "<div>\n",
       "<style scoped>\n",
       "    .dataframe tbody tr th:only-of-type {\n",
       "        vertical-align: middle;\n",
       "    }\n",
       "\n",
       "    .dataframe tbody tr th {\n",
       "        vertical-align: top;\n",
       "    }\n",
       "\n",
       "    .dataframe thead th {\n",
       "        text-align: right;\n",
       "    }\n",
       "</style>\n",
       "<table border=\"1\" class=\"dataframe\">\n",
       "  <thead>\n",
       "    <tr style=\"text-align: right;\">\n",
       "      <th></th>\n",
       "      <th>x</th>\n",
       "      <th>y</th>\n",
       "      <th>z</th>\n",
       "      <th>time</th>\n",
       "      <th>profit</th>\n",
       "      <th>criteria0</th>\n",
       "      <th>criteria1</th>\n",
       "      <th>front</th>\n",
       "      <th>crowd</th>\n",
       "    </tr>\n",
       "    <tr>\n",
       "      <th>id</th>\n",
       "      <th></th>\n",
       "      <th></th>\n",
       "      <th></th>\n",
       "      <th></th>\n",
       "      <th></th>\n",
       "      <th></th>\n",
       "      <th></th>\n",
       "      <th></th>\n",
       "      <th></th>\n",
       "    </tr>\n",
       "  </thead>\n",
       "  <tbody>\n",
       "    <tr>\n",
       "      <th>-2557345861107735535</th>\n",
       "      <td>6</td>\n",
       "      <td>A</td>\n",
       "      <td>(j, l, i, m)</td>\n",
       "      <td>0.0</td>\n",
       "      <td>1.0</td>\n",
       "      <td>-1.312529</td>\n",
       "      <td>-0.774208</td>\n",
       "      <td>1</td>\n",
       "      <td>inf</td>\n",
       "    </tr>\n",
       "    <tr>\n",
       "      <th>7547552849748484800</th>\n",
       "      <td>10</td>\n",
       "      <td>B</td>\n",
       "      <td>(l, m, k, i)</td>\n",
       "      <td>0.0</td>\n",
       "      <td>429.0</td>\n",
       "      <td>-1.312529</td>\n",
       "      <td>-0.568228</td>\n",
       "      <td>1</td>\n",
       "      <td>inf</td>\n",
       "    </tr>\n",
       "    <tr>\n",
       "      <th>9201215717713139753</th>\n",
       "      <td>10</td>\n",
       "      <td>E</td>\n",
       "      <td>(j, k, i, m)</td>\n",
       "      <td>97.0</td>\n",
       "      <td>10471.0</td>\n",
       "      <td>1.160141</td>\n",
       "      <td>4.264615</td>\n",
       "      <td>1</td>\n",
       "      <td>inf</td>\n",
       "    </tr>\n",
       "    <tr>\n",
       "      <th>3528809817317481984</th>\n",
       "      <td>10</td>\n",
       "      <td>B</td>\n",
       "      <td>(l, m, i, j)</td>\n",
       "      <td>13.0</td>\n",
       "      <td>3417.0</td>\n",
       "      <td>-0.981140</td>\n",
       "      <td>0.869786</td>\n",
       "      <td>1</td>\n",
       "      <td>2.745388</td>\n",
       "    </tr>\n",
       "    <tr>\n",
       "      <th>6007242308276684661</th>\n",
       "      <td>10</td>\n",
       "      <td>B</td>\n",
       "      <td>(l, i, k, m)</td>\n",
       "      <td>22.0</td>\n",
       "      <td>7089.0</td>\n",
       "      <td>-0.751717</td>\n",
       "      <td>2.636984</td>\n",
       "      <td>1</td>\n",
       "      <td>2.267556</td>\n",
       "    </tr>\n",
       "    <tr>\n",
       "      <th>...</th>\n",
       "      <td>...</td>\n",
       "      <td>...</td>\n",
       "      <td>...</td>\n",
       "      <td>...</td>\n",
       "      <td>...</td>\n",
       "      <td>...</td>\n",
       "      <td>...</td>\n",
       "      <td>...</td>\n",
       "      <td>...</td>\n",
       "    </tr>\n",
       "    <tr>\n",
       "      <th>-9142143899594030840</th>\n",
       "      <td>2</td>\n",
       "      <td>A</td>\n",
       "      <td>(m, i, j, k)</td>\n",
       "      <td>12.0</td>\n",
       "      <td>36.0</td>\n",
       "      <td>-1.006632</td>\n",
       "      <td>-0.757364</td>\n",
       "      <td>10</td>\n",
       "      <td>0.000481</td>\n",
       "    </tr>\n",
       "    <tr>\n",
       "      <th>-6211984597322468346</th>\n",
       "      <td>4</td>\n",
       "      <td>A</td>\n",
       "      <td>(j, i, m, l)</td>\n",
       "      <td>15.0</td>\n",
       "      <td>28.0</td>\n",
       "      <td>-0.930157</td>\n",
       "      <td>-0.761214</td>\n",
       "      <td>10</td>\n",
       "      <td>0.000481</td>\n",
       "    </tr>\n",
       "    <tr>\n",
       "      <th>-1117568345671185240</th>\n",
       "      <td>2</td>\n",
       "      <td>C</td>\n",
       "      <td>(l, k, i, j)</td>\n",
       "      <td>29.0</td>\n",
       "      <td>274.0</td>\n",
       "      <td>-0.573277</td>\n",
       "      <td>-0.642824</td>\n",
       "      <td>10</td>\n",
       "      <td>0.000481</td>\n",
       "    </tr>\n",
       "    <tr>\n",
       "      <th>-4563970146561520801</th>\n",
       "      <td>3</td>\n",
       "      <td>C</td>\n",
       "      <td>(l, m, i, j)</td>\n",
       "      <td>22.0</td>\n",
       "      <td>168.0</td>\n",
       "      <td>-0.751717</td>\n",
       "      <td>-0.693837</td>\n",
       "      <td>10</td>\n",
       "      <td>0.000000</td>\n",
       "    </tr>\n",
       "    <tr>\n",
       "      <th>2768658673461894287</th>\n",
       "      <td>9</td>\n",
       "      <td>C</td>\n",
       "      <td>(j, k, m, i)</td>\n",
       "      <td>98.0</td>\n",
       "      <td>274.0</td>\n",
       "      <td>1.185632</td>\n",
       "      <td>-0.642824</td>\n",
       "      <td>10</td>\n",
       "      <td>0.000000</td>\n",
       "    </tr>\n",
       "  </tbody>\n",
       "</table>\n",
       "<p>773 rows × 9 columns</p>\n",
       "</div>"
      ],
      "text/plain": [
       "                       x  y             z  time   profit  criteria0  \\\n",
       "id                                                                    \n",
       "-2557345861107735535   6  A  (j, l, i, m)   0.0      1.0  -1.312529   \n",
       " 7547552849748484800  10  B  (l, m, k, i)   0.0    429.0  -1.312529   \n",
       " 9201215717713139753  10  E  (j, k, i, m)  97.0  10471.0   1.160141   \n",
       " 3528809817317481984  10  B  (l, m, i, j)  13.0   3417.0  -0.981140   \n",
       " 6007242308276684661  10  B  (l, i, k, m)  22.0   7089.0  -0.751717   \n",
       "...                   .. ..           ...   ...      ...        ...   \n",
       "-9142143899594030840   2  A  (m, i, j, k)  12.0     36.0  -1.006632   \n",
       "-6211984597322468346   4  A  (j, i, m, l)  15.0     28.0  -0.930157   \n",
       "-1117568345671185240   2  C  (l, k, i, j)  29.0    274.0  -0.573277   \n",
       "-4563970146561520801   3  C  (l, m, i, j)  22.0    168.0  -0.751717   \n",
       " 2768658673461894287   9  C  (j, k, m, i)  98.0    274.0   1.185632   \n",
       "\n",
       "                      criteria1  front     crowd  \n",
       "id                                                \n",
       "-2557345861107735535  -0.774208      1       inf  \n",
       " 7547552849748484800  -0.568228      1       inf  \n",
       " 9201215717713139753   4.264615      1       inf  \n",
       " 3528809817317481984   0.869786      1  2.745388  \n",
       " 6007242308276684661   2.636984      1  2.267556  \n",
       "...                         ...    ...       ...  \n",
       "-9142143899594030840  -0.757364     10  0.000481  \n",
       "-6211984597322468346  -0.761214     10  0.000481  \n",
       "-1117568345671185240  -0.642824     10  0.000481  \n",
       "-4563970146561520801  -0.693837     10  0.000000  \n",
       " 2768658673461894287  -0.642824     10  0.000000  \n",
       "\n",
       "[773 rows x 9 columns]"
      ]
     },
     "execution_count": 50,
     "metadata": {},
     "output_type": "execute_result"
    }
   ],
   "source": [
    "newpop.datasets.fitness"
   ]
  },
  {
   "cell_type": "code",
   "execution_count": 51,
   "metadata": {},
   "outputs": [
    {
     "data": {
      "image/png": "[encoded data removed]",
      "text/plain": [
       "<Figure size 432x288 with 2 Axes>"
      ]
     },
     "metadata": {
      "needs_background": "light"
     },
     "output_type": "display_data"
    }
   ],
   "source": [
    "ax = pareto_objective_pop.plot.fronts('time', 'profit', 1, show_worst=True)"
   ]
  },
  {
   "cell_type": "code",
   "execution_count": 52,
   "metadata": {},
   "outputs": [
    {
     "data": {
      "image/png": "[encoded data removed]",
      "text/plain": [
       "<Figure size 432x288 with 2 Axes>"
      ]
     },
     "metadata": {
      "needs_background": "light"
     },
     "output_type": "display_data"
    }
   ],
   "source": [
    "ax = newpop.plot.fronts('time', 'profit', 1, show_worst=True)"
   ]
  },
  {
   "cell_type": "markdown",
   "metadata": {},
   "source": [
    "## Mutation"
   ]
  },
  {
   "cell_type": "code",
   "execution_count": null,
   "metadata": {},
   "outputs": [],
   "source": []
  },
  {
   "cell_type": "markdown",
   "metadata": {},
   "source": [
    "# Mini process example"
   ]
  },
  {
   "cell_type": "code",
   "execution_count": 53,
   "metadata": {},
   "outputs": [],
   "source": [
    "from tqdm import tqdm"
   ]
  },
  {
   "cell_type": "code",
   "execution_count": 55,
   "metadata": {},
   "outputs": [
    {
     "name": "stderr",
     "output_type": "stream",
     "text": [
      "[mean profit: 3911.49] Generating Offspring...: 100%|██████████| 20/20 [05:13<00:00, 15.68s/it]     \n"
     ]
    }
   ],
   "source": [
    "# population\n",
    "pop_creator = PopulationCreator(genome_blueprint)\n",
    "pop = pop_creator.create.det(7) + pop_creator.create.rand(500)\n",
    "pop.define()\n",
    "\n",
    "#environment\n",
    "env = Environment()\n",
    "env.config.set_process(dummy_process)\n",
    "env.config.set_output_varibles('time', 'profit')\n",
    "\n",
    "# iterarions\n",
    "n_generations = 20\n",
    "pbar = tqdm(range(n_generations))\n",
    "profit = 0\n",
    "for _ in pbar:\n",
    "    pbar.set_description(f'[mean profit: {profit}] Simulating...')\n",
    "    env.simulate(pop)\n",
    "    profit = round(pop.datasets.output['profit'].mean(), 2)\n",
    "    pbar.set_description(f'[mean profit: {profit}] Applying Fitness Criteria...')\n",
    "    pop.apply_fitness.single_objective('profit', objective='max')\n",
    "    pbar.set_description(f'[mean profit: {profit}] Selecting...')\n",
    "    pop = pop.select()\n",
    "    pbar.set_description(f'[mean profit: {profit}] Generating Offspring...')\n",
    "    pop.reproduce.tournament(n_dispute=2)"
   ]
  },
  {
   "cell_type": "code",
   "execution_count": 60,
   "metadata": {},
   "outputs": [
    {
     "data": {
      "text/plain": [
       "<AxesSubplot:xlabel='generation', ylabel='profit'>"
      ]
     },
     "execution_count": 60,
     "metadata": {},
     "output_type": "execute_result"
    },
    {
     "data": {
      "image/png": "[encoded data removed]",
      "text/plain": [
       "<Figure size 432x288 with 1 Axes>"
      ]
     },
     "metadata": {
      "needs_background": "light"
     },
     "output_type": "display_data"
    }
   ],
   "source": [
    "pop.plot.history('profit', 'mean')"
   ]
  }
 ],
 "metadata": {
  "kernelspec": {
   "display_name": "Lamarck Env",
   "language": "python",
   "name": "lamarck"
  },
  "language_info": {
   "codemirror_mode": {
    "name": "ipython",
    "version": 3
   },
   "file_extension": ".py",
   "mimetype": "text/x-python",
   "name": "python",
   "nbconvert_exporter": "python",
   "pygments_lexer": "ipython3",
   "version": "3.9.1"
  }
 },
 "nbformat": 4,
 "nbformat_minor": 4
}
