{
 "cells": [
  {
   "cell_type": "code",
   "execution_count": 1,
   "metadata": {},
   "outputs": [],
   "source": [
    "import sys\n",
    "import numpy as np\n",
    "import pandas as pd\n",
    "sys.path.append('../..')"
   ]
  },
  {
   "cell_type": "markdown",
   "metadata": {},
   "source": [
    "# Creature"
   ]
  },
  {
   "cell_type": "code",
   "execution_count": 2,
   "metadata": {},
   "outputs": [],
   "source": [
    "from lamarck import Creature"
   ]
  },
  {
   "cell_type": "code",
   "execution_count": 3,
   "metadata": {},
   "outputs": [],
   "source": [
    "genome = {\n",
    "    'x': 10,\n",
    "    'y': 'A',\n",
    "    'z': (1, 2, 3)\n",
    "}"
   ]
  },
  {
   "cell_type": "code",
   "execution_count": 4,
   "metadata": {},
   "outputs": [],
   "source": [
    "creature = Creature(genome)"
   ]
  },
  {
   "cell_type": "code",
   "execution_count": 5,
   "metadata": {},
   "outputs": [
    {
     "data": {
      "text/plain": [
       "-4923803524549828126"
      ]
     },
     "execution_count": 5,
     "metadata": {},
     "output_type": "execute_result"
    }
   ],
   "source": [
    "creature.id"
   ]
  },
  {
   "cell_type": "markdown",
   "metadata": {},
   "source": [
    "# Genome Creator"
   ]
  },
  {
   "cell_type": "code",
   "execution_count": 6,
   "metadata": {},
   "outputs": [],
   "source": [
    "from lamarck.assistant import GenomeCreator"
   ]
  },
  {
   "cell_type": "code",
   "execution_count": 7,
   "metadata": {},
   "outputs": [],
   "source": [
    "genome_creator = GenomeCreator()"
   ]
  },
  {
   "cell_type": "code",
   "execution_count": 8,
   "metadata": {},
   "outputs": [],
   "source": [
    "genome_creator.add_gene_specs.numeric(name='x',\n",
    "                                      min=0,\n",
    "                                      max=10,\n",
    "                                      progression='linear',\n",
    "                                      domain='int')\n",
    "\n",
    "genome_creator.add_gene_specs.categorical(name='y', domain=['A', 'B', 'C', 'D', 'E'])\n",
    "\n",
    "genome_creator.add_gene_specs.vectorial(name='z', length=4, replace=False, domain=['i', 'j', 'k', 'l', 'm'])"
   ]
  },
  {
   "cell_type": "code",
   "execution_count": 9,
   "metadata": {},
   "outputs": [],
   "source": [
    "genome_blueprint = genome_creator.get_genome_blueprint()"
   ]
  },
  {
   "cell_type": "code",
   "execution_count": 10,
   "metadata": {},
   "outputs": [
    {
     "data": {
      "text/plain": [
       "{'x': {'type': 'numeric',\n",
       "  'domain': 'int',\n",
       "  'ranges': {'min': 0, 'max': 10, 'progression': 'linear'}},\n",
       " 'y': {'type': 'categorical', 'domain': ['A', 'B', 'C', 'D', 'E']},\n",
       " 'z': {'type': 'vectorial',\n",
       "  'domain': ['i', 'j', 'k', 'l', 'm'],\n",
       "  'ranges': {'length': 4, 'replace': False}}}"
      ]
     },
     "execution_count": 10,
     "metadata": {},
     "output_type": "execute_result"
    }
   ],
   "source": [
    "genome_blueprint"
   ]
  },
  {
   "cell_type": "markdown",
   "metadata": {},
   "source": [
    "# Population Creator"
   ]
  },
  {
   "cell_type": "code",
   "execution_count": 11,
   "metadata": {},
   "outputs": [],
   "source": [
    "from lamarck.assistant import PopulationCreator"
   ]
  },
  {
   "cell_type": "code",
   "execution_count": 12,
   "metadata": {},
   "outputs": [],
   "source": [
    "pop_creator = PopulationCreator(genome_blueprint)"
   ]
  },
  {
   "cell_type": "code",
   "execution_count": 13,
   "metadata": {},
   "outputs": [
    {
     "data": {
      "text/plain": [
       "Population with 512 Creatures with genes x (numeric), y (categorical), z (vectorial).\n",
       "        "
      ]
     },
     "execution_count": 13,
     "metadata": {},
     "output_type": "execute_result"
    }
   ],
   "source": [
    "popdet = pop_creator.create.det(8)\n",
    "popdet"
   ]
  },
  {
   "cell_type": "code",
   "execution_count": 14,
   "metadata": {},
   "outputs": [
    {
     "data": {
      "text/html": [
       "<div>\n",
       "<style scoped>\n",
       "    .dataframe tbody tr th:only-of-type {\n",
       "        vertical-align: middle;\n",
       "    }\n",
       "\n",
       "    .dataframe tbody tr th {\n",
       "        vertical-align: top;\n",
       "    }\n",
       "\n",
       "    .dataframe thead th {\n",
       "        text-align: right;\n",
       "    }\n",
       "</style>\n",
       "<table border=\"1\" class=\"dataframe\">\n",
       "  <thead>\n",
       "    <tr style=\"text-align: right;\">\n",
       "      <th></th>\n",
       "      <th>x</th>\n",
       "      <th>y</th>\n",
       "      <th>z</th>\n",
       "    </tr>\n",
       "    <tr>\n",
       "      <th>id</th>\n",
       "      <th></th>\n",
       "      <th></th>\n",
       "      <th></th>\n",
       "    </tr>\n",
       "  </thead>\n",
       "  <tbody>\n",
       "    <tr>\n",
       "      <th>5652851838151063224</th>\n",
       "      <td>0</td>\n",
       "      <td>A</td>\n",
       "      <td>(i, j, k, l)</td>\n",
       "    </tr>\n",
       "    <tr>\n",
       "      <th>-795557098888842668</th>\n",
       "      <td>0</td>\n",
       "      <td>A</td>\n",
       "      <td>(i, l, k, m)</td>\n",
       "    </tr>\n",
       "    <tr>\n",
       "      <th>332427032069065589</th>\n",
       "      <td>0</td>\n",
       "      <td>A</td>\n",
       "      <td>(j, k, i, l)</td>\n",
       "    </tr>\n",
       "    <tr>\n",
       "      <th>458982184089317286</th>\n",
       "      <td>0</td>\n",
       "      <td>A</td>\n",
       "      <td>(j, m, k, l)</td>\n",
       "    </tr>\n",
       "    <tr>\n",
       "      <th>414599337400958178</th>\n",
       "      <td>0</td>\n",
       "      <td>A</td>\n",
       "      <td>(k, l, i, j)</td>\n",
       "    </tr>\n",
       "  </tbody>\n",
       "</table>\n",
       "</div>"
      ],
      "text/plain": [
       "                      x  y             z\n",
       "id                                      \n",
       " 5652851838151063224  0  A  (i, j, k, l)\n",
       "-795557098888842668   0  A  (i, l, k, m)\n",
       " 332427032069065589   0  A  (j, k, i, l)\n",
       " 458982184089317286   0  A  (j, m, k, l)\n",
       " 414599337400958178   0  A  (k, l, i, j)"
      ]
     },
     "execution_count": 14,
     "metadata": {},
     "output_type": "execute_result"
    }
   ],
   "source": [
    "popdet.datasets.input.head()"
   ]
  },
  {
   "cell_type": "code",
   "execution_count": 15,
   "metadata": {},
   "outputs": [
    {
     "data": {
      "text/plain": [
       "Population with 500 Creatures with genes x (numeric), y (categorical), z (vectorial).\n",
       "        "
      ]
     },
     "execution_count": 15,
     "metadata": {},
     "output_type": "execute_result"
    }
   ],
   "source": [
    "poprand = pop_creator.create.rand(500)\n",
    "poprand"
   ]
  },
  {
   "cell_type": "code",
   "execution_count": 16,
   "metadata": {},
   "outputs": [
    {
     "data": {
      "text/html": [
       "<div>\n",
       "<style scoped>\n",
       "    .dataframe tbody tr th:only-of-type {\n",
       "        vertical-align: middle;\n",
       "    }\n",
       "\n",
       "    .dataframe tbody tr th {\n",
       "        vertical-align: top;\n",
       "    }\n",
       "\n",
       "    .dataframe thead th {\n",
       "        text-align: right;\n",
       "    }\n",
       "</style>\n",
       "<table border=\"1\" class=\"dataframe\">\n",
       "  <thead>\n",
       "    <tr style=\"text-align: right;\">\n",
       "      <th></th>\n",
       "      <th>x</th>\n",
       "      <th>y</th>\n",
       "      <th>z</th>\n",
       "    </tr>\n",
       "    <tr>\n",
       "      <th>id</th>\n",
       "      <th></th>\n",
       "      <th></th>\n",
       "      <th></th>\n",
       "    </tr>\n",
       "  </thead>\n",
       "  <tbody>\n",
       "    <tr>\n",
       "      <th>-7355598769063428848</th>\n",
       "      <td>4</td>\n",
       "      <td>E</td>\n",
       "      <td>(m, k, j, i)</td>\n",
       "    </tr>\n",
       "    <tr>\n",
       "      <th>-5724919469538494420</th>\n",
       "      <td>4</td>\n",
       "      <td>A</td>\n",
       "      <td>(k, j, i, m)</td>\n",
       "    </tr>\n",
       "    <tr>\n",
       "      <th>-7857553570268349064</th>\n",
       "      <td>2</td>\n",
       "      <td>E</td>\n",
       "      <td>(k, m, j, l)</td>\n",
       "    </tr>\n",
       "    <tr>\n",
       "      <th>6078628270444982159</th>\n",
       "      <td>2</td>\n",
       "      <td>E</td>\n",
       "      <td>(i, l, j, k)</td>\n",
       "    </tr>\n",
       "    <tr>\n",
       "      <th>-204012818183505536</th>\n",
       "      <td>4</td>\n",
       "      <td>B</td>\n",
       "      <td>(i, j, m, l)</td>\n",
       "    </tr>\n",
       "  </tbody>\n",
       "</table>\n",
       "</div>"
      ],
      "text/plain": [
       "                      x  y             z\n",
       "id                                      \n",
       "-7355598769063428848  4  E  (m, k, j, i)\n",
       "-5724919469538494420  4  A  (k, j, i, m)\n",
       "-7857553570268349064  2  E  (k, m, j, l)\n",
       " 6078628270444982159  2  E  (i, l, j, k)\n",
       "-204012818183505536   4  B  (i, j, m, l)"
      ]
     },
     "execution_count": 16,
     "metadata": {},
     "output_type": "execute_result"
    }
   ],
   "source": [
    "poprand.datasets.input.head()"
   ]
  },
  {
   "cell_type": "code",
   "execution_count": 17,
   "metadata": {},
   "outputs": [
    {
     "data": {
      "text/plain": [
       "Population with 1012 Creatures with genes x (numeric), y (categorical), z (vectorial).\n",
       "        "
      ]
     },
     "execution_count": 17,
     "metadata": {},
     "output_type": "execute_result"
    }
   ],
   "source": [
    "pop = popdet + poprand\n",
    "pop"
   ]
  },
  {
   "cell_type": "code",
   "execution_count": 18,
   "metadata": {},
   "outputs": [
    {
     "data": {
      "text/plain": [
       "Population with 779 Creatures with genes x (numeric), y (categorical), z (vectorial).\n",
       "        "
      ]
     },
     "execution_count": 18,
     "metadata": {},
     "output_type": "execute_result"
    }
   ],
   "source": [
    "pop.drop_duplicates()\n",
    "pop"
   ]
  },
  {
   "cell_type": "code",
   "execution_count": 19,
   "metadata": {},
   "outputs": [
    {
     "data": {
      "text/html": [
       "<div>\n",
       "<style scoped>\n",
       "    .dataframe tbody tr th:only-of-type {\n",
       "        vertical-align: middle;\n",
       "    }\n",
       "\n",
       "    .dataframe tbody tr th {\n",
       "        vertical-align: top;\n",
       "    }\n",
       "\n",
       "    .dataframe thead th {\n",
       "        text-align: right;\n",
       "    }\n",
       "</style>\n",
       "<table border=\"1\" class=\"dataframe\">\n",
       "  <thead>\n",
       "    <tr style=\"text-align: right;\">\n",
       "      <th></th>\n",
       "      <th>x</th>\n",
       "      <th>y</th>\n",
       "      <th>z</th>\n",
       "    </tr>\n",
       "    <tr>\n",
       "      <th>id</th>\n",
       "      <th></th>\n",
       "      <th></th>\n",
       "      <th></th>\n",
       "    </tr>\n",
       "  </thead>\n",
       "  <tbody>\n",
       "    <tr>\n",
       "      <th>5652851838151063224</th>\n",
       "      <td>0</td>\n",
       "      <td>A</td>\n",
       "      <td>(i, j, k, l)</td>\n",
       "    </tr>\n",
       "    <tr>\n",
       "      <th>-795557098888842668</th>\n",
       "      <td>0</td>\n",
       "      <td>A</td>\n",
       "      <td>(i, l, k, m)</td>\n",
       "    </tr>\n",
       "    <tr>\n",
       "      <th>332427032069065589</th>\n",
       "      <td>0</td>\n",
       "      <td>A</td>\n",
       "      <td>(j, k, i, l)</td>\n",
       "    </tr>\n",
       "    <tr>\n",
       "      <th>458982184089317286</th>\n",
       "      <td>0</td>\n",
       "      <td>A</td>\n",
       "      <td>(j, m, k, l)</td>\n",
       "    </tr>\n",
       "    <tr>\n",
       "      <th>414599337400958178</th>\n",
       "      <td>0</td>\n",
       "      <td>A</td>\n",
       "      <td>(k, l, i, j)</td>\n",
       "    </tr>\n",
       "  </tbody>\n",
       "</table>\n",
       "</div>"
      ],
      "text/plain": [
       "                      x  y             z\n",
       "id                                      \n",
       " 5652851838151063224  0  A  (i, j, k, l)\n",
       "-795557098888842668   0  A  (i, l, k, m)\n",
       " 332427032069065589   0  A  (j, k, i, l)\n",
       " 458982184089317286   0  A  (j, m, k, l)\n",
       " 414599337400958178   0  A  (k, l, i, j)"
      ]
     },
     "execution_count": 19,
     "metadata": {},
     "output_type": "execute_result"
    }
   ],
   "source": [
    "pop.datasets.input.head()"
   ]
  },
  {
   "cell_type": "code",
   "execution_count": 20,
   "metadata": {},
   "outputs": [],
   "source": [
    "pop.define()"
   ]
  },
  {
   "cell_type": "markdown",
   "metadata": {},
   "source": [
    "# Environment"
   ]
  },
  {
   "cell_type": "code",
   "execution_count": 21,
   "metadata": {},
   "outputs": [],
   "source": [
    "from lamarck import Environment"
   ]
  },
  {
   "cell_type": "code",
   "execution_count": 22,
   "metadata": {},
   "outputs": [],
   "source": [
    "import hashlib\n",
    "\n",
    "def tuplehash(tuple_obj):\n",
    "    encoded = ''.join(tuple_obj).encode()\n",
    "    m = hashlib.md5()\n",
    "    m.update(encoded)\n",
    "    d = m.digest()\n",
    "    return int.from_bytes(d, 'big')\n",
    "    \n",
    "    \n",
    "def dummy_process(x, y, z):\n",
    "    zval = (tuplehash(z) % 1000) / (x+1)**0.75\n",
    "    yval = zval // ord(y) + tuplehash((y, y)) % 73\n",
    "    return {\n",
    "        'time': (x + 1) * abs(zval - yval) // 10,\n",
    "        'profit': (abs(3*zval - 2*yval)**((int(x/10) + 1) % 9) // (tuplehash((y, y)) % 7 + 1)) % 10000 + (zval*yval) //10\n",
    "    }"
   ]
  },
  {
   "cell_type": "code",
   "execution_count": 23,
   "metadata": {},
   "outputs": [],
   "source": [
    "env = Environment()"
   ]
  },
  {
   "cell_type": "code",
   "execution_count": 24,
   "metadata": {},
   "outputs": [],
   "source": [
    "env.config.set_process(dummy_process)"
   ]
  },
  {
   "cell_type": "code",
   "execution_count": 25,
   "metadata": {},
   "outputs": [],
   "source": [
    "env.config.set_output_varibles('time', 'profit')"
   ]
  },
  {
   "cell_type": "code",
   "execution_count": 26,
   "metadata": {},
   "outputs": [
    {
     "data": {
      "text/plain": [
       "multi:   False\n",
       "output_varibles:   ('time', 'profit')\n",
       "process:   <function dummy_process at 0x7f7373ad5940>"
      ]
     },
     "execution_count": 26,
     "metadata": {},
     "output_type": "execute_result"
    }
   ],
   "source": [
    "env.config"
   ]
  },
  {
   "cell_type": "code",
   "execution_count": 27,
   "metadata": {},
   "outputs": [
    {
     "data": {
      "text/plain": [
       "Creature <6042297926356437636> - genome: {'x': 0, 'y': 'B', 'z': ('j', 'k', 'i', 'l')}"
      ]
     },
     "execution_count": 27,
     "metadata": {},
     "output_type": "execute_result"
    }
   ],
   "source": [
    "cr = pop[10]\n",
    "cr"
   ]
  },
  {
   "cell_type": "markdown",
   "metadata": {},
   "source": [
    "### Simulate Creature"
   ]
  },
  {
   "cell_type": "code",
   "execution_count": 28,
   "metadata": {},
   "outputs": [
    {
     "data": {
      "text/plain": [
       "{'time': 54.0, 'profit': 3384.0}"
      ]
     },
     "execution_count": 28,
     "metadata": {},
     "output_type": "execute_result"
    }
   ],
   "source": [
    "env.simulate(cr)"
   ]
  },
  {
   "cell_type": "markdown",
   "metadata": {},
   "source": [
    "### Simulate Population"
   ]
  },
  {
   "cell_type": "code",
   "execution_count": 29,
   "metadata": {},
   "outputs": [],
   "source": [
    "simpop = pop.copy()"
   ]
  },
  {
   "cell_type": "code",
   "execution_count": 30,
   "metadata": {},
   "outputs": [],
   "source": [
    "env.simulate(simpop)"
   ]
  },
  {
   "cell_type": "code",
   "execution_count": 31,
   "metadata": {},
   "outputs": [
    {
     "data": {
      "text/html": [
       "<div>\n",
       "<style scoped>\n",
       "    .dataframe tbody tr th:only-of-type {\n",
       "        vertical-align: middle;\n",
       "    }\n",
       "\n",
       "    .dataframe tbody tr th {\n",
       "        vertical-align: top;\n",
       "    }\n",
       "\n",
       "    .dataframe thead th {\n",
       "        text-align: right;\n",
       "    }\n",
       "</style>\n",
       "<table border=\"1\" class=\"dataframe\">\n",
       "  <thead>\n",
       "    <tr style=\"text-align: right;\">\n",
       "      <th></th>\n",
       "      <th>x</th>\n",
       "      <th>y</th>\n",
       "      <th>z</th>\n",
       "      <th>time</th>\n",
       "      <th>profit</th>\n",
       "    </tr>\n",
       "    <tr>\n",
       "      <th>id</th>\n",
       "      <th></th>\n",
       "      <th></th>\n",
       "      <th></th>\n",
       "      <th></th>\n",
       "      <th></th>\n",
       "    </tr>\n",
       "  </thead>\n",
       "  <tbody>\n",
       "    <tr>\n",
       "      <th>5652851838151063224</th>\n",
       "      <td>0</td>\n",
       "      <td>A</td>\n",
       "      <td>(i, j, k, l)</td>\n",
       "      <td>95.0</td>\n",
       "      <td>2154.0</td>\n",
       "    </tr>\n",
       "    <tr>\n",
       "      <th>-795557098888842668</th>\n",
       "      <td>0</td>\n",
       "      <td>A</td>\n",
       "      <td>(i, l, k, m)</td>\n",
       "      <td>62.0</td>\n",
       "      <td>1105.0</td>\n",
       "    </tr>\n",
       "    <tr>\n",
       "      <th>332427032069065589</th>\n",
       "      <td>0</td>\n",
       "      <td>A</td>\n",
       "      <td>(j, k, i, l)</td>\n",
       "      <td>56.0</td>\n",
       "      <td>930.0</td>\n",
       "    </tr>\n",
       "    <tr>\n",
       "      <th>458982184089317286</th>\n",
       "      <td>0</td>\n",
       "      <td>A</td>\n",
       "      <td>(j, m, k, l)</td>\n",
       "      <td>27.0</td>\n",
       "      <td>338.0</td>\n",
       "    </tr>\n",
       "    <tr>\n",
       "      <th>414599337400958178</th>\n",
       "      <td>0</td>\n",
       "      <td>A</td>\n",
       "      <td>(k, l, i, j)</td>\n",
       "      <td>45.0</td>\n",
       "      <td>715.0</td>\n",
       "    </tr>\n",
       "  </tbody>\n",
       "</table>\n",
       "</div>"
      ],
      "text/plain": [
       "                      x  y             z  time  profit\n",
       "id                                                    \n",
       " 5652851838151063224  0  A  (i, j, k, l)  95.0  2154.0\n",
       "-795557098888842668   0  A  (i, l, k, m)  62.0  1105.0\n",
       " 332427032069065589   0  A  (j, k, i, l)  56.0   930.0\n",
       " 458982184089317286   0  A  (j, m, k, l)  27.0   338.0\n",
       " 414599337400958178   0  A  (k, l, i, j)  45.0   715.0"
      ]
     },
     "execution_count": 31,
     "metadata": {},
     "output_type": "execute_result"
    }
   ],
   "source": [
    "simpop.datasets.output.head()"
   ]
  },
  {
   "cell_type": "markdown",
   "metadata": {},
   "source": [
    "### Simulate Population - Multi Thread"
   ]
  },
  {
   "cell_type": "code",
   "execution_count": 32,
   "metadata": {},
   "outputs": [],
   "source": [
    "env.config.set_multi(True)"
   ]
  },
  {
   "cell_type": "code",
   "execution_count": 33,
   "metadata": {},
   "outputs": [],
   "source": [
    "env.simulate(simpop)"
   ]
  },
  {
   "cell_type": "code",
   "execution_count": 34,
   "metadata": {},
   "outputs": [
    {
     "data": {
      "text/html": [
       "<div>\n",
       "<style scoped>\n",
       "    .dataframe tbody tr th:only-of-type {\n",
       "        vertical-align: middle;\n",
       "    }\n",
       "\n",
       "    .dataframe tbody tr th {\n",
       "        vertical-align: top;\n",
       "    }\n",
       "\n",
       "    .dataframe thead th {\n",
       "        text-align: right;\n",
       "    }\n",
       "</style>\n",
       "<table border=\"1\" class=\"dataframe\">\n",
       "  <thead>\n",
       "    <tr style=\"text-align: right;\">\n",
       "      <th></th>\n",
       "      <th>x</th>\n",
       "      <th>y</th>\n",
       "      <th>z</th>\n",
       "      <th>time</th>\n",
       "      <th>profit</th>\n",
       "    </tr>\n",
       "    <tr>\n",
       "      <th>id</th>\n",
       "      <th></th>\n",
       "      <th></th>\n",
       "      <th></th>\n",
       "      <th></th>\n",
       "      <th></th>\n",
       "    </tr>\n",
       "  </thead>\n",
       "  <tbody>\n",
       "    <tr>\n",
       "      <th>5652851838151063224</th>\n",
       "      <td>0</td>\n",
       "      <td>A</td>\n",
       "      <td>(i, j, k, l)</td>\n",
       "      <td>95.0</td>\n",
       "      <td>2154.0</td>\n",
       "    </tr>\n",
       "    <tr>\n",
       "      <th>-795557098888842668</th>\n",
       "      <td>0</td>\n",
       "      <td>A</td>\n",
       "      <td>(i, l, k, m)</td>\n",
       "      <td>62.0</td>\n",
       "      <td>1105.0</td>\n",
       "    </tr>\n",
       "    <tr>\n",
       "      <th>332427032069065589</th>\n",
       "      <td>0</td>\n",
       "      <td>A</td>\n",
       "      <td>(j, k, i, l)</td>\n",
       "      <td>56.0</td>\n",
       "      <td>930.0</td>\n",
       "    </tr>\n",
       "    <tr>\n",
       "      <th>458982184089317286</th>\n",
       "      <td>0</td>\n",
       "      <td>A</td>\n",
       "      <td>(j, m, k, l)</td>\n",
       "      <td>27.0</td>\n",
       "      <td>338.0</td>\n",
       "    </tr>\n",
       "    <tr>\n",
       "      <th>414599337400958178</th>\n",
       "      <td>0</td>\n",
       "      <td>A</td>\n",
       "      <td>(k, l, i, j)</td>\n",
       "      <td>45.0</td>\n",
       "      <td>715.0</td>\n",
       "    </tr>\n",
       "  </tbody>\n",
       "</table>\n",
       "</div>"
      ],
      "text/plain": [
       "                      x  y             z  time  profit\n",
       "id                                                    \n",
       " 5652851838151063224  0  A  (i, j, k, l)  95.0  2154.0\n",
       "-795557098888842668   0  A  (i, l, k, m)  62.0  1105.0\n",
       " 332427032069065589   0  A  (j, k, i, l)  56.0   930.0\n",
       " 458982184089317286   0  A  (j, m, k, l)  27.0   338.0\n",
       " 414599337400958178   0  A  (k, l, i, j)  45.0   715.0"
      ]
     },
     "execution_count": 34,
     "metadata": {},
     "output_type": "execute_result"
    }
   ],
   "source": [
    "simpop.datasets.output.head()"
   ]
  },
  {
   "cell_type": "markdown",
   "metadata": {},
   "source": [
    "# Fitness"
   ]
  },
  {
   "cell_type": "markdown",
   "metadata": {},
   "source": [
    "### 1. Single Objective"
   ]
  },
  {
   "cell_type": "code",
   "execution_count": 35,
   "metadata": {},
   "outputs": [],
   "source": [
    "single_objective_pop = simpop.copy()\n",
    "single_objective_pop.apply_fitness.single_objective(output='time', objective='min')"
   ]
  },
  {
   "cell_type": "code",
   "execution_count": 36,
   "metadata": {},
   "outputs": [
    {
     "data": {
      "text/html": [
       "<div>\n",
       "<style scoped>\n",
       "    .dataframe tbody tr th:only-of-type {\n",
       "        vertical-align: middle;\n",
       "    }\n",
       "\n",
       "    .dataframe tbody tr th {\n",
       "        vertical-align: top;\n",
       "    }\n",
       "\n",
       "    .dataframe thead th {\n",
       "        text-align: right;\n",
       "    }\n",
       "</style>\n",
       "<table border=\"1\" class=\"dataframe\">\n",
       "  <thead>\n",
       "    <tr style=\"text-align: right;\">\n",
       "      <th></th>\n",
       "      <th>x</th>\n",
       "      <th>y</th>\n",
       "      <th>z</th>\n",
       "      <th>time</th>\n",
       "      <th>profit</th>\n",
       "      <th>criteria</th>\n",
       "    </tr>\n",
       "    <tr>\n",
       "      <th>id</th>\n",
       "      <th></th>\n",
       "      <th></th>\n",
       "      <th></th>\n",
       "      <th></th>\n",
       "      <th></th>\n",
       "      <th></th>\n",
       "    </tr>\n",
       "  </thead>\n",
       "  <tbody>\n",
       "    <tr>\n",
       "      <th>7800982636879079842</th>\n",
       "      <td>1</td>\n",
       "      <td>C</td>\n",
       "      <td>(l, k, m, j)</td>\n",
       "      <td>0.0</td>\n",
       "      <td>27.0</td>\n",
       "      <td>0.0</td>\n",
       "    </tr>\n",
       "    <tr>\n",
       "      <th>-8079716962524445637</th>\n",
       "      <td>7</td>\n",
       "      <td>D</td>\n",
       "      <td>(k, m, l, j)</td>\n",
       "      <td>0.0</td>\n",
       "      <td>30.0</td>\n",
       "      <td>0.0</td>\n",
       "    </tr>\n",
       "    <tr>\n",
       "      <th>-6785697022506774461</th>\n",
       "      <td>0</td>\n",
       "      <td>E</td>\n",
       "      <td>(l, j, m, k)</td>\n",
       "      <td>0.0</td>\n",
       "      <td>193.0</td>\n",
       "      <td>0.0</td>\n",
       "    </tr>\n",
       "    <tr>\n",
       "      <th>4116382070232022655</th>\n",
       "      <td>1</td>\n",
       "      <td>A</td>\n",
       "      <td>(m, l, i, j)</td>\n",
       "      <td>0.0</td>\n",
       "      <td>3.0</td>\n",
       "      <td>0.0</td>\n",
       "    </tr>\n",
       "    <tr>\n",
       "      <th>6873272289056784857</th>\n",
       "      <td>0</td>\n",
       "      <td>B</td>\n",
       "      <td>(j, l, i, m)</td>\n",
       "      <td>0.0</td>\n",
       "      <td>33.0</td>\n",
       "      <td>0.0</td>\n",
       "    </tr>\n",
       "  </tbody>\n",
       "</table>\n",
       "</div>"
      ],
      "text/plain": [
       "                      x  y             z  time  profit  criteria\n",
       "id                                                              \n",
       " 7800982636879079842  1  C  (l, k, m, j)   0.0    27.0       0.0\n",
       "-8079716962524445637  7  D  (k, m, l, j)   0.0    30.0       0.0\n",
       "-6785697022506774461  0  E  (l, j, m, k)   0.0   193.0       0.0\n",
       " 4116382070232022655  1  A  (m, l, i, j)   0.0     3.0       0.0\n",
       " 6873272289056784857  0  B  (j, l, i, m)   0.0    33.0       0.0"
      ]
     },
     "execution_count": 36,
     "metadata": {},
     "output_type": "execute_result"
    }
   ],
   "source": [
    "single_objective_pop.datasets.fitness.head()"
   ]
  },
  {
   "cell_type": "markdown",
   "metadata": {},
   "source": [
    "### 2. Multi Objective - Ranked"
   ]
  },
  {
   "cell_type": "code",
   "execution_count": 37,
   "metadata": {},
   "outputs": [],
   "source": [
    "ranked_objective_pop = simpop.copy()\n",
    "ranked_objective_pop.apply_fitness.multi_objective.ranked(priorities=['time', 'profit'], objectives=['min', 'max'])"
   ]
  },
  {
   "cell_type": "code",
   "execution_count": 38,
   "metadata": {},
   "outputs": [
    {
     "data": {
      "text/html": [
       "<div>\n",
       "<style scoped>\n",
       "    .dataframe tbody tr th:only-of-type {\n",
       "        vertical-align: middle;\n",
       "    }\n",
       "\n",
       "    .dataframe tbody tr th {\n",
       "        vertical-align: top;\n",
       "    }\n",
       "\n",
       "    .dataframe thead th {\n",
       "        text-align: right;\n",
       "    }\n",
       "</style>\n",
       "<table border=\"1\" class=\"dataframe\">\n",
       "  <thead>\n",
       "    <tr style=\"text-align: right;\">\n",
       "      <th></th>\n",
       "      <th>x</th>\n",
       "      <th>y</th>\n",
       "      <th>z</th>\n",
       "      <th>time</th>\n",
       "      <th>profit</th>\n",
       "      <th>criteria0</th>\n",
       "      <th>criteria1</th>\n",
       "    </tr>\n",
       "    <tr>\n",
       "      <th>id</th>\n",
       "      <th></th>\n",
       "      <th></th>\n",
       "      <th></th>\n",
       "      <th></th>\n",
       "      <th></th>\n",
       "      <th></th>\n",
       "      <th></th>\n",
       "    </tr>\n",
       "  </thead>\n",
       "  <tbody>\n",
       "    <tr>\n",
       "      <th>5485827359507046667</th>\n",
       "      <td>2</td>\n",
       "      <td>E</td>\n",
       "      <td>(m, i, j, k)</td>\n",
       "      <td>0.0</td>\n",
       "      <td>227.0</td>\n",
       "      <td>0.0</td>\n",
       "      <td>227.0</td>\n",
       "    </tr>\n",
       "    <tr>\n",
       "      <th>-6785697022506774461</th>\n",
       "      <td>0</td>\n",
       "      <td>E</td>\n",
       "      <td>(l, j, m, k)</td>\n",
       "      <td>0.0</td>\n",
       "      <td>193.0</td>\n",
       "      <td>0.0</td>\n",
       "      <td>193.0</td>\n",
       "    </tr>\n",
       "    <tr>\n",
       "      <th>6873272289056784857</th>\n",
       "      <td>0</td>\n",
       "      <td>B</td>\n",
       "      <td>(j, l, i, m)</td>\n",
       "      <td>0.0</td>\n",
       "      <td>33.0</td>\n",
       "      <td>0.0</td>\n",
       "      <td>33.0</td>\n",
       "    </tr>\n",
       "    <tr>\n",
       "      <th>-8079716962524445637</th>\n",
       "      <td>7</td>\n",
       "      <td>D</td>\n",
       "      <td>(k, m, l, j)</td>\n",
       "      <td>0.0</td>\n",
       "      <td>30.0</td>\n",
       "      <td>0.0</td>\n",
       "      <td>30.0</td>\n",
       "    </tr>\n",
       "    <tr>\n",
       "      <th>7800982636879079842</th>\n",
       "      <td>1</td>\n",
       "      <td>C</td>\n",
       "      <td>(l, k, m, j)</td>\n",
       "      <td>0.0</td>\n",
       "      <td>27.0</td>\n",
       "      <td>0.0</td>\n",
       "      <td>27.0</td>\n",
       "    </tr>\n",
       "  </tbody>\n",
       "</table>\n",
       "</div>"
      ],
      "text/plain": [
       "                      x  y             z  time  profit  criteria0  criteria1\n",
       "id                                                                          \n",
       " 5485827359507046667  2  E  (m, i, j, k)   0.0   227.0        0.0      227.0\n",
       "-6785697022506774461  0  E  (l, j, m, k)   0.0   193.0        0.0      193.0\n",
       " 6873272289056784857  0  B  (j, l, i, m)   0.0    33.0        0.0       33.0\n",
       "-8079716962524445637  7  D  (k, m, l, j)   0.0    30.0        0.0       30.0\n",
       " 7800982636879079842  1  C  (l, k, m, j)   0.0    27.0        0.0       27.0"
      ]
     },
     "execution_count": 38,
     "metadata": {},
     "output_type": "execute_result"
    }
   ],
   "source": [
    "ranked_objective_pop.datasets.fitness.head()"
   ]
  },
  {
   "cell_type": "markdown",
   "metadata": {},
   "source": [
    "### 3. Multi Objective - Pareto"
   ]
  },
  {
   "cell_type": "code",
   "execution_count": 39,
   "metadata": {},
   "outputs": [],
   "source": [
    "pareto_objective_pop = simpop.copy()\n",
    "pareto_objective_pop.apply_fitness.multi_objective.pareto(outputs=['time', 'profit'], objectives=['min', 'max'])"
   ]
  },
  {
   "cell_type": "code",
   "execution_count": 40,
   "metadata": {},
   "outputs": [
    {
     "data": {
      "text/html": [
       "<div>\n",
       "<style scoped>\n",
       "    .dataframe tbody tr th:only-of-type {\n",
       "        vertical-align: middle;\n",
       "    }\n",
       "\n",
       "    .dataframe tbody tr th {\n",
       "        vertical-align: top;\n",
       "    }\n",
       "\n",
       "    .dataframe thead th {\n",
       "        text-align: right;\n",
       "    }\n",
       "</style>\n",
       "<table border=\"1\" class=\"dataframe\">\n",
       "  <thead>\n",
       "    <tr style=\"text-align: right;\">\n",
       "      <th></th>\n",
       "      <th>x</th>\n",
       "      <th>y</th>\n",
       "      <th>z</th>\n",
       "      <th>time</th>\n",
       "      <th>profit</th>\n",
       "      <th>criteria0</th>\n",
       "      <th>criteria1</th>\n",
       "      <th>front</th>\n",
       "      <th>crowd</th>\n",
       "    </tr>\n",
       "    <tr>\n",
       "      <th>id</th>\n",
       "      <th></th>\n",
       "      <th></th>\n",
       "      <th></th>\n",
       "      <th></th>\n",
       "      <th></th>\n",
       "      <th></th>\n",
       "      <th></th>\n",
       "      <th></th>\n",
       "      <th></th>\n",
       "    </tr>\n",
       "  </thead>\n",
       "  <tbody>\n",
       "    <tr>\n",
       "      <th>-746557814756240222</th>\n",
       "      <td>10</td>\n",
       "      <td>E</td>\n",
       "      <td>(i, l, k, m)</td>\n",
       "      <td>64.0</td>\n",
       "      <td>10444.0</td>\n",
       "      <td>-0.034135</td>\n",
       "      <td>6.743807</td>\n",
       "      <td>1</td>\n",
       "      <td>inf</td>\n",
       "    </tr>\n",
       "    <tr>\n",
       "      <th>4116382070232022655</th>\n",
       "      <td>1</td>\n",
       "      <td>A</td>\n",
       "      <td>(m, l, i, j)</td>\n",
       "      <td>0.0</td>\n",
       "      <td>3.0</td>\n",
       "      <td>-1.478809</td>\n",
       "      <td>-0.670945</td>\n",
       "      <td>1</td>\n",
       "      <td>inf</td>\n",
       "    </tr>\n",
       "    <tr>\n",
       "      <th>7800982636879079842</th>\n",
       "      <td>1</td>\n",
       "      <td>C</td>\n",
       "      <td>(l, k, m, j)</td>\n",
       "      <td>0.0</td>\n",
       "      <td>27.0</td>\n",
       "      <td>-1.478809</td>\n",
       "      <td>-0.653901</td>\n",
       "      <td>1</td>\n",
       "      <td>inf</td>\n",
       "    </tr>\n",
       "    <tr>\n",
       "      <th>8524391934304797810</th>\n",
       "      <td>10</td>\n",
       "      <td>B</td>\n",
       "      <td>(l, m, i, j)</td>\n",
       "      <td>13.0</td>\n",
       "      <td>3417.0</td>\n",
       "      <td>-1.185359</td>\n",
       "      <td>1.753532</td>\n",
       "      <td>1</td>\n",
       "      <td>4.529435</td>\n",
       "    </tr>\n",
       "    <tr>\n",
       "      <th>-4180426011571564043</th>\n",
       "      <td>10</td>\n",
       "      <td>B</td>\n",
       "      <td>(l, i, k, m)</td>\n",
       "      <td>22.0</td>\n",
       "      <td>7089.0</td>\n",
       "      <td>-0.982202</td>\n",
       "      <td>4.361230</td>\n",
       "      <td>1</td>\n",
       "      <td>4.223460</td>\n",
       "    </tr>\n",
       "  </tbody>\n",
       "</table>\n",
       "</div>"
      ],
      "text/plain": [
       "                       x  y             z  time   profit  criteria0  \\\n",
       "id                                                                    \n",
       "-746557814756240222   10  E  (i, l, k, m)  64.0  10444.0  -0.034135   \n",
       " 4116382070232022655   1  A  (m, l, i, j)   0.0      3.0  -1.478809   \n",
       " 7800982636879079842   1  C  (l, k, m, j)   0.0     27.0  -1.478809   \n",
       " 8524391934304797810  10  B  (l, m, i, j)  13.0   3417.0  -1.185359   \n",
       "-4180426011571564043  10  B  (l, i, k, m)  22.0   7089.0  -0.982202   \n",
       "\n",
       "                      criteria1  front     crowd  \n",
       "id                                                \n",
       "-746557814756240222    6.743807      1       inf  \n",
       " 4116382070232022655  -0.670945      1       inf  \n",
       " 7800982636879079842  -0.653901      1       inf  \n",
       " 8524391934304797810   1.753532      1  4.529435  \n",
       "-4180426011571564043   4.361230      1  4.223460  "
      ]
     },
     "execution_count": 40,
     "metadata": {},
     "output_type": "execute_result"
    }
   ],
   "source": [
    "pareto_objective_pop.datasets.fitness.head()"
   ]
  },
  {
   "cell_type": "code",
   "execution_count": 41,
   "metadata": {},
   "outputs": [
    {
     "data": {
      "image/png": "[encoded data removed]",
      "text/plain": [
       "<Figure size 432x288 with 2 Axes>"
      ]
     },
     "metadata": {
      "needs_background": "light"
     },
     "output_type": "display_data"
    }
   ],
   "source": [
    "ax = pareto_objective_pop.plot.fronts('time', 'profit', 1)"
   ]
  },
  {
   "cell_type": "markdown",
   "metadata": {},
   "source": [
    "# Selection"
   ]
  },
  {
   "cell_type": "code",
   "execution_count": 42,
   "metadata": {},
   "outputs": [
    {
     "data": {
      "text/plain": [
       "Population with 389 Creatures with genes x (numeric), y (categorical), z (vectorial).\n",
       "        "
      ]
     },
     "execution_count": 42,
     "metadata": {},
     "output_type": "execute_result"
    }
   ],
   "source": [
    "selected_pop = pareto_objective_pop.select()\n",
    "selected_pop"
   ]
  },
  {
   "cell_type": "code",
   "execution_count": 43,
   "metadata": {},
   "outputs": [
    {
     "data": {
      "text/html": [
       "<div>\n",
       "<style scoped>\n",
       "    .dataframe tbody tr th:only-of-type {\n",
       "        vertical-align: middle;\n",
       "    }\n",
       "\n",
       "    .dataframe tbody tr th {\n",
       "        vertical-align: top;\n",
       "    }\n",
       "\n",
       "    .dataframe thead th {\n",
       "        text-align: right;\n",
       "    }\n",
       "</style>\n",
       "<table border=\"1\" class=\"dataframe\">\n",
       "  <thead>\n",
       "    <tr style=\"text-align: right;\">\n",
       "      <th></th>\n",
       "      <th>x</th>\n",
       "      <th>y</th>\n",
       "      <th>z</th>\n",
       "      <th>time</th>\n",
       "      <th>profit</th>\n",
       "      <th>criteria0</th>\n",
       "      <th>criteria1</th>\n",
       "      <th>front</th>\n",
       "      <th>crowd</th>\n",
       "    </tr>\n",
       "    <tr>\n",
       "      <th>id</th>\n",
       "      <th></th>\n",
       "      <th></th>\n",
       "      <th></th>\n",
       "      <th></th>\n",
       "      <th></th>\n",
       "      <th></th>\n",
       "      <th></th>\n",
       "      <th></th>\n",
       "      <th></th>\n",
       "    </tr>\n",
       "  </thead>\n",
       "  <tbody>\n",
       "    <tr>\n",
       "      <th>-746557814756240222</th>\n",
       "      <td>10</td>\n",
       "      <td>E</td>\n",
       "      <td>(i, l, k, m)</td>\n",
       "      <td>64.0</td>\n",
       "      <td>10444.0</td>\n",
       "      <td>-0.034135</td>\n",
       "      <td>6.743807</td>\n",
       "      <td>1</td>\n",
       "      <td>inf</td>\n",
       "    </tr>\n",
       "    <tr>\n",
       "      <th>4116382070232022655</th>\n",
       "      <td>1</td>\n",
       "      <td>A</td>\n",
       "      <td>(m, l, i, j)</td>\n",
       "      <td>0.0</td>\n",
       "      <td>3.0</td>\n",
       "      <td>-1.478809</td>\n",
       "      <td>-0.670945</td>\n",
       "      <td>1</td>\n",
       "      <td>inf</td>\n",
       "    </tr>\n",
       "    <tr>\n",
       "      <th>7800982636879079842</th>\n",
       "      <td>1</td>\n",
       "      <td>C</td>\n",
       "      <td>(l, k, m, j)</td>\n",
       "      <td>0.0</td>\n",
       "      <td>27.0</td>\n",
       "      <td>-1.478809</td>\n",
       "      <td>-0.653901</td>\n",
       "      <td>1</td>\n",
       "      <td>inf</td>\n",
       "    </tr>\n",
       "    <tr>\n",
       "      <th>8524391934304797810</th>\n",
       "      <td>10</td>\n",
       "      <td>B</td>\n",
       "      <td>(l, m, i, j)</td>\n",
       "      <td>13.0</td>\n",
       "      <td>3417.0</td>\n",
       "      <td>-1.185359</td>\n",
       "      <td>1.753532</td>\n",
       "      <td>1</td>\n",
       "      <td>4.529435</td>\n",
       "    </tr>\n",
       "    <tr>\n",
       "      <th>-4180426011571564043</th>\n",
       "      <td>10</td>\n",
       "      <td>B</td>\n",
       "      <td>(l, i, k, m)</td>\n",
       "      <td>22.0</td>\n",
       "      <td>7089.0</td>\n",
       "      <td>-0.982202</td>\n",
       "      <td>4.361230</td>\n",
       "      <td>1</td>\n",
       "      <td>4.223460</td>\n",
       "    </tr>\n",
       "    <tr>\n",
       "      <th>...</th>\n",
       "      <td>...</td>\n",
       "      <td>...</td>\n",
       "      <td>...</td>\n",
       "      <td>...</td>\n",
       "      <td>...</td>\n",
       "      <td>...</td>\n",
       "      <td>...</td>\n",
       "      <td>...</td>\n",
       "      <td>...</td>\n",
       "    </tr>\n",
       "    <tr>\n",
       "      <th>7992157028042034091</th>\n",
       "      <td>2</td>\n",
       "      <td>C</td>\n",
       "      <td>(k, l, i, m)</td>\n",
       "      <td>34.0</td>\n",
       "      <td>315.0</td>\n",
       "      <td>-0.711326</td>\n",
       "      <td>-0.449375</td>\n",
       "      <td>13</td>\n",
       "      <td>0.248759</td>\n",
       "    </tr>\n",
       "    <tr>\n",
       "      <th>-3480253511376511467</th>\n",
       "      <td>8</td>\n",
       "      <td>E</td>\n",
       "      <td>(i, l, k, m)</td>\n",
       "      <td>67.0</td>\n",
       "      <td>647.0</td>\n",
       "      <td>0.033584</td>\n",
       "      <td>-0.213603</td>\n",
       "      <td>13</td>\n",
       "      <td>0.243280</td>\n",
       "    </tr>\n",
       "    <tr>\n",
       "      <th>-3703033687610536825</th>\n",
       "      <td>2</td>\n",
       "      <td>E</td>\n",
       "      <td>(j, l, m, i)</td>\n",
       "      <td>107.0</td>\n",
       "      <td>2357.0</td>\n",
       "      <td>0.936505</td>\n",
       "      <td>1.000766</td>\n",
       "      <td>13</td>\n",
       "      <td>0.228367</td>\n",
       "    </tr>\n",
       "    <tr>\n",
       "      <th>1382842740008833113</th>\n",
       "      <td>2</td>\n",
       "      <td>E</td>\n",
       "      <td>(i, j, k, l)</td>\n",
       "      <td>111.0</td>\n",
       "      <td>2485.0</td>\n",
       "      <td>1.026797</td>\n",
       "      <td>1.091666</td>\n",
       "      <td>13</td>\n",
       "      <td>0.216548</td>\n",
       "    </tr>\n",
       "    <tr>\n",
       "      <th>6232988482900359422</th>\n",
       "      <td>3</td>\n",
       "      <td>C</td>\n",
       "      <td>(l, m, i, k)</td>\n",
       "      <td>48.0</td>\n",
       "      <td>346.0</td>\n",
       "      <td>-0.395303</td>\n",
       "      <td>-0.427361</td>\n",
       "      <td>13</td>\n",
       "      <td>0.209143</td>\n",
       "    </tr>\n",
       "  </tbody>\n",
       "</table>\n",
       "<p>389 rows × 9 columns</p>\n",
       "</div>"
      ],
      "text/plain": [
       "                       x  y             z   time   profit  criteria0  \\\n",
       "id                                                                     \n",
       "-746557814756240222   10  E  (i, l, k, m)   64.0  10444.0  -0.034135   \n",
       " 4116382070232022655   1  A  (m, l, i, j)    0.0      3.0  -1.478809   \n",
       " 7800982636879079842   1  C  (l, k, m, j)    0.0     27.0  -1.478809   \n",
       " 8524391934304797810  10  B  (l, m, i, j)   13.0   3417.0  -1.185359   \n",
       "-4180426011571564043  10  B  (l, i, k, m)   22.0   7089.0  -0.982202   \n",
       "...                   .. ..           ...    ...      ...        ...   \n",
       " 7992157028042034091   2  C  (k, l, i, m)   34.0    315.0  -0.711326   \n",
       "-3480253511376511467   8  E  (i, l, k, m)   67.0    647.0   0.033584   \n",
       "-3703033687610536825   2  E  (j, l, m, i)  107.0   2357.0   0.936505   \n",
       " 1382842740008833113   2  E  (i, j, k, l)  111.0   2485.0   1.026797   \n",
       " 6232988482900359422   3  C  (l, m, i, k)   48.0    346.0  -0.395303   \n",
       "\n",
       "                      criteria1  front     crowd  \n",
       "id                                                \n",
       "-746557814756240222    6.743807      1       inf  \n",
       " 4116382070232022655  -0.670945      1       inf  \n",
       " 7800982636879079842  -0.653901      1       inf  \n",
       " 8524391934304797810   1.753532      1  4.529435  \n",
       "-4180426011571564043   4.361230      1  4.223460  \n",
       "...                         ...    ...       ...  \n",
       " 7992157028042034091  -0.449375     13  0.248759  \n",
       "-3480253511376511467  -0.213603     13  0.243280  \n",
       "-3703033687610536825   1.000766     13  0.228367  \n",
       " 1382842740008833113   1.091666     13  0.216548  \n",
       " 6232988482900359422  -0.427361     13  0.209143  \n",
       "\n",
       "[389 rows x 9 columns]"
      ]
     },
     "execution_count": 43,
     "metadata": {},
     "output_type": "execute_result"
    }
   ],
   "source": [
    "selected_pop.datasets.fitness"
   ]
  },
  {
   "cell_type": "markdown",
   "metadata": {},
   "source": [
    "# Repopulate"
   ]
  },
  {
   "cell_type": "code",
   "execution_count": 44,
   "metadata": {},
   "outputs": [
    {
     "data": {
      "text/plain": [
       "Population with 389 Creatures with genes x (numeric), y (categorical), z (vectorial).\n",
       "        "
      ]
     },
     "execution_count": 44,
     "metadata": {},
     "output_type": "execute_result"
    }
   ],
   "source": [
    "newpop = selected_pop.copy()\n",
    "newpop"
   ]
  },
  {
   "cell_type": "code",
   "execution_count": 45,
   "metadata": {},
   "outputs": [
    {
     "data": {
      "text/html": [
       "<div>\n",
       "<style scoped>\n",
       "    .dataframe tbody tr th:only-of-type {\n",
       "        vertical-align: middle;\n",
       "    }\n",
       "\n",
       "    .dataframe tbody tr th {\n",
       "        vertical-align: top;\n",
       "    }\n",
       "\n",
       "    .dataframe thead th {\n",
       "        text-align: right;\n",
       "    }\n",
       "</style>\n",
       "<table border=\"1\" class=\"dataframe\">\n",
       "  <thead>\n",
       "    <tr style=\"text-align: right;\">\n",
       "      <th></th>\n",
       "      <th>x</th>\n",
       "      <th>y</th>\n",
       "      <th>z</th>\n",
       "      <th>time</th>\n",
       "      <th>profit</th>\n",
       "      <th>criteria0</th>\n",
       "      <th>criteria1</th>\n",
       "      <th>front</th>\n",
       "      <th>crowd</th>\n",
       "    </tr>\n",
       "    <tr>\n",
       "      <th>id</th>\n",
       "      <th></th>\n",
       "      <th></th>\n",
       "      <th></th>\n",
       "      <th></th>\n",
       "      <th></th>\n",
       "      <th></th>\n",
       "      <th></th>\n",
       "      <th></th>\n",
       "      <th></th>\n",
       "    </tr>\n",
       "  </thead>\n",
       "  <tbody>\n",
       "    <tr>\n",
       "      <th>-746557814756240222</th>\n",
       "      <td>10</td>\n",
       "      <td>E</td>\n",
       "      <td>(i, l, k, m)</td>\n",
       "      <td>64.0</td>\n",
       "      <td>10444.0</td>\n",
       "      <td>-0.034135</td>\n",
       "      <td>6.743807</td>\n",
       "      <td>1</td>\n",
       "      <td>inf</td>\n",
       "    </tr>\n",
       "    <tr>\n",
       "      <th>4116382070232022655</th>\n",
       "      <td>1</td>\n",
       "      <td>A</td>\n",
       "      <td>(m, l, i, j)</td>\n",
       "      <td>0.0</td>\n",
       "      <td>3.0</td>\n",
       "      <td>-1.478809</td>\n",
       "      <td>-0.670945</td>\n",
       "      <td>1</td>\n",
       "      <td>inf</td>\n",
       "    </tr>\n",
       "    <tr>\n",
       "      <th>7800982636879079842</th>\n",
       "      <td>1</td>\n",
       "      <td>C</td>\n",
       "      <td>(l, k, m, j)</td>\n",
       "      <td>0.0</td>\n",
       "      <td>27.0</td>\n",
       "      <td>-1.478809</td>\n",
       "      <td>-0.653901</td>\n",
       "      <td>1</td>\n",
       "      <td>inf</td>\n",
       "    </tr>\n",
       "    <tr>\n",
       "      <th>8524391934304797810</th>\n",
       "      <td>10</td>\n",
       "      <td>B</td>\n",
       "      <td>(l, m, i, j)</td>\n",
       "      <td>13.0</td>\n",
       "      <td>3417.0</td>\n",
       "      <td>-1.185359</td>\n",
       "      <td>1.753532</td>\n",
       "      <td>1</td>\n",
       "      <td>4.529435</td>\n",
       "    </tr>\n",
       "    <tr>\n",
       "      <th>-4180426011571564043</th>\n",
       "      <td>10</td>\n",
       "      <td>B</td>\n",
       "      <td>(l, i, k, m)</td>\n",
       "      <td>22.0</td>\n",
       "      <td>7089.0</td>\n",
       "      <td>-0.982202</td>\n",
       "      <td>4.361230</td>\n",
       "      <td>1</td>\n",
       "      <td>4.223460</td>\n",
       "    </tr>\n",
       "    <tr>\n",
       "      <th>...</th>\n",
       "      <td>...</td>\n",
       "      <td>...</td>\n",
       "      <td>...</td>\n",
       "      <td>...</td>\n",
       "      <td>...</td>\n",
       "      <td>...</td>\n",
       "      <td>...</td>\n",
       "      <td>...</td>\n",
       "      <td>...</td>\n",
       "    </tr>\n",
       "    <tr>\n",
       "      <th>7992157028042034091</th>\n",
       "      <td>2</td>\n",
       "      <td>C</td>\n",
       "      <td>(k, l, i, m)</td>\n",
       "      <td>34.0</td>\n",
       "      <td>315.0</td>\n",
       "      <td>-0.711326</td>\n",
       "      <td>-0.449375</td>\n",
       "      <td>13</td>\n",
       "      <td>0.248759</td>\n",
       "    </tr>\n",
       "    <tr>\n",
       "      <th>-3480253511376511467</th>\n",
       "      <td>8</td>\n",
       "      <td>E</td>\n",
       "      <td>(i, l, k, m)</td>\n",
       "      <td>67.0</td>\n",
       "      <td>647.0</td>\n",
       "      <td>0.033584</td>\n",
       "      <td>-0.213603</td>\n",
       "      <td>13</td>\n",
       "      <td>0.243280</td>\n",
       "    </tr>\n",
       "    <tr>\n",
       "      <th>-3703033687610536825</th>\n",
       "      <td>2</td>\n",
       "      <td>E</td>\n",
       "      <td>(j, l, m, i)</td>\n",
       "      <td>107.0</td>\n",
       "      <td>2357.0</td>\n",
       "      <td>0.936505</td>\n",
       "      <td>1.000766</td>\n",
       "      <td>13</td>\n",
       "      <td>0.228367</td>\n",
       "    </tr>\n",
       "    <tr>\n",
       "      <th>1382842740008833113</th>\n",
       "      <td>2</td>\n",
       "      <td>E</td>\n",
       "      <td>(i, j, k, l)</td>\n",
       "      <td>111.0</td>\n",
       "      <td>2485.0</td>\n",
       "      <td>1.026797</td>\n",
       "      <td>1.091666</td>\n",
       "      <td>13</td>\n",
       "      <td>0.216548</td>\n",
       "    </tr>\n",
       "    <tr>\n",
       "      <th>6232988482900359422</th>\n",
       "      <td>3</td>\n",
       "      <td>C</td>\n",
       "      <td>(l, m, i, k)</td>\n",
       "      <td>48.0</td>\n",
       "      <td>346.0</td>\n",
       "      <td>-0.395303</td>\n",
       "      <td>-0.427361</td>\n",
       "      <td>13</td>\n",
       "      <td>0.209143</td>\n",
       "    </tr>\n",
       "  </tbody>\n",
       "</table>\n",
       "<p>389 rows × 9 columns</p>\n",
       "</div>"
      ],
      "text/plain": [
       "                       x  y             z   time   profit  criteria0  \\\n",
       "id                                                                     \n",
       "-746557814756240222   10  E  (i, l, k, m)   64.0  10444.0  -0.034135   \n",
       " 4116382070232022655   1  A  (m, l, i, j)    0.0      3.0  -1.478809   \n",
       " 7800982636879079842   1  C  (l, k, m, j)    0.0     27.0  -1.478809   \n",
       " 8524391934304797810  10  B  (l, m, i, j)   13.0   3417.0  -1.185359   \n",
       "-4180426011571564043  10  B  (l, i, k, m)   22.0   7089.0  -0.982202   \n",
       "...                   .. ..           ...    ...      ...        ...   \n",
       " 7992157028042034091   2  C  (k, l, i, m)   34.0    315.0  -0.711326   \n",
       "-3480253511376511467   8  E  (i, l, k, m)   67.0    647.0   0.033584   \n",
       "-3703033687610536825   2  E  (j, l, m, i)  107.0   2357.0   0.936505   \n",
       " 1382842740008833113   2  E  (i, j, k, l)  111.0   2485.0   1.026797   \n",
       " 6232988482900359422   3  C  (l, m, i, k)   48.0    346.0  -0.395303   \n",
       "\n",
       "                      criteria1  front     crowd  \n",
       "id                                                \n",
       "-746557814756240222    6.743807      1       inf  \n",
       " 4116382070232022655  -0.670945      1       inf  \n",
       " 7800982636879079842  -0.653901      1       inf  \n",
       " 8524391934304797810   1.753532      1  4.529435  \n",
       "-4180426011571564043   4.361230      1  4.223460  \n",
       "...                         ...    ...       ...  \n",
       " 7992157028042034091  -0.449375     13  0.248759  \n",
       "-3480253511376511467  -0.213603     13  0.243280  \n",
       "-3703033687610536825   1.000766     13  0.228367  \n",
       " 1382842740008833113   1.091666     13  0.216548  \n",
       " 6232988482900359422  -0.427361     13  0.209143  \n",
       "\n",
       "[389 rows x 9 columns]"
      ]
     },
     "execution_count": 45,
     "metadata": {},
     "output_type": "execute_result"
    }
   ],
   "source": [
    "newpop.datasets.fitness"
   ]
  },
  {
   "cell_type": "code",
   "execution_count": 46,
   "metadata": {},
   "outputs": [],
   "source": [
    "newpop.reproduce.tournament(n_children=len(newpop)/2)"
   ]
  },
  {
   "cell_type": "code",
   "execution_count": 47,
   "metadata": {},
   "outputs": [
    {
     "name": "stderr",
     "output_type": "stream",
     "text": [
      "Exception ignored in: <generator object generate_elite_parent_pair at 0x7f736ed2c0b0>\n",
      "Traceback (most recent call last):\n",
      "  File \"<ipython-input-47-f056f8818bf1>\", line 1, in <module>\n",
      "RuntimeError: generator ignored GeneratorExit\n"
     ]
    }
   ],
   "source": [
    "newpop.reproduce.elitism()"
   ]
  },
  {
   "cell_type": "code",
   "execution_count": 48,
   "metadata": {},
   "outputs": [
    {
     "data": {
      "text/plain": [
       "Population with 779 Creatures with genes x (numeric), y (categorical), z (vectorial).\n",
       "        "
      ]
     },
     "execution_count": 48,
     "metadata": {},
     "output_type": "execute_result"
    }
   ],
   "source": [
    "newpop"
   ]
  },
  {
   "cell_type": "code",
   "execution_count": 49,
   "metadata": {},
   "outputs": [],
   "source": [
    "env.simulate(newpop)"
   ]
  },
  {
   "cell_type": "code",
   "execution_count": 50,
   "metadata": {},
   "outputs": [],
   "source": [
    "newpop.apply_fitness.multi_objective.pareto(outputs=['time', 'profit'], objectives=['min', 'max'])"
   ]
  },
  {
   "cell_type": "code",
   "execution_count": 51,
   "metadata": {},
   "outputs": [
    {
     "data": {
      "text/html": [
       "<div>\n",
       "<style scoped>\n",
       "    .dataframe tbody tr th:only-of-type {\n",
       "        vertical-align: middle;\n",
       "    }\n",
       "\n",
       "    .dataframe tbody tr th {\n",
       "        vertical-align: top;\n",
       "    }\n",
       "\n",
       "    .dataframe thead th {\n",
       "        text-align: right;\n",
       "    }\n",
       "</style>\n",
       "<table border=\"1\" class=\"dataframe\">\n",
       "  <thead>\n",
       "    <tr style=\"text-align: right;\">\n",
       "      <th></th>\n",
       "      <th>x</th>\n",
       "      <th>y</th>\n",
       "      <th>z</th>\n",
       "      <th>time</th>\n",
       "      <th>profit</th>\n",
       "      <th>criteria0</th>\n",
       "      <th>criteria1</th>\n",
       "      <th>front</th>\n",
       "      <th>crowd</th>\n",
       "    </tr>\n",
       "    <tr>\n",
       "      <th>id</th>\n",
       "      <th></th>\n",
       "      <th></th>\n",
       "      <th></th>\n",
       "      <th></th>\n",
       "      <th></th>\n",
       "      <th></th>\n",
       "      <th></th>\n",
       "      <th></th>\n",
       "      <th></th>\n",
       "    </tr>\n",
       "  </thead>\n",
       "  <tbody>\n",
       "    <tr>\n",
       "      <th>-746557814756240222</th>\n",
       "      <td>10</td>\n",
       "      <td>E</td>\n",
       "      <td>(i, l, k, m)</td>\n",
       "      <td>64.0</td>\n",
       "      <td>10444.0</td>\n",
       "      <td>0.909821</td>\n",
       "      <td>6.179240</td>\n",
       "      <td>1</td>\n",
       "      <td>inf</td>\n",
       "    </tr>\n",
       "    <tr>\n",
       "      <th>-5953504863434719391</th>\n",
       "      <td>0</td>\n",
       "      <td>A</td>\n",
       "      <td>(m, l, i, j)</td>\n",
       "      <td>0.0</td>\n",
       "      <td>7.0</td>\n",
       "      <td>-0.992227</td>\n",
       "      <td>-0.619099</td>\n",
       "      <td>1</td>\n",
       "      <td>inf</td>\n",
       "    </tr>\n",
       "    <tr>\n",
       "      <th>-7168168632727940521</th>\n",
       "      <td>3</td>\n",
       "      <td>A</td>\n",
       "      <td>(m, l, i, j)</td>\n",
       "      <td>0.0</td>\n",
       "      <td>1.0</td>\n",
       "      <td>-0.992227</td>\n",
       "      <td>-0.623007</td>\n",
       "      <td>1</td>\n",
       "      <td>inf</td>\n",
       "    </tr>\n",
       "    <tr>\n",
       "      <th>8637493895296498366</th>\n",
       "      <td>10</td>\n",
       "      <td>B</td>\n",
       "      <td>(m, l, k, i)</td>\n",
       "      <td>16.0</td>\n",
       "      <td>4537.0</td>\n",
       "      <td>-0.516715</td>\n",
       "      <td>2.331603</td>\n",
       "      <td>1</td>\n",
       "      <td>2.659303</td>\n",
       "    </tr>\n",
       "    <tr>\n",
       "      <th>-5654149293634853650</th>\n",
       "      <td>10</td>\n",
       "      <td>B</td>\n",
       "      <td>(j, m, k, l)</td>\n",
       "      <td>26.0</td>\n",
       "      <td>8951.0</td>\n",
       "      <td>-0.219520</td>\n",
       "      <td>5.206746</td>\n",
       "      <td>1</td>\n",
       "      <td>2.433139</td>\n",
       "    </tr>\n",
       "    <tr>\n",
       "      <th>...</th>\n",
       "      <td>...</td>\n",
       "      <td>...</td>\n",
       "      <td>...</td>\n",
       "      <td>...</td>\n",
       "      <td>...</td>\n",
       "      <td>...</td>\n",
       "      <td>...</td>\n",
       "      <td>...</td>\n",
       "      <td>...</td>\n",
       "    </tr>\n",
       "    <tr>\n",
       "      <th>666611784559119680</th>\n",
       "      <td>8</td>\n",
       "      <td>C</td>\n",
       "      <td>(j, m, k, l)</td>\n",
       "      <td>33.0</td>\n",
       "      <td>117.0</td>\n",
       "      <td>-0.011483</td>\n",
       "      <td>-0.547449</td>\n",
       "      <td>9</td>\n",
       "      <td>0.000000</td>\n",
       "    </tr>\n",
       "    <tr>\n",
       "      <th>692190509242214479</th>\n",
       "      <td>9</td>\n",
       "      <td>C</td>\n",
       "      <td>(l, k, j, i)</td>\n",
       "      <td>9.0</td>\n",
       "      <td>52.0</td>\n",
       "      <td>-0.724752</td>\n",
       "      <td>-0.589787</td>\n",
       "      <td>9</td>\n",
       "      <td>0.000000</td>\n",
       "    </tr>\n",
       "    <tr>\n",
       "      <th>-232705137974902833</th>\n",
       "      <td>2</td>\n",
       "      <td>A</td>\n",
       "      <td>(l, m, i, j)</td>\n",
       "      <td>25.0</td>\n",
       "      <td>81.0</td>\n",
       "      <td>-0.249239</td>\n",
       "      <td>-0.570898</td>\n",
       "      <td>9</td>\n",
       "      <td>0.000000</td>\n",
       "    </tr>\n",
       "    <tr>\n",
       "      <th>-4545869671350870837</th>\n",
       "      <td>8</td>\n",
       "      <td>C</td>\n",
       "      <td>(i, l, m, k)</td>\n",
       "      <td>20.0</td>\n",
       "      <td>81.0</td>\n",
       "      <td>-0.397837</td>\n",
       "      <td>-0.570898</td>\n",
       "      <td>9</td>\n",
       "      <td>0.000000</td>\n",
       "    </tr>\n",
       "    <tr>\n",
       "      <th>-2458360347333383532</th>\n",
       "      <td>1</td>\n",
       "      <td>E</td>\n",
       "      <td>(m, l, i, j)</td>\n",
       "      <td>8.0</td>\n",
       "      <td>42.0</td>\n",
       "      <td>-0.754471</td>\n",
       "      <td>-0.596301</td>\n",
       "      <td>9</td>\n",
       "      <td>0.000000</td>\n",
       "    </tr>\n",
       "  </tbody>\n",
       "</table>\n",
       "<p>779 rows × 9 columns</p>\n",
       "</div>"
      ],
      "text/plain": [
       "                       x  y             z  time   profit  criteria0  \\\n",
       "id                                                                    \n",
       "-746557814756240222   10  E  (i, l, k, m)  64.0  10444.0   0.909821   \n",
       "-5953504863434719391   0  A  (m, l, i, j)   0.0      7.0  -0.992227   \n",
       "-7168168632727940521   3  A  (m, l, i, j)   0.0      1.0  -0.992227   \n",
       " 8637493895296498366  10  B  (m, l, k, i)  16.0   4537.0  -0.516715   \n",
       "-5654149293634853650  10  B  (j, m, k, l)  26.0   8951.0  -0.219520   \n",
       "...                   .. ..           ...   ...      ...        ...   \n",
       " 666611784559119680    8  C  (j, m, k, l)  33.0    117.0  -0.011483   \n",
       " 692190509242214479    9  C  (l, k, j, i)   9.0     52.0  -0.724752   \n",
       "-232705137974902833    2  A  (l, m, i, j)  25.0     81.0  -0.249239   \n",
       "-4545869671350870837   8  C  (i, l, m, k)  20.0     81.0  -0.397837   \n",
       "-2458360347333383532   1  E  (m, l, i, j)   8.0     42.0  -0.754471   \n",
       "\n",
       "                      criteria1  front     crowd  \n",
       "id                                                \n",
       "-746557814756240222    6.179240      1       inf  \n",
       "-5953504863434719391  -0.619099      1       inf  \n",
       "-7168168632727940521  -0.623007      1       inf  \n",
       " 8637493895296498366   2.331603      1  2.659303  \n",
       "-5654149293634853650   5.206746      1  2.433139  \n",
       "...                         ...    ...       ...  \n",
       " 666611784559119680   -0.547449      9  0.000000  \n",
       " 692190509242214479   -0.589787      9  0.000000  \n",
       "-232705137974902833   -0.570898      9  0.000000  \n",
       "-4545869671350870837  -0.570898      9  0.000000  \n",
       "-2458360347333383532  -0.596301      9  0.000000  \n",
       "\n",
       "[779 rows x 9 columns]"
      ]
     },
     "execution_count": 51,
     "metadata": {},
     "output_type": "execute_result"
    }
   ],
   "source": [
    "newpop.datasets.fitness"
   ]
  },
  {
   "cell_type": "code",
   "execution_count": 52,
   "metadata": {},
   "outputs": [
    {
     "data": {
      "image/png": "[encoded data removed]",
      "text/plain": [
       "<Figure size 432x288 with 2 Axes>"
      ]
     },
     "metadata": {
      "needs_background": "light"
     },
     "output_type": "display_data"
    }
   ],
   "source": [
    "ax = pareto_objective_pop.plot.fronts('time', 'profit', 1, show_worst=True)"
   ]
  },
  {
   "cell_type": "code",
   "execution_count": 53,
   "metadata": {},
   "outputs": [
    {
     "data": {
      "image/png": "[encoded data removed]",
      "text/plain": [
       "<Figure size 432x288 with 2 Axes>"
      ]
     },
     "metadata": {
      "needs_background": "light"
     },
     "output_type": "display_data"
    }
   ],
   "source": [
    "ax = newpop.plot.fronts('time', 'profit', 1, show_worst=True)"
   ]
  },
  {
   "cell_type": "code",
   "execution_count": 54,
   "metadata": {},
   "outputs": [],
   "source": [
    "newpop.save_to_history()"
   ]
  },
  {
   "cell_type": "markdown",
   "metadata": {},
   "source": [
    "## Mutation"
   ]
  },
  {
   "cell_type": "code",
   "execution_count": null,
   "metadata": {},
   "outputs": [],
   "source": []
  }
 ],
 "metadata": {
  "kernelspec": {
   "display_name": "Lamarck Env",
   "language": "python",
   "name": "lamarck"
  },
  "language_info": {
   "codemirror_mode": {
    "name": "ipython",
    "version": 3
   },
   "file_extension": ".py",
   "mimetype": "text/x-python",
   "name": "python",
   "nbconvert_exporter": "python",
   "pygments_lexer": "ipython3",
   "version": "3.9.1"
  }
 },
 "nbformat": 4,
 "nbformat_minor": 4
}
